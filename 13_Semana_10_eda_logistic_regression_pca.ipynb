{
  "cells": [
    {
      "cell_type": "markdown",
      "metadata": {
        "id": "mfTdqu9i9lJ-"
      },
      "source": [
        "# **EDA + Logistic Regression + PCA**\n"
      ]
    },
    {
      "cell_type": "markdown",
      "metadata": {
        "id": "EVeZYhbD9lKA"
      },
      "source": [
        "## Tabla de contenido\n",
        "\n",
        "El contenido de este núcleo se divide en varios temas que son los siguientes:\n",
        "\n",
        "- La maldición de la dimensionalidad\n",
        "- Introducción al Análisis de Componentes Principales\n",
        "- Importar bibliotecas de Python\n",
        "- Importar conjunto de datos\n",
        "-\tAnálisis exploratorio de datos\n",
        "- Dividir datos en conjunto de entrenamiento y prueba.\n",
        "- Ingeniería de características\n",
        "- Escalado de funciones\n",
        "- Modelo de regresión logística con todas las características.\n",
        "- Regresión logística con PCA\n",
        "- Seleccione el número correcto de dimensiones\n",
        "- Trazar la relación de varianza explicada con el número de dimensiones.\n",
        "-\tConclusión\n",
        "- Referencias\n"
      ]
    },
    {
      "cell_type": "markdown",
      "metadata": {
        "id": "U-pkmhYm9lKA"
      },
      "source": [
        "## La maldición de la dimensionalidad\n",
        "\n",
        "Generalmente, los conjuntos de datos del mundo real contienen miles o millones de funciones para entrenar. Esta es una tarea que requiere mucho tiempo ya que hace que el entrenamiento sea extremadamente lento. En estos casos es muy difícil encontrar una buena solución. Este problema a menudo se conoce como la maldición de la dimensionalidad.\n",
        "\n",
        "\n",
        "**La maldición de la dimensionalidad** se refiere a varios fenómenos que surgen cuando analizamos y organizamos datos en espacios de alta dimensión (a menudo con cientos o miles de dimensiones) que no ocurren en entornos de baja dimensión. El problema es que cuando aumenta la dimensionalidad, el volumen del espacio aumenta tan rápido que los datos disponibles se vuelven escasos. Esta escasez es problemática para cualquier método que requiera significación estadística.\n",
        "\n",
        "\n",
        "En problemas del mundo real, a menudo es posible reducir considerablemente el número de dimensiones. Este proceso se llama **reducción de dimensionalidad**. Se refiere al proceso de reducir el número de dimensiones consideradas mediante la obtención de un conjunto de variables principales. Ayuda a acelerar el entrenamiento y también es extremadamente útil para la visualización de datos.\n",
        "\n",
        "\n",
        "La técnica de reducción de dimensionalidad más popular es el Análisis de Componentes Principales (PCA), que se analiza a continuación.\n",
        "\n"
      ]
    },
    {
      "cell_type": "markdown",
      "metadata": {
        "id": "wlw5h1wE9lKA"
      },
      "source": [
        "## Introducción al Análisis de Componentes Principales (PCA)\n",
        "\n",
        "\n",
        "**Análisis de componentes principales (PCA)** es una técnica de reducción de dimensionalidad que se puede utilizar para reducir un conjunto más grande de variables de características a un conjunto más pequeño que aún contiene la mayor parte de la varianza en el conjunto más grande.\n",
        "\n",
        "### Preservar la variación\n",
        "\n",
        "PCA primero identifica el hiperplano más cercano a los datos y luego los proyecta en él. Antes de que podamos proyectar el conjunto de entrenamiento en un hiperplano de dimensiones inferiores, debemos seleccionar el hiperplano correcto. La proyección se puede realizar de tal manera que se preserve la varianza máxima. Esta es la idea detrás de PCA.\n",
        "\n",
        "### Componentes principales\n",
        "\n",
        "PCA identifica los ejes que representan la cantidad máxima de suma acumulada de varianza en el conjunto de entrenamiento. Estos se denominan componentes principales. PCA supone que el conjunto de datos se centra en el origen. Las clases PCA de Scikit-Learn se encargan de centrar los datos automáticamente.\n",
        "\n",
        "### Proyectando hasta d Dimensiones\n",
        "\n",
        "Una vez que hayamos identificado todos los componentes principales, podemos reducir la dimensionalidad del conjunto de datos a d dimensiones proyectándolo en el hiperplano definido por los primeros d componentes principales. Esto garantiza que la proyección conserve la mayor variación posible."
      ]
    },
    {
      "cell_type": "markdown",
      "metadata": {
        "id": "AZuOC9c39lKB"
      },
      "source": [
        "## Import Python libraries"
      ]
    },
    {
      "cell_type": "code",
      "execution_count": 27,
      "metadata": {
        "_cell_guid": "b1076dfc-b9ad-4769-8c92-a6c4dae69d19",
        "_uuid": "8f2839f25d086af736a60e9eeb907d3b93b6e0e5",
        "id": "lplIuZYt9lKB"
      },
      "outputs": [],
      "source": [
        "import numpy as np # linear algebra\n",
        "import pandas as pd # data processing, CSV file I/O (e.g. pd.read_csv)\n",
        "\n",
        "# import libraries for plotting\n",
        "import matplotlib.pyplot as plt\n",
        "import seaborn as sns\n",
        "%matplotlib inline\n",
        "\n",
        "# ignore warnings\n",
        "import warnings\n",
        "warnings.filterwarnings('ignore')\n",
        "import os"
      ]
    },
    {
      "cell_type": "code",
      "execution_count": 28,
      "metadata": {
        "id": "hVvu197ay1jV"
      },
      "outputs": [],
      "source": [
        "import numpy as np\n",
        "from sklearn.metrics import roc_auc_score, f1_score, recall_score, confusion_matrix\n",
        "from sklearn.linear_model import LogisticRegression, RidgeClassifier, Lasso, ElasticNet\n",
        "from sklearn.linear_model import LogisticRegressionCV, RidgeClassifierCV, LassoCV, ElasticNetCV\n",
        "\n",
        "def calculate_metrics(y_true, y_pred_prob, threshold=0.5):\n",
        "    \"\"\"\n",
        "    Calcula las métricas AUC, Gini, F1-score y Recall para un modelo de regresión logística.\n",
        "\n",
        "    Parameters:\n",
        "    - y_true: array-like, Ground truth (correct) target values.\n",
        "    - y_pred_prob: array-like, Predicted probabilities for the positive class.\n",
        "    - threshold: float, Threshold for converting predicted probabilities to binary predictions.\n",
        "\n",
        "    Returns:\n",
        "    - metrics: dict, Dictionary containing AUC, Gini, F1-score and Recall.\n",
        "    \"\"\"\n",
        "    # Calcular las predicciones binarias basadas en el umbral\n",
        "    y_pred = (y_pred_prob >= threshold).astype(int)\n",
        "\n",
        "    # Calcular AUC\n",
        "    auc = roc_auc_score(y_true, y_pred_prob)\n",
        "\n",
        "    # Calcular Gini\n",
        "    gini = 2 * auc - 1\n",
        "\n",
        "    # Calcular F1-score\n",
        "    f1 = f1_score(y_true, y_pred)\n",
        "\n",
        "    # Calcular Recall\n",
        "    recall = recall_score(y_true, y_pred)\n",
        "\n",
        "    # Guardar métricas en un diccionario\n",
        "    metrics = {\n",
        "        'AUC': auc,\n",
        "        'Gini': gini,\n",
        "        'F1-score': f1,\n",
        "        'Recall': recall\n",
        "    }\n",
        "\n",
        "    return metrics\n",
        "\n",
        "\n",
        "def find_best_elasticnet_params(X, y, alphas=np.logspace(-6, 6, 13), l1_ratio=np.linspace(0.01, 1, 10), cv=5):\n",
        "    \"\"\"\n",
        "    Encuentra los mejores parámetros para la regresión logística utilizando ElasticNetCV.\n",
        "\n",
        "    Parameters:\n",
        "    - X: array-like, Características de entrada.\n",
        "    - y: array-like, Etiquetas de clase.\n",
        "    - alphas: array-like, Valores de alfa a probar.\n",
        "    - l1_ratio: array-like, Valores de l1_ratio a probar.\n",
        "    - cv: int, Número de divisiones en la validación cruzada.\n",
        "\n",
        "    Returns:\n",
        "    - best_alpha: float, Mejor valor de alfa.\n",
        "    - best_l1_ratio: float, Mejor valor de l1_ratio.\n",
        "    \"\"\"\n",
        "    # Inicializar el modelo ElasticNetCV\n",
        "    elasticnet_cv = ElasticNetCV(alphas=alphas, l1_ratio=l1_ratio, cv=cv)\n",
        "\n",
        "    # Ajustar el modelo a los datos\n",
        "    elasticnet_cv.fit(X, y)\n",
        "\n",
        "    # Obtener el mejor valor de alfa\n",
        "    best_alpha = elasticnet_cv.alpha_\n",
        "\n",
        "    # Obtener el mejor valor de l1_ratio\n",
        "    best_l1_ratio = elasticnet_cv.l1_ratio_\n",
        "\n",
        "    return best_alpha, best_l1_ratio\n",
        "\n",
        "\n",
        "def train_elasticnet_classifier(X, y, alpha=1.0, l1_ratio=0.5):\n",
        "    \"\"\"\n",
        "    Entrena un modelo de clasificación Elastic Net.\n",
        "\n",
        "    Parameters:\n",
        "    - X: array-like, Características de entrada.\n",
        "    - y: array-like, Etiquetas de clase.\n",
        "    - alpha: float, Parámetro de regularización (mayor valor significa una mayor regularización).\n",
        "    - l1_ratio: float, Proporción de la regularización L1 (0 significa solo L2, 1 significa solo L1).\n",
        "\n",
        "    Returns:\n",
        "    - elasticnet_model: objeto, Modelo de clasificación Elastic Net entrenado.\n",
        "    \"\"\"\n",
        "    elasticnet_model = ElasticNet(alpha=alpha, l1_ratio=l1_ratio)\n",
        "    elasticnet_model.fit(X, y)\n",
        "    return elasticnet_model"
      ]
    },
    {
      "cell_type": "markdown",
      "metadata": {
        "id": "QO2RScn89lKC"
      },
      "source": [
        "## Import dataset"
      ]
    },
    {
      "cell_type": "code",
      "execution_count": 29,
      "metadata": {
        "id": "1mdRccuT9lKD"
      },
      "outputs": [],
      "source": [
        "file = (r'C:\\Users\\dg_su\\OneDrive - Universidad Tecnologica del Peru\\Estudios\\Cursos\\Analisis de Datos\\Universidad Ricardo Palma\\MATEMÁTICA Y ESTADÍSTICA EN CIENCIA DE DATOS\\codigo\\base de datos\\adult.csv')\n",
        "df = pd.read_csv(file, encoding='latin-1')"
      ]
    },
    {
      "cell_type": "markdown",
      "metadata": {
        "id": "PtRRz8gz9lKD"
      },
      "source": [
        "## Exploratory Data Analysis"
      ]
    },
    {
      "cell_type": "code",
      "execution_count": 30,
      "metadata": {
        "id": "SxQQPsBi9lKD"
      },
      "outputs": [
        {
          "data": {
            "text/plain": [
              "(32561, 15)"
            ]
          },
          "execution_count": 30,
          "metadata": {},
          "output_type": "execute_result"
        }
      ],
      "source": [
        "df.shape"
      ]
    },
    {
      "cell_type": "markdown",
      "metadata": {
        "id": "imokIbdu9lKE"
      },
      "source": [
        "Podemos ver que hay 32561 instancias y 15 atributos en el conjunto de datos."
      ]
    },
    {
      "cell_type": "code",
      "execution_count": 31,
      "metadata": {
        "id": "u_jAuLku9lKE"
      },
      "outputs": [
        {
          "data": {
            "text/html": [
              "<div>\n",
              "<style scoped>\n",
              "    .dataframe tbody tr th:only-of-type {\n",
              "        vertical-align: middle;\n",
              "    }\n",
              "\n",
              "    .dataframe tbody tr th {\n",
              "        vertical-align: top;\n",
              "    }\n",
              "\n",
              "    .dataframe thead th {\n",
              "        text-align: right;\n",
              "    }\n",
              "</style>\n",
              "<table border=\"1\" class=\"dataframe\">\n",
              "  <thead>\n",
              "    <tr style=\"text-align: right;\">\n",
              "      <th></th>\n",
              "      <th>age</th>\n",
              "      <th>workclass</th>\n",
              "      <th>fnlwgt</th>\n",
              "      <th>education</th>\n",
              "      <th>education.num</th>\n",
              "      <th>marital.status</th>\n",
              "      <th>occupation</th>\n",
              "      <th>relationship</th>\n",
              "      <th>race</th>\n",
              "      <th>sex</th>\n",
              "      <th>capital.gain</th>\n",
              "      <th>capital.loss</th>\n",
              "      <th>hours.per.week</th>\n",
              "      <th>native.country</th>\n",
              "      <th>income</th>\n",
              "    </tr>\n",
              "  </thead>\n",
              "  <tbody>\n",
              "    <tr>\n",
              "      <th>0</th>\n",
              "      <td>90</td>\n",
              "      <td>?</td>\n",
              "      <td>77053</td>\n",
              "      <td>HS-grad</td>\n",
              "      <td>9</td>\n",
              "      <td>Widowed</td>\n",
              "      <td>?</td>\n",
              "      <td>Not-in-family</td>\n",
              "      <td>White</td>\n",
              "      <td>Female</td>\n",
              "      <td>0</td>\n",
              "      <td>4356</td>\n",
              "      <td>40</td>\n",
              "      <td>United-States</td>\n",
              "      <td>&lt;=50K</td>\n",
              "    </tr>\n",
              "    <tr>\n",
              "      <th>1</th>\n",
              "      <td>82</td>\n",
              "      <td>Private</td>\n",
              "      <td>132870</td>\n",
              "      <td>HS-grad</td>\n",
              "      <td>9</td>\n",
              "      <td>Widowed</td>\n",
              "      <td>Exec-managerial</td>\n",
              "      <td>Not-in-family</td>\n",
              "      <td>White</td>\n",
              "      <td>Female</td>\n",
              "      <td>0</td>\n",
              "      <td>4356</td>\n",
              "      <td>18</td>\n",
              "      <td>United-States</td>\n",
              "      <td>&lt;=50K</td>\n",
              "    </tr>\n",
              "    <tr>\n",
              "      <th>2</th>\n",
              "      <td>66</td>\n",
              "      <td>?</td>\n",
              "      <td>186061</td>\n",
              "      <td>Some-college</td>\n",
              "      <td>10</td>\n",
              "      <td>Widowed</td>\n",
              "      <td>?</td>\n",
              "      <td>Unmarried</td>\n",
              "      <td>Black</td>\n",
              "      <td>Female</td>\n",
              "      <td>0</td>\n",
              "      <td>4356</td>\n",
              "      <td>40</td>\n",
              "      <td>United-States</td>\n",
              "      <td>&lt;=50K</td>\n",
              "    </tr>\n",
              "    <tr>\n",
              "      <th>3</th>\n",
              "      <td>54</td>\n",
              "      <td>Private</td>\n",
              "      <td>140359</td>\n",
              "      <td>7th-8th</td>\n",
              "      <td>4</td>\n",
              "      <td>Divorced</td>\n",
              "      <td>Machine-op-inspct</td>\n",
              "      <td>Unmarried</td>\n",
              "      <td>White</td>\n",
              "      <td>Female</td>\n",
              "      <td>0</td>\n",
              "      <td>3900</td>\n",
              "      <td>40</td>\n",
              "      <td>United-States</td>\n",
              "      <td>&lt;=50K</td>\n",
              "    </tr>\n",
              "    <tr>\n",
              "      <th>4</th>\n",
              "      <td>41</td>\n",
              "      <td>Private</td>\n",
              "      <td>264663</td>\n",
              "      <td>Some-college</td>\n",
              "      <td>10</td>\n",
              "      <td>Separated</td>\n",
              "      <td>Prof-specialty</td>\n",
              "      <td>Own-child</td>\n",
              "      <td>White</td>\n",
              "      <td>Female</td>\n",
              "      <td>0</td>\n",
              "      <td>3900</td>\n",
              "      <td>40</td>\n",
              "      <td>United-States</td>\n",
              "      <td>&lt;=50K</td>\n",
              "    </tr>\n",
              "  </tbody>\n",
              "</table>\n",
              "</div>"
            ],
            "text/plain": [
              "   age workclass  fnlwgt     education  education.num marital.status  \\\n",
              "0   90         ?   77053       HS-grad              9        Widowed   \n",
              "1   82   Private  132870       HS-grad              9        Widowed   \n",
              "2   66         ?  186061  Some-college             10        Widowed   \n",
              "3   54   Private  140359       7th-8th              4       Divorced   \n",
              "4   41   Private  264663  Some-college             10      Separated   \n",
              "\n",
              "          occupation   relationship   race     sex  capital.gain  \\\n",
              "0                  ?  Not-in-family  White  Female             0   \n",
              "1    Exec-managerial  Not-in-family  White  Female             0   \n",
              "2                  ?      Unmarried  Black  Female             0   \n",
              "3  Machine-op-inspct      Unmarried  White  Female             0   \n",
              "4     Prof-specialty      Own-child  White  Female             0   \n",
              "\n",
              "   capital.loss  hours.per.week native.country income  \n",
              "0          4356              40  United-States  <=50K  \n",
              "1          4356              18  United-States  <=50K  \n",
              "2          4356              40  United-States  <=50K  \n",
              "3          3900              40  United-States  <=50K  \n",
              "4          3900              40  United-States  <=50K  "
            ]
          },
          "execution_count": 31,
          "metadata": {},
          "output_type": "execute_result"
        }
      ],
      "source": [
        "df.head()"
      ]
    },
    {
      "cell_type": "code",
      "execution_count": 32,
      "metadata": {
        "id": "YvdP0G5K9lKE"
      },
      "outputs": [
        {
          "name": "stdout",
          "output_type": "stream",
          "text": [
            "<class 'pandas.core.frame.DataFrame'>\n",
            "RangeIndex: 32561 entries, 0 to 32560\n",
            "Data columns (total 15 columns):\n",
            " #   Column          Non-Null Count  Dtype \n",
            "---  ------          --------------  ----- \n",
            " 0   age             32561 non-null  int64 \n",
            " 1   workclass       32561 non-null  object\n",
            " 2   fnlwgt          32561 non-null  int64 \n",
            " 3   education       32561 non-null  object\n",
            " 4   education.num   32561 non-null  int64 \n",
            " 5   marital.status  32561 non-null  object\n",
            " 6   occupation      32561 non-null  object\n",
            " 7   relationship    32561 non-null  object\n",
            " 8   race            32561 non-null  object\n",
            " 9   sex             32561 non-null  object\n",
            " 10  capital.gain    32561 non-null  int64 \n",
            " 11  capital.loss    32561 non-null  int64 \n",
            " 12  hours.per.week  32561 non-null  int64 \n",
            " 13  native.country  32561 non-null  object\n",
            " 14  income          32561 non-null  object\n",
            "dtypes: int64(6), object(9)\n",
            "memory usage: 3.7+ MB\n"
          ]
        }
      ],
      "source": [
        "df.info()"
      ]
    },
    {
      "cell_type": "raw",
      "metadata": {
        "id": "DArVVTjo9lKE"
      },
      "source": [
        "El resumen del conjunto de datos muestra que no faltan valores. Pero la vista previa muestra que el conjunto de datos contiene valores codificados como `?`. Entonces, codificaré `?` como valores NaN."
      ]
    },
    {
      "cell_type": "markdown",
      "metadata": {
        "id": "7x-r1B3k9lKE"
      },
      "source": [
        "### Encode `?` as `NaNs`"
      ]
    },
    {
      "cell_type": "code",
      "execution_count": 33,
      "metadata": {
        "id": "K_W2I2vM9lKE"
      },
      "outputs": [],
      "source": [
        "df[df == '?'] = np.nan"
      ]
    },
    {
      "cell_type": "code",
      "execution_count": 34,
      "metadata": {
        "id": "X8Klay6K9lKF"
      },
      "outputs": [
        {
          "name": "stdout",
          "output_type": "stream",
          "text": [
            "<class 'pandas.core.frame.DataFrame'>\n",
            "RangeIndex: 32561 entries, 0 to 32560\n",
            "Data columns (total 15 columns):\n",
            " #   Column          Non-Null Count  Dtype \n",
            "---  ------          --------------  ----- \n",
            " 0   age             32561 non-null  int64 \n",
            " 1   workclass       30725 non-null  object\n",
            " 2   fnlwgt          32561 non-null  int64 \n",
            " 3   education       32561 non-null  object\n",
            " 4   education.num   32561 non-null  int64 \n",
            " 5   marital.status  32561 non-null  object\n",
            " 6   occupation      30718 non-null  object\n",
            " 7   relationship    32561 non-null  object\n",
            " 8   race            32561 non-null  object\n",
            " 9   sex             32561 non-null  object\n",
            " 10  capital.gain    32561 non-null  int64 \n",
            " 11  capital.loss    32561 non-null  int64 \n",
            " 12  hours.per.week  32561 non-null  int64 \n",
            " 13  native.country  31978 non-null  object\n",
            " 14  income          32561 non-null  object\n",
            "dtypes: int64(6), object(9)\n",
            "memory usage: 3.7+ MB\n"
          ]
        }
      ],
      "source": [
        "df.info()"
      ]
    },
    {
      "cell_type": "markdown",
      "metadata": {
        "id": "DZiYtqqd9lKF"
      },
      "source": [
        "Ahora, el resumen muestra que las variables `workclass`, `occupation` y `native.country` contienen valores faltantes. Todas estas variables son de tipo de datos categóricos. Entonces, imputaré los valores faltantes con el valor más frecuente: la moda."
      ]
    },
    {
      "cell_type": "code",
      "execution_count": 35,
      "metadata": {
        "id": "tM7Q7HlR_4Nh"
      },
      "outputs": [
        {
          "data": {
            "text/plain": [
              "age                  0\n",
              "workclass         1836\n",
              "fnlwgt               0\n",
              "education            0\n",
              "education.num        0\n",
              "marital.status       0\n",
              "occupation        1843\n",
              "relationship         0\n",
              "race                 0\n",
              "sex                  0\n",
              "capital.gain         0\n",
              "capital.loss         0\n",
              "hours.per.week       0\n",
              "native.country     583\n",
              "income               0\n",
              "dtype: int64"
            ]
          },
          "execution_count": 35,
          "metadata": {},
          "output_type": "execute_result"
        }
      ],
      "source": [
        "df.isnull().sum()"
      ]
    },
    {
      "cell_type": "markdown",
      "metadata": {
        "id": "nUAt9rWy9lKF"
      },
      "source": [
        "### Imputar valores faltantes con modo"
      ]
    },
    {
      "cell_type": "code",
      "execution_count": 36,
      "metadata": {
        "id": "g8VaJ_fe9lKF"
      },
      "outputs": [],
      "source": [
        "for col in ['workclass', 'occupation', 'native.country']:\n",
        "    df[col].fillna(df[col].mode()[0], inplace=True) #imputar por la moda"
      ]
    },
    {
      "cell_type": "markdown",
      "metadata": {
        "id": "Tj9W63we9lKF"
      },
      "source": [
        "### Verifique nuevamente si faltan valores"
      ]
    },
    {
      "cell_type": "code",
      "execution_count": 37,
      "metadata": {
        "id": "ZLskGE7d9lKF"
      },
      "outputs": [
        {
          "data": {
            "text/plain": [
              "age               0\n",
              "workclass         0\n",
              "fnlwgt            0\n",
              "education         0\n",
              "education.num     0\n",
              "marital.status    0\n",
              "occupation        0\n",
              "relationship      0\n",
              "race              0\n",
              "sex               0\n",
              "capital.gain      0\n",
              "capital.loss      0\n",
              "hours.per.week    0\n",
              "native.country    0\n",
              "income            0\n",
              "dtype: int64"
            ]
          },
          "execution_count": 37,
          "metadata": {},
          "output_type": "execute_result"
        }
      ],
      "source": [
        "df.isnull().sum()"
      ]
    },
    {
      "cell_type": "markdown",
      "metadata": {
        "id": "1wZS7zSz9lKF"
      },
      "source": [
        "Ahora podemos ver que no faltan valores en el conjunto de datos."
      ]
    },
    {
      "cell_type": "markdown",
      "metadata": {
        "id": "ErdMHp_S9lKF"
      },
      "source": [
        "### Configuración del vector de características y la variable de destino"
      ]
    },
    {
      "cell_type": "code",
      "execution_count": 38,
      "metadata": {
        "id": "8EWH5QDc9lKG"
      },
      "outputs": [],
      "source": [
        "X = df.drop(['income'], axis=1)\n",
        "y = df['income'].replace({'<=50K':0,'>50K':1})"
      ]
    },
    {
      "cell_type": "code",
      "execution_count": 39,
      "metadata": {
        "id": "8Azl8AJX9lKG"
      },
      "outputs": [
        {
          "data": {
            "text/html": [
              "<div>\n",
              "<style scoped>\n",
              "    .dataframe tbody tr th:only-of-type {\n",
              "        vertical-align: middle;\n",
              "    }\n",
              "\n",
              "    .dataframe tbody tr th {\n",
              "        vertical-align: top;\n",
              "    }\n",
              "\n",
              "    .dataframe thead th {\n",
              "        text-align: right;\n",
              "    }\n",
              "</style>\n",
              "<table border=\"1\" class=\"dataframe\">\n",
              "  <thead>\n",
              "    <tr style=\"text-align: right;\">\n",
              "      <th></th>\n",
              "      <th>age</th>\n",
              "      <th>workclass</th>\n",
              "      <th>fnlwgt</th>\n",
              "      <th>education</th>\n",
              "      <th>education.num</th>\n",
              "      <th>marital.status</th>\n",
              "      <th>occupation</th>\n",
              "      <th>relationship</th>\n",
              "      <th>race</th>\n",
              "      <th>sex</th>\n",
              "      <th>capital.gain</th>\n",
              "      <th>capital.loss</th>\n",
              "      <th>hours.per.week</th>\n",
              "      <th>native.country</th>\n",
              "    </tr>\n",
              "  </thead>\n",
              "  <tbody>\n",
              "    <tr>\n",
              "      <th>0</th>\n",
              "      <td>90</td>\n",
              "      <td>Private</td>\n",
              "      <td>77053</td>\n",
              "      <td>HS-grad</td>\n",
              "      <td>9</td>\n",
              "      <td>Widowed</td>\n",
              "      <td>Prof-specialty</td>\n",
              "      <td>Not-in-family</td>\n",
              "      <td>White</td>\n",
              "      <td>Female</td>\n",
              "      <td>0</td>\n",
              "      <td>4356</td>\n",
              "      <td>40</td>\n",
              "      <td>United-States</td>\n",
              "    </tr>\n",
              "    <tr>\n",
              "      <th>1</th>\n",
              "      <td>82</td>\n",
              "      <td>Private</td>\n",
              "      <td>132870</td>\n",
              "      <td>HS-grad</td>\n",
              "      <td>9</td>\n",
              "      <td>Widowed</td>\n",
              "      <td>Exec-managerial</td>\n",
              "      <td>Not-in-family</td>\n",
              "      <td>White</td>\n",
              "      <td>Female</td>\n",
              "      <td>0</td>\n",
              "      <td>4356</td>\n",
              "      <td>18</td>\n",
              "      <td>United-States</td>\n",
              "    </tr>\n",
              "    <tr>\n",
              "      <th>2</th>\n",
              "      <td>66</td>\n",
              "      <td>Private</td>\n",
              "      <td>186061</td>\n",
              "      <td>Some-college</td>\n",
              "      <td>10</td>\n",
              "      <td>Widowed</td>\n",
              "      <td>Prof-specialty</td>\n",
              "      <td>Unmarried</td>\n",
              "      <td>Black</td>\n",
              "      <td>Female</td>\n",
              "      <td>0</td>\n",
              "      <td>4356</td>\n",
              "      <td>40</td>\n",
              "      <td>United-States</td>\n",
              "    </tr>\n",
              "    <tr>\n",
              "      <th>3</th>\n",
              "      <td>54</td>\n",
              "      <td>Private</td>\n",
              "      <td>140359</td>\n",
              "      <td>7th-8th</td>\n",
              "      <td>4</td>\n",
              "      <td>Divorced</td>\n",
              "      <td>Machine-op-inspct</td>\n",
              "      <td>Unmarried</td>\n",
              "      <td>White</td>\n",
              "      <td>Female</td>\n",
              "      <td>0</td>\n",
              "      <td>3900</td>\n",
              "      <td>40</td>\n",
              "      <td>United-States</td>\n",
              "    </tr>\n",
              "    <tr>\n",
              "      <th>4</th>\n",
              "      <td>41</td>\n",
              "      <td>Private</td>\n",
              "      <td>264663</td>\n",
              "      <td>Some-college</td>\n",
              "      <td>10</td>\n",
              "      <td>Separated</td>\n",
              "      <td>Prof-specialty</td>\n",
              "      <td>Own-child</td>\n",
              "      <td>White</td>\n",
              "      <td>Female</td>\n",
              "      <td>0</td>\n",
              "      <td>3900</td>\n",
              "      <td>40</td>\n",
              "      <td>United-States</td>\n",
              "    </tr>\n",
              "  </tbody>\n",
              "</table>\n",
              "</div>"
            ],
            "text/plain": [
              "   age workclass  fnlwgt     education  education.num marital.status  \\\n",
              "0   90   Private   77053       HS-grad              9        Widowed   \n",
              "1   82   Private  132870       HS-grad              9        Widowed   \n",
              "2   66   Private  186061  Some-college             10        Widowed   \n",
              "3   54   Private  140359       7th-8th              4       Divorced   \n",
              "4   41   Private  264663  Some-college             10      Separated   \n",
              "\n",
              "          occupation   relationship   race     sex  capital.gain  \\\n",
              "0     Prof-specialty  Not-in-family  White  Female             0   \n",
              "1    Exec-managerial  Not-in-family  White  Female             0   \n",
              "2     Prof-specialty      Unmarried  Black  Female             0   \n",
              "3  Machine-op-inspct      Unmarried  White  Female             0   \n",
              "4     Prof-specialty      Own-child  White  Female             0   \n",
              "\n",
              "   capital.loss  hours.per.week native.country  \n",
              "0          4356              40  United-States  \n",
              "1          4356              18  United-States  \n",
              "2          4356              40  United-States  \n",
              "3          3900              40  United-States  \n",
              "4          3900              40  United-States  "
            ]
          },
          "execution_count": 39,
          "metadata": {},
          "output_type": "execute_result"
        }
      ],
      "source": [
        "X.head()"
      ]
    },
    {
      "cell_type": "code",
      "execution_count": 40,
      "metadata": {
        "id": "dW7FWFSXAJCZ"
      },
      "outputs": [
        {
          "data": {
            "text/plain": [
              "0        0\n",
              "1        0\n",
              "2        0\n",
              "3        0\n",
              "4        0\n",
              "        ..\n",
              "32556    0\n",
              "32557    0\n",
              "32558    1\n",
              "32559    0\n",
              "32560    0\n",
              "Name: income, Length: 32561, dtype: int64"
            ]
          },
          "execution_count": 40,
          "metadata": {},
          "output_type": "execute_result"
        }
      ],
      "source": [
        "y"
      ]
    },
    {
      "cell_type": "markdown",
      "metadata": {
        "id": "hKRR8gJI9lKG"
      },
      "source": [
        "## Dividir datos en conjuntos de prueba y entrenamiento separados"
      ]
    },
    {
      "cell_type": "code",
      "execution_count": 41,
      "metadata": {
        "id": "O6oN45IX9lKG"
      },
      "outputs": [],
      "source": [
        "from sklearn.model_selection import train_test_split\n",
        "\n",
        "X_train, X_test, y_train, y_test = train_test_split(X, y, test_size = 0.3, random_state = 0)"
      ]
    },
    {
      "cell_type": "markdown",
      "metadata": {
        "id": "rDwKk41M9lKG"
      },
      "source": [
        "## Feature Engineering"
      ]
    },
    {
      "cell_type": "markdown",
      "metadata": {
        "id": "2fxlQ3a69lKG"
      },
      "source": [
        "### Codificar variables categóricas"
      ]
    },
    {
      "cell_type": "code",
      "execution_count": 42,
      "metadata": {
        "id": "fWLJN3Ih9lKG"
      },
      "outputs": [],
      "source": [
        "from sklearn import preprocessing\n",
        "\n",
        "categorical = ['workclass', 'education', 'marital.status', 'occupation', 'relationship', 'race', 'sex', 'native.country']\n",
        "for feature in categorical:\n",
        "        le = preprocessing.LabelEncoder()\n",
        "        X_train[feature] = le.fit_transform(X_train[feature])\n",
        "        X_test[feature] = le.transform(X_test[feature])"
      ]
    },
    {
      "cell_type": "code",
      "execution_count": 43,
      "metadata": {},
      "outputs": [
        {
          "data": {
            "text/html": [
              "<div>\n",
              "<style scoped>\n",
              "    .dataframe tbody tr th:only-of-type {\n",
              "        vertical-align: middle;\n",
              "    }\n",
              "\n",
              "    .dataframe tbody tr th {\n",
              "        vertical-align: top;\n",
              "    }\n",
              "\n",
              "    .dataframe thead th {\n",
              "        text-align: right;\n",
              "    }\n",
              "</style>\n",
              "<table border=\"1\" class=\"dataframe\">\n",
              "  <thead>\n",
              "    <tr style=\"text-align: right;\">\n",
              "      <th></th>\n",
              "      <th>age</th>\n",
              "      <th>workclass</th>\n",
              "      <th>fnlwgt</th>\n",
              "      <th>education</th>\n",
              "      <th>education.num</th>\n",
              "      <th>marital.status</th>\n",
              "      <th>occupation</th>\n",
              "      <th>relationship</th>\n",
              "      <th>race</th>\n",
              "      <th>sex</th>\n",
              "      <th>capital.gain</th>\n",
              "      <th>capital.loss</th>\n",
              "      <th>hours.per.week</th>\n",
              "      <th>native.country</th>\n",
              "    </tr>\n",
              "  </thead>\n",
              "  <tbody>\n",
              "    <tr>\n",
              "      <th>32098</th>\n",
              "      <td>40</td>\n",
              "      <td>6</td>\n",
              "      <td>31627</td>\n",
              "      <td>9</td>\n",
              "      <td>13</td>\n",
              "      <td>2</td>\n",
              "      <td>3</td>\n",
              "      <td>5</td>\n",
              "      <td>4</td>\n",
              "      <td>0</td>\n",
              "      <td>0</td>\n",
              "      <td>0</td>\n",
              "      <td>20</td>\n",
              "      <td>38</td>\n",
              "    </tr>\n",
              "    <tr>\n",
              "      <th>25206</th>\n",
              "      <td>39</td>\n",
              "      <td>1</td>\n",
              "      <td>236391</td>\n",
              "      <td>11</td>\n",
              "      <td>9</td>\n",
              "      <td>2</td>\n",
              "      <td>6</td>\n",
              "      <td>0</td>\n",
              "      <td>4</td>\n",
              "      <td>1</td>\n",
              "      <td>0</td>\n",
              "      <td>0</td>\n",
              "      <td>38</td>\n",
              "      <td>38</td>\n",
              "    </tr>\n",
              "    <tr>\n",
              "      <th>23491</th>\n",
              "      <td>42</td>\n",
              "      <td>3</td>\n",
              "      <td>194710</td>\n",
              "      <td>15</td>\n",
              "      <td>10</td>\n",
              "      <td>4</td>\n",
              "      <td>3</td>\n",
              "      <td>1</td>\n",
              "      <td>4</td>\n",
              "      <td>0</td>\n",
              "      <td>0</td>\n",
              "      <td>0</td>\n",
              "      <td>40</td>\n",
              "      <td>38</td>\n",
              "    </tr>\n",
              "    <tr>\n",
              "      <th>12367</th>\n",
              "      <td>27</td>\n",
              "      <td>1</td>\n",
              "      <td>273929</td>\n",
              "      <td>11</td>\n",
              "      <td>9</td>\n",
              "      <td>4</td>\n",
              "      <td>4</td>\n",
              "      <td>3</td>\n",
              "      <td>4</td>\n",
              "      <td>1</td>\n",
              "      <td>0</td>\n",
              "      <td>0</td>\n",
              "      <td>40</td>\n",
              "      <td>38</td>\n",
              "    </tr>\n",
              "    <tr>\n",
              "      <th>7054</th>\n",
              "      <td>38</td>\n",
              "      <td>0</td>\n",
              "      <td>99527</td>\n",
              "      <td>12</td>\n",
              "      <td>14</td>\n",
              "      <td>2</td>\n",
              "      <td>3</td>\n",
              "      <td>0</td>\n",
              "      <td>4</td>\n",
              "      <td>1</td>\n",
              "      <td>0</td>\n",
              "      <td>0</td>\n",
              "      <td>40</td>\n",
              "      <td>38</td>\n",
              "    </tr>\n",
              "  </tbody>\n",
              "</table>\n",
              "</div>"
            ],
            "text/plain": [
              "       age  workclass  fnlwgt  education  education.num  marital.status  \\\n",
              "32098   40          6   31627          9             13               2   \n",
              "25206   39          1  236391         11              9               2   \n",
              "23491   42          3  194710         15             10               4   \n",
              "12367   27          1  273929         11              9               4   \n",
              "7054    38          0   99527         12             14               2   \n",
              "\n",
              "       occupation  relationship  race  sex  capital.gain  capital.loss  \\\n",
              "32098           3             5     4    0             0             0   \n",
              "25206           6             0     4    1             0             0   \n",
              "23491           3             1     4    0             0             0   \n",
              "12367           4             3     4    1             0             0   \n",
              "7054            3             0     4    1             0             0   \n",
              "\n",
              "       hours.per.week  native.country  \n",
              "32098              20              38  \n",
              "25206              38              38  \n",
              "23491              40              38  \n",
              "12367              40              38  \n",
              "7054               40              38  "
            ]
          },
          "execution_count": 43,
          "metadata": {},
          "output_type": "execute_result"
        }
      ],
      "source": [
        "X_train.head()"
      ]
    },
    {
      "cell_type": "code",
      "execution_count": 44,
      "metadata": {},
      "outputs": [
        {
          "data": {
            "text/plain": [
              "workclass\n",
              "Private             24532\n",
              "Self-emp-not-inc     2541\n",
              "Local-gov            2093\n",
              "State-gov            1298\n",
              "Self-emp-inc         1116\n",
              "Federal-gov           960\n",
              "Without-pay            14\n",
              "Never-worked            7\n",
              "Name: count, dtype: int64"
            ]
          },
          "execution_count": 44,
          "metadata": {},
          "output_type": "execute_result"
        }
      ],
      "source": [
        "X.workclass.value_counts()"
      ]
    },
    {
      "cell_type": "markdown",
      "metadata": {
        "id": "KpDn1yZz9lKH"
      },
      "source": [
        "## Feature Scaling"
      ]
    },
    {
      "cell_type": "code",
      "execution_count": 45,
      "metadata": {
        "id": "SYOmyroz9lKH"
      },
      "outputs": [],
      "source": [
        "from sklearn.preprocessing import StandardScaler\n",
        "\n",
        "scaler = StandardScaler()\n",
        "\n",
        "X_train = pd.DataFrame(scaler.fit_transform(X_train), columns = X.columns)\n",
        "X_test = pd.DataFrame(scaler.transform(X_test), columns = X.columns)"
      ]
    },
    {
      "cell_type": "code",
      "execution_count": 46,
      "metadata": {
        "id": "TqAUYUhb9lKH"
      },
      "outputs": [
        {
          "data": {
            "text/html": [
              "<div>\n",
              "<style scoped>\n",
              "    .dataframe tbody tr th:only-of-type {\n",
              "        vertical-align: middle;\n",
              "    }\n",
              "\n",
              "    .dataframe tbody tr th {\n",
              "        vertical-align: top;\n",
              "    }\n",
              "\n",
              "    .dataframe thead th {\n",
              "        text-align: right;\n",
              "    }\n",
              "</style>\n",
              "<table border=\"1\" class=\"dataframe\">\n",
              "  <thead>\n",
              "    <tr style=\"text-align: right;\">\n",
              "      <th></th>\n",
              "      <th>age</th>\n",
              "      <th>workclass</th>\n",
              "      <th>fnlwgt</th>\n",
              "      <th>education</th>\n",
              "      <th>education.num</th>\n",
              "      <th>marital.status</th>\n",
              "      <th>occupation</th>\n",
              "      <th>relationship</th>\n",
              "      <th>race</th>\n",
              "      <th>sex</th>\n",
              "      <th>capital.gain</th>\n",
              "      <th>capital.loss</th>\n",
              "      <th>hours.per.week</th>\n",
              "      <th>native.country</th>\n",
              "    </tr>\n",
              "  </thead>\n",
              "  <tbody>\n",
              "    <tr>\n",
              "      <th>0</th>\n",
              "      <td>0.101484</td>\n",
              "      <td>2.600478</td>\n",
              "      <td>-1.494279</td>\n",
              "      <td>-0.332263</td>\n",
              "      <td>1.133894</td>\n",
              "      <td>-0.402341</td>\n",
              "      <td>-0.782234</td>\n",
              "      <td>2.214196</td>\n",
              "      <td>0.39298</td>\n",
              "      <td>-1.430470</td>\n",
              "      <td>-0.145189</td>\n",
              "      <td>-0.217407</td>\n",
              "      <td>-1.662414</td>\n",
              "      <td>0.262317</td>\n",
              "    </tr>\n",
              "    <tr>\n",
              "      <th>1</th>\n",
              "      <td>0.028248</td>\n",
              "      <td>-1.884720</td>\n",
              "      <td>0.438778</td>\n",
              "      <td>0.184396</td>\n",
              "      <td>-0.423425</td>\n",
              "      <td>-0.402341</td>\n",
              "      <td>-0.026696</td>\n",
              "      <td>-0.899410</td>\n",
              "      <td>0.39298</td>\n",
              "      <td>0.699071</td>\n",
              "      <td>-0.145189</td>\n",
              "      <td>-0.217407</td>\n",
              "      <td>-0.200753</td>\n",
              "      <td>0.262317</td>\n",
              "    </tr>\n",
              "    <tr>\n",
              "      <th>2</th>\n",
              "      <td>0.247956</td>\n",
              "      <td>-0.090641</td>\n",
              "      <td>0.045292</td>\n",
              "      <td>1.217715</td>\n",
              "      <td>-0.034095</td>\n",
              "      <td>0.926666</td>\n",
              "      <td>-0.782234</td>\n",
              "      <td>-0.276689</td>\n",
              "      <td>0.39298</td>\n",
              "      <td>-1.430470</td>\n",
              "      <td>-0.145189</td>\n",
              "      <td>-0.217407</td>\n",
              "      <td>-0.038346</td>\n",
              "      <td>0.262317</td>\n",
              "    </tr>\n",
              "    <tr>\n",
              "      <th>3</th>\n",
              "      <td>-0.850587</td>\n",
              "      <td>-1.884720</td>\n",
              "      <td>0.793152</td>\n",
              "      <td>0.184396</td>\n",
              "      <td>-0.423425</td>\n",
              "      <td>0.926666</td>\n",
              "      <td>-0.530388</td>\n",
              "      <td>0.968753</td>\n",
              "      <td>0.39298</td>\n",
              "      <td>0.699071</td>\n",
              "      <td>-0.145189</td>\n",
              "      <td>-0.217407</td>\n",
              "      <td>-0.038346</td>\n",
              "      <td>0.262317</td>\n",
              "    </tr>\n",
              "    <tr>\n",
              "      <th>4</th>\n",
              "      <td>-0.044989</td>\n",
              "      <td>-2.781760</td>\n",
              "      <td>-0.853275</td>\n",
              "      <td>0.442726</td>\n",
              "      <td>1.523223</td>\n",
              "      <td>-0.402341</td>\n",
              "      <td>-0.782234</td>\n",
              "      <td>-0.899410</td>\n",
              "      <td>0.39298</td>\n",
              "      <td>0.699071</td>\n",
              "      <td>-0.145189</td>\n",
              "      <td>-0.217407</td>\n",
              "      <td>-0.038346</td>\n",
              "      <td>0.262317</td>\n",
              "    </tr>\n",
              "  </tbody>\n",
              "</table>\n",
              "</div>"
            ],
            "text/plain": [
              "        age  workclass    fnlwgt  education  education.num  marital.status  \\\n",
              "0  0.101484   2.600478 -1.494279  -0.332263       1.133894       -0.402341   \n",
              "1  0.028248  -1.884720  0.438778   0.184396      -0.423425       -0.402341   \n",
              "2  0.247956  -0.090641  0.045292   1.217715      -0.034095        0.926666   \n",
              "3 -0.850587  -1.884720  0.793152   0.184396      -0.423425        0.926666   \n",
              "4 -0.044989  -2.781760 -0.853275   0.442726       1.523223       -0.402341   \n",
              "\n",
              "   occupation  relationship     race       sex  capital.gain  capital.loss  \\\n",
              "0   -0.782234      2.214196  0.39298 -1.430470     -0.145189     -0.217407   \n",
              "1   -0.026696     -0.899410  0.39298  0.699071     -0.145189     -0.217407   \n",
              "2   -0.782234     -0.276689  0.39298 -1.430470     -0.145189     -0.217407   \n",
              "3   -0.530388      0.968753  0.39298  0.699071     -0.145189     -0.217407   \n",
              "4   -0.782234     -0.899410  0.39298  0.699071     -0.145189     -0.217407   \n",
              "\n",
              "   hours.per.week  native.country  \n",
              "0       -1.662414        0.262317  \n",
              "1       -0.200753        0.262317  \n",
              "2       -0.038346        0.262317  \n",
              "3       -0.038346        0.262317  \n",
              "4       -0.038346        0.262317  "
            ]
          },
          "execution_count": 46,
          "metadata": {},
          "output_type": "execute_result"
        }
      ],
      "source": [
        "X_train.head()"
      ]
    },
    {
      "cell_type": "markdown",
      "metadata": {
        "id": "wkaOE3E69lKH"
      },
      "source": [
        "## Modelo de regresión logística con todas las características."
      ]
    },
    {
      "cell_type": "code",
      "execution_count": 47,
      "metadata": {
        "id": "rfhNfGRQ9lKH"
      },
      "outputs": [
        {
          "data": {
            "text/plain": [
              "{'AUC': 0.6921018307009249,\n",
              " 'Gini': 0.3842036614018498,\n",
              " 'F1-score': 0.5445984828668585,\n",
              " 'Recall': 0.44128868164476476}"
            ]
          },
          "execution_count": 47,
          "metadata": {},
          "output_type": "execute_result"
        }
      ],
      "source": [
        "from sklearn.linear_model import LogisticRegression\n",
        "from sklearn.metrics import accuracy_score\n",
        "from sklearn.metrics import accuracy_score, classification_report, confusion_matrix\n",
        "\n",
        "logreg = LogisticRegression()\n",
        "logreg.fit(X_train, y_train)\n",
        "y_pred = logreg.predict(X_test)\n",
        "\n",
        "# print('Puntuación de precisión de regresión logística con todas las características: {0:0.4f}'. format(accuracy_score(y_test, y_pred)))\n",
        "\n",
        "# # Evaluar el rendimiento del modelo\n",
        "# accuracy = accuracy_score(y_test, y_pred)\n",
        "# conf_matrix = confusion_matrix(y_test, y_pred)\n",
        "# class_report = classification_report(y_test, y_pred)\n",
        "\n",
        "# print(\"Precisión del modelo:\", accuracy)\n",
        "# # print(\"Matriz de confusión:\\n\", conf_matrix)\n",
        "# print(\"Informe de clasificación:\\n\", class_report)\n",
        "\n",
        "model_1 = calculate_metrics(y_test, logreg.predict(X_test), threshold=0.5)\n",
        "model_1"
      ]
    },
    {
      "cell_type": "markdown",
      "metadata": {
        "id": "jzRMDOTg9lKI"
      },
      "source": [
        "## Regresión logística con PCA\n",
        "\n",
        "La clase PCA de Scikit-Learn implementa el algoritmo PCA utilizando el siguiente código. Antes de profundizar, explicaré otro concepto importante llamado índice de varianza explicada.\n",
        "\n",
        "\n",
        "### Relación de varianza explicada\n",
        "\n",
        "Un dato muy útil es el **índice de varianza explicada** de cada componente principal. Está disponible a través de la variable `explained_variance_ratio_`. Indica la proporción de la varianza del conjunto de datos que se encuentra a lo largo del eje de cada componente principal.\n"
      ]
    },
    {
      "cell_type": "code",
      "execution_count": 48,
      "metadata": {
        "id": "EiuZHxih9lKI"
      },
      "outputs": [],
      "source": [
        "from sklearn.decomposition import PCA\n",
        "pca = PCA()\n",
        "X_train = pca.fit_transform(X_train)"
      ]
    },
    {
      "cell_type": "code",
      "execution_count": 49,
      "metadata": {
        "id": "7pIBelurGn1p"
      },
      "outputs": [
        {
          "name": "stdout",
          "output_type": "stream",
          "text": [
            "Proporción de varianza explicada por cada componente principal:\n",
            "[0.14757168 0.10182915 0.08147199 0.07880174 0.07463545 0.07274281\n",
            " 0.07009602 0.06750902 0.0647268  0.06131155 0.06084207 0.04839584\n",
            " 0.04265038 0.02741548]\n"
          ]
        },
        {
          "data": {
            "image/png": "[encoded data removed]",
            "text/plain": [
              "<Figure size 1000x600 with 1 Axes>"
            ]
          },
          "metadata": {},
          "output_type": "display_data"
        }
      ],
      "source": [
        "# Obtener la proporción de varianza explicada por cada componente principal\n",
        "explained_variance_ratio = pca.explained_variance_ratio_\n",
        "\n",
        "# Calcular la varianza explicada acumulativa\n",
        "cumulative_explained_variance = np.cumsum(explained_variance_ratio)\n",
        "\n",
        "# Imprimir la proporción de varianza explicada\n",
        "print(\"Proporción de varianza explicada por cada componente principal:\")\n",
        "print(explained_variance_ratio)\n",
        "\n",
        "# Graficar la proporción de varianza explicada y la varianza explicada acumulativa\n",
        "plt.figure(figsize=(10, 6))\n",
        "\n",
        "# Gráfico de barras de la proporción de varianza explicada\n",
        "plt.bar(range(1, len(explained_variance_ratio) + 1), explained_variance_ratio, alpha=0.6, align='center', label='Varianza Explicada')\n",
        "\n",
        "# Línea de la varianza explicada acumulativa\n",
        "plt.step(range(1, len(cumulative_explained_variance) + 1), cumulative_explained_variance, where='mid', linestyle='--', label='Varianza Explicada Acumulativa')\n",
        "\n",
        "# Configurar grillas\n",
        "plt.grid(which='both', linestyle='--', linewidth=0.7)\n",
        "plt.gca().yaxis.set_major_locator(plt.MultipleLocator(0.1))\n",
        "plt.gca().yaxis.set_minor_locator(plt.MultipleLocator(0.1))\n",
        "\n",
        "# Método del codo\n",
        "plt.xlabel('Componentes Principales')\n",
        "plt.ylabel('Proporción de Varianza Explicada')\n",
        "plt.title('Proporción de Varianza Explicada por los Componentes Principales')\n",
        "plt.axhline(y=0.9, color='r', linestyle='-', label='Umbral de 90%')\n",
        "plt.legend(loc='best')\n",
        "\n",
        "plt.show()"
      ]
    },
    {
      "cell_type": "markdown",
      "metadata": {
        "id": "Lqe20dmI9lKI"
      },
      "source": [
        "### Comentario\n",
        "\n",
        "- Podemos ver que aproximadamente el 97,25% de la varianza se explica por las 13 primeras variables.\n",
        "\n",
        "- Sólo el 2,75% de la varianza se explica por la última variable. Entonces, podemos suponer que contiene poca información.\n",
        "\n",
        "- Entonces se dejará, y entrenará el modelo nuevamente y con la precisión.\n",
        "\n"
      ]
    },
    {
      "cell_type": "code",
      "execution_count": 50,
      "metadata": {
        "id": "mc95i8sAG_LZ"
      },
      "outputs": [],
      "source": [
        "# Cargas factoriales\n",
        "loadings = pca.components_.T * np.sqrt(pca.explained_variance_)\n",
        "loadings_df = pd.DataFrame(loadings, columns=[f'PC{i+1}' for i in range(len(loadings))], index=list(X.columns))"
      ]
    },
    {
      "cell_type": "code",
      "execution_count": 51,
      "metadata": {
        "id": "DHZXvL5ise1U"
      },
      "outputs": [
        {
          "data": {
            "text/html": [
              "<div>\n",
              "<style scoped>\n",
              "    .dataframe tbody tr th:only-of-type {\n",
              "        vertical-align: middle;\n",
              "    }\n",
              "\n",
              "    .dataframe tbody tr th {\n",
              "        vertical-align: top;\n",
              "    }\n",
              "\n",
              "    .dataframe thead th {\n",
              "        text-align: right;\n",
              "    }\n",
              "</style>\n",
              "<table border=\"1\" class=\"dataframe\">\n",
              "  <thead>\n",
              "    <tr style=\"text-align: right;\">\n",
              "      <th></th>\n",
              "      <th>PC1</th>\n",
              "      <th>PC2</th>\n",
              "      <th>PC3</th>\n",
              "      <th>PC4</th>\n",
              "      <th>PC5</th>\n",
              "      <th>PC6</th>\n",
              "      <th>PC7</th>\n",
              "      <th>PC8</th>\n",
              "      <th>PC9</th>\n",
              "      <th>PC10</th>\n",
              "      <th>PC11</th>\n",
              "      <th>PC12</th>\n",
              "      <th>PC13</th>\n",
              "      <th>PC14</th>\n",
              "    </tr>\n",
              "  </thead>\n",
              "  <tbody>\n",
              "    <tr>\n",
              "      <th>age</th>\n",
              "      <td>0.455804</td>\n",
              "      <td>0.097131</td>\n",
              "      <td>-0.473985</td>\n",
              "      <td>0.358455</td>\n",
              "      <td>0.088544</td>\n",
              "      <td>0.187523</td>\n",
              "      <td>0.080439</td>\n",
              "      <td>0.155766</td>\n",
              "      <td>-0.202916</td>\n",
              "      <td>-0.301294</td>\n",
              "      <td>0.004387</td>\n",
              "      <td>0.446117</td>\n",
              "      <td>0.072410</td>\n",
              "      <td>0.140452</td>\n",
              "    </tr>\n",
              "    <tr>\n",
              "      <th>workclass</th>\n",
              "      <td>0.156784</td>\n",
              "      <td>0.043009</td>\n",
              "      <td>-0.022209</td>\n",
              "      <td>-0.188804</td>\n",
              "      <td>0.451030</td>\n",
              "      <td>-0.069600</td>\n",
              "      <td>-0.774063</td>\n",
              "      <td>0.254305</td>\n",
              "      <td>-0.162736</td>\n",
              "      <td>0.037358</td>\n",
              "      <td>-0.190140</td>\n",
              "      <td>-0.004120</td>\n",
              "      <td>-0.033658</td>\n",
              "      <td>-0.013187</td>\n",
              "    </tr>\n",
              "    <tr>\n",
              "      <th>fnlwgt</th>\n",
              "      <td>-0.071984</td>\n",
              "      <td>0.173698</td>\n",
              "      <td>0.493983</td>\n",
              "      <td>0.039761</td>\n",
              "      <td>-0.191638</td>\n",
              "      <td>-0.349363</td>\n",
              "      <td>0.232346</td>\n",
              "      <td>0.565662</td>\n",
              "      <td>-0.372659</td>\n",
              "      <td>-0.040167</td>\n",
              "      <td>-0.185651</td>\n",
              "      <td>0.106364</td>\n",
              "      <td>-0.009001</td>\n",
              "      <td>-0.002269</td>\n",
              "    </tr>\n",
              "    <tr>\n",
              "      <th>education</th>\n",
              "      <td>0.152616</td>\n",
              "      <td>-0.726750</td>\n",
              "      <td>0.134664</td>\n",
              "      <td>0.024763</td>\n",
              "      <td>-0.119242</td>\n",
              "      <td>-0.151757</td>\n",
              "      <td>-0.137458</td>\n",
              "      <td>-0.123093</td>\n",
              "      <td>-0.250440</td>\n",
              "      <td>-0.225303</td>\n",
              "      <td>0.117329</td>\n",
              "      <td>-0.088672</td>\n",
              "      <td>0.472672</td>\n",
              "      <td>-0.003665</td>\n",
              "    </tr>\n",
              "    <tr>\n",
              "      <th>education.num</th>\n",
              "      <td>0.301944</td>\n",
              "      <td>-0.724816</td>\n",
              "      <td>0.224002</td>\n",
              "      <td>0.087819</td>\n",
              "      <td>-0.005522</td>\n",
              "      <td>0.081241</td>\n",
              "      <td>-0.008259</td>\n",
              "      <td>-0.010562</td>\n",
              "      <td>-0.066801</td>\n",
              "      <td>-0.013448</td>\n",
              "      <td>0.076151</td>\n",
              "      <td>0.091792</td>\n",
              "      <td>-0.544719</td>\n",
              "      <td>0.056824</td>\n",
              "    </tr>\n",
              "    <tr>\n",
              "      <th>marital.status</th>\n",
              "      <td>-0.481369</td>\n",
              "      <td>0.017508</td>\n",
              "      <td>0.425482</td>\n",
              "      <td>-0.297440</td>\n",
              "      <td>0.083165</td>\n",
              "      <td>0.072954</td>\n",
              "      <td>-0.115131</td>\n",
              "      <td>-0.119277</td>\n",
              "      <td>0.306701</td>\n",
              "      <td>-0.321888</td>\n",
              "      <td>0.091507</td>\n",
              "      <td>0.499463</td>\n",
              "      <td>0.054121</td>\n",
              "      <td>0.018771</td>\n",
              "    </tr>\n",
              "    <tr>\n",
              "      <th>occupation</th>\n",
              "      <td>0.042379</td>\n",
              "      <td>0.010539</td>\n",
              "      <td>0.375631</td>\n",
              "      <td>-0.034190</td>\n",
              "      <td>0.347442</td>\n",
              "      <td>0.734833</td>\n",
              "      <td>0.202679</td>\n",
              "      <td>0.015213</td>\n",
              "      <td>-0.277049</td>\n",
              "      <td>0.230637</td>\n",
              "      <td>-0.009659</td>\n",
              "      <td>-0.035468</td>\n",
              "      <td>0.150041</td>\n",
              "      <td>-0.007129</td>\n",
              "    </tr>\n",
              "    <tr>\n",
              "      <th>relationship</th>\n",
              "      <td>-0.777598</td>\n",
              "      <td>-0.254256</td>\n",
              "      <td>-0.155311</td>\n",
              "      <td>0.099183</td>\n",
              "      <td>0.035971</td>\n",
              "      <td>-0.012459</td>\n",
              "      <td>-0.030121</td>\n",
              "      <td>0.149508</td>\n",
              "      <td>0.009107</td>\n",
              "      <td>0.260784</td>\n",
              "      <td>-0.039159</td>\n",
              "      <td>-0.010325</td>\n",
              "      <td>0.051433</td>\n",
              "      <td>0.446872</td>\n",
              "    </tr>\n",
              "    <tr>\n",
              "      <th>race</th>\n",
              "      <td>0.242189</td>\n",
              "      <td>-0.046202</td>\n",
              "      <td>-0.223750</td>\n",
              "      <td>-0.621997</td>\n",
              "      <td>0.064647</td>\n",
              "      <td>-0.099315</td>\n",
              "      <td>0.161447</td>\n",
              "      <td>0.290361</td>\n",
              "      <td>-0.054904</td>\n",
              "      <td>0.188810</td>\n",
              "      <td>0.576646</td>\n",
              "      <td>0.073859</td>\n",
              "      <td>0.021267</td>\n",
              "      <td>0.028294</td>\n",
              "    </tr>\n",
              "    <tr>\n",
              "      <th>sex</th>\n",
              "      <td>0.676050</td>\n",
              "      <td>0.338285</td>\n",
              "      <td>0.309012</td>\n",
              "      <td>-0.201341</td>\n",
              "      <td>-0.040219</td>\n",
              "      <td>-0.046619</td>\n",
              "      <td>-0.006427</td>\n",
              "      <td>-0.199403</td>\n",
              "      <td>0.067428</td>\n",
              "      <td>-0.205133</td>\n",
              "      <td>-0.027489</td>\n",
              "      <td>-0.205663</td>\n",
              "      <td>-0.003014</td>\n",
              "      <td>0.399067</td>\n",
              "    </tr>\n",
              "    <tr>\n",
              "      <th>capital.gain</th>\n",
              "      <td>0.201758</td>\n",
              "      <td>-0.182890</td>\n",
              "      <td>0.119262</td>\n",
              "      <td>0.295896</td>\n",
              "      <td>0.558573</td>\n",
              "      <td>-0.166618</td>\n",
              "      <td>0.236352</td>\n",
              "      <td>0.336168</td>\n",
              "      <td>0.522698</td>\n",
              "      <td>-0.095461</td>\n",
              "      <td>0.049244</td>\n",
              "      <td>-0.141461</td>\n",
              "      <td>0.102186</td>\n",
              "      <td>-0.016472</td>\n",
              "    </tr>\n",
              "    <tr>\n",
              "      <th>capital.loss</th>\n",
              "      <td>0.173921</td>\n",
              "      <td>-0.091641</td>\n",
              "      <td>0.000414</td>\n",
              "      <td>-0.023941</td>\n",
              "      <td>-0.564118</td>\n",
              "      <td>0.454090</td>\n",
              "      <td>-0.247278</td>\n",
              "      <td>0.474962</td>\n",
              "      <td>0.366527</td>\n",
              "      <td>-0.041023</td>\n",
              "      <td>-0.035911</td>\n",
              "      <td>-0.085907</td>\n",
              "      <td>0.070257</td>\n",
              "      <td>-0.005716</td>\n",
              "    </tr>\n",
              "    <tr>\n",
              "      <th>hours.per.week</th>\n",
              "      <td>0.531079</td>\n",
              "      <td>-0.067553</td>\n",
              "      <td>0.149585</td>\n",
              "      <td>0.098598</td>\n",
              "      <td>-0.114143</td>\n",
              "      <td>-0.186047</td>\n",
              "      <td>-0.054755</td>\n",
              "      <td>-0.145697</td>\n",
              "      <td>0.204943</td>\n",
              "      <td>0.625828</td>\n",
              "      <td>-0.158333</td>\n",
              "      <td>0.352729</td>\n",
              "      <td>0.161773</td>\n",
              "      <td>0.012306</td>\n",
              "    </tr>\n",
              "    <tr>\n",
              "      <th>native.country</th>\n",
              "      <td>0.085107</td>\n",
              "      <td>-0.320383</td>\n",
              "      <td>-0.273434</td>\n",
              "      <td>-0.551802</td>\n",
              "      <td>0.068675</td>\n",
              "      <td>0.026148</td>\n",
              "      <td>0.318499</td>\n",
              "      <td>0.017038</td>\n",
              "      <td>0.066916</td>\n",
              "      <td>-0.093123</td>\n",
              "      <td>-0.624149</td>\n",
              "      <td>0.023305</td>\n",
              "      <td>0.020983</td>\n",
              "      <td>-0.008779</td>\n",
              "    </tr>\n",
              "  </tbody>\n",
              "</table>\n",
              "</div>"
            ],
            "text/plain": [
              "                     PC1       PC2       PC3       PC4       PC5       PC6  \\\n",
              "age             0.455804  0.097131 -0.473985  0.358455  0.088544  0.187523   \n",
              "workclass       0.156784  0.043009 -0.022209 -0.188804  0.451030 -0.069600   \n",
              "fnlwgt         -0.071984  0.173698  0.493983  0.039761 -0.191638 -0.349363   \n",
              "education       0.152616 -0.726750  0.134664  0.024763 -0.119242 -0.151757   \n",
              "education.num   0.301944 -0.724816  0.224002  0.087819 -0.005522  0.081241   \n",
              "marital.status -0.481369  0.017508  0.425482 -0.297440  0.083165  0.072954   \n",
              "occupation      0.042379  0.010539  0.375631 -0.034190  0.347442  0.734833   \n",
              "relationship   -0.777598 -0.254256 -0.155311  0.099183  0.035971 -0.012459   \n",
              "race            0.242189 -0.046202 -0.223750 -0.621997  0.064647 -0.099315   \n",
              "sex             0.676050  0.338285  0.309012 -0.201341 -0.040219 -0.046619   \n",
              "capital.gain    0.201758 -0.182890  0.119262  0.295896  0.558573 -0.166618   \n",
              "capital.loss    0.173921 -0.091641  0.000414 -0.023941 -0.564118  0.454090   \n",
              "hours.per.week  0.531079 -0.067553  0.149585  0.098598 -0.114143 -0.186047   \n",
              "native.country  0.085107 -0.320383 -0.273434 -0.551802  0.068675  0.026148   \n",
              "\n",
              "                     PC7       PC8       PC9      PC10      PC11      PC12  \\\n",
              "age             0.080439  0.155766 -0.202916 -0.301294  0.004387  0.446117   \n",
              "workclass      -0.774063  0.254305 -0.162736  0.037358 -0.190140 -0.004120   \n",
              "fnlwgt          0.232346  0.565662 -0.372659 -0.040167 -0.185651  0.106364   \n",
              "education      -0.137458 -0.123093 -0.250440 -0.225303  0.117329 -0.088672   \n",
              "education.num  -0.008259 -0.010562 -0.066801 -0.013448  0.076151  0.091792   \n",
              "marital.status -0.115131 -0.119277  0.306701 -0.321888  0.091507  0.499463   \n",
              "occupation      0.202679  0.015213 -0.277049  0.230637 -0.009659 -0.035468   \n",
              "relationship   -0.030121  0.149508  0.009107  0.260784 -0.039159 -0.010325   \n",
              "race            0.161447  0.290361 -0.054904  0.188810  0.576646  0.073859   \n",
              "sex            -0.006427 -0.199403  0.067428 -0.205133 -0.027489 -0.205663   \n",
              "capital.gain    0.236352  0.336168  0.522698 -0.095461  0.049244 -0.141461   \n",
              "capital.loss   -0.247278  0.474962  0.366527 -0.041023 -0.035911 -0.085907   \n",
              "hours.per.week -0.054755 -0.145697  0.204943  0.625828 -0.158333  0.352729   \n",
              "native.country  0.318499  0.017038  0.066916 -0.093123 -0.624149  0.023305   \n",
              "\n",
              "                    PC13      PC14  \n",
              "age             0.072410  0.140452  \n",
              "workclass      -0.033658 -0.013187  \n",
              "fnlwgt         -0.009001 -0.002269  \n",
              "education       0.472672 -0.003665  \n",
              "education.num  -0.544719  0.056824  \n",
              "marital.status  0.054121  0.018771  \n",
              "occupation      0.150041 -0.007129  \n",
              "relationship    0.051433  0.446872  \n",
              "race            0.021267  0.028294  \n",
              "sex            -0.003014  0.399067  \n",
              "capital.gain    0.102186 -0.016472  \n",
              "capital.loss    0.070257 -0.005716  \n",
              "hours.per.week  0.161773  0.012306  \n",
              "native.country  0.020983 -0.008779  "
            ]
          },
          "execution_count": 51,
          "metadata": {},
          "output_type": "execute_result"
        }
      ],
      "source": [
        "loadings_df"
      ]
    },
    {
      "cell_type": "code",
      "execution_count": 52,
      "metadata": {
        "id": "ezgYxes-u6n-"
      },
      "outputs": [
        {
          "data": {
            "image/png": "[encoded data removed]",
            "text/plain": [
              "<Figure size 1600x1000 with 14 Axes>"
            ]
          },
          "metadata": {},
          "output_type": "display_data"
        }
      ],
      "source": [
        "# Etiquetas para el eje x\n",
        "etiquetas = X.columns\n",
        "\n",
        "k = 7\n",
        "n_rows = (loadings_df.shape[0] + 1) // k\n",
        "fig, axes = plt.subplots(nrows=n_rows, ncols=k, figsize=(16, 10), sharey=True)\n",
        "\n",
        "# Graficar las componentes principales\n",
        "for i, (nombre_comp, comp) in enumerate(loadings_df.items()):\n",
        "    row, col = i // k, i % k\n",
        "    ax = axes[row, col]\n",
        "    ax.bar(range(len(etiquetas)), comp, color=['teal', 'red'])\n",
        "    ax.set_xticks(range(len(etiquetas)))\n",
        "    ax.set_xticklabels(etiquetas, rotation=90)\n",
        "    ax.axhline(y=0, color='black', linestyle='--')\n",
        "    ax.set_title(nombre_comp)\n",
        "\n",
        "# Ajustar espaciado y eliminar ejes vacíos\n",
        "plt.subplots_adjust(hspace=0.5, wspace=0.3)\n",
        "for ax in axes.flat[loadings_df.shape[0]:]:\n",
        "    ax.axis('off')\n",
        "\n",
        "plt.show()"
      ]
    },
    {
      "cell_type": "code",
      "execution_count": 54,
      "metadata": {
        "id": "lqXMERspLIha"
      },
      "outputs": [],
      "source": [
        "# Ajustar PCA con una cantidad específica de componentes\n",
        "n_components = 12\n",
        "pca = PCA(n_components=n_components)\n",
        "X_pca_train = pca.fit_transform(X_train)\n",
        "X_pca_test = pca.fit_transform(X_test)\n",
        "feature_names = X.columns\n",
        "# Proporción de varianza explicada\n",
        "explained_variance_ratio = pca.explained_variance_ratio_\n",
        "cumulative_explained_variance = np.cumsum(explained_variance_ratio)\n",
        "\n",
        "# Cargas factoriales\n",
        "loadings = pca.components_.T * np.sqrt(pca.explained_variance_)"
      ]
    },
    {
      "cell_type": "code",
      "execution_count": 57,
      "metadata": {},
      "outputs": [
        {
          "data": {
            "text/plain": [
              "array([[-1.74453448, -1.44372786, -2.16422698, ...,  0.04136948,\n",
              "         0.08763314, -0.49169461],\n",
              "       [ 0.62223658,  0.49117863,  0.13352266, ..., -0.47499948,\n",
              "         0.36967462, -0.38769783],\n",
              "       [-0.64701057, -1.08115659, -0.39157213, ..., -0.60731136,\n",
              "         0.39256223,  1.03646263],\n",
              "       ...,\n",
              "       [-0.81413697,  1.67337571,  0.77139075, ...,  0.98860416,\n",
              "        -1.56954208,  0.04683507],\n",
              "       [ 1.46535949, -0.93546551, -0.39705611, ..., -0.64164019,\n",
              "         0.40521065, -0.0545075 ],\n",
              "       [ 0.9935644 ,  0.36895764, -0.17597071, ..., -0.64144046,\n",
              "         0.05838336, -0.46921897]])"
            ]
          },
          "execution_count": 57,
          "metadata": {},
          "output_type": "execute_result"
        }
      ],
      "source": [
        "X_pca_train"
      ]
    },
    {
      "cell_type": "code",
      "execution_count": 58,
      "metadata": {},
      "outputs": [
        {
          "data": {
            "text/plain": [
              "(22792, 12)"
            ]
          },
          "execution_count": 58,
          "metadata": {},
          "output_type": "execute_result"
        }
      ],
      "source": [
        "X_pca_train.shape"
      ]
    },
    {
      "cell_type": "code",
      "execution_count": 55,
      "metadata": {
        "id": "cLXC-SYDN0mj"
      },
      "outputs": [
        {
          "data": {
            "text/plain": [
              "{'AUC': 0.6777371985087118,\n",
              " 'Gini': 0.35547439701742367,\n",
              " 'F1-score': 0.5128089887640449,\n",
              " 'Recall': 0.4836795252225519}"
            ]
          },
          "execution_count": 55,
          "metadata": {},
          "output_type": "execute_result"
        }
      ],
      "source": [
        "from sklearn.decomposition import PCA\n",
        "from sklearn.linear_model import LogisticRegression\n",
        "\n",
        "# Entrenar un modelo de regresión logística con los datos transformados\n",
        "model = LogisticRegression(random_state=42)\n",
        "model.fit(X_pca_train, y_train)\n",
        "\n",
        "model_2 = calculate_metrics(y_test, model.predict(X_pca_test), threshold=0.5)\n",
        "model_2"
      ]
    },
    {
      "cell_type": "code",
      "execution_count": 60,
      "metadata": {
        "id": "sMBErt1HPdAi"
      },
      "outputs": [
        {
          "data": {
            "text/plain": [
              "{'AUC': 0.6822700439754944,\n",
              " 'Gini': 0.3645400879509888,\n",
              " 'F1-score': 0.5213953488372093,\n",
              " 'Recall': 0.47520135650699447}"
            ]
          },
          "execution_count": 60,
          "metadata": {},
          "output_type": "execute_result"
        }
      ],
      "source": [
        "from sklearn.decomposition import PCA\n",
        "from sklearn.linear_model import LogisticRegression\n",
        "\n",
        "# Ajustar PCA con una cantidad específica de componentes\n",
        "n_components = 10\n",
        "pca = PCA(n_components=n_components)\n",
        "X_pca_train = pca.fit_transform(X_train)\n",
        "X_pca_test = pca.fit_transform(X_test)\n",
        "\n",
        "# Entrenar un modelo de regresión logística con los datos transformados\n",
        "model3 = LogisticRegression(random_state=42)\n",
        "model3.fit(X_pca_train, y_train)\n",
        "\n",
        "model_3 = calculate_metrics(y_test, model3.predict(X_pca_test), threshold=0.5)\n",
        "model_3"
      ]
    },
    {
      "cell_type": "code",
      "execution_count": 61,
      "metadata": {
        "id": "DpV5D4cq2Uwt"
      },
      "outputs": [
        {
          "data": {
            "text/plain": [
              "{'AUC': 0.5617616856567348,\n",
              " 'Gini': 0.12352337131346958,\n",
              " 'F1-score': 0.11351706036745407,\n",
              " 'Recall': 0.07333615938957186}"
            ]
          },
          "execution_count": 61,
          "metadata": {},
          "output_type": "execute_result"
        }
      ],
      "source": [
        "# Ajustar PCA con una cantidad específica de componentes\n",
        "\n",
        "best_alpha, best_l1_ratio = find_best_elasticnet_params(X_train, y_train)\n",
        "logistic_model = train_elasticnet_classifier(X_train, y_train, alpha=best_alpha, l1_ratio=best_l1_ratio)\n",
        "mt_en_1 = calculate_metrics(y_test, logistic_model.predict(X_test), threshold=0.5)\n",
        "mt_en_1"
      ]
    },
    {
      "cell_type": "code",
      "execution_count": 62,
      "metadata": {
        "id": "skwKCxL3KAnC"
      },
      "outputs": [
        {
          "data": {
            "text/plain": [
              "{'AUC': 0.8287956824267929,\n",
              " 'Gini': 0.6575913648535858,\n",
              " 'F1-score': 0.382149591451917,\n",
              " 'Recall': 0.2577363289529462}"
            ]
          },
          "execution_count": 62,
          "metadata": {},
          "output_type": "execute_result"
        }
      ],
      "source": [
        "# Ajustar PCA con una cantidad específica de componentes\n",
        "n_components = 12\n",
        "pca = PCA(n_components=n_components)\n",
        "X_pca_train = pca.fit_transform(X_train)\n",
        "X_pca_test = pca.fit_transform(X_test)\n",
        "\n",
        "best_alpha, best_l1_ratio = find_best_elasticnet_params(X_pca_train, y_train)\n",
        "logistic_model = train_elasticnet_classifier(X_pca_train, y_train, alpha=best_alpha, l1_ratio=best_l1_ratio)\n",
        "mt_en_2 = calculate_metrics(y_test, logistic_model.predict(X_pca_test), threshold=0.5)\n",
        "mt_en_2"
      ]
    },
    {
      "cell_type": "code",
      "execution_count": 63,
      "metadata": {
        "id": "ruavBDRk1zql"
      },
      "outputs": [
        {
          "data": {
            "text/plain": [
              "{'AUC': 0.8256782105915325,\n",
              " 'Gini': 0.6513564211830649,\n",
              " 'F1-score': 0.3705357142857143,\n",
              " 'Recall': 0.24629080118694363}"
            ]
          },
          "execution_count": 63,
          "metadata": {},
          "output_type": "execute_result"
        }
      ],
      "source": [
        "# Ajustar PCA con una cantidad específica de componentes\n",
        "n_components = 10\n",
        "pca = PCA(n_components=n_components)\n",
        "X_pca_train = pca.fit_transform(X_train)\n",
        "X_pca_test = pca.fit_transform(X_test)\n",
        "\n",
        "best_alpha, best_l1_ratio = find_best_elasticnet_params(X_pca_train, y_train)\n",
        "logistic_model = train_elasticnet_classifier(X_pca_train, y_train, alpha=best_alpha, l1_ratio=best_l1_ratio)\n",
        "mt_en_3 = calculate_metrics(y_test, logistic_model.predict(X_pca_test), threshold=0.5)\n",
        "mt_en_3"
      ]
    },
    {
      "cell_type": "code",
      "execution_count": 64,
      "metadata": {
        "id": "LuE08pZA2aHF"
      },
      "outputs": [],
      "source": [
        "resultados = pd.concat([pd.DataFrame([model_1]),\n",
        "           pd.DataFrame([model_2]),\n",
        "           pd.DataFrame([model_3]),\n",
        "           pd.DataFrame([mt_en_1]),\n",
        "           pd.DataFrame([mt_en_2]),\n",
        "           pd.DataFrame([mt_en_3]),],axis=0,).T\n",
        "\n",
        "resultados.columns = ['Logit_o','Logit_12PC','Logit_10PC','EN_o','EN_12PC','EN_10PC']"
      ]
    },
    {
      "cell_type": "code",
      "execution_count": 65,
      "metadata": {
        "id": "-TWC_GTz25Em"
      },
      "outputs": [
        {
          "data": {
            "text/html": [
              "<div>\n",
              "<style scoped>\n",
              "    .dataframe tbody tr th:only-of-type {\n",
              "        vertical-align: middle;\n",
              "    }\n",
              "\n",
              "    .dataframe tbody tr th {\n",
              "        vertical-align: top;\n",
              "    }\n",
              "\n",
              "    .dataframe thead th {\n",
              "        text-align: right;\n",
              "    }\n",
              "</style>\n",
              "<table border=\"1\" class=\"dataframe\">\n",
              "  <thead>\n",
              "    <tr style=\"text-align: right;\">\n",
              "      <th></th>\n",
              "      <th>Logit_o</th>\n",
              "      <th>Logit_12PC</th>\n",
              "      <th>Logit_10PC</th>\n",
              "      <th>EN_o</th>\n",
              "      <th>EN_12PC</th>\n",
              "      <th>EN_10PC</th>\n",
              "    </tr>\n",
              "  </thead>\n",
              "  <tbody>\n",
              "    <tr>\n",
              "      <th>AUC</th>\n",
              "      <td>0.692102</td>\n",
              "      <td>0.677737</td>\n",
              "      <td>0.682270</td>\n",
              "      <td>0.561762</td>\n",
              "      <td>0.828796</td>\n",
              "      <td>0.825678</td>\n",
              "    </tr>\n",
              "    <tr>\n",
              "      <th>Gini</th>\n",
              "      <td>0.384204</td>\n",
              "      <td>0.355474</td>\n",
              "      <td>0.364540</td>\n",
              "      <td>0.123523</td>\n",
              "      <td>0.657591</td>\n",
              "      <td>0.651356</td>\n",
              "    </tr>\n",
              "    <tr>\n",
              "      <th>F1-score</th>\n",
              "      <td>0.544598</td>\n",
              "      <td>0.512809</td>\n",
              "      <td>0.521395</td>\n",
              "      <td>0.113517</td>\n",
              "      <td>0.382150</td>\n",
              "      <td>0.370536</td>\n",
              "    </tr>\n",
              "    <tr>\n",
              "      <th>Recall</th>\n",
              "      <td>0.441289</td>\n",
              "      <td>0.483680</td>\n",
              "      <td>0.475201</td>\n",
              "      <td>0.073336</td>\n",
              "      <td>0.257736</td>\n",
              "      <td>0.246291</td>\n",
              "    </tr>\n",
              "  </tbody>\n",
              "</table>\n",
              "</div>"
            ],
            "text/plain": [
              "           Logit_o  Logit_12PC  Logit_10PC      EN_o   EN_12PC   EN_10PC\n",
              "AUC       0.692102    0.677737    0.682270  0.561762  0.828796  0.825678\n",
              "Gini      0.384204    0.355474    0.364540  0.123523  0.657591  0.651356\n",
              "F1-score  0.544598    0.512809    0.521395  0.113517  0.382150  0.370536\n",
              "Recall    0.441289    0.483680    0.475201  0.073336  0.257736  0.246291"
            ]
          },
          "execution_count": 65,
          "metadata": {},
          "output_type": "execute_result"
        }
      ],
      "source": [
        "resultados"
      ]
    }
  ],
  "metadata": {
    "colab": {
      "provenance": []
    },
    "kernelspec": {
      "display_name": "Python 3",
      "language": "python",
      "name": "python3"
    },
    "language_info": {
      "codemirror_mode": {
        "name": "ipython",
        "version": 3
      },
      "file_extension": ".py",
      "mimetype": "text/x-python",
      "name": "python",
      "nbconvert_exporter": "python",
      "pygments_lexer": "ipython3",
      "version": "3.12.2"
    }
  },
  "nbformat": 4,
  "nbformat_minor": 0
}
