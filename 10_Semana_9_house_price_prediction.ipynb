{
  "cells": [
    {
      "cell_type": "markdown",
      "id": "37af21bb",
      "metadata": {
        "id": "37af21bb",
        "papermill": {
          "duration": 0.043777,
          "end_time": "2022-01-07T14:52:22.488178",
          "exception": false,
          "start_time": "2022-01-07T14:52:22.444401",
          "status": "completed"
        },
        "tags": []
      },
      "source": [
        "<center><h1 style=\"font-size:35px; font-family: 'Times New Roman'; letter-spacing: 0.1em;\">House Price Prediction</h1></center>"
      ]
    },
    {
      "cell_type": "markdown",
      "id": "4bd226b0",
      "metadata": {
        "id": "4bd226b0",
        "papermill": {
          "duration": 0.043134,
          "end_time": "2022-01-07T14:52:22.657180",
          "exception": false,
          "start_time": "2022-01-07T14:52:22.614046",
          "status": "completed"
        },
        "tags": []
      },
      "source": [
        "<h2 style=\"font-family: 'Times New Roman'; letter-spacing: 0.05em;\">About the Dataset</h2>"
      ]
    },
    {
      "cell_type": "markdown",
      "id": "0fac8b69",
      "metadata": {
        "id": "0fac8b69",
        "papermill": {
          "duration": 0.042262,
          "end_time": "2022-01-07T14:52:22.742438",
          "exception": false,
          "start_time": "2022-01-07T14:52:22.700176",
          "status": "completed"
        },
        "tags": []
      },
      "source": [
        "* **SalePrice** - the property's sale price in dollars. This is the target variable that you're trying to predict.\n",
        "* **MSSubClass**: The building class\n",
        "* **MSZoning**: The general zoning classification\n",
        "* **LotFrontage**: Linear feet of street connected to property\n",
        "* **LotArea**: Lot size in square feet\n",
        "* **Street**: Type of road access\n",
        "* **Alley**: Type of alley access\n",
        "* **LotShape**: General shape of property\n",
        "* **LandContour**: Flatness of the property\n",
        "* **Utilities**: Type of utilities available\n",
        "* **LotConfig**: Lot configuration\n",
        "* **LandSlope**: Slope of property\n",
        "* **Neighborhood**: Physical locations within Ames city limits\n",
        "* **Condition1**: Proximity to main road or railroad\n",
        "* **Condition2**: Proximity to main road or railroad (if a second is present)\n",
        "* **BldgType**: Type of dwelling\n",
        "* **HouseStyle**: Style of dwelling\n",
        "* **OverallQual**: Overall material and finish quality\n",
        "* **OverallCond**: Overall condition rating\n",
        "* **YearBuilt**: Original construction date\n",
        "* **YearRemodAdd**: Remodel date\n",
        "* **RoofStyle**: Type of roof\n",
        "* **RoofMatl**: Roof material\n",
        "* **Exterior1st**: Exterior covering on house\n",
        "* **Exterior2nd**: Exterior covering on house (if more than one material)\n",
        "* **MasVnrType**: Masonry veneer type\n",
        "* **MasVnrArea**: Masonry veneer area in square feet\n",
        "* **ExterQual**: Exterior material quality\n",
        "* **ExterCond**: Present condition of the material on the exterior\n",
        "* **Foundation**: Type of foundation\n",
        "* **BsmtQual**: Height of the basement\n",
        "* **BsmtCond**: General condition of the basement\n",
        "* **BsmtExposure**: Walkout or garden level basement walls\n",
        "* **BsmtFinType1**: Quality of basement finished area\n",
        "* **BsmtFinSF1**: Type 1 finished square feet\n",
        "* **BsmtFinType2**: Quality of second finished area (if present)\n",
        "* **BsmtFinSF2**: Type 2 finished square feet\n",
        "* **BsmtUnfSF**: Unfinished square feet of basement area\n",
        "* **TotalBsmtSF**: Total square feet of basement area\n",
        "* **Heating**: Type of heating\n",
        "* **HeatingQC**: Heating quality and condition\n",
        "* **CentralAir**: Central air conditioning\n",
        "* **Electrical**: Electrical system\n",
        "* **1stFlrSF**: First Floor square feet\n",
        "* **2ndFlrSF**: Second floor square feet\n",
        "* **LowQualFinSF**: Low quality finished square feet (all floors)\n",
        "* **GrLivArea**: Above grade (ground) living area square feet\n",
        "* **BsmtFullBath**: Basement full bathrooms\n",
        "* **BsmtHalfBath**: Basement half bathrooms\n",
        "* **FullBath**: Full bathrooms above grade\n",
        "* **HalfBath**: Half baths above grade\n",
        "* **Bedroom**: Number of bedrooms above basement level\n",
        "* **Kitchen**: Number of kitchens\n",
        "* **KitchenQual**: Kitchen quality\n",
        "* **TotRmsAbvGrd**: Total rooms above grade (does not include bathrooms)\n",
        "* **Functional**: Home functionality rating\n",
        "* **Fireplaces**: Number of fireplaces\n",
        "* **FireplaceQu**: Fireplace quality\n",
        "* **GarageType**: Garage location\n",
        "* **GarageYrBlt**: Year garage was built\n",
        "* **GarageFinish**: Interior finish of the garage\n",
        "* **GarageCars**: Size of garage in car capacity\n",
        "* **GarageArea**: Size of garage in square feet\n",
        "* **GarageQual**: Garage quality\n",
        "* **GarageCond**: Garage condition\n",
        "* **PavedDrive**: Paved driveway\n",
        "* **WoodDeckSF**: Wood deck area in square feet\n",
        "* **OpenPorchSF**: Open porch area in square feet\n",
        "* **EnclosedPorch**: Enclosed porch area in square feet\n",
        "* **3SsnPorch**: Three season porch area in square feet\n",
        "* **ScreenPorch**: Screen porch area in square feet\n",
        "* **PoolArea**: Pool area in square feet\n",
        "* **PoolQC**: Pool quality\n",
        "* **Fence**: Fence quality\n",
        "* **MiscFeature**: Miscellaneous feature not covered in other categories\n",
        "* **MiscVal**: Value of miscellaneous feature\n",
        "* **MoSold**: Month Sold\n",
        "* **YrSold**: Year Sold\n",
        "* **SaleType**: Type of sale\n",
        "* **SaleCondition**: Condition of sale"
      ]
    },
    {
      "cell_type": "markdown",
      "id": "6874a7d8",
      "metadata": {
        "id": "6874a7d8",
        "papermill": {
          "duration": 0.042066,
          "end_time": "2022-01-07T14:52:22.827026",
          "exception": false,
          "start_time": "2022-01-07T14:52:22.784960",
          "status": "completed"
        },
        "tags": []
      },
      "source": [
        "<h1 style=\"font-family: 'Times New Roman'; letter-spacing: 0.08em;\">Importing the Essential Libraries, Metrics</h1>"
      ]
    },
    {
      "cell_type": "code",
      "execution_count": 46,
      "id": "5f6d09dc",
      "metadata": {
        "_cell_guid": "b1076dfc-b9ad-4769-8c92-a6c4dae69d19",
        "_uuid": "8f2839f25d086af736a60e9eeb907d3b93b6e0e5",
        "execution": {
          "iopub.execute_input": "2022-01-07T14:52:22.921022Z",
          "iopub.status.busy": "2022-01-07T14:52:22.919688Z",
          "iopub.status.idle": "2022-01-07T14:52:24.469036Z",
          "shell.execute_reply": "2022-01-07T14:52:24.468249Z",
          "shell.execute_reply.started": "2022-01-07T14:42:49.152057Z"
        },
        "id": "5f6d09dc",
        "papermill": {
          "duration": 1.598972,
          "end_time": "2022-01-07T14:52:24.469221",
          "exception": false,
          "start_time": "2022-01-07T14:52:22.870249",
          "status": "completed"
        },
        "tags": []
      },
      "outputs": [],
      "source": [
        "import numpy as np\n",
        "import pandas as pd\n",
        "import seaborn as sns\n",
        "import matplotlib.pyplot as plt\n",
        "import warnings\n",
        "warnings.filterwarnings(\"ignore\")\n",
        "\n",
        "from sklearn.model_selection import train_test_split, cross_val_score\n",
        "from sklearn.preprocessing import StandardScaler\n",
        "from sklearn.metrics import r2_score, mean_absolute_error, mean_squared_error\n",
        "\n",
        "from sklearn.linear_model import LinearRegression\n",
        "from sklearn.linear_model import Ridge\n",
        "from sklearn.linear_model import Lasso\n",
        "from sklearn.linear_model import ElasticNet"
      ]
    },
    {
      "cell_type": "code",
      "execution_count": 47,
      "id": "EjRyRKaChvx9",
      "metadata": {
        "id": "EjRyRKaChvx9"
      },
      "outputs": [],
      "source": [
        "def describe_dataframe(df):\n",
        "  column_descriptions = []\n",
        "\n",
        "  for column in df.columns:\n",
        "      #print(column)\n",
        "      column_info = {}\n",
        "      column_info['variable'] = column\n",
        "\n",
        "      # Calcular el porcentaje de valores nulos\n",
        "      null_percentage = df[column].isnull().mean() * 100\n",
        "      column_info['nulos'] = round(null_percentage, 2)\n",
        "\n",
        "      # Determinar el tipo de variable\n",
        "      unique_values = df[column].nunique()\n",
        "      total_values = len(df[column])\n",
        "      if pd.api.types.is_object_dtype(df[column]): #pd.api.types.is_categorical_dtype(df[column]) or pd.api.types.is_string_dtype(df[column]) or\n",
        "          column_info['tipo'] = 'Categorical'\n",
        "          column_info['etiquetas'] = unique_values\n",
        "      elif pd.api.types.is_numeric_dtype(df[column]):\n",
        "          if unique_values / total_values < 0.1:\n",
        "          # if unique_values < 30:\n",
        "              column_info['tipo'] = 'Discrete'\n",
        "              column_info['etiquetas'] = unique_values\n",
        "          else:\n",
        "              column_info['tipo'] = 'Continuous'\n",
        "              column_info['etiquetas'] = 'N/A'  # No aplicable para variables continuas\n",
        "      else:\n",
        "          column_info['tipo'] = 'Other'\n",
        "          column_info['etiquetas'] = 'N/A'  # No aplicable para otras variables\n",
        "\n",
        "      # Verificar la presencia de outliers (solo para variables numéricas)\n",
        "      if pd.api.types.is_numeric_dtype(df[column]):\n",
        "          q1 = df[column].quantile(0.25)\n",
        "          q3 = df[column].quantile(0.85)\n",
        "          iqr = q3 - q1\n",
        "          lower_bound = q1 - 1.5 * iqr\n",
        "          upper_bound = q3 + 1.5 * iqr\n",
        "          outliers = ((df[column] < lower_bound) | (df[column] > upper_bound)).sum()\n",
        "          column_info['outliers'] = 'Yes' if outliers > 0 else 'No'\n",
        "      else:\n",
        "          column_info['outliers'] = 'N/A'  # No aplicable para variables no numéricas\n",
        "\n",
        "      column_descriptions.append(column_info)\n",
        "\n",
        "  return pd.DataFrame(column_descriptions)"
      ]
    },
    {
      "cell_type": "markdown",
      "id": "e61a9667",
      "metadata": {
        "id": "e61a9667",
        "papermill": {
          "duration": 0.041668,
          "end_time": "2022-01-07T14:52:24.554273",
          "exception": false,
          "start_time": "2022-01-07T14:52:24.512605",
          "status": "completed"
        },
        "tags": []
      },
      "source": [
        "<h1 style=\"font-family: 'Times New Roman'; letter-spacing: 0.08em;\">Loading the Data</h1>"
      ]
    },
    {
      "cell_type": "code",
      "execution_count": 48,
      "id": "4e34fe16",
      "metadata": {
        "execution": {
          "iopub.execute_input": "2022-01-07T14:52:24.644656Z",
          "iopub.status.busy": "2022-01-07T14:52:24.643921Z",
          "iopub.status.idle": "2022-01-07T14:52:24.692936Z",
          "shell.execute_reply": "2022-01-07T14:52:24.693646Z",
          "shell.execute_reply.started": "2022-01-07T14:42:49.186163Z"
        },
        "id": "4e34fe16",
        "papermill": {
          "duration": 0.097778,
          "end_time": "2022-01-07T14:52:24.693909",
          "exception": false,
          "start_time": "2022-01-07T14:52:24.596131",
          "status": "completed"
        },
        "tags": []
      },
      "outputs": [],
      "source": [
        "df = pd.read_csv(r\"G:\\OneDrive - Universidad Tecnologica del Peru\\Estudios\\Cursos\\Analisis de Datos\\Universidad Ricardo Palma\\MATEMÁTICA Y ESTADÍSTICA EN CIENCIA DE DATOS\\codigo\\base de datos\\train.csv\")"
      ]
    },
    {
      "cell_type": "markdown",
      "id": "41fd4bbb",
      "metadata": {
        "id": "41fd4bbb",
        "papermill": {
          "duration": 0.042834,
          "end_time": "2022-01-07T14:52:24.780980",
          "exception": false,
          "start_time": "2022-01-07T14:52:24.738146",
          "status": "completed"
        },
        "tags": []
      },
      "source": [
        "<h1 style=\"font-family: 'Times New Roman'; letter-spacing: 0.08em;\">Exploratory Data Analysis</h1>"
      ]
    },
    {
      "cell_type": "markdown",
      "id": "04a36b0b",
      "metadata": {
        "id": "04a36b0b",
        "papermill": {
          "duration": 0.044086,
          "end_time": "2022-01-07T14:52:24.867536",
          "exception": false,
          "start_time": "2022-01-07T14:52:24.823450",
          "status": "completed"
        },
        "tags": []
      },
      "source": [
        "***Taking a look at the first 5 rows of the dataset***"
      ]
    },
    {
      "cell_type": "code",
      "execution_count": 49,
      "id": "2414310c",
      "metadata": {
        "execution": {
          "iopub.execute_input": "2022-01-07T14:52:24.956756Z",
          "iopub.status.busy": "2022-01-07T14:52:24.956054Z",
          "iopub.status.idle": "2022-01-07T14:52:24.997619Z",
          "shell.execute_reply": "2022-01-07T14:52:24.998140Z",
          "shell.execute_reply.started": "2022-01-07T14:42:49.217104Z"
        },
        "id": "2414310c",
        "papermill": {
          "duration": 0.087441,
          "end_time": "2022-01-07T14:52:24.998345",
          "exception": false,
          "start_time": "2022-01-07T14:52:24.910904",
          "status": "completed"
        },
        "tags": []
      },
      "outputs": [
        {
          "data": {
            "text/html": [
              "<div>\n",
              "<style scoped>\n",
              "    .dataframe tbody tr th:only-of-type {\n",
              "        vertical-align: middle;\n",
              "    }\n",
              "\n",
              "    .dataframe tbody tr th {\n",
              "        vertical-align: top;\n",
              "    }\n",
              "\n",
              "    .dataframe thead th {\n",
              "        text-align: right;\n",
              "    }\n",
              "</style>\n",
              "<table border=\"1\" class=\"dataframe\">\n",
              "  <thead>\n",
              "    <tr style=\"text-align: right;\">\n",
              "      <th></th>\n",
              "      <th>Id</th>\n",
              "      <th>MSSubClass</th>\n",
              "      <th>MSZoning</th>\n",
              "      <th>LotFrontage</th>\n",
              "      <th>LotArea</th>\n",
              "      <th>Street</th>\n",
              "      <th>Alley</th>\n",
              "      <th>LotShape</th>\n",
              "      <th>LandContour</th>\n",
              "      <th>Utilities</th>\n",
              "      <th>...</th>\n",
              "      <th>PoolArea</th>\n",
              "      <th>PoolQC</th>\n",
              "      <th>Fence</th>\n",
              "      <th>MiscFeature</th>\n",
              "      <th>MiscVal</th>\n",
              "      <th>MoSold</th>\n",
              "      <th>YrSold</th>\n",
              "      <th>SaleType</th>\n",
              "      <th>SaleCondition</th>\n",
              "      <th>SalePrice</th>\n",
              "    </tr>\n",
              "  </thead>\n",
              "  <tbody>\n",
              "    <tr>\n",
              "      <th>0</th>\n",
              "      <td>1</td>\n",
              "      <td>60</td>\n",
              "      <td>RL</td>\n",
              "      <td>65.0</td>\n",
              "      <td>8450</td>\n",
              "      <td>Pave</td>\n",
              "      <td>NaN</td>\n",
              "      <td>Reg</td>\n",
              "      <td>Lvl</td>\n",
              "      <td>AllPub</td>\n",
              "      <td>...</td>\n",
              "      <td>0</td>\n",
              "      <td>NaN</td>\n",
              "      <td>NaN</td>\n",
              "      <td>NaN</td>\n",
              "      <td>0</td>\n",
              "      <td>2</td>\n",
              "      <td>2008</td>\n",
              "      <td>WD</td>\n",
              "      <td>Normal</td>\n",
              "      <td>208500</td>\n",
              "    </tr>\n",
              "    <tr>\n",
              "      <th>1</th>\n",
              "      <td>2</td>\n",
              "      <td>20</td>\n",
              "      <td>RL</td>\n",
              "      <td>80.0</td>\n",
              "      <td>9600</td>\n",
              "      <td>Pave</td>\n",
              "      <td>NaN</td>\n",
              "      <td>Reg</td>\n",
              "      <td>Lvl</td>\n",
              "      <td>AllPub</td>\n",
              "      <td>...</td>\n",
              "      <td>0</td>\n",
              "      <td>NaN</td>\n",
              "      <td>NaN</td>\n",
              "      <td>NaN</td>\n",
              "      <td>0</td>\n",
              "      <td>5</td>\n",
              "      <td>2007</td>\n",
              "      <td>WD</td>\n",
              "      <td>Normal</td>\n",
              "      <td>181500</td>\n",
              "    </tr>\n",
              "    <tr>\n",
              "      <th>2</th>\n",
              "      <td>3</td>\n",
              "      <td>60</td>\n",
              "      <td>RL</td>\n",
              "      <td>68.0</td>\n",
              "      <td>11250</td>\n",
              "      <td>Pave</td>\n",
              "      <td>NaN</td>\n",
              "      <td>IR1</td>\n",
              "      <td>Lvl</td>\n",
              "      <td>AllPub</td>\n",
              "      <td>...</td>\n",
              "      <td>0</td>\n",
              "      <td>NaN</td>\n",
              "      <td>NaN</td>\n",
              "      <td>NaN</td>\n",
              "      <td>0</td>\n",
              "      <td>9</td>\n",
              "      <td>2008</td>\n",
              "      <td>WD</td>\n",
              "      <td>Normal</td>\n",
              "      <td>223500</td>\n",
              "    </tr>\n",
              "    <tr>\n",
              "      <th>3</th>\n",
              "      <td>4</td>\n",
              "      <td>70</td>\n",
              "      <td>RL</td>\n",
              "      <td>60.0</td>\n",
              "      <td>9550</td>\n",
              "      <td>Pave</td>\n",
              "      <td>NaN</td>\n",
              "      <td>IR1</td>\n",
              "      <td>Lvl</td>\n",
              "      <td>AllPub</td>\n",
              "      <td>...</td>\n",
              "      <td>0</td>\n",
              "      <td>NaN</td>\n",
              "      <td>NaN</td>\n",
              "      <td>NaN</td>\n",
              "      <td>0</td>\n",
              "      <td>2</td>\n",
              "      <td>2006</td>\n",
              "      <td>WD</td>\n",
              "      <td>Abnorml</td>\n",
              "      <td>140000</td>\n",
              "    </tr>\n",
              "    <tr>\n",
              "      <th>4</th>\n",
              "      <td>5</td>\n",
              "      <td>60</td>\n",
              "      <td>RL</td>\n",
              "      <td>84.0</td>\n",
              "      <td>14260</td>\n",
              "      <td>Pave</td>\n",
              "      <td>NaN</td>\n",
              "      <td>IR1</td>\n",
              "      <td>Lvl</td>\n",
              "      <td>AllPub</td>\n",
              "      <td>...</td>\n",
              "      <td>0</td>\n",
              "      <td>NaN</td>\n",
              "      <td>NaN</td>\n",
              "      <td>NaN</td>\n",
              "      <td>0</td>\n",
              "      <td>12</td>\n",
              "      <td>2008</td>\n",
              "      <td>WD</td>\n",
              "      <td>Normal</td>\n",
              "      <td>250000</td>\n",
              "    </tr>\n",
              "  </tbody>\n",
              "</table>\n",
              "<p>5 rows × 81 columns</p>\n",
              "</div>"
            ],
            "text/plain": [
              "   Id  MSSubClass MSZoning  LotFrontage  LotArea Street Alley LotShape  \\\n",
              "0   1          60       RL         65.0     8450   Pave   NaN      Reg   \n",
              "1   2          20       RL         80.0     9600   Pave   NaN      Reg   \n",
              "2   3          60       RL         68.0    11250   Pave   NaN      IR1   \n",
              "3   4          70       RL         60.0     9550   Pave   NaN      IR1   \n",
              "4   5          60       RL         84.0    14260   Pave   NaN      IR1   \n",
              "\n",
              "  LandContour Utilities  ... PoolArea PoolQC Fence MiscFeature MiscVal MoSold  \\\n",
              "0         Lvl    AllPub  ...        0    NaN   NaN         NaN       0      2   \n",
              "1         Lvl    AllPub  ...        0    NaN   NaN         NaN       0      5   \n",
              "2         Lvl    AllPub  ...        0    NaN   NaN         NaN       0      9   \n",
              "3         Lvl    AllPub  ...        0    NaN   NaN         NaN       0      2   \n",
              "4         Lvl    AllPub  ...        0    NaN   NaN         NaN       0     12   \n",
              "\n",
              "  YrSold  SaleType  SaleCondition  SalePrice  \n",
              "0   2008        WD         Normal     208500  \n",
              "1   2007        WD         Normal     181500  \n",
              "2   2008        WD         Normal     223500  \n",
              "3   2006        WD        Abnorml     140000  \n",
              "4   2008        WD         Normal     250000  \n",
              "\n",
              "[5 rows x 81 columns]"
            ]
          },
          "execution_count": 49,
          "metadata": {},
          "output_type": "execute_result"
        }
      ],
      "source": [
        "df.head()"
      ]
    },
    {
      "cell_type": "markdown",
      "id": "516c7384",
      "metadata": {
        "id": "516c7384",
        "papermill": {
          "duration": 0.042852,
          "end_time": "2022-01-07T14:52:25.085983",
          "exception": false,
          "start_time": "2022-01-07T14:52:25.043131",
          "status": "completed"
        },
        "tags": []
      },
      "source": [
        "***Checking the shape—i.e. size—of the data***"
      ]
    },
    {
      "cell_type": "code",
      "execution_count": 50,
      "id": "3a4390d8",
      "metadata": {
        "execution": {
          "iopub.execute_input": "2022-01-07T14:52:25.178355Z",
          "iopub.status.busy": "2022-01-07T14:52:25.177500Z",
          "iopub.status.idle": "2022-01-07T14:52:25.180836Z",
          "shell.execute_reply": "2022-01-07T14:52:25.181359Z",
          "shell.execute_reply.started": "2022-01-07T14:42:49.245170Z"
        },
        "id": "3a4390d8",
        "papermill": {
          "duration": 0.052437,
          "end_time": "2022-01-07T14:52:25.181575",
          "exception": false,
          "start_time": "2022-01-07T14:52:25.129138",
          "status": "completed"
        },
        "tags": []
      },
      "outputs": [
        {
          "data": {
            "text/plain": [
              "(1460, 81)"
            ]
          },
          "execution_count": 50,
          "metadata": {},
          "output_type": "execute_result"
        }
      ],
      "source": [
        "df.shape"
      ]
    },
    {
      "cell_type": "markdown",
      "id": "70695842",
      "metadata": {
        "id": "70695842",
        "papermill": {
          "duration": 0.043403,
          "end_time": "2022-01-07T14:52:25.268687",
          "exception": false,
          "start_time": "2022-01-07T14:52:25.225284",
          "status": "completed"
        },
        "tags": []
      },
      "source": [
        "***Learning the dtypes of columns' and how many non-null values are there in those columns***"
      ]
    },
    {
      "cell_type": "code",
      "execution_count": 51,
      "id": "7b32ae31",
      "metadata": {
        "execution": {
          "iopub.execute_input": "2022-01-07T14:52:25.359665Z",
          "iopub.status.busy": "2022-01-07T14:52:25.358920Z",
          "iopub.status.idle": "2022-01-07T14:52:25.395846Z",
          "shell.execute_reply": "2022-01-07T14:52:25.396415Z",
          "shell.execute_reply.started": "2022-01-07T14:42:49.261264Z"
        },
        "id": "7b32ae31",
        "papermill": {
          "duration": 0.084564,
          "end_time": "2022-01-07T14:52:25.396651",
          "exception": false,
          "start_time": "2022-01-07T14:52:25.312087",
          "status": "completed"
        },
        "tags": []
      },
      "outputs": [
        {
          "name": "stdout",
          "output_type": "stream",
          "text": [
            "<class 'pandas.core.frame.DataFrame'>\n",
            "RangeIndex: 1460 entries, 0 to 1459\n",
            "Data columns (total 81 columns):\n",
            " #   Column         Non-Null Count  Dtype  \n",
            "---  ------         --------------  -----  \n",
            " 0   Id             1460 non-null   int64  \n",
            " 1   MSSubClass     1460 non-null   int64  \n",
            " 2   MSZoning       1460 non-null   object \n",
            " 3   LotFrontage    1201 non-null   float64\n",
            " 4   LotArea        1460 non-null   int64  \n",
            " 5   Street         1460 non-null   object \n",
            " 6   Alley          91 non-null     object \n",
            " 7   LotShape       1460 non-null   object \n",
            " 8   LandContour    1460 non-null   object \n",
            " 9   Utilities      1460 non-null   object \n",
            " 10  LotConfig      1460 non-null   object \n",
            " 11  LandSlope      1460 non-null   object \n",
            " 12  Neighborhood   1460 non-null   object \n",
            " 13  Condition1     1460 non-null   object \n",
            " 14  Condition2     1460 non-null   object \n",
            " 15  BldgType       1460 non-null   object \n",
            " 16  HouseStyle     1460 non-null   object \n",
            " 17  OverallQual    1460 non-null   int64  \n",
            " 18  OverallCond    1460 non-null   int64  \n",
            " 19  YearBuilt      1460 non-null   int64  \n",
            " 20  YearRemodAdd   1460 non-null   int64  \n",
            " 21  RoofStyle      1460 non-null   object \n",
            " 22  RoofMatl       1460 non-null   object \n",
            " 23  Exterior1st    1460 non-null   object \n",
            " 24  Exterior2nd    1460 non-null   object \n",
            " 25  MasVnrType     588 non-null    object \n",
            " 26  MasVnrArea     1452 non-null   float64\n",
            " 27  ExterQual      1460 non-null   object \n",
            " 28  ExterCond      1460 non-null   object \n",
            " 29  Foundation     1460 non-null   object \n",
            " 30  BsmtQual       1423 non-null   object \n",
            " 31  BsmtCond       1423 non-null   object \n",
            " 32  BsmtExposure   1422 non-null   object \n",
            " 33  BsmtFinType1   1423 non-null   object \n",
            " 34  BsmtFinSF1     1460 non-null   int64  \n",
            " 35  BsmtFinType2   1422 non-null   object \n",
            " 36  BsmtFinSF2     1460 non-null   int64  \n",
            " 37  BsmtUnfSF      1460 non-null   int64  \n",
            " 38  TotalBsmtSF    1460 non-null   int64  \n",
            " 39  Heating        1460 non-null   object \n",
            " 40  HeatingQC      1460 non-null   object \n",
            " 41  CentralAir     1460 non-null   object \n",
            " 42  Electrical     1459 non-null   object \n",
            " 43  1stFlrSF       1460 non-null   int64  \n",
            " 44  2ndFlrSF       1460 non-null   int64  \n",
            " 45  LowQualFinSF   1460 non-null   int64  \n",
            " 46  GrLivArea      1460 non-null   int64  \n",
            " 47  BsmtFullBath   1460 non-null   int64  \n",
            " 48  BsmtHalfBath   1460 non-null   int64  \n",
            " 49  FullBath       1460 non-null   int64  \n",
            " 50  HalfBath       1460 non-null   int64  \n",
            " 51  BedroomAbvGr   1460 non-null   int64  \n",
            " 52  KitchenAbvGr   1460 non-null   int64  \n",
            " 53  KitchenQual    1460 non-null   object \n",
            " 54  TotRmsAbvGrd   1460 non-null   int64  \n",
            " 55  Functional     1460 non-null   object \n",
            " 56  Fireplaces     1460 non-null   int64  \n",
            " 57  FireplaceQu    770 non-null    object \n",
            " 58  GarageType     1379 non-null   object \n",
            " 59  GarageYrBlt    1379 non-null   float64\n",
            " 60  GarageFinish   1379 non-null   object \n",
            " 61  GarageCars     1460 non-null   int64  \n",
            " 62  GarageArea     1460 non-null   int64  \n",
            " 63  GarageQual     1379 non-null   object \n",
            " 64  GarageCond     1379 non-null   object \n",
            " 65  PavedDrive     1460 non-null   object \n",
            " 66  WoodDeckSF     1460 non-null   int64  \n",
            " 67  OpenPorchSF    1460 non-null   int64  \n",
            " 68  EnclosedPorch  1460 non-null   int64  \n",
            " 69  3SsnPorch      1460 non-null   int64  \n",
            " 70  ScreenPorch    1460 non-null   int64  \n",
            " 71  PoolArea       1460 non-null   int64  \n",
            " 72  PoolQC         7 non-null      object \n",
            " 73  Fence          281 non-null    object \n",
            " 74  MiscFeature    54 non-null     object \n",
            " 75  MiscVal        1460 non-null   int64  \n",
            " 76  MoSold         1460 non-null   int64  \n",
            " 77  YrSold         1460 non-null   int64  \n",
            " 78  SaleType       1460 non-null   object \n",
            " 79  SaleCondition  1460 non-null   object \n",
            " 80  SalePrice      1460 non-null   int64  \n",
            "dtypes: float64(3), int64(35), object(43)\n",
            "memory usage: 924.0+ KB\n"
          ]
        }
      ],
      "source": [
        "df.info()"
      ]
    },
    {
      "cell_type": "markdown",
      "id": "236aa98a",
      "metadata": {
        "id": "236aa98a",
        "papermill": {
          "duration": 0.043514,
          "end_time": "2022-01-07T14:52:25.483769",
          "exception": false,
          "start_time": "2022-01-07T14:52:25.440255",
          "status": "completed"
        },
        "tags": []
      },
      "source": [
        "***Getting the statistical summary of dataset***"
      ]
    },
    {
      "cell_type": "code",
      "execution_count": 52,
      "id": "e9c60632",
      "metadata": {
        "execution": {
          "iopub.execute_input": "2022-01-07T14:52:25.576394Z",
          "iopub.status.busy": "2022-01-07T14:52:25.575750Z",
          "iopub.status.idle": "2022-01-07T14:52:25.683342Z",
          "shell.execute_reply": "2022-01-07T14:52:25.683858Z",
          "shell.execute_reply.started": "2022-01-07T14:42:49.293081Z"
        },
        "id": "e9c60632",
        "papermill": {
          "duration": 0.155369,
          "end_time": "2022-01-07T14:52:25.684061",
          "exception": false,
          "start_time": "2022-01-07T14:52:25.528692",
          "status": "completed"
        },
        "tags": []
      },
      "outputs": [
        {
          "data": {
            "text/html": [
              "<div>\n",
              "<style scoped>\n",
              "    .dataframe tbody tr th:only-of-type {\n",
              "        vertical-align: middle;\n",
              "    }\n",
              "\n",
              "    .dataframe tbody tr th {\n",
              "        vertical-align: top;\n",
              "    }\n",
              "\n",
              "    .dataframe thead th {\n",
              "        text-align: right;\n",
              "    }\n",
              "</style>\n",
              "<table border=\"1\" class=\"dataframe\">\n",
              "  <thead>\n",
              "    <tr style=\"text-align: right;\">\n",
              "      <th></th>\n",
              "      <th>count</th>\n",
              "      <th>mean</th>\n",
              "      <th>std</th>\n",
              "      <th>min</th>\n",
              "      <th>25%</th>\n",
              "      <th>50%</th>\n",
              "      <th>75%</th>\n",
              "      <th>max</th>\n",
              "    </tr>\n",
              "  </thead>\n",
              "  <tbody>\n",
              "    <tr>\n",
              "      <th>Id</th>\n",
              "      <td>1460.0</td>\n",
              "      <td>730.500000</td>\n",
              "      <td>421.610009</td>\n",
              "      <td>1.0</td>\n",
              "      <td>365.75</td>\n",
              "      <td>730.5</td>\n",
              "      <td>1095.25</td>\n",
              "      <td>1460.0</td>\n",
              "    </tr>\n",
              "    <tr>\n",
              "      <th>MSSubClass</th>\n",
              "      <td>1460.0</td>\n",
              "      <td>56.897260</td>\n",
              "      <td>42.300571</td>\n",
              "      <td>20.0</td>\n",
              "      <td>20.00</td>\n",
              "      <td>50.0</td>\n",
              "      <td>70.00</td>\n",
              "      <td>190.0</td>\n",
              "    </tr>\n",
              "    <tr>\n",
              "      <th>LotFrontage</th>\n",
              "      <td>1201.0</td>\n",
              "      <td>70.049958</td>\n",
              "      <td>24.284752</td>\n",
              "      <td>21.0</td>\n",
              "      <td>59.00</td>\n",
              "      <td>69.0</td>\n",
              "      <td>80.00</td>\n",
              "      <td>313.0</td>\n",
              "    </tr>\n",
              "    <tr>\n",
              "      <th>LotArea</th>\n",
              "      <td>1460.0</td>\n",
              "      <td>10516.828082</td>\n",
              "      <td>9981.264932</td>\n",
              "      <td>1300.0</td>\n",
              "      <td>7553.50</td>\n",
              "      <td>9478.5</td>\n",
              "      <td>11601.50</td>\n",
              "      <td>215245.0</td>\n",
              "    </tr>\n",
              "    <tr>\n",
              "      <th>OverallQual</th>\n",
              "      <td>1460.0</td>\n",
              "      <td>6.099315</td>\n",
              "      <td>1.382997</td>\n",
              "      <td>1.0</td>\n",
              "      <td>5.00</td>\n",
              "      <td>6.0</td>\n",
              "      <td>7.00</td>\n",
              "      <td>10.0</td>\n",
              "    </tr>\n",
              "    <tr>\n",
              "      <th>OverallCond</th>\n",
              "      <td>1460.0</td>\n",
              "      <td>5.575342</td>\n",
              "      <td>1.112799</td>\n",
              "      <td>1.0</td>\n",
              "      <td>5.00</td>\n",
              "      <td>5.0</td>\n",
              "      <td>6.00</td>\n",
              "      <td>9.0</td>\n",
              "    </tr>\n",
              "    <tr>\n",
              "      <th>YearBuilt</th>\n",
              "      <td>1460.0</td>\n",
              "      <td>1971.267808</td>\n",
              "      <td>30.202904</td>\n",
              "      <td>1872.0</td>\n",
              "      <td>1954.00</td>\n",
              "      <td>1973.0</td>\n",
              "      <td>2000.00</td>\n",
              "      <td>2010.0</td>\n",
              "    </tr>\n",
              "    <tr>\n",
              "      <th>YearRemodAdd</th>\n",
              "      <td>1460.0</td>\n",
              "      <td>1984.865753</td>\n",
              "      <td>20.645407</td>\n",
              "      <td>1950.0</td>\n",
              "      <td>1967.00</td>\n",
              "      <td>1994.0</td>\n",
              "      <td>2004.00</td>\n",
              "      <td>2010.0</td>\n",
              "    </tr>\n",
              "    <tr>\n",
              "      <th>MasVnrArea</th>\n",
              "      <td>1452.0</td>\n",
              "      <td>103.685262</td>\n",
              "      <td>181.066207</td>\n",
              "      <td>0.0</td>\n",
              "      <td>0.00</td>\n",
              "      <td>0.0</td>\n",
              "      <td>166.00</td>\n",
              "      <td>1600.0</td>\n",
              "    </tr>\n",
              "    <tr>\n",
              "      <th>BsmtFinSF1</th>\n",
              "      <td>1460.0</td>\n",
              "      <td>443.639726</td>\n",
              "      <td>456.098091</td>\n",
              "      <td>0.0</td>\n",
              "      <td>0.00</td>\n",
              "      <td>383.5</td>\n",
              "      <td>712.25</td>\n",
              "      <td>5644.0</td>\n",
              "    </tr>\n",
              "    <tr>\n",
              "      <th>BsmtFinSF2</th>\n",
              "      <td>1460.0</td>\n",
              "      <td>46.549315</td>\n",
              "      <td>161.319273</td>\n",
              "      <td>0.0</td>\n",
              "      <td>0.00</td>\n",
              "      <td>0.0</td>\n",
              "      <td>0.00</td>\n",
              "      <td>1474.0</td>\n",
              "    </tr>\n",
              "    <tr>\n",
              "      <th>BsmtUnfSF</th>\n",
              "      <td>1460.0</td>\n",
              "      <td>567.240411</td>\n",
              "      <td>441.866955</td>\n",
              "      <td>0.0</td>\n",
              "      <td>223.00</td>\n",
              "      <td>477.5</td>\n",
              "      <td>808.00</td>\n",
              "      <td>2336.0</td>\n",
              "    </tr>\n",
              "    <tr>\n",
              "      <th>TotalBsmtSF</th>\n",
              "      <td>1460.0</td>\n",
              "      <td>1057.429452</td>\n",
              "      <td>438.705324</td>\n",
              "      <td>0.0</td>\n",
              "      <td>795.75</td>\n",
              "      <td>991.5</td>\n",
              "      <td>1298.25</td>\n",
              "      <td>6110.0</td>\n",
              "    </tr>\n",
              "    <tr>\n",
              "      <th>1stFlrSF</th>\n",
              "      <td>1460.0</td>\n",
              "      <td>1162.626712</td>\n",
              "      <td>386.587738</td>\n",
              "      <td>334.0</td>\n",
              "      <td>882.00</td>\n",
              "      <td>1087.0</td>\n",
              "      <td>1391.25</td>\n",
              "      <td>4692.0</td>\n",
              "    </tr>\n",
              "    <tr>\n",
              "      <th>2ndFlrSF</th>\n",
              "      <td>1460.0</td>\n",
              "      <td>346.992466</td>\n",
              "      <td>436.528436</td>\n",
              "      <td>0.0</td>\n",
              "      <td>0.00</td>\n",
              "      <td>0.0</td>\n",
              "      <td>728.00</td>\n",
              "      <td>2065.0</td>\n",
              "    </tr>\n",
              "    <tr>\n",
              "      <th>LowQualFinSF</th>\n",
              "      <td>1460.0</td>\n",
              "      <td>5.844521</td>\n",
              "      <td>48.623081</td>\n",
              "      <td>0.0</td>\n",
              "      <td>0.00</td>\n",
              "      <td>0.0</td>\n",
              "      <td>0.00</td>\n",
              "      <td>572.0</td>\n",
              "    </tr>\n",
              "    <tr>\n",
              "      <th>GrLivArea</th>\n",
              "      <td>1460.0</td>\n",
              "      <td>1515.463699</td>\n",
              "      <td>525.480383</td>\n",
              "      <td>334.0</td>\n",
              "      <td>1129.50</td>\n",
              "      <td>1464.0</td>\n",
              "      <td>1776.75</td>\n",
              "      <td>5642.0</td>\n",
              "    </tr>\n",
              "    <tr>\n",
              "      <th>BsmtFullBath</th>\n",
              "      <td>1460.0</td>\n",
              "      <td>0.425342</td>\n",
              "      <td>0.518911</td>\n",
              "      <td>0.0</td>\n",
              "      <td>0.00</td>\n",
              "      <td>0.0</td>\n",
              "      <td>1.00</td>\n",
              "      <td>3.0</td>\n",
              "    </tr>\n",
              "    <tr>\n",
              "      <th>BsmtHalfBath</th>\n",
              "      <td>1460.0</td>\n",
              "      <td>0.057534</td>\n",
              "      <td>0.238753</td>\n",
              "      <td>0.0</td>\n",
              "      <td>0.00</td>\n",
              "      <td>0.0</td>\n",
              "      <td>0.00</td>\n",
              "      <td>2.0</td>\n",
              "    </tr>\n",
              "    <tr>\n",
              "      <th>FullBath</th>\n",
              "      <td>1460.0</td>\n",
              "      <td>1.565068</td>\n",
              "      <td>0.550916</td>\n",
              "      <td>0.0</td>\n",
              "      <td>1.00</td>\n",
              "      <td>2.0</td>\n",
              "      <td>2.00</td>\n",
              "      <td>3.0</td>\n",
              "    </tr>\n",
              "    <tr>\n",
              "      <th>HalfBath</th>\n",
              "      <td>1460.0</td>\n",
              "      <td>0.382877</td>\n",
              "      <td>0.502885</td>\n",
              "      <td>0.0</td>\n",
              "      <td>0.00</td>\n",
              "      <td>0.0</td>\n",
              "      <td>1.00</td>\n",
              "      <td>2.0</td>\n",
              "    </tr>\n",
              "    <tr>\n",
              "      <th>BedroomAbvGr</th>\n",
              "      <td>1460.0</td>\n",
              "      <td>2.866438</td>\n",
              "      <td>0.815778</td>\n",
              "      <td>0.0</td>\n",
              "      <td>2.00</td>\n",
              "      <td>3.0</td>\n",
              "      <td>3.00</td>\n",
              "      <td>8.0</td>\n",
              "    </tr>\n",
              "    <tr>\n",
              "      <th>KitchenAbvGr</th>\n",
              "      <td>1460.0</td>\n",
              "      <td>1.046575</td>\n",
              "      <td>0.220338</td>\n",
              "      <td>0.0</td>\n",
              "      <td>1.00</td>\n",
              "      <td>1.0</td>\n",
              "      <td>1.00</td>\n",
              "      <td>3.0</td>\n",
              "    </tr>\n",
              "    <tr>\n",
              "      <th>TotRmsAbvGrd</th>\n",
              "      <td>1460.0</td>\n",
              "      <td>6.517808</td>\n",
              "      <td>1.625393</td>\n",
              "      <td>2.0</td>\n",
              "      <td>5.00</td>\n",
              "      <td>6.0</td>\n",
              "      <td>7.00</td>\n",
              "      <td>14.0</td>\n",
              "    </tr>\n",
              "    <tr>\n",
              "      <th>Fireplaces</th>\n",
              "      <td>1460.0</td>\n",
              "      <td>0.613014</td>\n",
              "      <td>0.644666</td>\n",
              "      <td>0.0</td>\n",
              "      <td>0.00</td>\n",
              "      <td>1.0</td>\n",
              "      <td>1.00</td>\n",
              "      <td>3.0</td>\n",
              "    </tr>\n",
              "    <tr>\n",
              "      <th>GarageYrBlt</th>\n",
              "      <td>1379.0</td>\n",
              "      <td>1978.506164</td>\n",
              "      <td>24.689725</td>\n",
              "      <td>1900.0</td>\n",
              "      <td>1961.00</td>\n",
              "      <td>1980.0</td>\n",
              "      <td>2002.00</td>\n",
              "      <td>2010.0</td>\n",
              "    </tr>\n",
              "    <tr>\n",
              "      <th>GarageCars</th>\n",
              "      <td>1460.0</td>\n",
              "      <td>1.767123</td>\n",
              "      <td>0.747315</td>\n",
              "      <td>0.0</td>\n",
              "      <td>1.00</td>\n",
              "      <td>2.0</td>\n",
              "      <td>2.00</td>\n",
              "      <td>4.0</td>\n",
              "    </tr>\n",
              "    <tr>\n",
              "      <th>GarageArea</th>\n",
              "      <td>1460.0</td>\n",
              "      <td>472.980137</td>\n",
              "      <td>213.804841</td>\n",
              "      <td>0.0</td>\n",
              "      <td>334.50</td>\n",
              "      <td>480.0</td>\n",
              "      <td>576.00</td>\n",
              "      <td>1418.0</td>\n",
              "    </tr>\n",
              "    <tr>\n",
              "      <th>WoodDeckSF</th>\n",
              "      <td>1460.0</td>\n",
              "      <td>94.244521</td>\n",
              "      <td>125.338794</td>\n",
              "      <td>0.0</td>\n",
              "      <td>0.00</td>\n",
              "      <td>0.0</td>\n",
              "      <td>168.00</td>\n",
              "      <td>857.0</td>\n",
              "    </tr>\n",
              "    <tr>\n",
              "      <th>OpenPorchSF</th>\n",
              "      <td>1460.0</td>\n",
              "      <td>46.660274</td>\n",
              "      <td>66.256028</td>\n",
              "      <td>0.0</td>\n",
              "      <td>0.00</td>\n",
              "      <td>25.0</td>\n",
              "      <td>68.00</td>\n",
              "      <td>547.0</td>\n",
              "    </tr>\n",
              "    <tr>\n",
              "      <th>EnclosedPorch</th>\n",
              "      <td>1460.0</td>\n",
              "      <td>21.954110</td>\n",
              "      <td>61.119149</td>\n",
              "      <td>0.0</td>\n",
              "      <td>0.00</td>\n",
              "      <td>0.0</td>\n",
              "      <td>0.00</td>\n",
              "      <td>552.0</td>\n",
              "    </tr>\n",
              "    <tr>\n",
              "      <th>3SsnPorch</th>\n",
              "      <td>1460.0</td>\n",
              "      <td>3.409589</td>\n",
              "      <td>29.317331</td>\n",
              "      <td>0.0</td>\n",
              "      <td>0.00</td>\n",
              "      <td>0.0</td>\n",
              "      <td>0.00</td>\n",
              "      <td>508.0</td>\n",
              "    </tr>\n",
              "    <tr>\n",
              "      <th>ScreenPorch</th>\n",
              "      <td>1460.0</td>\n",
              "      <td>15.060959</td>\n",
              "      <td>55.757415</td>\n",
              "      <td>0.0</td>\n",
              "      <td>0.00</td>\n",
              "      <td>0.0</td>\n",
              "      <td>0.00</td>\n",
              "      <td>480.0</td>\n",
              "    </tr>\n",
              "    <tr>\n",
              "      <th>PoolArea</th>\n",
              "      <td>1460.0</td>\n",
              "      <td>2.758904</td>\n",
              "      <td>40.177307</td>\n",
              "      <td>0.0</td>\n",
              "      <td>0.00</td>\n",
              "      <td>0.0</td>\n",
              "      <td>0.00</td>\n",
              "      <td>738.0</td>\n",
              "    </tr>\n",
              "    <tr>\n",
              "      <th>MiscVal</th>\n",
              "      <td>1460.0</td>\n",
              "      <td>43.489041</td>\n",
              "      <td>496.123024</td>\n",
              "      <td>0.0</td>\n",
              "      <td>0.00</td>\n",
              "      <td>0.0</td>\n",
              "      <td>0.00</td>\n",
              "      <td>15500.0</td>\n",
              "    </tr>\n",
              "    <tr>\n",
              "      <th>MoSold</th>\n",
              "      <td>1460.0</td>\n",
              "      <td>6.321918</td>\n",
              "      <td>2.703626</td>\n",
              "      <td>1.0</td>\n",
              "      <td>5.00</td>\n",
              "      <td>6.0</td>\n",
              "      <td>8.00</td>\n",
              "      <td>12.0</td>\n",
              "    </tr>\n",
              "    <tr>\n",
              "      <th>YrSold</th>\n",
              "      <td>1460.0</td>\n",
              "      <td>2007.815753</td>\n",
              "      <td>1.328095</td>\n",
              "      <td>2006.0</td>\n",
              "      <td>2007.00</td>\n",
              "      <td>2008.0</td>\n",
              "      <td>2009.00</td>\n",
              "      <td>2010.0</td>\n",
              "    </tr>\n",
              "    <tr>\n",
              "      <th>SalePrice</th>\n",
              "      <td>1460.0</td>\n",
              "      <td>180921.195890</td>\n",
              "      <td>79442.502883</td>\n",
              "      <td>34900.0</td>\n",
              "      <td>129975.00</td>\n",
              "      <td>163000.0</td>\n",
              "      <td>214000.00</td>\n",
              "      <td>755000.0</td>\n",
              "    </tr>\n",
              "  </tbody>\n",
              "</table>\n",
              "</div>"
            ],
            "text/plain": [
              "                count           mean           std      min        25%  \\\n",
              "Id             1460.0     730.500000    421.610009      1.0     365.75   \n",
              "MSSubClass     1460.0      56.897260     42.300571     20.0      20.00   \n",
              "LotFrontage    1201.0      70.049958     24.284752     21.0      59.00   \n",
              "LotArea        1460.0   10516.828082   9981.264932   1300.0    7553.50   \n",
              "OverallQual    1460.0       6.099315      1.382997      1.0       5.00   \n",
              "OverallCond    1460.0       5.575342      1.112799      1.0       5.00   \n",
              "YearBuilt      1460.0    1971.267808     30.202904   1872.0    1954.00   \n",
              "YearRemodAdd   1460.0    1984.865753     20.645407   1950.0    1967.00   \n",
              "MasVnrArea     1452.0     103.685262    181.066207      0.0       0.00   \n",
              "BsmtFinSF1     1460.0     443.639726    456.098091      0.0       0.00   \n",
              "BsmtFinSF2     1460.0      46.549315    161.319273      0.0       0.00   \n",
              "BsmtUnfSF      1460.0     567.240411    441.866955      0.0     223.00   \n",
              "TotalBsmtSF    1460.0    1057.429452    438.705324      0.0     795.75   \n",
              "1stFlrSF       1460.0    1162.626712    386.587738    334.0     882.00   \n",
              "2ndFlrSF       1460.0     346.992466    436.528436      0.0       0.00   \n",
              "LowQualFinSF   1460.0       5.844521     48.623081      0.0       0.00   \n",
              "GrLivArea      1460.0    1515.463699    525.480383    334.0    1129.50   \n",
              "BsmtFullBath   1460.0       0.425342      0.518911      0.0       0.00   \n",
              "BsmtHalfBath   1460.0       0.057534      0.238753      0.0       0.00   \n",
              "FullBath       1460.0       1.565068      0.550916      0.0       1.00   \n",
              "HalfBath       1460.0       0.382877      0.502885      0.0       0.00   \n",
              "BedroomAbvGr   1460.0       2.866438      0.815778      0.0       2.00   \n",
              "KitchenAbvGr   1460.0       1.046575      0.220338      0.0       1.00   \n",
              "TotRmsAbvGrd   1460.0       6.517808      1.625393      2.0       5.00   \n",
              "Fireplaces     1460.0       0.613014      0.644666      0.0       0.00   \n",
              "GarageYrBlt    1379.0    1978.506164     24.689725   1900.0    1961.00   \n",
              "GarageCars     1460.0       1.767123      0.747315      0.0       1.00   \n",
              "GarageArea     1460.0     472.980137    213.804841      0.0     334.50   \n",
              "WoodDeckSF     1460.0      94.244521    125.338794      0.0       0.00   \n",
              "OpenPorchSF    1460.0      46.660274     66.256028      0.0       0.00   \n",
              "EnclosedPorch  1460.0      21.954110     61.119149      0.0       0.00   \n",
              "3SsnPorch      1460.0       3.409589     29.317331      0.0       0.00   \n",
              "ScreenPorch    1460.0      15.060959     55.757415      0.0       0.00   \n",
              "PoolArea       1460.0       2.758904     40.177307      0.0       0.00   \n",
              "MiscVal        1460.0      43.489041    496.123024      0.0       0.00   \n",
              "MoSold         1460.0       6.321918      2.703626      1.0       5.00   \n",
              "YrSold         1460.0    2007.815753      1.328095   2006.0    2007.00   \n",
              "SalePrice      1460.0  180921.195890  79442.502883  34900.0  129975.00   \n",
              "\n",
              "                    50%        75%       max  \n",
              "Id                730.5    1095.25    1460.0  \n",
              "MSSubClass         50.0      70.00     190.0  \n",
              "LotFrontage        69.0      80.00     313.0  \n",
              "LotArea          9478.5   11601.50  215245.0  \n",
              "OverallQual         6.0       7.00      10.0  \n",
              "OverallCond         5.0       6.00       9.0  \n",
              "YearBuilt        1973.0    2000.00    2010.0  \n",
              "YearRemodAdd     1994.0    2004.00    2010.0  \n",
              "MasVnrArea          0.0     166.00    1600.0  \n",
              "BsmtFinSF1        383.5     712.25    5644.0  \n",
              "BsmtFinSF2          0.0       0.00    1474.0  \n",
              "BsmtUnfSF         477.5     808.00    2336.0  \n",
              "TotalBsmtSF       991.5    1298.25    6110.0  \n",
              "1stFlrSF         1087.0    1391.25    4692.0  \n",
              "2ndFlrSF            0.0     728.00    2065.0  \n",
              "LowQualFinSF        0.0       0.00     572.0  \n",
              "GrLivArea        1464.0    1776.75    5642.0  \n",
              "BsmtFullBath        0.0       1.00       3.0  \n",
              "BsmtHalfBath        0.0       0.00       2.0  \n",
              "FullBath            2.0       2.00       3.0  \n",
              "HalfBath            0.0       1.00       2.0  \n",
              "BedroomAbvGr        3.0       3.00       8.0  \n",
              "KitchenAbvGr        1.0       1.00       3.0  \n",
              "TotRmsAbvGrd        6.0       7.00      14.0  \n",
              "Fireplaces          1.0       1.00       3.0  \n",
              "GarageYrBlt      1980.0    2002.00    2010.0  \n",
              "GarageCars          2.0       2.00       4.0  \n",
              "GarageArea        480.0     576.00    1418.0  \n",
              "WoodDeckSF          0.0     168.00     857.0  \n",
              "OpenPorchSF        25.0      68.00     547.0  \n",
              "EnclosedPorch       0.0       0.00     552.0  \n",
              "3SsnPorch           0.0       0.00     508.0  \n",
              "ScreenPorch         0.0       0.00     480.0  \n",
              "PoolArea            0.0       0.00     738.0  \n",
              "MiscVal             0.0       0.00   15500.0  \n",
              "MoSold              6.0       8.00      12.0  \n",
              "YrSold           2008.0    2009.00    2010.0  \n",
              "SalePrice      163000.0  214000.00  755000.0  "
            ]
          },
          "execution_count": 52,
          "metadata": {},
          "output_type": "execute_result"
        }
      ],
      "source": [
        "df.describe().T"
      ]
    },
    {
      "cell_type": "markdown",
      "id": "a2a98bde",
      "metadata": {
        "id": "a2a98bde",
        "papermill": {
          "duration": 0.044843,
          "end_time": "2022-01-07T14:52:25.773816",
          "exception": false,
          "start_time": "2022-01-07T14:52:25.728973",
          "status": "completed"
        },
        "tags": []
      },
      "source": [
        "***Visualizing the correlations between numerical variables***"
      ]
    },
    {
      "cell_type": "code",
      "execution_count": 53,
      "id": "matKunouhoqm",
      "metadata": {
        "id": "matKunouhoqm"
      },
      "outputs": [],
      "source": [
        "df_resumen = describe_dataframe(df)"
      ]
    },
    {
      "cell_type": "code",
      "execution_count": 54,
      "id": "is3-DP_RiIWO",
      "metadata": {
        "id": "is3-DP_RiIWO"
      },
      "outputs": [],
      "source": [
        "var_num = df_resumen[df_resumen[\"tipo\"]!=\"Categorical\"].variable.to_list()\n",
        "var_num = [x for x in var_num if x not in [\"Id\"]]"
      ]
    },
    {
      "cell_type": "code",
      "execution_count": 55,
      "id": "GKmASLnIi8aF",
      "metadata": {
        "id": "GKmASLnIi8aF"
      },
      "outputs": [
        {
          "data": {
            "text/plain": [
              "<Axes: >"
            ]
          },
          "execution_count": 55,
          "metadata": {},
          "output_type": "execute_result"
        },
        {
          "data": {
            "image/png": "[encoded data removed]",
            "text/plain": [
              "<Figure size 1000x800 with 2 Axes>"
            ]
          },
          "metadata": {},
          "output_type": "display_data"
        }
      ],
      "source": [
        "plt.figure(figsize=(10,8))\n",
        "corr = df[var_num].corr() # We already examined SalePrice correlations\n",
        "k = 0.7\n",
        "sns.heatmap(corr[(corr >= k) | (corr <= -k)],\n",
        "            cmap='viridis', vmax=1.0, vmin=-1.0, linewidths=0.1,\n",
        "            annot=True, annot_kws={\"size\": 8}, square=True)"
      ]
    },
    {
      "cell_type": "markdown",
      "id": "796a75d0",
      "metadata": {
        "id": "796a75d0",
        "papermill": {
          "duration": 0.047016,
          "end_time": "2022-01-07T14:52:26.966511",
          "exception": false,
          "start_time": "2022-01-07T14:52:26.919495",
          "status": "completed"
        },
        "tags": []
      },
      "source": [
        "<h1 style=\"font-family: 'Times New Roman'; letter-spacing: 0.08em;\">Feature Selection</h1>"
      ]
    },
    {
      "cell_type": "markdown",
      "id": "e1472339",
      "metadata": {
        "id": "e1472339",
        "papermill": {
          "duration": 0.046706,
          "end_time": "2022-01-07T14:52:27.060244",
          "exception": false,
          "start_time": "2022-01-07T14:52:27.013538",
          "status": "completed"
        },
        "tags": []
      },
      "source": [
        "***We are selecting numerical features which have more than 0.50 or less than -0.50 correlation rate based on Pearson Correlation Method—which is the default value of parameter \"method\" in corr() function. As for selecting categorical features, I selected the categorical values which I believe have significant effect on the target variable such as Heating and MSZoning.***"
      ]
    },
    {
      "cell_type": "code",
      "execution_count": 56,
      "id": "fbf97074",
      "metadata": {
        "execution": {
          "iopub.execute_input": "2022-01-07T14:52:27.161546Z",
          "iopub.status.busy": "2022-01-07T14:52:27.160839Z",
          "iopub.status.idle": "2022-01-07T14:52:27.187892Z",
          "shell.execute_reply": "2022-01-07T14:52:27.188471Z",
          "shell.execute_reply.started": "2022-01-07T14:42:50.338019Z"
        },
        "id": "fbf97074",
        "papermill": {
          "duration": 0.081082,
          "end_time": "2022-01-07T14:52:27.188662",
          "exception": false,
          "start_time": "2022-01-07T14:52:27.107580",
          "status": "completed"
        },
        "tags": []
      },
      "outputs": [],
      "source": [
        "important_num_cols = list(df[var_num].corr()[\"SalePrice\"][(df[var_num].corr()[\"SalePrice\"]>0.50) | (df[var_num].corr()[\"SalePrice\"]<-0.50)].index)\n",
        "cat_cols = [\"MSZoning\", \"Utilities\",\"BldgType\",\"Heating\",\"KitchenQual\",\"SaleCondition\",\"LandSlope\"]\n",
        "important_cols = important_num_cols + cat_cols\n",
        "\n",
        "df = df[important_cols]"
      ]
    },
    {
      "cell_type": "code",
      "execution_count": 57,
      "id": "s3G7jAt1jeMt",
      "metadata": {
        "id": "s3G7jAt1jeMt"
      },
      "outputs": [
        {
          "data": {
            "text/html": [
              "<div>\n",
              "<style scoped>\n",
              "    .dataframe tbody tr th:only-of-type {\n",
              "        vertical-align: middle;\n",
              "    }\n",
              "\n",
              "    .dataframe tbody tr th {\n",
              "        vertical-align: top;\n",
              "    }\n",
              "\n",
              "    .dataframe thead th {\n",
              "        text-align: right;\n",
              "    }\n",
              "</style>\n",
              "<table border=\"1\" class=\"dataframe\">\n",
              "  <thead>\n",
              "    <tr style=\"text-align: right;\">\n",
              "      <th></th>\n",
              "      <th>OverallQual</th>\n",
              "      <th>YearBuilt</th>\n",
              "      <th>YearRemodAdd</th>\n",
              "      <th>TotalBsmtSF</th>\n",
              "      <th>1stFlrSF</th>\n",
              "      <th>GrLivArea</th>\n",
              "      <th>FullBath</th>\n",
              "      <th>TotRmsAbvGrd</th>\n",
              "      <th>GarageCars</th>\n",
              "      <th>GarageArea</th>\n",
              "      <th>SalePrice</th>\n",
              "      <th>MSZoning</th>\n",
              "      <th>Utilities</th>\n",
              "      <th>BldgType</th>\n",
              "      <th>Heating</th>\n",
              "      <th>KitchenQual</th>\n",
              "      <th>SaleCondition</th>\n",
              "      <th>LandSlope</th>\n",
              "    </tr>\n",
              "  </thead>\n",
              "  <tbody>\n",
              "    <tr>\n",
              "      <th>0</th>\n",
              "      <td>7</td>\n",
              "      <td>2003</td>\n",
              "      <td>2003</td>\n",
              "      <td>856</td>\n",
              "      <td>856</td>\n",
              "      <td>1710</td>\n",
              "      <td>2</td>\n",
              "      <td>8</td>\n",
              "      <td>2</td>\n",
              "      <td>548</td>\n",
              "      <td>208500</td>\n",
              "      <td>RL</td>\n",
              "      <td>AllPub</td>\n",
              "      <td>1Fam</td>\n",
              "      <td>GasA</td>\n",
              "      <td>Gd</td>\n",
              "      <td>Normal</td>\n",
              "      <td>Gtl</td>\n",
              "    </tr>\n",
              "    <tr>\n",
              "      <th>1</th>\n",
              "      <td>6</td>\n",
              "      <td>1976</td>\n",
              "      <td>1976</td>\n",
              "      <td>1262</td>\n",
              "      <td>1262</td>\n",
              "      <td>1262</td>\n",
              "      <td>2</td>\n",
              "      <td>6</td>\n",
              "      <td>2</td>\n",
              "      <td>460</td>\n",
              "      <td>181500</td>\n",
              "      <td>RL</td>\n",
              "      <td>AllPub</td>\n",
              "      <td>1Fam</td>\n",
              "      <td>GasA</td>\n",
              "      <td>TA</td>\n",
              "      <td>Normal</td>\n",
              "      <td>Gtl</td>\n",
              "    </tr>\n",
              "    <tr>\n",
              "      <th>2</th>\n",
              "      <td>7</td>\n",
              "      <td>2001</td>\n",
              "      <td>2002</td>\n",
              "      <td>920</td>\n",
              "      <td>920</td>\n",
              "      <td>1786</td>\n",
              "      <td>2</td>\n",
              "      <td>6</td>\n",
              "      <td>2</td>\n",
              "      <td>608</td>\n",
              "      <td>223500</td>\n",
              "      <td>RL</td>\n",
              "      <td>AllPub</td>\n",
              "      <td>1Fam</td>\n",
              "      <td>GasA</td>\n",
              "      <td>Gd</td>\n",
              "      <td>Normal</td>\n",
              "      <td>Gtl</td>\n",
              "    </tr>\n",
              "    <tr>\n",
              "      <th>3</th>\n",
              "      <td>7</td>\n",
              "      <td>1915</td>\n",
              "      <td>1970</td>\n",
              "      <td>756</td>\n",
              "      <td>961</td>\n",
              "      <td>1717</td>\n",
              "      <td>1</td>\n",
              "      <td>7</td>\n",
              "      <td>3</td>\n",
              "      <td>642</td>\n",
              "      <td>140000</td>\n",
              "      <td>RL</td>\n",
              "      <td>AllPub</td>\n",
              "      <td>1Fam</td>\n",
              "      <td>GasA</td>\n",
              "      <td>Gd</td>\n",
              "      <td>Abnorml</td>\n",
              "      <td>Gtl</td>\n",
              "    </tr>\n",
              "    <tr>\n",
              "      <th>4</th>\n",
              "      <td>8</td>\n",
              "      <td>2000</td>\n",
              "      <td>2000</td>\n",
              "      <td>1145</td>\n",
              "      <td>1145</td>\n",
              "      <td>2198</td>\n",
              "      <td>2</td>\n",
              "      <td>9</td>\n",
              "      <td>3</td>\n",
              "      <td>836</td>\n",
              "      <td>250000</td>\n",
              "      <td>RL</td>\n",
              "      <td>AllPub</td>\n",
              "      <td>1Fam</td>\n",
              "      <td>GasA</td>\n",
              "      <td>Gd</td>\n",
              "      <td>Normal</td>\n",
              "      <td>Gtl</td>\n",
              "    </tr>\n",
              "  </tbody>\n",
              "</table>\n",
              "</div>"
            ],
            "text/plain": [
              "   OverallQual  YearBuilt  YearRemodAdd  TotalBsmtSF  1stFlrSF  GrLivArea  \\\n",
              "0            7       2003          2003          856       856       1710   \n",
              "1            6       1976          1976         1262      1262       1262   \n",
              "2            7       2001          2002          920       920       1786   \n",
              "3            7       1915          1970          756       961       1717   \n",
              "4            8       2000          2000         1145      1145       2198   \n",
              "\n",
              "   FullBath  TotRmsAbvGrd  GarageCars  GarageArea  SalePrice MSZoning  \\\n",
              "0         2             8           2         548     208500       RL   \n",
              "1         2             6           2         460     181500       RL   \n",
              "2         2             6           2         608     223500       RL   \n",
              "3         1             7           3         642     140000       RL   \n",
              "4         2             9           3         836     250000       RL   \n",
              "\n",
              "  Utilities BldgType Heating KitchenQual SaleCondition LandSlope  \n",
              "0    AllPub     1Fam    GasA          Gd        Normal       Gtl  \n",
              "1    AllPub     1Fam    GasA          TA        Normal       Gtl  \n",
              "2    AllPub     1Fam    GasA          Gd        Normal       Gtl  \n",
              "3    AllPub     1Fam    GasA          Gd       Abnorml       Gtl  \n",
              "4    AllPub     1Fam    GasA          Gd        Normal       Gtl  "
            ]
          },
          "execution_count": 57,
          "metadata": {},
          "output_type": "execute_result"
        }
      ],
      "source": [
        "df.head()"
      ]
    },
    {
      "cell_type": "code",
      "execution_count": 58,
      "id": "ee48ef90",
      "metadata": {},
      "outputs": [
        {
          "data": {
            "text/plain": [
              "(1460, 18)"
            ]
          },
          "execution_count": 58,
          "metadata": {},
          "output_type": "execute_result"
        }
      ],
      "source": [
        "df.shape"
      ]
    },
    {
      "cell_type": "markdown",
      "id": "f6673694",
      "metadata": {
        "id": "f6673694",
        "papermill": {
          "duration": 0.0465,
          "end_time": "2022-01-07T14:52:27.282302",
          "exception": false,
          "start_time": "2022-01-07T14:52:27.235802",
          "status": "completed"
        },
        "tags": []
      },
      "source": [
        "***Checking for the missing values***"
      ]
    },
    {
      "cell_type": "code",
      "execution_count": 59,
      "id": "b3ad493a",
      "metadata": {
        "execution": {
          "iopub.execute_input": "2022-01-07T14:52:27.380171Z",
          "iopub.status.busy": "2022-01-07T14:52:27.379562Z",
          "iopub.status.idle": "2022-01-07T14:52:27.393576Z",
          "shell.execute_reply": "2022-01-07T14:52:27.394187Z",
          "shell.execute_reply.started": "2022-01-07T14:42:50.367799Z"
        },
        "id": "b3ad493a",
        "papermill": {
          "duration": 0.064672,
          "end_time": "2022-01-07T14:52:27.394368",
          "exception": false,
          "start_time": "2022-01-07T14:52:27.329696",
          "status": "completed"
        },
        "tags": []
      },
      "outputs": [
        {
          "name": "stdout",
          "output_type": "stream",
          "text": [
            "Missing Values by Column\n",
            "------------------------------\n",
            "OverallQual      0\n",
            "YearBuilt        0\n",
            "YearRemodAdd     0\n",
            "TotalBsmtSF      0\n",
            "1stFlrSF         0\n",
            "GrLivArea        0\n",
            "FullBath         0\n",
            "TotRmsAbvGrd     0\n",
            "GarageCars       0\n",
            "GarageArea       0\n",
            "SalePrice        0\n",
            "MSZoning         0\n",
            "Utilities        0\n",
            "BldgType         0\n",
            "Heating          0\n",
            "KitchenQual      0\n",
            "SaleCondition    0\n",
            "LandSlope        0\n",
            "dtype: int64\n",
            "------------------------------\n",
            "TOTAL MISSING VALUES: 0\n"
          ]
        }
      ],
      "source": [
        "print(\"Missing Values by Column\")\n",
        "print(\"-\"*30)\n",
        "print(df.isna().sum())\n",
        "print(\"-\"*30)\n",
        "print(\"TOTAL MISSING VALUES:\",df.isna().sum().sum())"
      ]
    },
    {
      "cell_type": "markdown",
      "id": "fc90cfb7",
      "metadata": {
        "id": "fc90cfb7",
        "papermill": {
          "duration": 0.046998,
          "end_time": "2022-01-07T14:52:27.488423",
          "exception": false,
          "start_time": "2022-01-07T14:52:27.441425",
          "status": "completed"
        },
        "tags": []
      },
      "source": [
        "<h1 style=\"font-family: 'Times New Roman'; letter-spacing: 0.08em;\">Data Visualization</h1>"
      ]
    },
    {
      "cell_type": "markdown",
      "id": "554f0c13",
      "metadata": {
        "id": "554f0c13",
        "papermill": {
          "duration": 0.04741,
          "end_time": "2022-01-07T14:52:27.584829",
          "exception": false,
          "start_time": "2022-01-07T14:52:27.537419",
          "status": "completed"
        },
        "tags": []
      },
      "source": [
        "***Visualizing the Correlation between the numerical variables using pairplot visualization***"
      ]
    },
    {
      "cell_type": "code",
      "execution_count": 60,
      "id": "6098b613",
      "metadata": {
        "execution": {
          "iopub.execute_input": "2022-01-07T14:52:27.683573Z",
          "iopub.status.busy": "2022-01-07T14:52:27.682873Z",
          "iopub.status.idle": "2022-01-07T14:52:54.913114Z",
          "shell.execute_reply": "2022-01-07T14:52:54.913633Z",
          "shell.execute_reply.started": "2022-01-07T14:42:50.383120Z"
        },
        "id": "6098b613",
        "papermill": {
          "duration": 27.281534,
          "end_time": "2022-01-07T14:52:54.913817",
          "exception": false,
          "start_time": "2022-01-07T14:52:27.632283",
          "status": "completed"
        },
        "tags": []
      },
      "outputs": [],
      "source": [
        "#sns.pairplot(df[important_num_cols])"
      ]
    },
    {
      "cell_type": "markdown",
      "id": "4acbeb7e",
      "metadata": {
        "id": "4acbeb7e",
        "papermill": {
          "duration": 0.082493,
          "end_time": "2022-01-07T14:52:55.080212",
          "exception": false,
          "start_time": "2022-01-07T14:52:54.997719",
          "status": "completed"
        },
        "tags": []
      },
      "source": [
        "***Visualizing the Correlation between each column and the target variable using jointplot visualization***"
      ]
    },
    {
      "cell_type": "code",
      "execution_count": 61,
      "id": "4bbb826a",
      "metadata": {
        "execution": {
          "iopub.execute_input": "2022-01-07T14:52:55.267632Z",
          "iopub.status.busy": "2022-01-07T14:52:55.266719Z",
          "iopub.status.idle": "2022-01-07T14:53:11.029555Z",
          "shell.execute_reply": "2022-01-07T14:53:11.029015Z",
          "shell.execute_reply.started": "2022-01-07T14:43:18.135597Z"
        },
        "id": "4bbb826a",
        "papermill": {
          "duration": 15.867267,
          "end_time": "2022-01-07T14:53:11.029704",
          "exception": false,
          "start_time": "2022-01-07T14:52:55.162437",
          "status": "completed"
        },
        "tags": []
      },
      "outputs": [
        {
          "data": {
            "text/plain": [
              "'\\nplt.figure(figsize=(10,8))\\nsns.jointplot(x=df[\"OverallQual\"], y=df[\"SalePrice\"], kind=\"kde\")\\nsns.jointplot(x=df[\"YearBuilt\"], y=df[\"SalePrice\"], kind=\"kde\")\\nsns.jointplot(x=df[\"YearRemodAdd\"], y=df[\"SalePrice\"], kind=\"kde\")\\nsns.jointplot(x=df[\"TotalBsmtSF\"], y=df[\"SalePrice\"], kind=\"kde\")\\nsns.jointplot(x=df[\"1stFlrSF\"], y=df[\"SalePrice\"], kind=\"kde\")\\nsns.jointplot(x=df[\"GrLivArea\"], y=df[\"SalePrice\"], kind=\"kde\")\\nsns.jointplot(x=df[\"FullBath\"], y=df[\"SalePrice\"], kind=\"kde\")\\nsns.jointplot(x=df[\"TotRmsAbvGrd\"], y=df[\"SalePrice\"], kind=\"kde\")\\nsns.jointplot(x=df[\"GarageCars\"], y=df[\"SalePrice\"], kind=\"kde\")\\nsns.jointplot(x=df[\"GarageArea\"], y=df[\"SalePrice\"], kind=\"kde\")\\nplt.show()\\n'"
            ]
          },
          "execution_count": 61,
          "metadata": {},
          "output_type": "execute_result"
        }
      ],
      "source": [
        "\"\"\"\n",
        "plt.figure(figsize=(10,8))\n",
        "sns.jointplot(x=df[\"OverallQual\"], y=df[\"SalePrice\"], kind=\"kde\")\n",
        "sns.jointplot(x=df[\"YearBuilt\"], y=df[\"SalePrice\"], kind=\"kde\")\n",
        "sns.jointplot(x=df[\"YearRemodAdd\"], y=df[\"SalePrice\"], kind=\"kde\")\n",
        "sns.jointplot(x=df[\"TotalBsmtSF\"], y=df[\"SalePrice\"], kind=\"kde\")\n",
        "sns.jointplot(x=df[\"1stFlrSF\"], y=df[\"SalePrice\"], kind=\"kde\")\n",
        "sns.jointplot(x=df[\"GrLivArea\"], y=df[\"SalePrice\"], kind=\"kde\")\n",
        "sns.jointplot(x=df[\"FullBath\"], y=df[\"SalePrice\"], kind=\"kde\")\n",
        "sns.jointplot(x=df[\"TotRmsAbvGrd\"], y=df[\"SalePrice\"], kind=\"kde\")\n",
        "sns.jointplot(x=df[\"GarageCars\"], y=df[\"SalePrice\"], kind=\"kde\")\n",
        "sns.jointplot(x=df[\"GarageArea\"], y=df[\"SalePrice\"], kind=\"kde\")\n",
        "plt.show()\n",
        "\"\"\""
      ]
    },
    {
      "cell_type": "markdown",
      "id": "c7ad83c4",
      "metadata": {
        "id": "c7ad83c4",
        "papermill": {
          "duration": 0.101908,
          "end_time": "2022-01-07T14:53:11.236310",
          "exception": false,
          "start_time": "2022-01-07T14:53:11.134402",
          "status": "completed"
        },
        "tags": []
      },
      "source": [
        "# X - y"
      ]
    },
    {
      "cell_type": "markdown",
      "id": "1f41b275",
      "metadata": {
        "id": "1f41b275",
        "papermill": {
          "duration": 0.101341,
          "end_time": "2022-01-07T14:53:11.439144",
          "exception": false,
          "start_time": "2022-01-07T14:53:11.337803",
          "status": "completed"
        },
        "tags": []
      },
      "source": [
        "***Splitting the data into X and y chunks***"
      ]
    },
    {
      "cell_type": "code",
      "execution_count": 62,
      "id": "ac825bef",
      "metadata": {
        "execution": {
          "iopub.execute_input": "2022-01-07T14:53:11.647113Z",
          "iopub.status.busy": "2022-01-07T14:53:11.646485Z",
          "iopub.status.idle": "2022-01-07T14:53:11.651440Z",
          "shell.execute_reply": "2022-01-07T14:53:11.652135Z",
          "shell.execute_reply.started": "2022-01-07T14:43:34.571687Z"
        },
        "id": "ac825bef",
        "papermill": {
          "duration": 0.111491,
          "end_time": "2022-01-07T14:53:11.652319",
          "exception": false,
          "start_time": "2022-01-07T14:53:11.540828",
          "status": "completed"
        },
        "tags": []
      },
      "outputs": [],
      "source": [
        "X = df.drop(\"SalePrice\", axis=1)\n",
        "y = df[\"SalePrice\"]"
      ]
    },
    {
      "cell_type": "markdown",
      "id": "957e7868",
      "metadata": {
        "id": "957e7868",
        "papermill": {
          "duration": 0.104454,
          "end_time": "2022-01-07T14:53:11.858570",
          "exception": false,
          "start_time": "2022-01-07T14:53:11.754116",
          "status": "completed"
        },
        "tags": []
      },
      "source": [
        "<h1 style=\"font-family: 'Times New Roman'; letter-spacing: 0.08em;\">One-Hot Encoding</h1>"
      ]
    },
    {
      "cell_type": "markdown",
      "id": "eb47eef6",
      "metadata": {
        "id": "eb47eef6",
        "papermill": {
          "duration": 0.104928,
          "end_time": "2022-01-07T14:53:12.067282",
          "exception": false,
          "start_time": "2022-01-07T14:53:11.962354",
          "status": "completed"
        },
        "tags": []
      },
      "source": [
        "***Encoding the categorical features in X dataset by using One-Hot Encoding method***"
      ]
    },
    {
      "cell_type": "code",
      "execution_count": 63,
      "id": "7972a4b3",
      "metadata": {},
      "outputs": [
        {
          "data": {
            "text/html": [
              "<div>\n",
              "<style scoped>\n",
              "    .dataframe tbody tr th:only-of-type {\n",
              "        vertical-align: middle;\n",
              "    }\n",
              "\n",
              "    .dataframe tbody tr th {\n",
              "        vertical-align: top;\n",
              "    }\n",
              "\n",
              "    .dataframe thead th {\n",
              "        text-align: right;\n",
              "    }\n",
              "</style>\n",
              "<table border=\"1\" class=\"dataframe\">\n",
              "  <thead>\n",
              "    <tr style=\"text-align: right;\">\n",
              "      <th></th>\n",
              "      <th>MSZoning</th>\n",
              "      <th>Utilities</th>\n",
              "      <th>BldgType</th>\n",
              "      <th>Heating</th>\n",
              "      <th>KitchenQual</th>\n",
              "      <th>SaleCondition</th>\n",
              "      <th>LandSlope</th>\n",
              "    </tr>\n",
              "  </thead>\n",
              "  <tbody>\n",
              "    <tr>\n",
              "      <th>0</th>\n",
              "      <td>RL</td>\n",
              "      <td>AllPub</td>\n",
              "      <td>1Fam</td>\n",
              "      <td>GasA</td>\n",
              "      <td>Gd</td>\n",
              "      <td>Normal</td>\n",
              "      <td>Gtl</td>\n",
              "    </tr>\n",
              "    <tr>\n",
              "      <th>1</th>\n",
              "      <td>RL</td>\n",
              "      <td>AllPub</td>\n",
              "      <td>1Fam</td>\n",
              "      <td>GasA</td>\n",
              "      <td>TA</td>\n",
              "      <td>Normal</td>\n",
              "      <td>Gtl</td>\n",
              "    </tr>\n",
              "    <tr>\n",
              "      <th>2</th>\n",
              "      <td>RL</td>\n",
              "      <td>AllPub</td>\n",
              "      <td>1Fam</td>\n",
              "      <td>GasA</td>\n",
              "      <td>Gd</td>\n",
              "      <td>Normal</td>\n",
              "      <td>Gtl</td>\n",
              "    </tr>\n",
              "    <tr>\n",
              "      <th>3</th>\n",
              "      <td>RL</td>\n",
              "      <td>AllPub</td>\n",
              "      <td>1Fam</td>\n",
              "      <td>GasA</td>\n",
              "      <td>Gd</td>\n",
              "      <td>Abnorml</td>\n",
              "      <td>Gtl</td>\n",
              "    </tr>\n",
              "    <tr>\n",
              "      <th>4</th>\n",
              "      <td>RL</td>\n",
              "      <td>AllPub</td>\n",
              "      <td>1Fam</td>\n",
              "      <td>GasA</td>\n",
              "      <td>Gd</td>\n",
              "      <td>Normal</td>\n",
              "      <td>Gtl</td>\n",
              "    </tr>\n",
              "  </tbody>\n",
              "</table>\n",
              "</div>"
            ],
            "text/plain": [
              "  MSZoning Utilities BldgType Heating KitchenQual SaleCondition LandSlope\n",
              "0       RL    AllPub     1Fam    GasA          Gd        Normal       Gtl\n",
              "1       RL    AllPub     1Fam    GasA          TA        Normal       Gtl\n",
              "2       RL    AllPub     1Fam    GasA          Gd        Normal       Gtl\n",
              "3       RL    AllPub     1Fam    GasA          Gd       Abnorml       Gtl\n",
              "4       RL    AllPub     1Fam    GasA          Gd        Normal       Gtl"
            ]
          },
          "execution_count": 63,
          "metadata": {},
          "output_type": "execute_result"
        }
      ],
      "source": [
        "df[cat_cols].head()"
      ]
    },
    {
      "cell_type": "code",
      "execution_count": 64,
      "id": "8P0-0g9vj23S",
      "metadata": {
        "id": "8P0-0g9vj23S"
      },
      "outputs": [
        {
          "data": {
            "text/plain": [
              "['MSZoning',\n",
              " 'Utilities',\n",
              " 'BldgType',\n",
              " 'Heating',\n",
              " 'KitchenQual',\n",
              " 'SaleCondition',\n",
              " 'LandSlope']"
            ]
          },
          "execution_count": 64,
          "metadata": {},
          "output_type": "execute_result"
        }
      ],
      "source": [
        "cat_cols"
      ]
    },
    {
      "cell_type": "code",
      "execution_count": 65,
      "id": "1dd62530",
      "metadata": {
        "execution": {
          "iopub.execute_input": "2022-01-07T14:53:12.276824Z",
          "iopub.status.busy": "2022-01-07T14:53:12.276088Z",
          "iopub.status.idle": "2022-01-07T14:53:12.288834Z",
          "shell.execute_reply": "2022-01-07T14:53:12.289378Z",
          "shell.execute_reply.started": "2022-01-07T14:43:34.578953Z"
        },
        "id": "1dd62530",
        "papermill": {
          "duration": 0.11955,
          "end_time": "2022-01-07T14:53:12.289583",
          "exception": false,
          "start_time": "2022-01-07T14:53:12.170033",
          "status": "completed"
        },
        "tags": []
      },
      "outputs": [],
      "source": [
        "X = pd.get_dummies(X, columns=cat_cols)\n"
      ]
    },
    {
      "cell_type": "code",
      "execution_count": 67,
      "id": "2fe78992",
      "metadata": {},
      "outputs": [
        {
          "data": {
            "text/plain": [
              "0    False\n",
              "1     True\n",
              "2    False\n",
              "3    False\n",
              "4    False\n",
              "Name: KitchenQual_TA, dtype: bool"
            ]
          },
          "execution_count": 67,
          "metadata": {},
          "output_type": "execute_result"
        }
      ],
      "source": [
        "X[\"KitchenQual_TA\"].head()"
      ]
    },
    {
      "cell_type": "code",
      "execution_count": null,
      "id": "nWje5dPdkHU-",
      "metadata": {
        "id": "nWje5dPdkHU-"
      },
      "outputs": [
        {
          "data": {
            "text/html": [
              "<div>\n",
              "<style scoped>\n",
              "    .dataframe tbody tr th:only-of-type {\n",
              "        vertical-align: middle;\n",
              "    }\n",
              "\n",
              "    .dataframe tbody tr th {\n",
              "        vertical-align: top;\n",
              "    }\n",
              "\n",
              "    .dataframe thead th {\n",
              "        text-align: right;\n",
              "    }\n",
              "</style>\n",
              "<table border=\"1\" class=\"dataframe\">\n",
              "  <thead>\n",
              "    <tr style=\"text-align: right;\">\n",
              "      <th></th>\n",
              "      <th>OverallQual</th>\n",
              "      <th>YearBuilt</th>\n",
              "      <th>YearRemodAdd</th>\n",
              "      <th>TotalBsmtSF</th>\n",
              "      <th>1stFlrSF</th>\n",
              "      <th>GrLivArea</th>\n",
              "      <th>FullBath</th>\n",
              "      <th>TotRmsAbvGrd</th>\n",
              "      <th>GarageCars</th>\n",
              "      <th>GarageArea</th>\n",
              "      <th>...</th>\n",
              "      <th>KitchenQual_TA</th>\n",
              "      <th>SaleCondition_Abnorml</th>\n",
              "      <th>SaleCondition_AdjLand</th>\n",
              "      <th>SaleCondition_Alloca</th>\n",
              "      <th>SaleCondition_Family</th>\n",
              "      <th>SaleCondition_Normal</th>\n",
              "      <th>SaleCondition_Partial</th>\n",
              "      <th>LandSlope_Gtl</th>\n",
              "      <th>LandSlope_Mod</th>\n",
              "      <th>LandSlope_Sev</th>\n",
              "    </tr>\n",
              "  </thead>\n",
              "  <tbody>\n",
              "    <tr>\n",
              "      <th>0</th>\n",
              "      <td>7</td>\n",
              "      <td>2003</td>\n",
              "      <td>2003</td>\n",
              "      <td>856</td>\n",
              "      <td>856</td>\n",
              "      <td>1710</td>\n",
              "      <td>2</td>\n",
              "      <td>8</td>\n",
              "      <td>2</td>\n",
              "      <td>548</td>\n",
              "      <td>...</td>\n",
              "      <td>False</td>\n",
              "      <td>False</td>\n",
              "      <td>False</td>\n",
              "      <td>False</td>\n",
              "      <td>False</td>\n",
              "      <td>True</td>\n",
              "      <td>False</td>\n",
              "      <td>True</td>\n",
              "      <td>False</td>\n",
              "      <td>False</td>\n",
              "    </tr>\n",
              "    <tr>\n",
              "      <th>1</th>\n",
              "      <td>6</td>\n",
              "      <td>1976</td>\n",
              "      <td>1976</td>\n",
              "      <td>1262</td>\n",
              "      <td>1262</td>\n",
              "      <td>1262</td>\n",
              "      <td>2</td>\n",
              "      <td>6</td>\n",
              "      <td>2</td>\n",
              "      <td>460</td>\n",
              "      <td>...</td>\n",
              "      <td>True</td>\n",
              "      <td>False</td>\n",
              "      <td>False</td>\n",
              "      <td>False</td>\n",
              "      <td>False</td>\n",
              "      <td>True</td>\n",
              "      <td>False</td>\n",
              "      <td>True</td>\n",
              "      <td>False</td>\n",
              "      <td>False</td>\n",
              "    </tr>\n",
              "    <tr>\n",
              "      <th>2</th>\n",
              "      <td>7</td>\n",
              "      <td>2001</td>\n",
              "      <td>2002</td>\n",
              "      <td>920</td>\n",
              "      <td>920</td>\n",
              "      <td>1786</td>\n",
              "      <td>2</td>\n",
              "      <td>6</td>\n",
              "      <td>2</td>\n",
              "      <td>608</td>\n",
              "      <td>...</td>\n",
              "      <td>False</td>\n",
              "      <td>False</td>\n",
              "      <td>False</td>\n",
              "      <td>False</td>\n",
              "      <td>False</td>\n",
              "      <td>True</td>\n",
              "      <td>False</td>\n",
              "      <td>True</td>\n",
              "      <td>False</td>\n",
              "      <td>False</td>\n",
              "    </tr>\n",
              "    <tr>\n",
              "      <th>3</th>\n",
              "      <td>7</td>\n",
              "      <td>1915</td>\n",
              "      <td>1970</td>\n",
              "      <td>756</td>\n",
              "      <td>961</td>\n",
              "      <td>1717</td>\n",
              "      <td>1</td>\n",
              "      <td>7</td>\n",
              "      <td>3</td>\n",
              "      <td>642</td>\n",
              "      <td>...</td>\n",
              "      <td>False</td>\n",
              "      <td>True</td>\n",
              "      <td>False</td>\n",
              "      <td>False</td>\n",
              "      <td>False</td>\n",
              "      <td>False</td>\n",
              "      <td>False</td>\n",
              "      <td>True</td>\n",
              "      <td>False</td>\n",
              "      <td>False</td>\n",
              "    </tr>\n",
              "    <tr>\n",
              "      <th>4</th>\n",
              "      <td>8</td>\n",
              "      <td>2000</td>\n",
              "      <td>2000</td>\n",
              "      <td>1145</td>\n",
              "      <td>1145</td>\n",
              "      <td>2198</td>\n",
              "      <td>2</td>\n",
              "      <td>9</td>\n",
              "      <td>3</td>\n",
              "      <td>836</td>\n",
              "      <td>...</td>\n",
              "      <td>False</td>\n",
              "      <td>False</td>\n",
              "      <td>False</td>\n",
              "      <td>False</td>\n",
              "      <td>False</td>\n",
              "      <td>True</td>\n",
              "      <td>False</td>\n",
              "      <td>True</td>\n",
              "      <td>False</td>\n",
              "      <td>False</td>\n",
              "    </tr>\n",
              "  </tbody>\n",
              "</table>\n",
              "<p>5 rows × 41 columns</p>\n",
              "</div>"
            ],
            "text/plain": [
              "   OverallQual  YearBuilt  YearRemodAdd  TotalBsmtSF  1stFlrSF  GrLivArea  \\\n",
              "0            7       2003          2003          856       856       1710   \n",
              "1            6       1976          1976         1262      1262       1262   \n",
              "2            7       2001          2002          920       920       1786   \n",
              "3            7       1915          1970          756       961       1717   \n",
              "4            8       2000          2000         1145      1145       2198   \n",
              "\n",
              "   FullBath  TotRmsAbvGrd  GarageCars  GarageArea  ...  KitchenQual_TA  \\\n",
              "0         2             8           2         548  ...           False   \n",
              "1         2             6           2         460  ...            True   \n",
              "2         2             6           2         608  ...           False   \n",
              "3         1             7           3         642  ...           False   \n",
              "4         2             9           3         836  ...           False   \n",
              "\n",
              "   SaleCondition_Abnorml  SaleCondition_AdjLand  SaleCondition_Alloca  \\\n",
              "0                  False                  False                 False   \n",
              "1                  False                  False                 False   \n",
              "2                  False                  False                 False   \n",
              "3                   True                  False                 False   \n",
              "4                  False                  False                 False   \n",
              "\n",
              "   SaleCondition_Family  SaleCondition_Normal  SaleCondition_Partial  \\\n",
              "0                 False                  True                  False   \n",
              "1                 False                  True                  False   \n",
              "2                 False                  True                  False   \n",
              "3                 False                 False                  False   \n",
              "4                 False                  True                  False   \n",
              "\n",
              "   LandSlope_Gtl  LandSlope_Mod  LandSlope_Sev  \n",
              "0           True          False          False  \n",
              "1           True          False          False  \n",
              "2           True          False          False  \n",
              "3           True          False          False  \n",
              "4           True          False          False  \n",
              "\n",
              "[5 rows x 41 columns]"
            ]
          },
          "execution_count": 26,
          "metadata": {},
          "output_type": "execute_result"
        }
      ],
      "source": [
        "X.head()"
      ]
    },
    {
      "cell_type": "code",
      "execution_count": null,
      "id": "9vK73cYLkKwY",
      "metadata": {
        "id": "9vK73cYLkKwY"
      },
      "outputs": [
        {
          "data": {
            "text/plain": [
              "(1460, 41)"
            ]
          },
          "execution_count": 27,
          "metadata": {},
          "output_type": "execute_result"
        }
      ],
      "source": [
        "X.shape"
      ]
    },
    {
      "cell_type": "markdown",
      "id": "5c23c6f5",
      "metadata": {
        "id": "5c23c6f5",
        "papermill": {
          "duration": 0.103223,
          "end_time": "2022-01-07T14:53:12.496731",
          "exception": false,
          "start_time": "2022-01-07T14:53:12.393508",
          "status": "completed"
        },
        "tags": []
      },
      "source": [
        "<h1 style=\"font-family: 'Times New Roman'; letter-spacing: 0.08em;\">Standardizing the Data</h1>"
      ]
    },
    {
      "cell_type": "markdown",
      "id": "cd239272",
      "metadata": {
        "id": "cd239272",
        "papermill": {
          "duration": 0.102248,
          "end_time": "2022-01-07T14:53:12.702016",
          "exception": false,
          "start_time": "2022-01-07T14:53:12.599768",
          "status": "completed"
        },
        "tags": []
      },
      "source": [
        "***Standardizing the numerical columns in X dataset. StandardScaler() adjusts the mean of the features as 0 and standard deviation of features as 1. Formula that StandardScaler() uses is as follows:***"
      ]
    },
    {
      "cell_type": "markdown",
      "id": "943897e1",
      "metadata": {
        "id": "943897e1",
        "papermill": {
          "duration": 0.106209,
          "end_time": "2022-01-07T14:53:12.910212",
          "exception": false,
          "start_time": "2022-01-07T14:53:12.804003",
          "status": "completed"
        },
        "tags": []
      },
      "source": [
        "<center><img width=\"300px\" src=\"https://www.thoughtco.com/thmb/gItmqGd5HlnhyPIiLm1YHXOlTnw=/330x242/filters:fill(auto,1)/zscore-56a8fa785f9b58b7d0f6e87b.GIF\"></center>"
      ]
    },
    {
      "cell_type": "code",
      "execution_count": null,
      "id": "4ab78b65",
      "metadata": {
        "execution": {
          "iopub.execute_input": "2022-01-07T14:53:13.130160Z",
          "iopub.status.busy": "2022-01-07T14:53:13.129350Z",
          "iopub.status.idle": "2022-01-07T14:53:13.137015Z",
          "shell.execute_reply": "2022-01-07T14:53:13.137596Z",
          "shell.execute_reply.started": "2022-01-07T14:43:34.601579Z"
        },
        "id": "4ab78b65",
        "papermill": {
          "duration": 0.120475,
          "end_time": "2022-01-07T14:53:13.137818",
          "exception": false,
          "start_time": "2022-01-07T14:53:13.017343",
          "status": "completed"
        },
        "tags": []
      },
      "outputs": [],
      "source": [
        "important_num_cols.remove(\"SalePrice\")\n",
        "\n",
        "scaler = StandardScaler()\n",
        "X[important_num_cols] = scaler.fit_transform(X[important_num_cols])"
      ]
    },
    {
      "cell_type": "code",
      "execution_count": 69,
      "id": "023a95ee",
      "metadata": {},
      "outputs": [
        {
          "data": {
            "text/plain": [
              "pandas.core.frame.DataFrame"
            ]
          },
          "execution_count": 69,
          "metadata": {},
          "output_type": "execute_result"
        }
      ],
      "source": [
        "type(X)"
      ]
    },
    {
      "cell_type": "markdown",
      "id": "e367a7a7",
      "metadata": {
        "id": "e367a7a7",
        "papermill": {
          "duration": 0.109989,
          "end_time": "2022-01-07T14:53:13.360870",
          "exception": false,
          "start_time": "2022-01-07T14:53:13.250881",
          "status": "completed"
        },
        "tags": []
      },
      "source": [
        "***As you can see, standardization is done successfully***"
      ]
    },
    {
      "cell_type": "code",
      "execution_count": null,
      "id": "bdfe99cf",
      "metadata": {
        "execution": {
          "iopub.execute_input": "2022-01-07T14:53:13.575636Z",
          "iopub.status.busy": "2022-01-07T14:53:13.574885Z",
          "iopub.status.idle": "2022-01-07T14:53:13.596030Z",
          "shell.execute_reply": "2022-01-07T14:53:13.596561Z",
          "shell.execute_reply.started": "2022-01-07T14:43:34.616498Z"
        },
        "id": "bdfe99cf",
        "papermill": {
          "duration": 0.130495,
          "end_time": "2022-01-07T14:53:13.596771",
          "exception": false,
          "start_time": "2022-01-07T14:53:13.466276",
          "status": "completed"
        },
        "tags": []
      },
      "outputs": [
        {
          "data": {
            "text/html": [
              "<div>\n",
              "<style scoped>\n",
              "    .dataframe tbody tr th:only-of-type {\n",
              "        vertical-align: middle;\n",
              "    }\n",
              "\n",
              "    .dataframe tbody tr th {\n",
              "        vertical-align: top;\n",
              "    }\n",
              "\n",
              "    .dataframe thead th {\n",
              "        text-align: right;\n",
              "    }\n",
              "</style>\n",
              "<table border=\"1\" class=\"dataframe\">\n",
              "  <thead>\n",
              "    <tr style=\"text-align: right;\">\n",
              "      <th></th>\n",
              "      <th>OverallQual</th>\n",
              "      <th>YearBuilt</th>\n",
              "      <th>YearRemodAdd</th>\n",
              "      <th>TotalBsmtSF</th>\n",
              "      <th>1stFlrSF</th>\n",
              "      <th>GrLivArea</th>\n",
              "      <th>FullBath</th>\n",
              "      <th>TotRmsAbvGrd</th>\n",
              "      <th>GarageCars</th>\n",
              "      <th>GarageArea</th>\n",
              "      <th>...</th>\n",
              "      <th>KitchenQual_TA</th>\n",
              "      <th>SaleCondition_Abnorml</th>\n",
              "      <th>SaleCondition_AdjLand</th>\n",
              "      <th>SaleCondition_Alloca</th>\n",
              "      <th>SaleCondition_Family</th>\n",
              "      <th>SaleCondition_Normal</th>\n",
              "      <th>SaleCondition_Partial</th>\n",
              "      <th>LandSlope_Gtl</th>\n",
              "      <th>LandSlope_Mod</th>\n",
              "      <th>LandSlope_Sev</th>\n",
              "    </tr>\n",
              "  </thead>\n",
              "  <tbody>\n",
              "    <tr>\n",
              "      <th>0</th>\n",
              "      <td>0.651479</td>\n",
              "      <td>1.050994</td>\n",
              "      <td>0.878668</td>\n",
              "      <td>-0.459303</td>\n",
              "      <td>-0.793434</td>\n",
              "      <td>0.370333</td>\n",
              "      <td>0.789741</td>\n",
              "      <td>0.912210</td>\n",
              "      <td>0.311725</td>\n",
              "      <td>0.351000</td>\n",
              "      <td>...</td>\n",
              "      <td>False</td>\n",
              "      <td>False</td>\n",
              "      <td>False</td>\n",
              "      <td>False</td>\n",
              "      <td>False</td>\n",
              "      <td>True</td>\n",
              "      <td>False</td>\n",
              "      <td>True</td>\n",
              "      <td>False</td>\n",
              "      <td>False</td>\n",
              "    </tr>\n",
              "    <tr>\n",
              "      <th>1</th>\n",
              "      <td>-0.071836</td>\n",
              "      <td>0.156734</td>\n",
              "      <td>-0.429577</td>\n",
              "      <td>0.466465</td>\n",
              "      <td>0.257140</td>\n",
              "      <td>-0.482512</td>\n",
              "      <td>0.789741</td>\n",
              "      <td>-0.318683</td>\n",
              "      <td>0.311725</td>\n",
              "      <td>-0.060731</td>\n",
              "      <td>...</td>\n",
              "      <td>True</td>\n",
              "      <td>False</td>\n",
              "      <td>False</td>\n",
              "      <td>False</td>\n",
              "      <td>False</td>\n",
              "      <td>True</td>\n",
              "      <td>False</td>\n",
              "      <td>True</td>\n",
              "      <td>False</td>\n",
              "      <td>False</td>\n",
              "    </tr>\n",
              "    <tr>\n",
              "      <th>2</th>\n",
              "      <td>0.651479</td>\n",
              "      <td>0.984752</td>\n",
              "      <td>0.830215</td>\n",
              "      <td>-0.313369</td>\n",
              "      <td>-0.627826</td>\n",
              "      <td>0.515013</td>\n",
              "      <td>0.789741</td>\n",
              "      <td>-0.318683</td>\n",
              "      <td>0.311725</td>\n",
              "      <td>0.631726</td>\n",
              "      <td>...</td>\n",
              "      <td>False</td>\n",
              "      <td>False</td>\n",
              "      <td>False</td>\n",
              "      <td>False</td>\n",
              "      <td>False</td>\n",
              "      <td>True</td>\n",
              "      <td>False</td>\n",
              "      <td>True</td>\n",
              "      <td>False</td>\n",
              "      <td>False</td>\n",
              "    </tr>\n",
              "    <tr>\n",
              "      <th>3</th>\n",
              "      <td>0.651479</td>\n",
              "      <td>-1.863632</td>\n",
              "      <td>-0.720298</td>\n",
              "      <td>-0.687324</td>\n",
              "      <td>-0.521734</td>\n",
              "      <td>0.383659</td>\n",
              "      <td>-1.026041</td>\n",
              "      <td>0.296763</td>\n",
              "      <td>1.650307</td>\n",
              "      <td>0.790804</td>\n",
              "      <td>...</td>\n",
              "      <td>False</td>\n",
              "      <td>True</td>\n",
              "      <td>False</td>\n",
              "      <td>False</td>\n",
              "      <td>False</td>\n",
              "      <td>False</td>\n",
              "      <td>False</td>\n",
              "      <td>True</td>\n",
              "      <td>False</td>\n",
              "      <td>False</td>\n",
              "    </tr>\n",
              "    <tr>\n",
              "      <th>4</th>\n",
              "      <td>1.374795</td>\n",
              "      <td>0.951632</td>\n",
              "      <td>0.733308</td>\n",
              "      <td>0.199680</td>\n",
              "      <td>-0.045611</td>\n",
              "      <td>1.299326</td>\n",
              "      <td>0.789741</td>\n",
              "      <td>1.527656</td>\n",
              "      <td>1.650307</td>\n",
              "      <td>1.698485</td>\n",
              "      <td>...</td>\n",
              "      <td>False</td>\n",
              "      <td>False</td>\n",
              "      <td>False</td>\n",
              "      <td>False</td>\n",
              "      <td>False</td>\n",
              "      <td>True</td>\n",
              "      <td>False</td>\n",
              "      <td>True</td>\n",
              "      <td>False</td>\n",
              "      <td>False</td>\n",
              "    </tr>\n",
              "  </tbody>\n",
              "</table>\n",
              "<p>5 rows × 41 columns</p>\n",
              "</div>"
            ],
            "text/plain": [
              "   OverallQual  YearBuilt  YearRemodAdd  TotalBsmtSF  1stFlrSF  GrLivArea  \\\n",
              "0     0.651479   1.050994      0.878668    -0.459303 -0.793434   0.370333   \n",
              "1    -0.071836   0.156734     -0.429577     0.466465  0.257140  -0.482512   \n",
              "2     0.651479   0.984752      0.830215    -0.313369 -0.627826   0.515013   \n",
              "3     0.651479  -1.863632     -0.720298    -0.687324 -0.521734   0.383659   \n",
              "4     1.374795   0.951632      0.733308     0.199680 -0.045611   1.299326   \n",
              "\n",
              "   FullBath  TotRmsAbvGrd  GarageCars  GarageArea  ...  KitchenQual_TA  \\\n",
              "0  0.789741      0.912210    0.311725    0.351000  ...           False   \n",
              "1  0.789741     -0.318683    0.311725   -0.060731  ...            True   \n",
              "2  0.789741     -0.318683    0.311725    0.631726  ...           False   \n",
              "3 -1.026041      0.296763    1.650307    0.790804  ...           False   \n",
              "4  0.789741      1.527656    1.650307    1.698485  ...           False   \n",
              "\n",
              "   SaleCondition_Abnorml  SaleCondition_AdjLand  SaleCondition_Alloca  \\\n",
              "0                  False                  False                 False   \n",
              "1                  False                  False                 False   \n",
              "2                  False                  False                 False   \n",
              "3                   True                  False                 False   \n",
              "4                  False                  False                 False   \n",
              "\n",
              "   SaleCondition_Family  SaleCondition_Normal  SaleCondition_Partial  \\\n",
              "0                 False                  True                  False   \n",
              "1                 False                  True                  False   \n",
              "2                 False                  True                  False   \n",
              "3                 False                 False                  False   \n",
              "4                 False                  True                  False   \n",
              "\n",
              "   LandSlope_Gtl  LandSlope_Mod  LandSlope_Sev  \n",
              "0           True          False          False  \n",
              "1           True          False          False  \n",
              "2           True          False          False  \n",
              "3           True          False          False  \n",
              "4           True          False          False  \n",
              "\n",
              "[5 rows x 41 columns]"
            ]
          },
          "execution_count": 29,
          "metadata": {},
          "output_type": "execute_result"
        }
      ],
      "source": [
        "X.head()"
      ]
    },
    {
      "cell_type": "markdown",
      "id": "cbb4c637",
      "metadata": {
        "id": "cbb4c637",
        "papermill": {
          "duration": 0.10743,
          "end_time": "2022-01-07T14:53:13.812158",
          "exception": false,
          "start_time": "2022-01-07T14:53:13.704728",
          "status": "completed"
        },
        "tags": []
      },
      "source": [
        "<h1 style=\"font-family: 'Times New Roman'; letter-spacing: 0.08em;\">Train-Test Split</h1>"
      ]
    },
    {
      "cell_type": "markdown",
      "id": "dbe1c9d2",
      "metadata": {
        "id": "dbe1c9d2",
        "papermill": {
          "duration": 0.105439,
          "end_time": "2022-01-07T14:53:14.023784",
          "exception": false,
          "start_time": "2022-01-07T14:53:13.918345",
          "status": "completed"
        },
        "tags": []
      },
      "source": [
        "***Splitting the data into Train and Test chunks for better evaluation***"
      ]
    },
    {
      "cell_type": "code",
      "execution_count": null,
      "id": "a7fb6519",
      "metadata": {
        "execution": {
          "iopub.execute_input": "2022-01-07T14:53:14.236626Z",
          "iopub.status.busy": "2022-01-07T14:53:14.235904Z",
          "iopub.status.idle": "2022-01-07T14:53:14.245563Z",
          "shell.execute_reply": "2022-01-07T14:53:14.246040Z",
          "shell.execute_reply.started": "2022-01-07T14:43:34.643423Z"
        },
        "id": "a7fb6519",
        "papermill": {
          "duration": 0.117592,
          "end_time": "2022-01-07T14:53:14.246227",
          "exception": false,
          "start_time": "2022-01-07T14:53:14.128635",
          "status": "completed"
        },
        "tags": []
      },
      "outputs": [],
      "source": [
        "X_train, X_test, y_train, y_test = train_test_split(X, y, test_size=0.3, random_state=42)"
      ]
    },
    {
      "cell_type": "markdown",
      "id": "cbadb641",
      "metadata": {
        "id": "cbadb641",
        "papermill": {
          "duration": 0.10377,
          "end_time": "2022-01-07T14:53:14.453616",
          "exception": false,
          "start_time": "2022-01-07T14:53:14.349846",
          "status": "completed"
        },
        "tags": []
      },
      "source": [
        "***Defining several evaluation functions for convenience***"
      ]
    },
    {
      "cell_type": "code",
      "execution_count": null,
      "id": "c670aec2",
      "metadata": {
        "execution": {
          "iopub.execute_input": "2022-01-07T14:53:14.665704Z",
          "iopub.status.busy": "2022-01-07T14:53:14.664984Z",
          "iopub.status.idle": "2022-01-07T14:53:14.671641Z",
          "shell.execute_reply": "2022-01-07T14:53:14.672142Z",
          "shell.execute_reply.started": "2022-01-07T14:43:34.652584Z"
        },
        "id": "c670aec2",
        "papermill": {
          "duration": 0.115217,
          "end_time": "2022-01-07T14:53:14.672327",
          "exception": false,
          "start_time": "2022-01-07T14:53:14.557110",
          "status": "completed"
        },
        "tags": []
      },
      "outputs": [],
      "source": [
        "def rmse_cv(model):\n",
        "    rmse = np.sqrt(-cross_val_score(model, X, y, scoring=\"neg_mean_squared_error\", cv=5)).mean()\n",
        "    return rmse\n",
        "\n",
        "\n",
        "def evaluation(y, predictions):\n",
        "    mae = mean_absolute_error(y, predictions)\n",
        "    mse = mean_squared_error(y, predictions)\n",
        "    rmse = np.sqrt(mean_squared_error(y, predictions))\n",
        "    r_squared = r2_score(y, predictions)\n",
        "    return mae, mse, rmse, r_squared"
      ]
    },
    {
      "cell_type": "markdown",
      "id": "af18ea59",
      "metadata": {
        "id": "af18ea59",
        "papermill": {
          "duration": 0.103812,
          "end_time": "2022-01-07T14:53:14.880559",
          "exception": false,
          "start_time": "2022-01-07T14:53:14.776747",
          "status": "completed"
        },
        "tags": []
      },
      "source": [
        "<h1 style=\"font-family: 'Times New Roman'; letter-spacing: 0.08em;\">Machine Learning Models</h1>"
      ]
    },
    {
      "cell_type": "code",
      "execution_count": null,
      "id": "715304cf",
      "metadata": {
        "execution": {
          "iopub.execute_input": "2022-01-07T14:53:15.101493Z",
          "iopub.status.busy": "2022-01-07T14:53:15.100745Z",
          "iopub.status.idle": "2022-01-07T14:53:15.106737Z",
          "shell.execute_reply": "2022-01-07T14:53:15.107262Z",
          "shell.execute_reply.started": "2022-01-07T14:43:34.665439Z"
        },
        "id": "715304cf",
        "papermill": {
          "duration": 0.118597,
          "end_time": "2022-01-07T14:53:15.107485",
          "exception": false,
          "start_time": "2022-01-07T14:53:14.988888",
          "status": "completed"
        },
        "tags": []
      },
      "outputs": [],
      "source": [
        "models = pd.DataFrame(columns=[\"Model\",\"MAE\",\"MSE\",\"RMSE\",\"R2 Score\",\"RMSE (Cross-Validation)\"])"
      ]
    },
    {
      "cell_type": "markdown",
      "id": "ae0194fa",
      "metadata": {
        "id": "ae0194fa",
        "papermill": {
          "duration": 0.108867,
          "end_time": "2022-01-07T14:53:15.322909",
          "exception": false,
          "start_time": "2022-01-07T14:53:15.214042",
          "status": "completed"
        },
        "tags": []
      },
      "source": [
        "<h2 style=\"font-family: 'Times New Roman'; letter-spacing: 0.05em;\">Linear Regression</h2>"
      ]
    },
    {
      "cell_type": "code",
      "execution_count": null,
      "id": "e3958e72",
      "metadata": {
        "execution": {
          "iopub.execute_input": "2022-01-07T14:53:15.542477Z",
          "iopub.status.busy": "2022-01-07T14:53:15.541740Z",
          "iopub.status.idle": "2022-01-07T14:53:15.632785Z",
          "shell.execute_reply": "2022-01-07T14:53:15.633882Z",
          "shell.execute_reply.started": "2022-01-07T14:43:34.682777Z"
        },
        "id": "e3958e72",
        "papermill": {
          "duration": 0.203309,
          "end_time": "2022-01-07T14:53:15.634247",
          "exception": false,
          "start_time": "2022-01-07T14:53:15.430938",
          "status": "completed"
        },
        "tags": []
      },
      "outputs": [
        {
          "name": "stdout",
          "output_type": "stream",
          "text": [
            "MAE: 23044.38708059655\n",
            "MSE: 1231865269.1071663\n",
            "RMSE: 35097.93824581675\n",
            "R2 Score: 0.8234667931802986\n",
            "------------------------------\n",
            "RMSE Cross-Validation: 35933.12897629362\n"
          ]
        }
      ],
      "source": [
        "lin_reg = LinearRegression()\n",
        "lin_reg.fit(X_train, y_train)\n",
        "predictions = lin_reg.predict(X_test)\n",
        "\n",
        "mae, mse, rmse, r_squared = evaluation(y_test, predictions)\n",
        "print(\"MAE:\", mae)\n",
        "print(\"MSE:\", mse)\n",
        "print(\"RMSE:\", rmse)\n",
        "print(\"R2 Score:\", r_squared)\n",
        "print(\"-\"*30)\n",
        "rmse_cross_val = rmse_cv(lin_reg)\n",
        "print(\"RMSE Cross-Validation:\", rmse_cross_val)\n",
        "\n",
        "new_row = {\"Model\": \"LinearRegression\",\"MAE\": mae, \"MSE\": mse, \"RMSE\": rmse, \"R2 Score\": r_squared, \"RMSE (Cross-Validation)\": rmse_cross_val}\n",
        "models = pd.concat([models, pd.DataFrame([new_row])], ignore_index=True)"
      ]
    },
    {
      "cell_type": "markdown",
      "id": "69e2cf24",
      "metadata": {
        "id": "69e2cf24",
        "papermill": {
          "duration": 0.108289,
          "end_time": "2022-01-07T14:53:15.904370",
          "exception": false,
          "start_time": "2022-01-07T14:53:15.796081",
          "status": "completed"
        },
        "tags": []
      },
      "source": [
        "<h2 style=\"font-family: 'Times New Roman'; letter-spacing: 0.05em;\">Ridge Regression</h2>"
      ]
    },
    {
      "cell_type": "code",
      "execution_count": null,
      "id": "a0095af1",
      "metadata": {
        "execution": {
          "iopub.execute_input": "2022-01-07T14:53:16.125263Z",
          "iopub.status.busy": "2022-01-07T14:53:16.124591Z",
          "iopub.status.idle": "2022-01-07T14:53:16.201952Z",
          "shell.execute_reply": "2022-01-07T14:53:16.202884Z",
          "shell.execute_reply.started": "2022-01-07T14:43:34.782205Z"
        },
        "id": "a0095af1",
        "papermill": {
          "duration": 0.192599,
          "end_time": "2022-01-07T14:53:16.203172",
          "exception": false,
          "start_time": "2022-01-07T14:53:16.010573",
          "status": "completed"
        },
        "tags": []
      },
      "outputs": [
        {
          "name": "stdout",
          "output_type": "stream",
          "text": [
            "MAE: 22939.681422868427\n",
            "MSE: 1222947403.245638\n",
            "RMSE: 34970.6648956756\n",
            "R2 Score: 0.8247447734091466\n",
            "------------------------------\n",
            "RMSE Cross-Validation: 35887.852791598336\n"
          ]
        }
      ],
      "source": [
        "ridge = Ridge()\n",
        "ridge.fit(X_train, y_train)\n",
        "predictions = ridge.predict(X_test)\n",
        "\n",
        "mae, mse, rmse, r_squared = evaluation(y_test, predictions)\n",
        "print(\"MAE:\", mae)\n",
        "print(\"MSE:\", mse)\n",
        "print(\"RMSE:\", rmse)\n",
        "print(\"R2 Score:\", r_squared)\n",
        "print(\"-\"*30)\n",
        "rmse_cross_val = rmse_cv(ridge)\n",
        "print(\"RMSE Cross-Validation:\", rmse_cross_val)\n",
        "\n",
        "new_row = {\"Model\": \"Ridge\",\"MAE\": mae, \"MSE\": mse, \"RMSE\": rmse, \"R2 Score\": r_squared, \"RMSE (Cross-Validation)\": rmse_cross_val}\n",
        "models = pd.concat([models, pd.DataFrame([new_row])], ignore_index=True)"
      ]
    },
    {
      "cell_type": "markdown",
      "id": "b61ddb50",
      "metadata": {
        "id": "b61ddb50",
        "papermill": {
          "duration": 0.103788,
          "end_time": "2022-01-07T14:53:16.470822",
          "exception": false,
          "start_time": "2022-01-07T14:53:16.367034",
          "status": "completed"
        },
        "tags": []
      },
      "source": [
        "<h2 style=\"font-family: 'Times New Roman'; letter-spacing: 0.05em;\">Lasso Regression</h2>"
      ]
    },
    {
      "cell_type": "code",
      "execution_count": null,
      "id": "b1d9c1e2",
      "metadata": {
        "execution": {
          "iopub.execute_input": "2022-01-07T14:53:16.719534Z",
          "iopub.status.busy": "2022-01-07T14:53:16.718709Z",
          "iopub.status.idle": "2022-01-07T14:53:16.988244Z",
          "shell.execute_reply": "2022-01-07T14:53:16.989087Z",
          "shell.execute_reply.started": "2022-01-07T14:43:34.873251Z"
        },
        "id": "b1d9c1e2",
        "papermill": {
          "duration": 0.383321,
          "end_time": "2022-01-07T14:53:16.989364",
          "exception": false,
          "start_time": "2022-01-07T14:53:16.606043",
          "status": "completed"
        },
        "tags": []
      },
      "outputs": [
        {
          "name": "stdout",
          "output_type": "stream",
          "text": [
            "MAE: 23039.573118526547\n",
            "MSE: 1231461222.5681834\n",
            "RMSE: 35092.181786947694\n",
            "R2 Score: 0.8235246953170174\n",
            "------------------------------\n",
            "RMSE Cross-Validation: 35922.769368760746\n"
          ]
        }
      ],
      "source": [
        "lasso = Lasso()\n",
        "lasso.fit(X_train, y_train)\n",
        "predictions = lasso.predict(X_test)\n",
        "\n",
        "mae, mse, rmse, r_squared = evaluation(y_test, predictions)\n",
        "print(\"MAE:\", mae)\n",
        "print(\"MSE:\", mse)\n",
        "print(\"RMSE:\", rmse)\n",
        "print(\"R2 Score:\", r_squared)\n",
        "print(\"-\"*30)\n",
        "rmse_cross_val = rmse_cv(lasso)\n",
        "print(\"RMSE Cross-Validation:\", rmse_cross_val)\n",
        "\n",
        "new_row = {\"Model\": \"Lasso\",\"MAE\": mae, \"MSE\": mse, \"RMSE\": rmse, \"R2 Score\": r_squared, \"RMSE (Cross-Validation)\": rmse_cross_val}\n",
        "models = pd.concat([models, pd.DataFrame([new_row])], ignore_index=True)"
      ]
    },
    {
      "cell_type": "markdown",
      "id": "845ce0cc",
      "metadata": {
        "id": "845ce0cc",
        "papermill": {
          "duration": 0.104269,
          "end_time": "2022-01-07T14:53:17.252397",
          "exception": false,
          "start_time": "2022-01-07T14:53:17.148128",
          "status": "completed"
        },
        "tags": []
      },
      "source": [
        "<h2 style=\"font-family: 'Times New Roman'; letter-spacing: 0.05em;\">Elastic Net</h2>"
      ]
    },
    {
      "cell_type": "code",
      "execution_count": null,
      "id": "c318c673",
      "metadata": {
        "execution": {
          "iopub.execute_input": "2022-01-07T14:53:17.472199Z",
          "iopub.status.busy": "2022-01-07T14:53:17.471043Z",
          "iopub.status.idle": "2022-01-07T14:53:17.557495Z",
          "shell.execute_reply": "2022-01-07T14:53:17.558703Z",
          "shell.execute_reply.started": "2022-01-07T14:43:35.170172Z"
        },
        "id": "c318c673",
        "papermill": {
          "duration": 0.202613,
          "end_time": "2022-01-07T14:53:17.559025",
          "exception": false,
          "start_time": "2022-01-07T14:53:17.356412",
          "status": "completed"
        },
        "tags": []
      },
      "outputs": [
        {
          "name": "stdout",
          "output_type": "stream",
          "text": [
            "MAE: 23457.57487692352\n",
            "MSE: 1512979761.9465091\n",
            "RMSE: 38897.04052940929\n",
            "R2 Score: 0.783181508621224\n",
            "------------------------------\n",
            "RMSE Cross-Validation: 38449.00864609558\n"
          ]
        }
      ],
      "source": [
        "elastic_net = ElasticNet()\n",
        "elastic_net.fit(X_train, y_train)\n",
        "predictions = elastic_net.predict(X_test)\n",
        "\n",
        "mae, mse, rmse, r_squared = evaluation(y_test, predictions)\n",
        "print(\"MAE:\", mae)\n",
        "print(\"MSE:\", mse)\n",
        "print(\"RMSE:\", rmse)\n",
        "print(\"R2 Score:\", r_squared)\n",
        "print(\"-\"*30)\n",
        "rmse_cross_val = rmse_cv(elastic_net)\n",
        "print(\"RMSE Cross-Validation:\", rmse_cross_val)\n",
        "\n",
        "new_row = {\"Model\": \"ElasticNet\",\"MAE\": mae, \"MSE\": mse, \"RMSE\": rmse, \"R2 Score\": r_squared, \"RMSE (Cross-Validation)\": rmse_cross_val}\n",
        "models = pd.concat([models, pd.DataFrame([new_row])], ignore_index=True)"
      ]
    },
    {
      "cell_type": "markdown",
      "id": "95a4f5b1",
      "metadata": {
        "id": "95a4f5b1",
        "papermill": {
          "duration": 0.110909,
          "end_time": "2022-01-07T14:53:55.982058",
          "exception": false,
          "start_time": "2022-01-07T14:53:55.871149",
          "status": "completed"
        },
        "tags": []
      },
      "source": [
        "<h1 style=\"font-family: 'Times New Roman'; letter-spacing: 0.08em;\">Model Comparison</h1>"
      ]
    },
    {
      "cell_type": "markdown",
      "id": "5d3d9d60",
      "metadata": {
        "id": "5d3d9d60",
        "papermill": {
          "duration": 0.109875,
          "end_time": "2022-01-07T14:53:56.205726",
          "exception": false,
          "start_time": "2022-01-07T14:53:56.095851",
          "status": "completed"
        },
        "tags": []
      },
      "source": [
        "***The less the Root Mean Squared Error (RMSE), The better the model is.***"
      ]
    },
    {
      "cell_type": "code",
      "execution_count": null,
      "id": "da432aa2",
      "metadata": {
        "execution": {
          "iopub.execute_input": "2022-01-07T14:53:56.442625Z",
          "iopub.status.busy": "2022-01-07T14:53:56.432898Z",
          "iopub.status.idle": "2022-01-07T14:53:56.444702Z",
          "shell.execute_reply": "2022-01-07T14:53:56.445302Z",
          "shell.execute_reply.started": "2022-01-07T14:44:08.469751Z"
        },
        "id": "da432aa2",
        "papermill": {
          "duration": 0.129669,
          "end_time": "2022-01-07T14:53:56.445518",
          "exception": false,
          "start_time": "2022-01-07T14:53:56.315849",
          "status": "completed"
        },
        "tags": []
      },
      "outputs": [
        {
          "data": {
            "text/html": [
              "<div>\n",
              "<style scoped>\n",
              "    .dataframe tbody tr th:only-of-type {\n",
              "        vertical-align: middle;\n",
              "    }\n",
              "\n",
              "    .dataframe tbody tr th {\n",
              "        vertical-align: top;\n",
              "    }\n",
              "\n",
              "    .dataframe thead th {\n",
              "        text-align: right;\n",
              "    }\n",
              "</style>\n",
              "<table border=\"1\" class=\"dataframe\">\n",
              "  <thead>\n",
              "    <tr style=\"text-align: right;\">\n",
              "      <th></th>\n",
              "      <th>Model</th>\n",
              "      <th>MAE</th>\n",
              "      <th>MSE</th>\n",
              "      <th>RMSE</th>\n",
              "      <th>R2 Score</th>\n",
              "      <th>RMSE (Cross-Validation)</th>\n",
              "    </tr>\n",
              "  </thead>\n",
              "  <tbody>\n",
              "    <tr>\n",
              "      <th>1</th>\n",
              "      <td>Ridge</td>\n",
              "      <td>22939.681423</td>\n",
              "      <td>1.222947e+09</td>\n",
              "      <td>34970.664896</td>\n",
              "      <td>0.824745</td>\n",
              "      <td>35887.852792</td>\n",
              "    </tr>\n",
              "    <tr>\n",
              "      <th>2</th>\n",
              "      <td>Lasso</td>\n",
              "      <td>23039.573119</td>\n",
              "      <td>1.231461e+09</td>\n",
              "      <td>35092.181787</td>\n",
              "      <td>0.823525</td>\n",
              "      <td>35922.769369</td>\n",
              "    </tr>\n",
              "    <tr>\n",
              "      <th>0</th>\n",
              "      <td>LinearRegression</td>\n",
              "      <td>23044.387081</td>\n",
              "      <td>1.231865e+09</td>\n",
              "      <td>35097.938246</td>\n",
              "      <td>0.823467</td>\n",
              "      <td>35933.128976</td>\n",
              "    </tr>\n",
              "    <tr>\n",
              "      <th>3</th>\n",
              "      <td>ElasticNet</td>\n",
              "      <td>23457.574877</td>\n",
              "      <td>1.512980e+09</td>\n",
              "      <td>38897.040529</td>\n",
              "      <td>0.783182</td>\n",
              "      <td>38449.008646</td>\n",
              "    </tr>\n",
              "  </tbody>\n",
              "</table>\n",
              "</div>"
            ],
            "text/plain": [
              "              Model           MAE           MSE          RMSE  R2 Score  \\\n",
              "1             Ridge  22939.681423  1.222947e+09  34970.664896  0.824745   \n",
              "2             Lasso  23039.573119  1.231461e+09  35092.181787  0.823525   \n",
              "0  LinearRegression  23044.387081  1.231865e+09  35097.938246  0.823467   \n",
              "3        ElasticNet  23457.574877  1.512980e+09  38897.040529  0.783182   \n",
              "\n",
              "   RMSE (Cross-Validation)  \n",
              "1             35887.852792  \n",
              "2             35922.769369  \n",
              "0             35933.128976  \n",
              "3             38449.008646  "
            ]
          },
          "execution_count": 37,
          "metadata": {},
          "output_type": "execute_result"
        }
      ],
      "source": [
        "models.sort_values(by=\"RMSE (Cross-Validation)\")"
      ]
    },
    {
      "cell_type": "markdown",
      "id": "39a89c3b",
      "metadata": {},
      "source": [
        " Se puede visualizar que la regression linear tiene un error alto aplicando cross validation, lo cual nos indica que no es un modelo apropiado a escojer, por otro lado, el modelo que si tiene un bajo error en todos las prueba es Ridge, es el modelo mas apropiado a escojer"
      ]
    },
    {
      "cell_type": "code",
      "execution_count": null,
      "id": "05d6b92f",
      "metadata": {
        "execution": {
          "iopub.execute_input": "2022-01-07T14:53:56.672035Z",
          "iopub.status.busy": "2022-01-07T14:53:56.671377Z",
          "iopub.status.idle": "2022-01-07T14:53:56.902602Z",
          "shell.execute_reply": "2022-01-07T14:53:56.901922Z",
          "shell.execute_reply.started": "2022-01-07T14:44:08.498094Z"
        },
        "id": "05d6b92f",
        "papermill": {
          "duration": 0.345524,
          "end_time": "2022-01-07T14:53:56.902762",
          "exception": false,
          "start_time": "2022-01-07T14:53:56.557238",
          "status": "completed"
        },
        "tags": []
      },
      "outputs": [
        {
          "data": {
            "image/png": "[encoded data removed]",
            "text/plain": [
              "<Figure size 1200x800 with 1 Axes>"
            ]
          },
          "metadata": {},
          "output_type": "display_data"
        }
      ],
      "source": [
        "plt.figure(figsize=(12,8))\n",
        "sns.barplot(x=models[\"Model\"], y=models[\"RMSE (Cross-Validation)\"])\n",
        "plt.title(\"Models' RMSE Scores (Cross-Validated)\", size=15)\n",
        "plt.xticks(rotation=30, size=12)\n",
        "plt.show()"
      ]
    }
  ],
  "metadata": {
    "colab": {
      "provenance": []
    },
    "kernelspec": {
      "display_name": "Python 3",
      "language": "python",
      "name": "python3"
    },
    "language_info": {
      "codemirror_mode": {
        "name": "ipython",
        "version": 3
      },
      "file_extension": ".py",
      "mimetype": "text/x-python",
      "name": "python",
      "nbconvert_exporter": "python",
      "pygments_lexer": "ipython3",
      "version": "3.12.4"
    },
    "papermill": {
      "default_parameters": {},
      "duration": 106.517994,
      "end_time": "2022-01-07T14:53:58.655218",
      "environment_variables": {},
      "exception": null,
      "input_path": "__notebook__.ipynb",
      "output_path": "__notebook__.ipynb",
      "parameters": {},
      "start_time": "2022-01-07T14:52:12.137224",
      "version": "2.3.3"
    }
  },
  "nbformat": 4,
  "nbformat_minor": 5
}
