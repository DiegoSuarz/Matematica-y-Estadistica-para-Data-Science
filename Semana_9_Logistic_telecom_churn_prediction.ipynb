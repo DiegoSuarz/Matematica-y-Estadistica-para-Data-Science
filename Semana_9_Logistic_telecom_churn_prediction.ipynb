{
  "cells": [
    {
      "cell_type": "markdown",
      "source": [
        "## Contexto\n",
        "\"Predecir el comportamiento para retener a los clientes. Puede analizar todos los datos relevantes de los clientes y desarrollar programas de retención de clientes enfocados\". [Conjuntos de datos de muestra de IBM]\n",
        "\n",
        "## Contenido\n",
        "Cada fila representa un cliente, cada columna contiene los atributos del cliente descritos en la columna Metadatos.\n",
        "\n",
        "El conjunto de datos incluye información sobre:\n",
        "\n",
        "- Clientes que se fueron en el último mes: la columna se llama Rotación\n",
        "- Servicios a los que se ha registrado cada cliente: teléfono, líneas múltiples, Internet, seguridad en línea, respaldo en línea, protección de dispositivos, soporte técnico y transmisión de TV y películas.\n",
        "- Información de la cuenta del cliente: cuánto tiempo ha sido cliente, contrato, método de pago, facturación electrónica, cargos mensuales y cargos totales.\n",
        "- Información demográfica sobre los clientes: sexo, rango de edad y si tienen parejas y dependientes."
      ],
      "metadata": {
        "id": "mv0cQMhz8Xr8"
      }
    },
    {
      "metadata": {
        "_uuid": "3544313683eb7fc71db62dea38a54a3482efec26",
        "id": "e3dylgjG7f0G"
      },
      "cell_type": "markdown",
      "source": [
        "# EDA and Prediction"
      ]
    },
    {
      "metadata": {
        "_uuid": "db15e9d14568dbe9d4091a9efe0dd1fd946b137a",
        "id": "sduc1M2u7f0K"
      },
      "cell_type": "markdown",
      "source": [
        "La deserción es uno de los mayores problemas en la industria de las telecomunicaciones. Las investigaciones han demostrado que la tasa de abandono mensual promedio entre los 4 principales proveedores de servicios inalámbricos de EE. UU. es del 1,9 % al 2 %."
      ]
    },
    {
      "cell_type": "code",
      "source": [
        "import warnings\n",
        "warnings.filterwarnings('ignore')"
      ],
      "metadata": {
        "id": "AtPInR2DiesM"
      },
      "execution_count": null,
      "outputs": []
    },
    {
      "metadata": {
        "_uuid": "8f2839f25d086af736a60e9eeb907d3b93b6e0e5",
        "_cell_guid": "b1076dfc-b9ad-4769-8c92-a6c4dae69d19",
        "trusted": true,
        "id": "403Lhurn7f0L"
      },
      "cell_type": "code",
      "source": [
        "import numpy as np # linear algebra\n",
        "import pandas as pd # data processing, CSV file I/O (e.g. pd.read_csv)\n",
        "import seaborn as sns # For creating plots\n",
        "import matplotlib.ticker as mtick # For specifying the axes tick format\n",
        "import matplotlib.pyplot as plt\n",
        "\n",
        "sns.set(style = 'white')\n",
        "\n",
        "# Input data files are available in the \"../input/\" directory.\n",
        "\n",
        "import os\n",
        "# print(os.listdir(\"../input\"))\n",
        "\n",
        "# Any results you write to the current directory are saved as output."
      ],
      "execution_count": null,
      "outputs": []
    },
    {
      "metadata": {
        "_uuid": "72e4750b2861fe4d89197b4c73ad861544701c4f",
        "id": "MLxTnRU27f0N"
      },
      "cell_type": "markdown",
      "source": [
        "**Leamos el archivo de datos en el cuaderno de Python**"
      ]
    },
    {
      "metadata": {
        "_cell_guid": "79c7e3d0-c299-4dcb-8224-4455121ee9b0",
        "_uuid": "d629ff2d2480ee46fbb7e2d37f6b5fab8052498a",
        "trusted": true,
        "id": "w83Gsxhi7f0N"
      },
      "cell_type": "code",
      "source": [
        "telecom_cust = pd.read_csv('/content/WA_Fn-UseC_-Telco-Customer-Churn.csv')"
      ],
      "execution_count": null,
      "outputs": []
    },
    {
      "metadata": {
        "trusted": true,
        "_uuid": "9dc64474af58b8114afb60f83cd1a002722ba74c",
        "scrolled": true,
        "id": "dPdTTVZf7f0N"
      },
      "cell_type": "code",
      "source": [
        "telecom_cust.head()"
      ],
      "execution_count": null,
      "outputs": []
    },
    {
      "metadata": {
        "trusted": true,
        "_uuid": "d814e5db6f76a4e90b8496f09d0ba340d1eae808",
        "id": "hHVdhX5_7f0O"
      },
      "cell_type": "code",
      "source": [
        "telecom_cust.columns.values"
      ],
      "execution_count": null,
      "outputs": []
    },
    {
      "metadata": {
        "_uuid": "16fb2729865787705742df465100419d7988837c",
        "id": "PS53nJOy7f0O"
      },
      "cell_type": "markdown",
      "source": [
        "**Exploremos los datos para ver si falta algún valor.**"
      ]
    },
    {
      "metadata": {
        "trusted": true,
        "_uuid": "641531c5f3131228c78e6a200e0410a161ccb2b0",
        "id": "MFVFOCIU7f0O"
      },
      "cell_type": "code",
      "source": [
        "# Checking the data types of all the columns\n",
        "telecom_cust.dtypes"
      ],
      "execution_count": null,
      "outputs": []
    },
    {
      "metadata": {
        "trusted": true,
        "_uuid": "1d2c01029124a6fe73b3ec3fc4efdb66647d64e1",
        "id": "nWUH5Aay7f0P"
      },
      "cell_type": "code",
      "source": [
        "# Converting Total Charges to a numerical data type.\n",
        "telecom_cust.TotalCharges = pd.to_numeric(telecom_cust.TotalCharges, errors='coerce')\n",
        "telecom_cust.isnull().sum()"
      ],
      "execution_count": null,
      "outputs": []
    },
    {
      "metadata": {
        "_uuid": "4c997dec9dbb501333f6a1562e9092e1008df58f",
        "id": "0_EXoR6m7f0P"
      },
      "cell_type": "markdown",
      "source": [
        "Después de observar el resultado anterior, podemos decir que faltan 11 valores para Cargos totales. Reemplacemos y eliminemos estas 11 filas de nuestro conjunto de datos."
      ]
    },
    {
      "metadata": {
        "trusted": true,
        "_uuid": "35b6c18a5b84dd1e5fa014b49fcfce8ee43aaabe",
        "id": "K3fRQ0eu7f0P"
      },
      "cell_type": "code",
      "source": [
        "#Removing missing values\n",
        "telecom_cust.dropna(inplace = True)\n",
        "#Remove customer IDs from the data set\n",
        "df2 = telecom_cust.iloc[:,1:]\n",
        "#Convertin the predictor variable in a binary numeric variable\n",
        "df2['Churn'].replace(to_replace='Yes', value=1, inplace=True)\n",
        "df2['Churn'].replace(to_replace='No',  value=0, inplace=True)\n",
        "\n",
        "#Let's convert all the categorical variables into dummy variables\n",
        "df_dummies = pd.get_dummies(df2)\n",
        "df_dummies.head()"
      ],
      "execution_count": null,
      "outputs": []
    },
    {
      "metadata": {
        "trusted": true,
        "_uuid": "57fad0b9bcd9188193c84ae48ea589123532eac8",
        "id": "2RjuXMjC7f0P"
      },
      "cell_type": "code",
      "source": [
        "#Get Correlation of \"Churn\" with other variables:\n",
        "plt.figure(figsize=(15,8))\n",
        "df_dummies.corr()['Churn'].sort_values(ascending = False).plot(kind='bar')"
      ],
      "execution_count": null,
      "outputs": []
    },
    {
      "metadata": {
        "_uuid": "e4f114358ce3d568a34c1ac419623274a345812e",
        "id": "JVDt-EL87f0Q"
      },
      "cell_type": "markdown",
      "source": [
        "Los contratos mensuales, la ausencia de seguridad en línea y soporte técnico parecen estar correlacionados positivamente con la deserción. Mientras que los contratos de permanencia y de dos años parecen estar correlacionados negativamente con la deserción.\n",
        "\n",
        "Curiosamente, servicios como seguridad en línea, transmisión de TV, respaldo en línea, soporte técnico, etc. sin conexión a Internet parecen estar relacionados negativamente con la deserción.\n",
        "\n",
        "Exploraremos los patrones de las correlaciones anteriores a continuación antes de profundizar en el modelado y la identificación de las variables importantes."
      ]
    },
    {
      "metadata": {
        "_uuid": "36df8a7ca36ca8afe570cc985582ef12bc1bc7f8",
        "id": "3rEm7x7m7f0Q"
      },
      "cell_type": "markdown",
      "source": [
        "## Exploración de datos\n",
        "\n",
        "Primero comencemos explorando nuestro conjunto de datos, para comprender mejor los patrones en los datos y potencialmente formular alguna hipótesis. Primero veremos la distribución de variables individuales y luego analizaremos nuestros datos en busca de tendencias interesantes."
      ]
    },
    {
      "metadata": {
        "_uuid": "3755c7c8080f09fc745f8db11d9205102de6780e",
        "id": "njTl9Ts37f0Q"
      },
      "cell_type": "markdown",
      "source": [
        "**A.)** ***Datos demográficos***: primero comprendamos el género, rango de edad, pareja y estado dependiente de los clientes."
      ]
    },
    {
      "metadata": {
        "_uuid": "e98209bca3edf4f3ea0d2bdea092b152f09f6bbb",
        "id": "Uk8LMyX-7f0R"
      },
      "cell_type": "markdown",
      "source": [
        "1. **Distribución por género**: aproximadamente la mitad de los clientes de nuestro conjunto de datos son hombres, mientras que la otra mitad son mujeres."
      ]
    },
    {
      "metadata": {
        "trusted": true,
        "_uuid": "d507f49a7e96b7618b57e0812eed8847543b1c64",
        "id": "wADQfbS57f0R"
      },
      "cell_type": "code",
      "source": [
        "colors = ['#4D3425','#E4512B']\n",
        "ax = (telecom_cust['gender'].value_counts()*100.0 /len(telecom_cust)).plot(kind='bar',\n",
        "                                                                           stacked = True,\n",
        "                                                                          rot = 0,\n",
        "                                                                          color = colors)\n",
        "ax.yaxis.set_major_formatter(mtick.PercentFormatter())\n",
        "ax.set_ylabel('% Customers')\n",
        "ax.set_xlabel('Gender')\n",
        "ax.set_ylabel('% Customers')\n",
        "ax.set_title('Gender Distribution')\n",
        "\n",
        "# create a list to collect the plt.patches data\n",
        "totals = []\n",
        "\n",
        "# find the values and append to list\n",
        "for i in ax.patches:\n",
        "    totals.append(i.get_width())\n",
        "\n",
        "# set individual bar lables using above list\n",
        "total = sum(totals)\n",
        "\n",
        "for i in ax.patches:\n",
        "    # get_width pulls left or right; get_y pushes up or down\n",
        "    ax.text(i.get_x()+.15, i.get_height()-3.5, \\\n",
        "            str(round((i.get_height()/total), 1))+'%',\n",
        "            fontsize=12,\n",
        "            color='white',\n",
        "           weight = 'bold')"
      ],
      "execution_count": null,
      "outputs": []
    },
    {
      "metadata": {
        "trusted": true,
        "_uuid": "b9cceb14a980ddcd1ac36552947f1571706e0c17",
        "id": "3xhejYKP7f0R"
      },
      "cell_type": "markdown",
      "source": [
        "2. **% de personas mayores**: solo el 16% de los clientes son personas mayores. Por lo tanto, la mayoría de nuestros clientes en los datos son personas más jóvenes.\n"
      ]
    },
    {
      "metadata": {
        "trusted": true,
        "_uuid": "b552f24e928a6e41806ddfa10f49c331988e60e3",
        "id": "64qu4JSv7f0R"
      },
      "cell_type": "code",
      "source": [
        "ax = (telecom_cust['SeniorCitizen'].value_counts()*100.0 /len(telecom_cust))\\\n",
        ".plot.pie(autopct='%.1f%%', labels = ['No', 'Yes'],figsize =(5,5), fontsize = 12 )\n",
        "ax.yaxis.set_major_formatter(mtick.PercentFormatter())\n",
        "ax.set_ylabel('Senior Citizens',fontsize = 12)\n",
        "ax.set_title('% of Senior Citizens', fontsize = 12)"
      ],
      "execution_count": null,
      "outputs": []
    },
    {
      "metadata": {
        "trusted": true,
        "_uuid": "ae9ffa571dcf10f3cb0d8dc56e827cdf25fcf4e5",
        "collapsed": true,
        "id": "NJ4vYxGD7f0R"
      },
      "cell_type": "markdown",
      "source": [
        "3. **Estado de socio y dependiente**: alrededor del 50 % de los clientes tienen un socio, mientras que solo el 30 % del total de clientes tienen dependientes."
      ]
    },
    {
      "metadata": {
        "trusted": true,
        "_uuid": "6127f191c43a00f8f0bc865c327ce0632e2eeb3e",
        "id": "mQNeqJFV7f0S"
      },
      "cell_type": "code",
      "source": [
        "df2 = pd.melt(telecom_cust, id_vars=['customerID'], value_vars=['Dependents','Partner'])\n",
        "df3 = df2.groupby(['variable','value']).count().unstack()\n",
        "df3 = df3*100/len(telecom_cust)\n",
        "colors = ['#4D3425','#E4512B']\n",
        "ax = df3.loc[:,'customerID'].plot.bar(stacked=True, color=colors,\n",
        "                                      figsize=(8,6),rot = 0,\n",
        "                                     width = 0.2)\n",
        "\n",
        "ax.yaxis.set_major_formatter(mtick.PercentFormatter())\n",
        "ax.set_ylabel('% Customers',size = 14)\n",
        "ax.set_xlabel('')\n",
        "ax.set_title('% Customers with dependents and partners',size = 14)\n",
        "ax.legend(loc = 'center',prop={'size':14})\n",
        "\n",
        "for p in ax.patches:\n",
        "    width, height = p.get_width(), p.get_height()\n",
        "    x, y = p.get_xy()\n",
        "    ax.annotate('{:.0f}%'.format(height), (p.get_x()+.25*width, p.get_y()+.4*height),\n",
        "                color = 'white',\n",
        "               weight = 'bold',\n",
        "               size = 14)"
      ],
      "execution_count": null,
      "outputs": []
    },
    {
      "metadata": {
        "_uuid": "ef1d5a99fb546b501b2cb5b35d5fb437303b4c20",
        "id": "ffs2Kyv87f0S"
      },
      "cell_type": "markdown",
      "source": [
        "**Lo que sería interesante es ver el % de clientes que tienen socios y también tienen dependientes. Exploraremos esto a continuación.**"
      ]
    },
    {
      "metadata": {
        "trusted": true,
        "_uuid": "56ee88a7c14911a3cd79c3b885ac738377baf7aa",
        "id": "ozwdTjWZ7f0S"
      },
      "cell_type": "markdown",
      "source": [
        "Curiosamente, entre los clientes que tienen una pareja, sólo alrededor de la mitad tienen también un dependiente, mientras que la otra mitad no tiene ningún independiente.\n",
        "Además, como era de esperar, entre los clientes que no tienen pareja, la mayoría (80%) no tiene dependientes."
      ]
    },
    {
      "metadata": {
        "trusted": true,
        "_uuid": "f79c281d0cfab3cc8f14979d33834f8834ef9d2e",
        "id": "6IbOzRvB7f0S"
      },
      "cell_type": "code",
      "source": [
        "colors = ['#4D3425','#E4512B']\n",
        "partner_dependents = telecom_cust.groupby(['Partner','Dependents']).size().unstack()\n",
        "\n",
        "ax = (partner_dependents.T*100.0 / partner_dependents.T.sum()).T.plot(kind='bar',\n",
        "                                                                width = 0.2,\n",
        "                                                                stacked = True,\n",
        "                                                                rot = 0,\n",
        "                                                                figsize = (8,6),\n",
        "                                                                color = colors)\n",
        "ax.yaxis.set_major_formatter(mtick.PercentFormatter())\n",
        "ax.legend(loc='center',prop={'size':14},title = 'Dependents',fontsize =14)\n",
        "ax.set_ylabel('% Customers',size = 14)\n",
        "ax.set_title('% Customers with/without dependents based on whether they have a partner',size = 14)\n",
        "ax.xaxis.label.set_size(14)\n",
        "\n",
        "# Code to add the data labels on the stacked bar chart\n",
        "for p in ax.patches:\n",
        "    width, height = p.get_width(), p.get_height()\n",
        "    x, y = p.get_xy()\n",
        "    ax.annotate('{:.0f}%'.format(height), (p.get_x()+.25*width, p.get_y()+.4*height),\n",
        "                color = 'white',\n",
        "               weight = 'bold',\n",
        "               size = 14)"
      ],
      "execution_count": null,
      "outputs": []
    },
    {
      "metadata": {
        "_uuid": "3da3b87d7066955df9803b71931c5d5f7f5af1bb",
        "id": "MgT7DSVa7f0T"
      },
      "cell_type": "markdown",
      "source": [
        "También analicé las diferencias entre el porcentaje de clientes con/sin dependientes y socios por género. No hay diferencia en su distribución por género. Además, no existe diferencia en la condición de persona mayor por género."
      ]
    },
    {
      "metadata": {
        "trusted": true,
        "_uuid": "479b11772e5d57dbf5a812abdd07a344e876c935",
        "id": "fgAgvEGV7f0T"
      },
      "cell_type": "markdown",
      "source": [
        "### B.) **Información de la cuenta del cliente**: Veamos ahora la tenencia y el contrato."
      ]
    },
    {
      "metadata": {
        "_uuid": "d3090f6fd85039f6c67875eadf51d59b0d3c27a8",
        "id": "6uuI-AqU7f0T"
      },
      "cell_type": "markdown",
      "source": [
        "**1. Antigüedad:** Después de observar el histograma a continuación, podemos ver que muchos clientes han estado en la empresa de telecomunicaciones durante solo un mes, mientras que muchos están allí durante aproximadamente 72 meses. Esto podría deberse potencialmente a que diferentes clientes tienen contratos diferentes. Por lo tanto, según el contrato que tengan, podría ser más o menos fácil para los clientes quedarse o abandonar la empresa de telecomunicaciones."
      ]
    },
    {
      "metadata": {
        "trusted": true,
        "_uuid": "2b1dca3917424690fe006b38b03b46ebf1e751d4",
        "id": "sMgPZhab7f0T"
      },
      "cell_type": "code",
      "source": [
        "ax = sns.distplot(telecom_cust['tenure'], hist=True, kde=False,\n",
        "             bins=int(180/5), color = 'darkblue',\n",
        "             hist_kws={'edgecolor':'black'},\n",
        "             kde_kws={'linewidth': 4})\n",
        "ax.set_ylabel('# of Customers')\n",
        "ax.set_xlabel('Tenure (months)')\n",
        "ax.set_title('# of Customers by their tenure')"
      ],
      "execution_count": null,
      "outputs": []
    },
    {
      "metadata": {
        "_uuid": "ce5fccc67da0ea51ed1bf9a3451d9aeedfb9cd77",
        "id": "vI7Pj4JS7f0T"
      },
      "cell_type": "markdown",
      "source": [
        "**2. Contratos:** Para comprender el gráfico anterior, veamos primero el número de clientes por diferentes contratos."
      ]
    },
    {
      "metadata": {
        "trusted": true,
        "_uuid": "b4589d9d041360eb2c1f33bafb61631fa3b1a29e",
        "id": "kcQiTgSR7f0U"
      },
      "cell_type": "code",
      "source": [
        "ax = telecom_cust['Contract'].value_counts().plot(kind = 'bar',rot = 0, width = 0.3)\n",
        "ax.set_ylabel('# of Customers')\n",
        "ax.set_title('# of Customers by Contract Type')"
      ],
      "execution_count": null,
      "outputs": []
    },
    {
      "metadata": {
        "_uuid": "0acd43e2b09988ba4d5c0de03cfab1c8a7d684a0",
        "id": "Zz6dcrtj7f0U"
      },
      "cell_type": "markdown",
      "source": [
        "Como podemos ver en este gráfico, la mayoría de los clientes tienen contrato mes a mes. Si bien hay el mismo número de clientes en los contratos de 1 año y 2 años.\n"
      ]
    },
    {
      "metadata": {
        "_uuid": "cc6cac55a5511342b33fed0feaf3b9624788fd5a",
        "id": "nxYjwQBd7f0U"
      },
      "cell_type": "markdown",
      "source": [
        "A continuación entenderemos la tenencia de los clientes según su tipo de contrato."
      ]
    },
    {
      "metadata": {
        "trusted": true,
        "_uuid": "1a616c81b2d4153d3470010a90f03fa25767a7ed",
        "id": "94H9sXZJ7f0U"
      },
      "cell_type": "code",
      "source": [
        "fig, (ax1,ax2,ax3) = plt.subplots(nrows=1, ncols=3, sharey = True, figsize = (20,6))\n",
        "\n",
        "ax = sns.distplot(telecom_cust[telecom_cust['Contract']=='Month-to-month']['tenure'],\n",
        "                   hist=True, kde=False,\n",
        "                   bins=int(180/5), color = 'turquoise',\n",
        "                   hist_kws={'edgecolor':'black'},\n",
        "                   kde_kws={'linewidth': 4},\n",
        "                 ax=ax1)\n",
        "ax.set_ylabel('# of Customers')\n",
        "ax.set_xlabel('Tenure (months)')\n",
        "ax.set_title('Month to Month Contract')\n",
        "\n",
        "ax = sns.distplot(telecom_cust[telecom_cust['Contract']=='One year']['tenure'],\n",
        "                   hist=True, kde=False,\n",
        "                   bins=int(180/5), color = 'steelblue',\n",
        "                   hist_kws={'edgecolor':'black'},\n",
        "                   kde_kws={'linewidth': 4},\n",
        "                 ax=ax2)\n",
        "ax.set_xlabel('Tenure (months)',size = 14)\n",
        "ax.set_title('One Year Contract',size = 14)\n",
        "\n",
        "ax = sns.distplot(telecom_cust[telecom_cust['Contract']=='Two year']['tenure'],\n",
        "                   hist=True, kde=False,\n",
        "                   bins=int(180/5), color = 'darkblue',\n",
        "                   hist_kws={'edgecolor':'black'},\n",
        "                   kde_kws={'linewidth': 4},\n",
        "                 ax=ax3)\n",
        "\n",
        "ax.set_xlabel('Tenure (months)')\n",
        "ax.set_title('Two Year Contract')"
      ],
      "execution_count": null,
      "outputs": []
    },
    {
      "metadata": {
        "trusted": true,
        "_uuid": "ee2411d340eb9c03cd45cbaafd391bf60f61653c",
        "id": "6ijU_qx57f0U"
      },
      "cell_type": "markdown",
      "source": [
        "Curiosamente, la mayoría de los contratos mensuales duran entre 1 y 2 meses, mientras que los contratos de 2 años tienden a durar unos 70 meses. Esto demuestra que los clientes que aceptan un contrato más largo son más leales a la empresa y tienden a permanecer en ella durante un período de tiempo más largo.\n",
        "\n",
        "Esto es también lo que vimos en el gráfico anterior sobre la correlación con la tasa de abandono."
      ]
    },
    {
      "metadata": {
        "_uuid": "7f912f0a732097de7c35920ea25ccf14cd05cc13",
        "id": "YLQgbsrg7f0U"
      },
      "cell_type": "markdown",
      "source": [
        "###  C. Let us now look at the distribution of various services used by customers"
      ]
    },
    {
      "metadata": {
        "trusted": true,
        "_uuid": "961cdb51ddd3ccb110555b359394d823c33df66b",
        "id": "0LkexAGS7f0U"
      },
      "cell_type": "code",
      "source": [
        "telecom_cust.columns.values"
      ],
      "execution_count": null,
      "outputs": []
    },
    {
      "metadata": {
        "trusted": true,
        "_uuid": "8503e680b82a2492bfed8f29dd2d13dafb7ed661",
        "id": "8RMx2TrM7f0V"
      },
      "cell_type": "code",
      "source": [
        "services = ['PhoneService','MultipleLines','InternetService','OnlineSecurity',\n",
        "           'OnlineBackup','DeviceProtection','TechSupport','StreamingTV','StreamingMovies']\n",
        "\n",
        "fig, axes = plt.subplots(nrows = 3,ncols = 3,figsize = (15,12))\n",
        "for i, item in enumerate(services):\n",
        "    if i < 3:\n",
        "        ax = telecom_cust[item].value_counts().plot(kind = 'bar',ax=axes[i,0],rot = 0)\n",
        "\n",
        "    elif i >=3 and i < 6:\n",
        "        ax = telecom_cust[item].value_counts().plot(kind = 'bar',ax=axes[i-3,1],rot = 0)\n",
        "\n",
        "    elif i < 9:\n",
        "        ax = telecom_cust[item].value_counts().plot(kind = 'bar',ax=axes[i-6,2],rot = 0)\n",
        "    ax.set_title(item)"
      ],
      "execution_count": null,
      "outputs": []
    },
    {
      "metadata": {
        "_uuid": "fec8539f6336ca456276f67b6ffd72b8ceb3790e",
        "id": "wWy2mp847f0V"
      },
      "cell_type": "markdown",
      "source": [
        "### D.) Ahora echemos un vistazo rápido a la relación entre los cargos mensuales y totales."
      ]
    },
    {
      "metadata": {
        "_uuid": "933ff48d2ebc4c4828a2c998b6f0428767475161",
        "id": "0_BKtX4a7f0Z"
      },
      "cell_type": "markdown",
      "source": [
        "Observaremos que los cargos totales aumentan a medida que aumenta la factura mensual de un cliente."
      ]
    },
    {
      "metadata": {
        "trusted": true,
        "_uuid": "4601f238e8fe13cbb815be90718086928a54041b",
        "id": "xcwN0BYC7f0Z"
      },
      "cell_type": "code",
      "source": [
        "telecom_cust[['MonthlyCharges', 'TotalCharges']].plot.scatter(x = 'MonthlyCharges',\n",
        "                                                              y='TotalCharges')"
      ],
      "execution_count": null,
      "outputs": []
    },
    {
      "metadata": {
        "_uuid": "ad813734756bd9cf1d298aee1d4063beef47738f",
        "id": "H92LD8aK7f0Z"
      },
      "cell_type": "markdown",
      "source": [
        "### E.) Finalmente, echemos un vistazo a nuestra variable predictiva (Churn) y comprendamos su interacción con otras variables importantes como se descubrió en el gráfico de correlación."
      ]
    },
    {
      "metadata": {
        "_uuid": "67dea305467069a89007dd58a5906195ea0627d0",
        "id": "ua20vDLO7f0Z"
      },
      "cell_type": "markdown",
      "source": [
        "1. Veamos primero la tasa de abandono de nuestros datos."
      ]
    },
    {
      "metadata": {
        "trusted": true,
        "_uuid": "4bef28080b360cbad4944abb2d4f75a440c525e9",
        "id": "WQ5_HftZ7f0Z"
      },
      "cell_type": "code",
      "source": [
        "colors = ['#4D3425','#E4512B']\n",
        "ax = (telecom_cust['Churn'].value_counts()*100.0 /len(telecom_cust)).plot(kind='bar',\n",
        "                                                                           stacked = True,\n",
        "                                                                          rot = 0,\n",
        "                                                                          color = colors,\n",
        "                                                                         figsize = (8,6))\n",
        "ax.yaxis.set_major_formatter(mtick.PercentFormatter())\n",
        "ax.set_ylabel('% Customers',size = 14)\n",
        "ax.set_xlabel('Churn',size = 14)\n",
        "ax.set_title('Churn Rate', size = 14)\n",
        "\n",
        "# create a list to collect the plt.patches data\n",
        "totals = []\n",
        "\n",
        "# find the values and append to list\n",
        "for i in ax.patches:\n",
        "    totals.append(i.get_width())\n",
        "\n",
        "# set individual bar lables using above list\n",
        "total = sum(totals)\n",
        "\n",
        "for i in ax.patches:\n",
        "    # get_width pulls left or right; get_y pushes up or down\n",
        "    ax.text(i.get_x()+.15, i.get_height()-4.0, \\\n",
        "            str(round((i.get_height()/total), 1))+'%',\n",
        "            fontsize=12, # Remove the 'size' argument\n",
        "            color='white',\n",
        "           weight = 'bold',\n",
        "           )"
      ],
      "execution_count": null,
      "outputs": []
    },
    {
      "metadata": {
        "_uuid": "432a25bf5cd664b021617844ba945fce5c6f341b",
        "id": "6tiEk4VQ7f0Z"
      },
      "cell_type": "markdown",
      "source": [
        "Según nuestros datos, el 74% de los clientes no abandonan. Claramente, los datos están sesgados, ya que esperaríamos que una gran mayoría de los clientes no abandonaran. Es importante tener esto en cuenta para nuestro modelado, ya que la asimetría podría generar muchos falsos negativos. Veremos en la sección de modelado cómo evitar la asimetría en los datos."
      ]
    },
    {
      "metadata": {
        "_uuid": "a9a182eb5bf7832d84072519b01f4ebc741da8a9",
        "id": "Hr-_yRUP7f0a"
      },
      "cell_type": "markdown",
      "source": [
        "2. Exploremos ahora la tasa de abandono por antigüedad, antigüedad, tipo de contrato, cargos mensuales y cargos totales para ver cómo varía según estas variables."
      ]
    },
    {
      "metadata": {
        "_uuid": "d6be674fd79a62315fe71699fb1164f31ed1446a",
        "id": "CoNxZQRu7f0a"
      },
      "cell_type": "markdown",
      "source": [
        "**i.) Abandono vs Permanencia**: Como podemos ver en el siguiente gráfico, los clientes que no abandonan tienden a permanecer por más tiempo en la empresa de telecomunicaciones."
      ]
    },
    {
      "metadata": {
        "trusted": true,
        "_uuid": "e7643a6a6dac23d668aa512b3a922d68ed91abc4",
        "id": "9Tp3Rcmf7f0a"
      },
      "cell_type": "code",
      "source": [
        "sns.boxplot(x = telecom_cust.Churn, y = telecom_cust.tenure)"
      ],
      "execution_count": null,
      "outputs": []
    },
    {
      "metadata": {
        "_uuid": "6ef23d7c4fddda89f7ec7c9345851ccd4bcb5089",
        "id": "pJdl1tpF7f0a"
      },
      "cell_type": "markdown",
      "source": [
        "**ii.) Rotación por tipo de contrato**: similar a lo que vimos en el gráfico de correlación, los clientes que tienen un contrato mes a mes tienen una tasa de rotación muy alta."
      ]
    },
    {
      "metadata": {
        "trusted": true,
        "_uuid": "7ddbc6ac84fe48dcea91ce2a60a6103e2a10ad9f",
        "id": "A864kxl77f0a"
      },
      "cell_type": "code",
      "source": [
        "colors = ['#4D3425','#E4512B']\n",
        "contract_churn = telecom_cust.groupby(['Contract','Churn']).size().unstack()\n",
        "\n",
        "ax = (contract_churn.T*100.0 / contract_churn.T.sum()).T.plot(kind='bar',\n",
        "                                                                width = 0.3,\n",
        "                                                                stacked = True,\n",
        "                                                                rot = 0,\n",
        "                                                                figsize = (10,6),\n",
        "                                                                color = colors)\n",
        "ax.yaxis.set_major_formatter(mtick.PercentFormatter())\n",
        "ax.legend(loc='best',prop={'size':14},title = 'Churn')\n",
        "ax.set_ylabel('% Customers',size = 14)\n",
        "ax.set_title('Churn by Contract Type',size = 14)\n",
        "\n",
        "# Code to add the data labels on the stacked bar chart\n",
        "for p in ax.patches:\n",
        "    width, height = p.get_width(), p.get_height()\n",
        "    x, y = p.get_xy()\n",
        "    ax.annotate('{:.0f}%'.format(height), (p.get_x()+.25*width, p.get_y()+.4*height),\n",
        "                color = 'white',\n",
        "               weight = 'bold',\n",
        "               size = 14)"
      ],
      "execution_count": null,
      "outputs": []
    },
    {
      "metadata": {
        "_uuid": "d2975c96bb5c2ea1bcdf8c718aef1f3e8226a64c",
        "id": "mFnQXAZ57f0a"
      },
      "cell_type": "markdown",
      "source": [
        "**iii.) Rotación por antigüedad**: las personas mayores tienen casi el doble de tasa de rotación que la población más joven."
      ]
    },
    {
      "metadata": {
        "trusted": true,
        "_uuid": "169bc4d753a4bb1368ffe02768481e35366d75e1",
        "id": "YWMBLq0c7f0a"
      },
      "cell_type": "code",
      "source": [
        "colors = ['#4D3425','#E4512B']\n",
        "seniority_churn = telecom_cust.groupby(['SeniorCitizen','Churn']).size().unstack()\n",
        "\n",
        "ax = (seniority_churn.T*100.0 / seniority_churn.T.sum()).T.plot(kind='bar',\n",
        "                                                                width = 0.2,\n",
        "                                                                stacked = True,\n",
        "                                                                rot = 0,\n",
        "                                                                figsize = (8,6),\n",
        "                                                                color = colors)\n",
        "ax.yaxis.set_major_formatter(mtick.PercentFormatter())\n",
        "ax.legend(loc='center',prop={'size':14},title = 'Churn')\n",
        "ax.set_ylabel('% Customers')\n",
        "ax.set_title('Churn by Seniority Level',size = 14)\n",
        "\n",
        "# Code to add the data labels on the stacked bar chart\n",
        "for p in ax.patches:\n",
        "    width, height = p.get_width(), p.get_height()\n",
        "    x, y = p.get_xy()\n",
        "    ax.annotate('{:.0f}%'.format(height), (p.get_x()+.25*width, p.get_y()+.4*height),\n",
        "                color = 'white',\n",
        "               weight = 'bold',size =14)"
      ],
      "execution_count": null,
      "outputs": []
    },
    {
      "metadata": {
        "trusted": true,
        "_uuid": "bd0851a067af76d101f72fc4eb2f95bea547eda3",
        "id": "wAyxNJ1t7f0b"
      },
      "cell_type": "markdown",
      "source": [
        "**iv.) Rotación por cargos mensuales**: mayor porcentaje de clientes que abandonan cuando los cargos mensuales son altos."
      ]
    },
    {
      "metadata": {
        "trusted": true,
        "_uuid": "fa0b5fc6c8ee5f284c0f8515c297d6765cc2b807",
        "id": "dkXzxFgq7f0b"
      },
      "cell_type": "code",
      "source": [
        "ax = sns.kdeplot(telecom_cust.MonthlyCharges[(telecom_cust[\"Churn\"] == 'No') ],\n",
        "                color=\"Red\", shade = True)\n",
        "ax = sns.kdeplot(telecom_cust.MonthlyCharges[(telecom_cust[\"Churn\"] == 'Yes') ],\n",
        "                ax =ax, color=\"Blue\", shade= True)\n",
        "ax.legend([\"Not Churn\",\"Churn\"],loc='upper right')\n",
        "ax.set_ylabel('Density')\n",
        "ax.set_xlabel('Monthly Charges')\n",
        "ax.set_title('Distribution of monthly charges by churn')"
      ],
      "execution_count": null,
      "outputs": []
    },
    {
      "metadata": {
        "trusted": true,
        "_uuid": "f6cc05bc4205538c60a69ad00ce742118a21786d",
        "id": "GxXrJidl7f0b"
      },
      "cell_type": "markdown",
      "source": [
        "**v.) Rotación por cargos totales**: Parece que hay mayor rotación cuando los cargos totales son menores."
      ]
    },
    {
      "metadata": {
        "trusted": true,
        "_uuid": "73b499447ad1d100aae396cb5b7d16533f153219",
        "id": "KG8e6UvY7f0b"
      },
      "cell_type": "code",
      "source": [
        "ax = sns.kdeplot(telecom_cust.TotalCharges[(telecom_cust[\"Churn\"] == 'No') ],\n",
        "                color=\"Red\", shade = True)\n",
        "ax = sns.kdeplot(telecom_cust.TotalCharges[(telecom_cust[\"Churn\"] == 'Yes') ],\n",
        "                ax =ax, color=\"Blue\", shade= True)\n",
        "ax.legend([\"Not Churn\",\"Churn\"],loc='upper right')\n",
        "ax.set_ylabel('Density')\n",
        "ax.set_xlabel('Total Charges')\n",
        "ax.set_title('Distribution of total charges by churn')"
      ],
      "execution_count": null,
      "outputs": []
    },
    {
      "metadata": {
        "_uuid": "a253e14489981fb89ac3a36849432549f442695d",
        "id": "ijltlUs97f0b"
      },
      "cell_type": "markdown",
      "source": [
        "## Después de revisar el EDA anterior, desarrollaremos algunos modelos predictivos y los compararemos.\n",
        "\n",
        "Se usará la Logistic Regression"
      ]
    },
    {
      "metadata": {
        "_uuid": "083086278a1073887b282a50a6399b1985224c1f",
        "id": "j6DZWO_G7f0c"
      },
      "cell_type": "markdown",
      "source": [
        "**1. Logistic Regression**"
      ]
    },
    {
      "cell_type": "code",
      "source": [
        "df_dummies.head()"
      ],
      "metadata": {
        "id": "bAP-cmLlbctZ"
      },
      "execution_count": null,
      "outputs": []
    },
    {
      "metadata": {
        "trusted": true,
        "_uuid": "7d13d788abc4ee9268338ad0539e6f8098ae9fd4",
        "id": "EAxGCWaM7f0c"
      },
      "cell_type": "code",
      "source": [
        "# We will use the data frame where we had created dummy variables\n",
        "y = df_dummies['Churn'].values\n",
        "X = df_dummies.drop(columns = ['Churn'])\n",
        "\n",
        "# Scaling all the variables to a range of 0 to 1\n",
        "from sklearn.preprocessing import MinMaxScaler\n",
        "features = X.columns.values\n",
        "scaler = MinMaxScaler(feature_range = (0,1))\n",
        "scaler.fit(X)\n",
        "X = pd.DataFrame(scaler.transform(X))\n",
        "X.columns = features"
      ],
      "execution_count": null,
      "outputs": []
    },
    {
      "metadata": {
        "_uuid": "84cd7e26d0c3e46555b53fadefd203b4adaa0da9",
        "id": "kgnCaT8X7f0c"
      },
      "cell_type": "markdown",
      "source": [
        "Es importante escalar las variables en la regresión logística para que todas estén dentro de un rango de 0 a 1. Esto ayudó a mejorar la precisión del 79,7 % al 80,7 %. Además, notará a continuación que la importancia de las variables también está alineada con lo que estamos viendo en el algoritmo Random Forest y el EDA que realizamos anteriormente."
      ]
    },
    {
      "metadata": {
        "trusted": true,
        "_uuid": "32367729f8ea962bb73cae8b88b6310dd811b6de",
        "id": "2_0VxYRA7f0c"
      },
      "cell_type": "code",
      "source": [
        "# Create Train & Test Data\n",
        "from sklearn.model_selection import train_test_split\n",
        "X_train, X_test, y_train, y_test = train_test_split(X, y, test_size=0.3, random_state=101)"
      ],
      "execution_count": null,
      "outputs": []
    },
    {
      "metadata": {
        "trusted": true,
        "_uuid": "998977bc5997ee4f9b5c45f3997523339ddc3943",
        "id": "s_Idv1Au7f0c"
      },
      "cell_type": "code",
      "source": [
        "# Running logistic regression model\n",
        "from sklearn.linear_model import LogisticRegression\n",
        "model = LogisticRegression()\n",
        "result = model.fit(X_train, y_train)"
      ],
      "execution_count": null,
      "outputs": []
    },
    {
      "metadata": {
        "trusted": true,
        "_uuid": "f7f3d7b6cad7e9754fc7480e004269000363ec29",
        "id": "DZykfKyY7f0c"
      },
      "cell_type": "code",
      "source": [
        "from sklearn import metrics\n",
        "prediction_test = model.predict(X_test)\n",
        "# Print the prediction accuracy\n",
        "print (metrics.accuracy_score(y_test, prediction_test))"
      ],
      "execution_count": null,
      "outputs": []
    },
    {
      "metadata": {
        "trusted": true,
        "_uuid": "ea39ca61c3af331a45ff320add59e1aefab7da65",
        "id": "rpbn2c937f0d"
      },
      "cell_type": "code",
      "source": [
        "# To get the weights of all the variables\n",
        "weights = pd.Series(model.coef_[0],\n",
        "                 index=X.columns.values)\n",
        "print (weights.sort_values(ascending = False)[:10].plot(kind='bar'))"
      ],
      "execution_count": null,
      "outputs": []
    },
    {
      "metadata": {
        "trusted": true,
        "_uuid": "6aef934353dce495ea49e3ba48fe9ef29e7a53f0",
        "id": "QKSNqDXl7f0d"
      },
      "cell_type": "code",
      "source": [
        "print(weights.sort_values(ascending = False)[-10:].plot(kind='bar'))"
      ],
      "execution_count": null,
      "outputs": []
    },
    {
      "metadata": {
        "_uuid": "185b83162c70e65203bdc387d036f7d24ae8c129",
        "id": "x-rW53E97f0d"
      },
      "cell_type": "markdown",
      "source": [
        "**Observaciones**\n",
        "\n",
        "Podemos ver que algunas variables tienen una relación negativa con nuestra variable predicha (Churn), mientras que otras tienen una relación positiva. La relación negativa significa que la probabilidad de abandono disminuye con esa variable. Resumamos algunas de las características interesantes a continuación:\n",
        "* Como vimos en nuestra EDA, tener un contrato de 2 meses reduce las posibilidades de abandono. El contrato de 2 meses junto con la permanencia tienen la relación más negativa con el abandono, según lo predicho por las regresiones logísticas.\n",
        "* Tener servicio de internet DSL también reduce la probabilidad de Churn\n",
        "* Por último, los cargos totales, los contratos mensuales, los servicios de Internet de fibra óptica y la antigüedad pueden generar tasas de abandono más altas. Esto es interesante porque, aunque los servicios de fibra óptica son más rápidos, es probable que los clientes abandonen sus servicios debido a ello. Creo que necesitamos explorar más para comprender mejor por qué sucede esto.\n",
        "\n",
        "¡Cualquier hipótesis sobre lo anterior sería realmente útil!"
      ]
    },
    {
      "cell_type": "markdown",
      "source": [
        "---------"
      ],
      "metadata": {
        "id": "1EjP89fNHj9r"
      }
    },
    {
      "cell_type": "code",
      "source": [
        "import numpy as np\n",
        "from sklearn.metrics import roc_auc_score, f1_score, recall_score, confusion_matrix\n",
        "\n",
        "def calculate_metrics(y_true, y_pred_prob, threshold=0.5):\n",
        "    \"\"\"\n",
        "    Calcula las métricas AUC, Gini, F1-score y Recall para un modelo de regresión logística.\n",
        "\n",
        "    Parameters:\n",
        "    - y_true: array-like, Ground truth (correct) target values.\n",
        "    - y_pred_prob: array-like, Predicted probabilities for the positive class.\n",
        "    - threshold: float, Threshold for converting predicted probabilities to binary predictions.\n",
        "\n",
        "    Returns:\n",
        "    - metrics: dict, Dictionary containing AUC, Gini, F1-score and Recall.\n",
        "    \"\"\"\n",
        "    # Calcular las predicciones binarias basadas en el umbral\n",
        "    y_pred = (y_pred_prob >= threshold).astype(int)\n",
        "\n",
        "    # Calcular AUC\n",
        "    auc = roc_auc_score(y_true, y_pred_prob)\n",
        "\n",
        "    # Calcular Gini\n",
        "    gini = 2 * auc - 1\n",
        "\n",
        "    # Calcular F1-score\n",
        "    f1 = f1_score(y_true, y_pred)\n",
        "\n",
        "    # Calcular Recall\n",
        "    recall = recall_score(y_true, y_pred)\n",
        "\n",
        "    # Guardar métricas en un diccionario\n",
        "    metrics = {\n",
        "        'AUC': auc,\n",
        "        'Gini': gini,\n",
        "        'F1-score': f1,\n",
        "        'Recall': recall\n",
        "    }\n",
        "\n",
        "    return metrics"
      ],
      "metadata": {
        "id": "DMRm7LeqHjfH"
      },
      "execution_count": null,
      "outputs": []
    },
    {
      "cell_type": "code",
      "source": [
        "from sklearn.linear_model import LogisticRegression, RidgeClassifier, Lasso, ElasticNet\n",
        "\n",
        "def train_logistic_regression(X, y, C=1.0):\n",
        "    \"\"\"\n",
        "    Entrena un modelo de regresión logística.\n",
        "\n",
        "    Parameters:\n",
        "    - X: array-like, Características de entrada.\n",
        "    - y: array-like, Etiquetas de clase.\n",
        "    - C: float, Parámetro de regularización (menor valor significa una mayor regularización).\n",
        "\n",
        "    Returns:\n",
        "    - logistic_model: objeto, Modelo de regresión logística entrenado.\n",
        "    \"\"\"\n",
        "    logistic_model = LogisticRegression(C=C)\n",
        "    logistic_model.fit(X, y)\n",
        "    return logistic_model\n",
        "\n",
        "def train_ridge_classifier(X, y, alpha=1.0):\n",
        "    \"\"\"\n",
        "    Entrena un modelo de clasificación Ridge.\n",
        "\n",
        "    Parameters:\n",
        "    - X: array-like, Características de entrada.\n",
        "    - y: array-like, Etiquetas de clase.\n",
        "    - alpha: float, Parámetro de regularización (mayor valor significa una mayor regularización).\n",
        "\n",
        "    Returns:\n",
        "    - ridge_model: objeto, Modelo de clasificación Ridge entrenado.\n",
        "    \"\"\"\n",
        "    ridge_model = RidgeClassifier(alpha=alpha)\n",
        "    ridge_model.fit(X, y)\n",
        "    return ridge_model\n",
        "\n",
        "def train_lasso_classifier(X, y, alpha=1.0):\n",
        "    \"\"\"\n",
        "    Entrena un modelo de clasificación Lasso.\n",
        "\n",
        "    Parameters:\n",
        "    - X: array-like, Características de entrada.\n",
        "    - y: array-like, Etiquetas de clase.\n",
        "    - alpha: float, Parámetro de regularización (mayor valor significa una mayor regularización).\n",
        "\n",
        "    Returns:\n",
        "    - lasso_model: objeto, Modelo de clasificación Lasso entrenado.\n",
        "    \"\"\"\n",
        "    lasso_model = Lasso(alpha=alpha)\n",
        "    lasso_model.fit(X, y)\n",
        "    return lasso_model\n",
        "\n",
        "def train_elasticnet_classifier(X, y, alpha=1.0, l1_ratio=0.5):\n",
        "    \"\"\"\n",
        "    Entrena un modelo de clasificación Elastic Net.\n",
        "\n",
        "    Parameters:\n",
        "    - X: array-like, Características de entrada.\n",
        "    - y: array-like, Etiquetas de clase.\n",
        "    - alpha: float, Parámetro de regularización (mayor valor significa una mayor regularización).\n",
        "    - l1_ratio: float, Proporción de la regularización L1 (0 significa solo L2, 1 significa solo L1).\n",
        "\n",
        "    Returns:\n",
        "    - elasticnet_model: objeto, Modelo de clasificación Elastic Net entrenado.\n",
        "    \"\"\"\n",
        "    elasticnet_model = ElasticNet(alpha=alpha, l1_ratio=l1_ratio)\n",
        "    elasticnet_model.fit(X, y)\n",
        "    return elasticnet_model\n"
      ],
      "metadata": {
        "id": "e99S2SI-7HK4"
      },
      "execution_count": null,
      "outputs": []
    },
    {
      "cell_type": "code",
      "source": [
        "from sklearn.linear_model import LogisticRegressionCV, RidgeClassifierCV, LassoCV, ElasticNetCV\n",
        "\n",
        "def find_best_logistic_params(X, y, Cs=10, cv=5):\n",
        "    \"\"\"\n",
        "    Encuentra los mejores parámetros para la regresión logística utilizando LogisticRegressionCV.\n",
        "\n",
        "    Parameters:\n",
        "    - X: array-like, Características de entrada.\n",
        "    - y: array-like, Etiquetas de clase.\n",
        "    - Cs: int o array-like, Número de valores de C a probar.\n",
        "    - cv: int, Número de divisiones en la validación cruzada.\n",
        "\n",
        "    Returns:\n",
        "    - best_C: float, Mejor valor de C.\n",
        "    - best_coef: array, Coeficientes estimados.\n",
        "    - Cs: array, Valores de C probados.\n",
        "    - cv_scores: array, Puntuaciones de la validación cruzada para cada valor de C.\n",
        "    \"\"\"\n",
        "    # Inicializar el modelo LogisticRegressionCV\n",
        "    logreg_cv = LogisticRegressionCV(Cs=Cs, cv=cv)\n",
        "\n",
        "    # Ajustar el modelo a los datos\n",
        "    logreg_cv.fit(X, y)\n",
        "\n",
        "    # Obtener el mejor valor de C\n",
        "    best_C = logreg_cv.C_[0]\n",
        "\n",
        "    # Obtener los coeficientes estimados\n",
        "    best_coef = logreg_cv.coef_\n",
        "\n",
        "    # Obtener los valores de C probados\n",
        "    Cs = logreg_cv.Cs_\n",
        "\n",
        "    # Obtener las puntuaciones de la validación cruzada para cada valor de C\n",
        "    cv_scores = logreg_cv.scores_[1].mean(axis=0)\n",
        "\n",
        "    return best_C, best_coef, Cs, cv_scores\n",
        "\n",
        "def find_best_ridge_params(X, y, alphas=np.logspace(-6, 6, 13), cv=5):\n",
        "    \"\"\"\n",
        "    Encuentra los mejores parámetros para la regresión logística utilizando RidgeClassifierCV.\n",
        "\n",
        "    Parameters:\n",
        "    - X: array-like, Características de entrada.\n",
        "    - y: array-like, Etiquetas de clase.\n",
        "    - alphas: array-like, Valores de alfa a probar.\n",
        "    - cv: int, Número de divisiones en la validación cruzada.\n",
        "\n",
        "    Returns:\n",
        "    - best_alpha: float, Mejor valor de alfa.\n",
        "    \"\"\"\n",
        "    # Inicializar el modelo RidgeClassifierCV\n",
        "    ridge_cv = RidgeClassifierCV(alphas=alphas, cv=cv)\n",
        "\n",
        "    # Ajustar el modelo a los datos\n",
        "    ridge_cv.fit(X, y)\n",
        "\n",
        "    # Obtener el mejor valor de alfa\n",
        "    best_alpha = ridge_cv.alpha_\n",
        "\n",
        "    return best_alpha\n",
        "\n",
        "def find_best_lasso_params(X, y, alphas=np.logspace(-6, 6, 13), cv=5):\n",
        "    \"\"\"\n",
        "    Encuentra los mejores parámetros para la regresión logística utilizando LassoCV.\n",
        "\n",
        "    Parameters:\n",
        "    - X: array-like, Características de entrada.\n",
        "    - y: array-like, Etiquetas de clase.\n",
        "    - alphas: array-like, Valores de alfa a probar.\n",
        "    - cv: int, Número de divisiones en la validación cruzada.\n",
        "\n",
        "    Returns:\n",
        "    - best_alpha: float, Mejor valor de alfa.\n",
        "    \"\"\"\n",
        "    # Inicializar el modelo LassoCV\n",
        "    lasso_cv = LassoCV(alphas=alphas, cv=cv)\n",
        "\n",
        "    # Ajustar el modelo a los datos\n",
        "    lasso_cv.fit(X, y)\n",
        "\n",
        "    # Obtener el mejor valor de alfa\n",
        "    best_alpha = lasso_cv.alpha_\n",
        "\n",
        "    return best_alpha\n",
        "\n",
        "def find_best_elasticnet_params(X, y, alphas=np.logspace(-6, 6, 13), l1_ratio=np.linspace(0.01, 1, 10), cv=5):\n",
        "    \"\"\"\n",
        "    Encuentra los mejores parámetros para la regresión logística utilizando ElasticNetCV.\n",
        "\n",
        "    Parameters:\n",
        "    - X: array-like, Características de entrada.\n",
        "    - y: array-like, Etiquetas de clase.\n",
        "    - alphas: array-like, Valores de alfa a probar.\n",
        "    - l1_ratio: array-like, Valores de l1_ratio a probar.\n",
        "    - cv: int, Número de divisiones en la validación cruzada.\n",
        "\n",
        "    Returns:\n",
        "    - best_alpha: float, Mejor valor de alfa.\n",
        "    - best_l1_ratio: float, Mejor valor de l1_ratio.\n",
        "    \"\"\"\n",
        "    # Inicializar el modelo ElasticNetCV\n",
        "    elasticnet_cv = ElasticNetCV(alphas=alphas, l1_ratio=l1_ratio, cv=cv)\n",
        "\n",
        "    # Ajustar el modelo a los datos\n",
        "    elasticnet_cv.fit(X, y)\n",
        "\n",
        "    # Obtener el mejor valor de alfa\n",
        "    best_alpha = elasticnet_cv.alpha_\n",
        "\n",
        "    # Obtener el mejor valor de l1_ratio\n",
        "    best_l1_ratio = elasticnet_cv.l1_ratio_\n",
        "\n",
        "    return best_alpha, best_l1_ratio\n"
      ],
      "metadata": {
        "id": "2x5GfVEk7HIo"
      },
      "execution_count": null,
      "outputs": []
    },
    {
      "cell_type": "code",
      "source": [
        "best_C, best_coef, Cs, cv_scores = find_best_logistic_params(X_train, y_train)\n",
        "# Paso 4: Entrenar un nuevo modelo de regresión logística con los mejores parámetros encontrados\n",
        "logistic_model = train_logistic_regression(X_train, y_train, C=best_C)\n",
        "mt_logit = calculate_metrics(y_test, logistic_model.predict(X_test), threshold=0.5)"
      ],
      "metadata": {
        "id": "wAixZUxi7HGk"
      },
      "execution_count": null,
      "outputs": []
    },
    {
      "cell_type": "code",
      "source": [
        "best_alpha = find_best_ridge_params(X_train, y_train)\n",
        "logistic_model = train_ridge_classifier(X_train, y_train, best_alpha)\n",
        "mt_r = calculate_metrics(y_test, logistic_model.predict(X_test), threshold=0.5)"
      ],
      "metadata": {
        "id": "hHFTEF388x9R"
      },
      "execution_count": null,
      "outputs": []
    },
    {
      "cell_type": "code",
      "source": [
        "best_alpha = find_best_lasso_params(X_train, y_train)\n",
        "logistic_model = train_lasso_classifier(X_train, y_train, best_alpha)\n",
        "mt_l = calculate_metrics(y_test, logistic_model.predict(X_test), threshold=0.5)"
      ],
      "metadata": {
        "id": "8549IPd77HBr"
      },
      "execution_count": null,
      "outputs": []
    },
    {
      "cell_type": "code",
      "source": [
        "best_alpha, best_l1_ratio = find_best_elasticnet_params(X_train, y_train)\n",
        "logistic_model = train_elasticnet_classifier(X, y, alpha=best_alpha, l1_ratio=best_l1_ratio)\n",
        "mt_en = calculate_metrics(y_test, logistic_model.predict(X_test), threshold=0.5)"
      ],
      "metadata": {
        "id": "OidKYFefBjmY"
      },
      "execution_count": null,
      "outputs": []
    },
    {
      "cell_type": "code",
      "source": [
        "resultados = pd.concat([pd.DataFrame([mt_logit]),\n",
        "           pd.DataFrame([mt_r]),\n",
        "           pd.DataFrame([mt_l]),\n",
        "           pd.DataFrame([mt_en])],axis=0,).T\n",
        "\n",
        "resultados.columns = ['Logit','Rigde','Lasso','ElasticNet']"
      ],
      "metadata": {
        "id": "cOY4A_c-DuYY"
      },
      "execution_count": null,
      "outputs": []
    },
    {
      "cell_type": "code",
      "source": [
        "resultados"
      ],
      "metadata": {
        "id": "MxybXySSFzex"
      },
      "execution_count": null,
      "outputs": []
    },
    {
      "cell_type": "markdown",
      "source": [
        "-----"
      ],
      "metadata": {
        "id": "9r_Cbly9HaIR"
      }
    },
    {
      "cell_type": "code",
      "source": [
        "import numpy as np\n",
        "import matplotlib.pyplot as plt\n",
        "from sklearn.linear_model import RidgeCV, LassoCV, ElasticNetCV\n",
        "\n",
        "from sklearn.linear_model import Ridge, Lasso, ElasticNet\n",
        "from sklearn.model_selection import train_test_split\n",
        "from sklearn.metrics import accuracy_score\n",
        "\n",
        "# Funciones para encontrar los mejores parámetros\n",
        "\n",
        "def find_best_ridge_params(X, y, alphas=np.logspace(-6, 6, 13)):\n",
        "    ridge_cv = RidgeCV(alphas=alphas, store_cv_values=True)\n",
        "    ridge_cv.fit(X, y)\n",
        "    return ridge_cv.alpha_, ridge_cv.coef_, alphas, ridge_cv.cv_values_\n",
        "\n",
        "def find_best_lasso_params(X, y, alphas=np.logspace(-6, 6, 13)):\n",
        "    lasso_cv = LassoCV(alphas=alphas, cv=5)\n",
        "    lasso_cv.fit(X, y)\n",
        "    return lasso_cv.alpha_, lasso_cv.coef_, alphas, lasso_cv.mse_path_\n",
        "\n",
        "def find_best_elasticnet_params(X, y, l1_ratio=np.linspace(0.01, 1, 10), alphas=np.logspace(-6, 6, 13)):\n",
        "    elasticnet_cv = ElasticNetCV(l1_ratio=l1_ratio, alphas=alphas, cv=5)\n",
        "    elasticnet_cv.fit(X, y)\n",
        "    return elasticnet_cv.alpha_, elasticnet_cv.l1_ratio_, elasticnet_cv.coef_\n",
        "\n",
        "# Funciones para entrenar los modelos con los mejores parámetros\n",
        "\n",
        "def train_ridge(X, y, alpha):\n",
        "    ridge = Ridge(alpha=alpha)\n",
        "    ridge.fit(X, y)\n",
        "    return ridge\n",
        "\n",
        "def train_lasso(X, y, alpha):\n",
        "    lasso = Lasso(alpha=alpha)\n",
        "    lasso.fit(X, y)\n",
        "    return lasso\n",
        "\n",
        "def train_elasticnet(X, y, alpha, l1_ratio):\n",
        "    elasticnet = ElasticNet(alpha=alpha, l1_ratio=l1_ratio)\n",
        "    elasticnet.fit(X, y)\n",
        "    return elasticnet"
      ],
      "metadata": {
        "id": "QFe4O6hzagYa"
      },
      "execution_count": null,
      "outputs": []
    },
    {
      "cell_type": "code",
      "source": [
        "# Dividir los datos en conjunto de entrenamiento y prueba\n",
        "X_train, X_test, y_train, y_test = train_test_split(X, y, test_size=0.2, random_state=42)"
      ],
      "metadata": {
        "id": "nHjMNra1rRRa"
      },
      "execution_count": null,
      "outputs": []
    },
    {
      "cell_type": "code",
      "source": [
        "# Encontrar los mejores parámetros\n",
        "best_ridge_alpha, ridge_coefs, ridge_alphas, ridge_cv_values = find_best_ridge_params(X_train, y_train)\n",
        "best_lasso_alpha, lasso_coefs, lasso_alphas, lasso_mse_path = find_best_lasso_params(X_train, y_train)\n",
        "best_elasticnet_alpha, best_elasticnet_l1_ratio, elasticnet_coefs = find_best_elasticnet_params(X_train, y_train)"
      ],
      "metadata": {
        "id": "e65jwJq4rLai"
      },
      "execution_count": null,
      "outputs": []
    },
    {
      "cell_type": "code",
      "source": [
        "# Evolución de los coeficientes en función de alpha\n",
        "\n",
        "alphas = ridge_alphas\n",
        "coefs = []\n",
        "\n",
        "for alpha in alphas:\n",
        "    modelo_temp = Ridge(alpha=alpha, fit_intercept=True)\n",
        "    modelo_temp.fit(X_train, y_train)\n",
        "    coefs.append(modelo_temp.coef_.flatten())\n",
        "\n",
        "fig, ax = plt.subplots(figsize=(10, 7))\n",
        "ax.plot(alphas, coefs)\n",
        "ax.set_xscale('log')\n",
        "ax.set_xlabel('Alpha')\n",
        "ax.set_ylabel('Coeficientes')\n",
        "ax.set_title('Coeficientes del modelo en función de la regularización L2 (Ridge)');\n",
        "plt.axis('tight')\n",
        "plt.show()"
      ],
      "metadata": {
        "id": "uRoEW7ZnrS2K"
      },
      "execution_count": null,
      "outputs": []
    },
    {
      "cell_type": "code",
      "source": [
        "# Evolución de los coeficientes en función de alpha\n",
        "\n",
        "alphas = lasso_alphas\n",
        "coefs = []\n",
        "\n",
        "for alpha in alphas:\n",
        "    modelo_temp = Lasso(alpha=alpha, fit_intercept=True)\n",
        "    modelo_temp.fit(X_train, y_train)\n",
        "    coefs.append(modelo_temp.coef_.flatten())\n",
        "\n",
        "fig, ax = plt.subplots(figsize=(10, 7))\n",
        "ax.plot(alphas, coefs)\n",
        "ax.set_xscale('log')\n",
        "ax.set_xlabel('Alpha')\n",
        "ax.set_ylabel('Coeficientes')\n",
        "ax.set_title('Coeficientes del modelo en función de la regularización L1 (Lasso)');\n",
        "plt.axis('tight')\n",
        "plt.show()"
      ],
      "metadata": {
        "id": "7iPq6XBEruA6"
      },
      "execution_count": null,
      "outputs": []
    },
    {
      "cell_type": "code",
      "source": [
        "# Entrenar los modelos\n",
        "ridge_model = train_ridge(X_train, y_train, best_ridge_alpha)\n",
        "lasso_model = train_lasso(X_train, y_train, best_lasso_alpha)\n",
        "elasticnet_model = train_elasticnet(X_train, y_train, best_elasticnet_alpha, best_elasticnet_l1_ratio)"
      ],
      "metadata": {
        "id": "EkZbeEBarstI"
      },
      "execution_count": null,
      "outputs": []
    },
    {
      "cell_type": "code",
      "source": [
        "# Coeficientes del modelo\n",
        "# ==============================================================================\n",
        "\n",
        "df_coeficientes = pd.DataFrame(\n",
        "                        {'predictor': X_train.columns,\n",
        "                         'coef': ridge_model.coef_.flatten()}\n",
        "                  )\n",
        "\n",
        "fig, ax = plt.subplots(figsize=(20, 5))\n",
        "ax.stem(df_coeficientes.predictor, df_coeficientes.coef, markerfmt=' ')\n",
        "plt.xticks(rotation=90, ha='right', size=10)\n",
        "ax.set_xlabel('Variable')\n",
        "ax.set_ylabel('Coeficientes')\n",
        "ax.set_title('Coeficientes del modelo');"
      ],
      "metadata": {
        "id": "baSj3lzntpcB"
      },
      "execution_count": null,
      "outputs": []
    },
    {
      "cell_type": "code",
      "source": [
        "# Coeficientes del modelo\n",
        "# ==============================================================================\n",
        "\n",
        "df_coeficientes = pd.DataFrame(\n",
        "                        {'predictor': X_train.columns,\n",
        "                         'coef': lasso_model.coef_.flatten()}\n",
        "                  )\n",
        "\n",
        "fig, ax = plt.subplots(figsize=(20, 5))\n",
        "ax.stem(df_coeficientes.predictor, df_coeficientes.coef, markerfmt=' ')\n",
        "plt.xticks(rotation=90, ha='right', size=10)\n",
        "ax.set_xlabel('Variable')\n",
        "ax.set_ylabel('Coeficientes')\n",
        "ax.set_title('Coeficientes del modelo');"
      ],
      "metadata": {
        "id": "u5Q2lRt_tveg"
      },
      "execution_count": null,
      "outputs": []
    },
    {
      "cell_type": "code",
      "source": [
        "# Coeficientes del modelo\n",
        "# ==============================================================================\n",
        "\n",
        "df_coeficientes = pd.DataFrame(\n",
        "                        {'predictor': X_train.columns,\n",
        "                         'coef': elasticnet_model.coef_.flatten()}\n",
        "                  )\n",
        "\n",
        "fig, ax = plt.subplots(figsize=(20, 5))\n",
        "ax.stem(df_coeficientes.predictor, df_coeficientes.coef, markerfmt=' ')\n",
        "plt.xticks(rotation=90, ha='right', size=10)\n",
        "ax.set_xlabel('Variable')\n",
        "ax.set_ylabel('Coeficientes')\n",
        "ax.set_title('Coeficientes del modelo');"
      ],
      "metadata": {
        "id": "Yc4FTz0Et4Bp"
      },
      "execution_count": null,
      "outputs": []
    },
    {
      "cell_type": "code",
      "source": [
        "# Evaluar los modelos\n",
        "ridge_pred = ridge_model.predict(X_test) > 0.5\n",
        "lasso_pred = lasso_model.predict(X_test) > 0.5\n",
        "elasticnet_pred = elasticnet_model.predict(X_test) > 0.5"
      ],
      "metadata": {
        "id": "Sd0eTdk-u2Xg"
      },
      "execution_count": null,
      "outputs": []
    },
    {
      "cell_type": "code",
      "source": [
        "resultados = pd.concat([pd.DataFrame([calculate_metrics(y_test, ridge_pred, threshold=0.5)]),\n",
        "          pd.DataFrame([calculate_metrics(y_test, lasso_pred, threshold=0.5)]),\n",
        "          pd.DataFrame([calculate_metrics(y_test, elasticnet_pred, threshold=0.5)])]\n",
        "          ).T\n",
        "resultados.columns = ['Rigde','Lasso','ElasticNet']"
      ],
      "metadata": {
        "id": "BtCUajKfvFqh"
      },
      "execution_count": null,
      "outputs": []
    },
    {
      "cell_type": "code",
      "source": [
        "resultados"
      ],
      "metadata": {
        "id": "Hqh3BTIY0Zmw"
      },
      "execution_count": null,
      "outputs": []
    }
  ],
  "metadata": {
    "kernelspec": {
      "display_name": "Python 3",
      "language": "python",
      "name": "python3"
    },
    "language_info": {
      "name": "python",
      "version": "3.6.6",
      "mimetype": "text/x-python",
      "codemirror_mode": {
        "name": "ipython",
        "version": 3
      },
      "pygments_lexer": "ipython3",
      "nbconvert_exporter": "python",
      "file_extension": ".py"
    },
    "colab": {
      "provenance": []
    }
  },
  "nbformat": 4,
  "nbformat_minor": 0
}