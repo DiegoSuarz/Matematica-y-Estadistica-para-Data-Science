{
  "cells": [
    {
      "cell_type": "markdown",
      "metadata": {
        "id": "B1Zb4uIVK-lk"
      },
      "source": [
        "<img width=\"300px\" src=\"https://cachimbo.pe/wp-content/uploads/2022/10/1-19.jpg\"></img>\n",
        "\n",
        "#**Matemática y Estadística para Ciencia de Datos**\n",
        "## **Tema: Valor y vector propio, DE y DVS**\n",
        "#### **Docente: Giron Rene Omar A.**\n",
        "\n",
        "---------------"
      ]
    },
    {
      "cell_type": "markdown",
      "metadata": {
        "id": "eyUAD_oraKGj"
      },
      "source": [
        "**Índice**  \n",
        "0. [Cargar funciones](#id0)<br>\n",
        "1. [Valores y vectores propios](#id1)<br>\n",
        "2. [Descomposición espectral](#id2)<br>\n",
        "3. [Descomposición de valores singulares](#id3)<br>\n",
        "3. [Aplicaciones](#id4)<br>\n"
      ]
    },
    {
      "cell_type": "markdown",
      "metadata": {
        "id": "-oaRBq5tbN5w"
      },
      "source": [
        "<a name=\"id0\"></a> <h2> Cargar funciones </h2>\n",
        "##  "
      ]
    },
    {
      "cell_type": "code",
      "execution_count": 136,
      "metadata": {
        "cellView": "form",
        "id": "0uM8ijJnoJEz"
      },
      "outputs": [],
      "source": [
        "# @markdown $a)$ Funciones\n",
        "\n",
        "import numpy as np\n",
        "import matplotlib.pyplot as plt\n",
        "import seaborn as sns\n",
        "\n",
        "def plotVectors(vecs, cols, alpha=1):\n",
        "    \"\"\"\n",
        "    Plot set of vectors.\n",
        "\n",
        "    https://www.kaggle.com/robaks/learn-linear-algebra-for-data-science\n",
        "\n",
        "    Parameters\n",
        "    ----------\n",
        "    vecs : array-like\n",
        "        Coordinates of the vectors to plot. Each vectors is in an array. For\n",
        "        instance: [[1, 3], [2, 2]] can be used to plot 2 vectors.\n",
        "    cols : array-like\n",
        "        Colors of the vectors. For instance: ['red', 'blue'] will display the\n",
        "        first vector in red and the second in blue.\n",
        "    alpha : float\n",
        "        Opacity of vectors\n",
        "\n",
        "    Returns:\n",
        "\n",
        "    fig : instance of matplotlib.figure.Figure\n",
        "        The figure of the vectors\n",
        "    \"\"\"\n",
        "\n",
        "    plt.axvline(x=0, color='#A9A9A9', zorder=0)\n",
        "    plt.axhline(y=0, color='#A9A9A9', zorder=0)\n",
        "\n",
        "    for i in range(len(vecs)):\n",
        "        x = np.concatenate([[0,0],vecs[i]])\n",
        "        plt.quiver([x[0]],\n",
        "                   [x[1]],\n",
        "                   [x[2]],\n",
        "                   [x[3]],\n",
        "                   angles='xy', scale_units='xy', scale=1, color=cols[i],\n",
        "                  alpha=alpha)\n",
        "\n",
        "def encontrar_autovalores_autovectores(matriz):\n",
        "  \"\"\"\n",
        "  Encuentra los autovalores y autovectores de una matriz cuadrada.\n",
        "\n",
        "  Args:\n",
        "    matriz: Matriz cuadrada de la que se desean encontrar los autovalores y autovectores.\n",
        "\n",
        "  Returns:\n",
        "    autovalores: Vector que contiene los autovalores de la matriz.\n",
        "    autovectores: Matriz que contiene los autovectores de la matriz.\n",
        "  \"\"\"\n",
        "\n",
        "  # Verificar si la matriz es cuadrada\n",
        "  if matriz.shape[0] != matriz.shape[1]:\n",
        "    raise ValueError(\"La matriz debe ser cuadrada.\")\n",
        "\n",
        "  # Calcular autovalores y autovectores utilizando la función `eig` de NumPy\n",
        "  autovalores, autovectores = np.linalg.eig(matriz)\n",
        "\n",
        "  return autovalores, autovectores\n",
        "\n",
        "\n",
        "import numpy as np\n",
        "import plotly.graph_objects as go\n",
        "\n",
        "def plot_3d_vectors(vector1, vector2):\n",
        "    \"\"\"\n",
        "    Grafica dos vectores en el espacio tridimensional.\n",
        "\n",
        "    Parámetros:\n",
        "    - vector1: Lista o array que representa el primer vector en coordenadas (x, y, z).\n",
        "    - vector2: Lista o array que representa el segundo vector en coordenadas (x, y, z).\n",
        "    \"\"\"\n",
        "    # Crear una figura 3D\n",
        "    fig = go.Figure()\n",
        "\n",
        "    # Calcular los extremos de los vectores\n",
        "    end1 = np.array(vector1)\n",
        "    end2 = np.array(vector2)\n",
        "\n",
        "    # Agregar las flechas para representar los vectores\n",
        "    fig.add_trace(go.Scatter3d(x=[0, end1[0]], y=[0, end1[1]], z=[0, end1[2]],\n",
        "                               mode='lines+markers',\n",
        "                               marker=dict(size=6),\n",
        "                               line=dict(color='blue', width=10),\n",
        "                               name='Vector 1'))\n",
        "\n",
        "    fig.add_trace(go.Scatter3d(x=[0, end2[0]], y=[0, end2[1]], z=[0, end2[2]],\n",
        "                               mode='lines+markers',\n",
        "                               marker=dict(size=6),\n",
        "                               line=dict(color='rgba(255, 0, 0, 0.5)', width=3),  # Hacer el segundo vector más transparente\n",
        "                               name='Vector 2'))\n",
        "\n",
        "    # Establecer el título y los nombres de los ejes\n",
        "    fig.update_layout(title='Vectores en el espacio tridimensional',\n",
        "                      scene=dict(xaxis_title='X',\n",
        "                                 yaxis_title='Y',\n",
        "                                 zaxis_title='Z',\n",
        "                                 xaxis=dict(range=[-5, 5]),  # Ampliar los ejes x\n",
        "                                yaxis=dict(range=[-5, 5]),  # Ampliar los ejes y\n",
        "                                zaxis=dict(range=[-5, 5]),\n",
        "                                 aspectmode='cube'  # Establecer la misma escala visual para los ejes\n",
        "                                 ))\n",
        "\n",
        "    # Mostrar la figura\n",
        "    fig.show()"
      ]
    },
    {
      "cell_type": "markdown",
      "metadata": {
        "id": "q4hB_pkjb2AN"
      },
      "source": [
        "<a name=\"id1\"></a> <h2> Valores y vectores propios </h2>\n",
        "##  "
      ]
    },
    {
      "cell_type": "code",
      "execution_count": 137,
      "metadata": {
        "id": "mvddYPiioJCv"
      },
      "outputs": [
        {
          "name": "stdout",
          "output_type": "stream",
          "text": [
            "autovalor 2.381966011250105\n",
            "autovector unitario [-0.85065081  0.52573111]\n",
            "--------------\n",
            "autovector [-1.70130162  1.05146222]\n",
            "vector transformado [-4.05244263  2.50454728]\n"
          ]
        },
        {
          "data": {
            "text/plain": [
              "(-5.0, 8.0)"
            ]
          },
          "execution_count": 137,
          "metadata": {},
          "output_type": "execute_result"
        },
        {
          "data": {
            "image/png": "[encoded data removed]",
            "text/plain": [
              "<Figure size 640x480 with 1 Axes>"
            ]
          },
          "metadata": {},
          "output_type": "display_data"
        }
      ],
      "source": [
        "# Ejemplo de uso\n",
        "X = np.array([\n",
        "    [3, 1],\n",
        "    [1, 4]\n",
        "])\n",
        "\n",
        "autovalores, autovectores = encontrar_autovalores_autovectores(X)\n",
        "k=0\n",
        "print('autovalor', autovalores[k])\n",
        "v_np = autovectores.T[k]\n",
        "print('autovector unitario', v_np)\n",
        "print('--------------')\n",
        "v = 2*autovectores.T[k]\n",
        "print('autovector', v)\n",
        "\n",
        "Xv = X.dot(v)\n",
        "print('vector transformado', Xv)\n",
        "\n",
        "plotVectors([Xv.flatten(), v.flatten(), v_np], cols=['green', 'orange', 'blue'])\n",
        "plt.ylim(-5, 8)\n",
        "plt.xlim(-5, 8)"
      ]
    },
    {
      "cell_type": "code",
      "execution_count": 138,
      "metadata": {
        "id": "MBxR-kOICN1L"
      },
      "outputs": [
        {
          "name": "stdout",
          "output_type": "stream",
          "text": [
            "autovalor (1.5+0.8660254037844385j)\n",
            "autovector unitario [0.35355339+0.61237244j 0.70710678+0.j        ]\n",
            "--------------\n",
            "autovector [0.70710678+1.22474487j 1.41421356+0.j        ]\n",
            "vector transformado [4.44089210e-16+2.44948974j 2.12132034e+00+1.22474487j]\n"
          ]
        }
      ],
      "source": [
        "# Ejemplo de uso\n",
        "X = np.array([\n",
        "    [2, -1],\n",
        "    [1, 1]\n",
        "])\n",
        "\n",
        "autovalores, autovectores = encontrar_autovalores_autovectores(X)\n",
        "k=0\n",
        "print('autovalor', autovalores[k])\n",
        "v_np = autovectores.T[k]\n",
        "print('autovector unitario', v_np)\n",
        "print('--------------')\n",
        "v = 2*autovectores.T[k]\n",
        "print('autovector', v)\n",
        "\n",
        "Xv = X.dot(v)\n",
        "print('vector transformado', Xv)\n",
        "\n",
        "# plotVectors([Xv.flatten(), v.flatten(), v_np], cols=['green', 'orange', 'blue'])\n",
        "# plt.ylim(-5, 8)\n",
        "# plt.xlim(-5, 8)"
      ]
    },
    {
      "cell_type": "code",
      "execution_count": 139,
      "metadata": {
        "id": "Sx6AEJ1YQ_Op"
      },
      "outputs": [
        {
          "name": "stdout",
          "output_type": "stream",
          "text": [
            "autovalor 3.0\n",
            "autovector unitario [1. 0.]\n",
            "--------------\n",
            "autovector [2. 0.]\n",
            "vector transformado [6. 0.]\n"
          ]
        },
        {
          "data": {
            "text/plain": [
              "(-5.0, 8.0)"
            ]
          },
          "execution_count": 139,
          "metadata": {},
          "output_type": "execute_result"
        },
        {
          "data": {
            "image/png": "[encoded data removed]",
            "text/plain": [
              "<Figure size 640x480 with 1 Axes>"
            ]
          },
          "metadata": {},
          "output_type": "display_data"
        }
      ],
      "source": [
        "X = np.array([\n",
        "    [3, 1],\n",
        "    [0, 2]\n",
        "])\n",
        "\n",
        "autovalores, autovectores = encontrar_autovalores_autovectores(X)\n",
        "k=0\n",
        "print('autovalor', autovalores[k])\n",
        "v_np = autovectores.T[k]\n",
        "print('autovector unitario', v_np)\n",
        "print('--------------')\n",
        "v = 2*autovectores.T[k]\n",
        "print('autovector', v)\n",
        "\n",
        "Xv = X.dot(v)\n",
        "print('vector transformado', Xv)\n",
        "\n",
        "\n",
        "plotVectors([Xv.flatten(), v.flatten(), v_np], cols=['green', 'orange', 'blue'])\n",
        "plt.ylim(-5, 8)\n",
        "plt.xlim(-5, 8)"
      ]
    },
    {
      "cell_type": "code",
      "execution_count": 140,
      "metadata": {
        "id": "A4IzLKs0qaIi"
      },
      "outputs": [
        {
          "name": "stdout",
          "output_type": "stream",
          "text": [
            "autovalor 5.0\n",
            "autovector unitario [0.70710678 0.70710678]\n",
            "--------------\n",
            "autovector [1.41421356 1.41421356]\n",
            "vector transformado [7.07106781 7.07106781]\n"
          ]
        },
        {
          "data": {
            "text/plain": [
              "(-5.0, 8.0)"
            ]
          },
          "execution_count": 140,
          "metadata": {},
          "output_type": "execute_result"
        },
        {
          "data": {
            "image/png": "[encoded data removed]",
            "text/plain": [
              "<Figure size 640x480 with 1 Axes>"
            ]
          },
          "metadata": {},
          "output_type": "display_data"
        }
      ],
      "source": [
        "X = np.array([[3,2], [4,1]])\n",
        "\n",
        "autovalores, autovectores = encontrar_autovalores_autovectores(X)\n",
        "k=0\n",
        "print('autovalor', autovalores[k])\n",
        "v_np = autovectores.T[k]\n",
        "print('autovector unitario', v_np)\n",
        "print('--------------')\n",
        "v = 2*autovectores.T[k]\n",
        "print('autovector', v)\n",
        "\n",
        "Xv = X.dot(v)\n",
        "print('vector transformado', Xv)\n",
        "\n",
        "\n",
        "plotVectors([Xv.flatten(), v.flatten(), v_np], cols=['green', 'orange', 'blue'])\n",
        "plt.ylim(-5, 8)\n",
        "plt.xlim(-5, 8)"
      ]
    },
    {
      "cell_type": "code",
      "execution_count": 141,
      "metadata": {
        "id": "oBzW3Vb1dIBw"
      },
      "outputs": [
        {
          "data": {
            "text/plain": [
              "array([[1, 0, 0],\n",
              "       [0, 2, 0],\n",
              "       [0, 0, 3]])"
            ]
          },
          "execution_count": 141,
          "metadata": {},
          "output_type": "execute_result"
        }
      ],
      "source": [
        "matriz_ejemplo = np.diag((1, 2, 3))\n",
        "matriz_ejemplo"
      ]
    },
    {
      "cell_type": "code",
      "execution_count": 142,
      "metadata": {
        "id": "AzHMVK2WCQ0r"
      },
      "outputs": [
        {
          "name": "stdout",
          "output_type": "stream",
          "text": [
            "Autovalores: [1. 2. 3.]\n",
            "Autovectores:\n",
            "[[1. 0. 0.]\n",
            " [0. 1. 0.]\n",
            " [0. 0. 1.]]\n"
          ]
        }
      ],
      "source": [
        "# Ejemplo de uso\n",
        "matriz_ejemplo = np.diag((1, 2, 3))\n",
        "\n",
        "autovalores, autovectores = encontrar_autovalores_autovectores(matriz_ejemplo)\n",
        "np.diag((1, 2, 3))\n",
        "print(\"Autovalores:\", autovalores)\n",
        "print(\"Autovectores:\")\n",
        "print(autovectores)"
      ]
    },
    {
      "cell_type": "code",
      "execution_count": 143,
      "metadata": {
        "id": "EVFnuH1cxZci"
      },
      "outputs": [
        {
          "name": "stdout",
          "output_type": "stream",
          "text": [
            "autovalor 2.0\n",
            "autovector unitario [1. 0. 0.]\n",
            "--------------\n",
            "autovector [-2. -0. -0.]\n",
            "vector transformado [-4.  0.  0.]\n"
          ]
        },
        {
          "data": {
            "application/vnd.plotly.v1+json": {
              "config": {
                "plotlyServerURL": "https://plot.ly"
              },
              "data": [
                {
                  "line": {
                    "color": "blue",
                    "width": 10
                  },
                  "marker": {
                    "size": 6
                  },
                  "mode": "lines+markers",
                  "name": "Vector 1",
                  "type": "scatter3d",
                  "x": [
                    0,
                    -2
                  ],
                  "y": [
                    0,
                    0
                  ],
                  "z": [
                    0,
                    0
                  ]
                },
                {
                  "line": {
                    "color": "rgba(255, 0, 0, 0.5)",
                    "width": 3
                  },
                  "marker": {
                    "size": 6
                  },
                  "mode": "lines+markers",
                  "name": "Vector 2",
                  "type": "scatter3d",
                  "x": [
                    0,
                    -4
                  ],
                  "y": [
                    0,
                    0
                  ],
                  "z": [
                    0,
                    0
                  ]
                }
              ],
              "layout": {
                "scene": {
                  "aspectmode": "cube",
                  "xaxis": {
                    "range": [
                      -5,
                      5
                    ],
                    "title": {
                      "text": "X"
                    }
                  },
                  "yaxis": {
                    "range": [
                      -5,
                      5
                    ],
                    "title": {
                      "text": "Y"
                    }
                  },
                  "zaxis": {
                    "range": [
                      -5,
                      5
                    ],
                    "title": {
                      "text": "Z"
                    }
                  }
                },
                "template": {
                  "data": {
                    "bar": [
                      {
                        "error_x": {
                          "color": "#2a3f5f"
                        },
                        "error_y": {
                          "color": "#2a3f5f"
                        },
                        "marker": {
                          "line": {
                            "color": "#E5ECF6",
                            "width": 0.5
                          },
                          "pattern": {
                            "fillmode": "overlay",
                            "size": 10,
                            "solidity": 0.2
                          }
                        },
                        "type": "bar"
                      }
                    ],
                    "barpolar": [
                      {
                        "marker": {
                          "line": {
                            "color": "#E5ECF6",
                            "width": 0.5
                          },
                          "pattern": {
                            "fillmode": "overlay",
                            "size": 10,
                            "solidity": 0.2
                          }
                        },
                        "type": "barpolar"
                      }
                    ],
                    "carpet": [
                      {
                        "aaxis": {
                          "endlinecolor": "#2a3f5f",
                          "gridcolor": "white",
                          "linecolor": "white",
                          "minorgridcolor": "white",
                          "startlinecolor": "#2a3f5f"
                        },
                        "baxis": {
                          "endlinecolor": "#2a3f5f",
                          "gridcolor": "white",
                          "linecolor": "white",
                          "minorgridcolor": "white",
                          "startlinecolor": "#2a3f5f"
                        },
                        "type": "carpet"
                      }
                    ],
                    "choropleth": [
                      {
                        "colorbar": {
                          "outlinewidth": 0,
                          "ticks": ""
                        },
                        "type": "choropleth"
                      }
                    ],
                    "contour": [
                      {
                        "colorbar": {
                          "outlinewidth": 0,
                          "ticks": ""
                        },
                        "colorscale": [
                          [
                            0,
                            "#0d0887"
                          ],
                          [
                            0.1111111111111111,
                            "#46039f"
                          ],
                          [
                            0.2222222222222222,
                            "#7201a8"
                          ],
                          [
                            0.3333333333333333,
                            "#9c179e"
                          ],
                          [
                            0.4444444444444444,
                            "#bd3786"
                          ],
                          [
                            0.5555555555555556,
                            "#d8576b"
                          ],
                          [
                            0.6666666666666666,
                            "#ed7953"
                          ],
                          [
                            0.7777777777777778,
                            "#fb9f3a"
                          ],
                          [
                            0.8888888888888888,
                            "#fdca26"
                          ],
                          [
                            1,
                            "#f0f921"
                          ]
                        ],
                        "type": "contour"
                      }
                    ],
                    "contourcarpet": [
                      {
                        "colorbar": {
                          "outlinewidth": 0,
                          "ticks": ""
                        },
                        "type": "contourcarpet"
                      }
                    ],
                    "heatmap": [
                      {
                        "colorbar": {
                          "outlinewidth": 0,
                          "ticks": ""
                        },
                        "colorscale": [
                          [
                            0,
                            "#0d0887"
                          ],
                          [
                            0.1111111111111111,
                            "#46039f"
                          ],
                          [
                            0.2222222222222222,
                            "#7201a8"
                          ],
                          [
                            0.3333333333333333,
                            "#9c179e"
                          ],
                          [
                            0.4444444444444444,
                            "#bd3786"
                          ],
                          [
                            0.5555555555555556,
                            "#d8576b"
                          ],
                          [
                            0.6666666666666666,
                            "#ed7953"
                          ],
                          [
                            0.7777777777777778,
                            "#fb9f3a"
                          ],
                          [
                            0.8888888888888888,
                            "#fdca26"
                          ],
                          [
                            1,
                            "#f0f921"
                          ]
                        ],
                        "type": "heatmap"
                      }
                    ],
                    "heatmapgl": [
                      {
                        "colorbar": {
                          "outlinewidth": 0,
                          "ticks": ""
                        },
                        "colorscale": [
                          [
                            0,
                            "#0d0887"
                          ],
                          [
                            0.1111111111111111,
                            "#46039f"
                          ],
                          [
                            0.2222222222222222,
                            "#7201a8"
                          ],
                          [
                            0.3333333333333333,
                            "#9c179e"
                          ],
                          [
                            0.4444444444444444,
                            "#bd3786"
                          ],
                          [
                            0.5555555555555556,
                            "#d8576b"
                          ],
                          [
                            0.6666666666666666,
                            "#ed7953"
                          ],
                          [
                            0.7777777777777778,
                            "#fb9f3a"
                          ],
                          [
                            0.8888888888888888,
                            "#fdca26"
                          ],
                          [
                            1,
                            "#f0f921"
                          ]
                        ],
                        "type": "heatmapgl"
                      }
                    ],
                    "histogram": [
                      {
                        "marker": {
                          "pattern": {
                            "fillmode": "overlay",
                            "size": 10,
                            "solidity": 0.2
                          }
                        },
                        "type": "histogram"
                      }
                    ],
                    "histogram2d": [
                      {
                        "colorbar": {
                          "outlinewidth": 0,
                          "ticks": ""
                        },
                        "colorscale": [
                          [
                            0,
                            "#0d0887"
                          ],
                          [
                            0.1111111111111111,
                            "#46039f"
                          ],
                          [
                            0.2222222222222222,
                            "#7201a8"
                          ],
                          [
                            0.3333333333333333,
                            "#9c179e"
                          ],
                          [
                            0.4444444444444444,
                            "#bd3786"
                          ],
                          [
                            0.5555555555555556,
                            "#d8576b"
                          ],
                          [
                            0.6666666666666666,
                            "#ed7953"
                          ],
                          [
                            0.7777777777777778,
                            "#fb9f3a"
                          ],
                          [
                            0.8888888888888888,
                            "#fdca26"
                          ],
                          [
                            1,
                            "#f0f921"
                          ]
                        ],
                        "type": "histogram2d"
                      }
                    ],
                    "histogram2dcontour": [
                      {
                        "colorbar": {
                          "outlinewidth": 0,
                          "ticks": ""
                        },
                        "colorscale": [
                          [
                            0,
                            "#0d0887"
                          ],
                          [
                            0.1111111111111111,
                            "#46039f"
                          ],
                          [
                            0.2222222222222222,
                            "#7201a8"
                          ],
                          [
                            0.3333333333333333,
                            "#9c179e"
                          ],
                          [
                            0.4444444444444444,
                            "#bd3786"
                          ],
                          [
                            0.5555555555555556,
                            "#d8576b"
                          ],
                          [
                            0.6666666666666666,
                            "#ed7953"
                          ],
                          [
                            0.7777777777777778,
                            "#fb9f3a"
                          ],
                          [
                            0.8888888888888888,
                            "#fdca26"
                          ],
                          [
                            1,
                            "#f0f921"
                          ]
                        ],
                        "type": "histogram2dcontour"
                      }
                    ],
                    "mesh3d": [
                      {
                        "colorbar": {
                          "outlinewidth": 0,
                          "ticks": ""
                        },
                        "type": "mesh3d"
                      }
                    ],
                    "parcoords": [
                      {
                        "line": {
                          "colorbar": {
                            "outlinewidth": 0,
                            "ticks": ""
                          }
                        },
                        "type": "parcoords"
                      }
                    ],
                    "pie": [
                      {
                        "automargin": true,
                        "type": "pie"
                      }
                    ],
                    "scatter": [
                      {
                        "fillpattern": {
                          "fillmode": "overlay",
                          "size": 10,
                          "solidity": 0.2
                        },
                        "type": "scatter"
                      }
                    ],
                    "scatter3d": [
                      {
                        "line": {
                          "colorbar": {
                            "outlinewidth": 0,
                            "ticks": ""
                          }
                        },
                        "marker": {
                          "colorbar": {
                            "outlinewidth": 0,
                            "ticks": ""
                          }
                        },
                        "type": "scatter3d"
                      }
                    ],
                    "scattercarpet": [
                      {
                        "marker": {
                          "colorbar": {
                            "outlinewidth": 0,
                            "ticks": ""
                          }
                        },
                        "type": "scattercarpet"
                      }
                    ],
                    "scattergeo": [
                      {
                        "marker": {
                          "colorbar": {
                            "outlinewidth": 0,
                            "ticks": ""
                          }
                        },
                        "type": "scattergeo"
                      }
                    ],
                    "scattergl": [
                      {
                        "marker": {
                          "colorbar": {
                            "outlinewidth": 0,
                            "ticks": ""
                          }
                        },
                        "type": "scattergl"
                      }
                    ],
                    "scattermapbox": [
                      {
                        "marker": {
                          "colorbar": {
                            "outlinewidth": 0,
                            "ticks": ""
                          }
                        },
                        "type": "scattermapbox"
                      }
                    ],
                    "scatterpolar": [
                      {
                        "marker": {
                          "colorbar": {
                            "outlinewidth": 0,
                            "ticks": ""
                          }
                        },
                        "type": "scatterpolar"
                      }
                    ],
                    "scatterpolargl": [
                      {
                        "marker": {
                          "colorbar": {
                            "outlinewidth": 0,
                            "ticks": ""
                          }
                        },
                        "type": "scatterpolargl"
                      }
                    ],
                    "scatterternary": [
                      {
                        "marker": {
                          "colorbar": {
                            "outlinewidth": 0,
                            "ticks": ""
                          }
                        },
                        "type": "scatterternary"
                      }
                    ],
                    "surface": [
                      {
                        "colorbar": {
                          "outlinewidth": 0,
                          "ticks": ""
                        },
                        "colorscale": [
                          [
                            0,
                            "#0d0887"
                          ],
                          [
                            0.1111111111111111,
                            "#46039f"
                          ],
                          [
                            0.2222222222222222,
                            "#7201a8"
                          ],
                          [
                            0.3333333333333333,
                            "#9c179e"
                          ],
                          [
                            0.4444444444444444,
                            "#bd3786"
                          ],
                          [
                            0.5555555555555556,
                            "#d8576b"
                          ],
                          [
                            0.6666666666666666,
                            "#ed7953"
                          ],
                          [
                            0.7777777777777778,
                            "#fb9f3a"
                          ],
                          [
                            0.8888888888888888,
                            "#fdca26"
                          ],
                          [
                            1,
                            "#f0f921"
                          ]
                        ],
                        "type": "surface"
                      }
                    ],
                    "table": [
                      {
                        "cells": {
                          "fill": {
                            "color": "#EBF0F8"
                          },
                          "line": {
                            "color": "white"
                          }
                        },
                        "header": {
                          "fill": {
                            "color": "#C8D4E3"
                          },
                          "line": {
                            "color": "white"
                          }
                        },
                        "type": "table"
                      }
                    ]
                  },
                  "layout": {
                    "annotationdefaults": {
                      "arrowcolor": "#2a3f5f",
                      "arrowhead": 0,
                      "arrowwidth": 1
                    },
                    "autotypenumbers": "strict",
                    "coloraxis": {
                      "colorbar": {
                        "outlinewidth": 0,
                        "ticks": ""
                      }
                    },
                    "colorscale": {
                      "diverging": [
                        [
                          0,
                          "#8e0152"
                        ],
                        [
                          0.1,
                          "#c51b7d"
                        ],
                        [
                          0.2,
                          "#de77ae"
                        ],
                        [
                          0.3,
                          "#f1b6da"
                        ],
                        [
                          0.4,
                          "#fde0ef"
                        ],
                        [
                          0.5,
                          "#f7f7f7"
                        ],
                        [
                          0.6,
                          "#e6f5d0"
                        ],
                        [
                          0.7,
                          "#b8e186"
                        ],
                        [
                          0.8,
                          "#7fbc41"
                        ],
                        [
                          0.9,
                          "#4d9221"
                        ],
                        [
                          1,
                          "#276419"
                        ]
                      ],
                      "sequential": [
                        [
                          0,
                          "#0d0887"
                        ],
                        [
                          0.1111111111111111,
                          "#46039f"
                        ],
                        [
                          0.2222222222222222,
                          "#7201a8"
                        ],
                        [
                          0.3333333333333333,
                          "#9c179e"
                        ],
                        [
                          0.4444444444444444,
                          "#bd3786"
                        ],
                        [
                          0.5555555555555556,
                          "#d8576b"
                        ],
                        [
                          0.6666666666666666,
                          "#ed7953"
                        ],
                        [
                          0.7777777777777778,
                          "#fb9f3a"
                        ],
                        [
                          0.8888888888888888,
                          "#fdca26"
                        ],
                        [
                          1,
                          "#f0f921"
                        ]
                      ],
                      "sequentialminus": [
                        [
                          0,
                          "#0d0887"
                        ],
                        [
                          0.1111111111111111,
                          "#46039f"
                        ],
                        [
                          0.2222222222222222,
                          "#7201a8"
                        ],
                        [
                          0.3333333333333333,
                          "#9c179e"
                        ],
                        [
                          0.4444444444444444,
                          "#bd3786"
                        ],
                        [
                          0.5555555555555556,
                          "#d8576b"
                        ],
                        [
                          0.6666666666666666,
                          "#ed7953"
                        ],
                        [
                          0.7777777777777778,
                          "#fb9f3a"
                        ],
                        [
                          0.8888888888888888,
                          "#fdca26"
                        ],
                        [
                          1,
                          "#f0f921"
                        ]
                      ]
                    },
                    "colorway": [
                      "#636efa",
                      "#EF553B",
                      "#00cc96",
                      "#ab63fa",
                      "#FFA15A",
                      "#19d3f3",
                      "#FF6692",
                      "#B6E880",
                      "#FF97FF",
                      "#FECB52"
                    ],
                    "font": {
                      "color": "#2a3f5f"
                    },
                    "geo": {
                      "bgcolor": "white",
                      "lakecolor": "white",
                      "landcolor": "#E5ECF6",
                      "showlakes": true,
                      "showland": true,
                      "subunitcolor": "white"
                    },
                    "hoverlabel": {
                      "align": "left"
                    },
                    "hovermode": "closest",
                    "mapbox": {
                      "style": "light"
                    },
                    "paper_bgcolor": "white",
                    "plot_bgcolor": "#E5ECF6",
                    "polar": {
                      "angularaxis": {
                        "gridcolor": "white",
                        "linecolor": "white",
                        "ticks": ""
                      },
                      "bgcolor": "#E5ECF6",
                      "radialaxis": {
                        "gridcolor": "white",
                        "linecolor": "white",
                        "ticks": ""
                      }
                    },
                    "scene": {
                      "xaxis": {
                        "backgroundcolor": "#E5ECF6",
                        "gridcolor": "white",
                        "gridwidth": 2,
                        "linecolor": "white",
                        "showbackground": true,
                        "ticks": "",
                        "zerolinecolor": "white"
                      },
                      "yaxis": {
                        "backgroundcolor": "#E5ECF6",
                        "gridcolor": "white",
                        "gridwidth": 2,
                        "linecolor": "white",
                        "showbackground": true,
                        "ticks": "",
                        "zerolinecolor": "white"
                      },
                      "zaxis": {
                        "backgroundcolor": "#E5ECF6",
                        "gridcolor": "white",
                        "gridwidth": 2,
                        "linecolor": "white",
                        "showbackground": true,
                        "ticks": "",
                        "zerolinecolor": "white"
                      }
                    },
                    "shapedefaults": {
                      "line": {
                        "color": "#2a3f5f"
                      }
                    },
                    "ternary": {
                      "aaxis": {
                        "gridcolor": "white",
                        "linecolor": "white",
                        "ticks": ""
                      },
                      "baxis": {
                        "gridcolor": "white",
                        "linecolor": "white",
                        "ticks": ""
                      },
                      "bgcolor": "#E5ECF6",
                      "caxis": {
                        "gridcolor": "white",
                        "linecolor": "white",
                        "ticks": ""
                      }
                    },
                    "title": {
                      "x": 0.05
                    },
                    "xaxis": {
                      "automargin": true,
                      "gridcolor": "white",
                      "linecolor": "white",
                      "ticks": "",
                      "title": {
                        "standoff": 15
                      },
                      "zerolinecolor": "white",
                      "zerolinewidth": 2
                    },
                    "yaxis": {
                      "automargin": true,
                      "gridcolor": "white",
                      "linecolor": "white",
                      "ticks": "",
                      "title": {
                        "standoff": 15
                      },
                      "zerolinecolor": "white",
                      "zerolinewidth": 2
                    }
                  }
                },
                "title": {
                  "text": "Vectores en el espacio tridimensional"
                }
              }
            }
          },
          "metadata": {},
          "output_type": "display_data"
        }
      ],
      "source": [
        "X = np.diag((2, 3, 0.5))\n",
        "\n",
        "autovalores, autovectores = encontrar_autovalores_autovectores(X)\n",
        "k=0\n",
        "print('autovalor', autovalores[k])\n",
        "v_np = autovectores.T[k]\n",
        "print('autovector unitario', v_np)\n",
        "print('--------------')\n",
        "v = -2*autovectores.T[k]\n",
        "print('autovector', v)\n",
        "\n",
        "Xv = X.dot(v)\n",
        "print('vector transformado', Xv)\n",
        "\n",
        "plot_3d_vectors(v, Xv)"
      ]
    },
    {
      "cell_type": "code",
      "execution_count": 144,
      "metadata": {
        "id": "nZ4VolCKyFGz"
      },
      "outputs": [
        {
          "name": "stdout",
          "output_type": "stream",
          "text": [
            "autovalor -8.0\n",
            "autovector unitario [ 0.81649658  0.40824829 -0.40824829]\n",
            "--------------\n",
            "autovector [-0.40824829 -0.20412415  0.20412415]\n",
            "vector transformado [ 3.26598632  1.63299316 -1.63299316]\n"
          ]
        },
        {
          "data": {
            "application/vnd.plotly.v1+json": {
              "config": {
                "plotlyServerURL": "https://plot.ly"
              },
              "data": [
                {
                  "line": {
                    "color": "blue",
                    "width": 10
                  },
                  "marker": {
                    "size": 6
                  },
                  "mode": "lines+markers",
                  "name": "Vector 1",
                  "type": "scatter3d",
                  "x": [
                    0,
                    -0.4082482904638631
                  ],
                  "y": [
                    0,
                    -0.20412414523193148
                  ],
                  "z": [
                    0,
                    0.20412414523193154
                  ]
                },
                {
                  "line": {
                    "color": "rgba(255, 0, 0, 0.5)",
                    "width": 3
                  },
                  "marker": {
                    "size": 6
                  },
                  "mode": "lines+markers",
                  "name": "Vector 2",
                  "type": "scatter3d",
                  "x": [
                    0,
                    3.2659863237109046
                  ],
                  "y": [
                    0,
                    1.6329931618554523
                  ],
                  "z": [
                    0,
                    -1.632993161855452
                  ]
                }
              ],
              "layout": {
                "scene": {
                  "aspectmode": "cube",
                  "xaxis": {
                    "range": [
                      -5,
                      5
                    ],
                    "title": {
                      "text": "X"
                    }
                  },
                  "yaxis": {
                    "range": [
                      -5,
                      5
                    ],
                    "title": {
                      "text": "Y"
                    }
                  },
                  "zaxis": {
                    "range": [
                      -5,
                      5
                    ],
                    "title": {
                      "text": "Z"
                    }
                  }
                },
                "template": {
                  "data": {
                    "bar": [
                      {
                        "error_x": {
                          "color": "#2a3f5f"
                        },
                        "error_y": {
                          "color": "#2a3f5f"
                        },
                        "marker": {
                          "line": {
                            "color": "#E5ECF6",
                            "width": 0.5
                          },
                          "pattern": {
                            "fillmode": "overlay",
                            "size": 10,
                            "solidity": 0.2
                          }
                        },
                        "type": "bar"
                      }
                    ],
                    "barpolar": [
                      {
                        "marker": {
                          "line": {
                            "color": "#E5ECF6",
                            "width": 0.5
                          },
                          "pattern": {
                            "fillmode": "overlay",
                            "size": 10,
                            "solidity": 0.2
                          }
                        },
                        "type": "barpolar"
                      }
                    ],
                    "carpet": [
                      {
                        "aaxis": {
                          "endlinecolor": "#2a3f5f",
                          "gridcolor": "white",
                          "linecolor": "white",
                          "minorgridcolor": "white",
                          "startlinecolor": "#2a3f5f"
                        },
                        "baxis": {
                          "endlinecolor": "#2a3f5f",
                          "gridcolor": "white",
                          "linecolor": "white",
                          "minorgridcolor": "white",
                          "startlinecolor": "#2a3f5f"
                        },
                        "type": "carpet"
                      }
                    ],
                    "choropleth": [
                      {
                        "colorbar": {
                          "outlinewidth": 0,
                          "ticks": ""
                        },
                        "type": "choropleth"
                      }
                    ],
                    "contour": [
                      {
                        "colorbar": {
                          "outlinewidth": 0,
                          "ticks": ""
                        },
                        "colorscale": [
                          [
                            0,
                            "#0d0887"
                          ],
                          [
                            0.1111111111111111,
                            "#46039f"
                          ],
                          [
                            0.2222222222222222,
                            "#7201a8"
                          ],
                          [
                            0.3333333333333333,
                            "#9c179e"
                          ],
                          [
                            0.4444444444444444,
                            "#bd3786"
                          ],
                          [
                            0.5555555555555556,
                            "#d8576b"
                          ],
                          [
                            0.6666666666666666,
                            "#ed7953"
                          ],
                          [
                            0.7777777777777778,
                            "#fb9f3a"
                          ],
                          [
                            0.8888888888888888,
                            "#fdca26"
                          ],
                          [
                            1,
                            "#f0f921"
                          ]
                        ],
                        "type": "contour"
                      }
                    ],
                    "contourcarpet": [
                      {
                        "colorbar": {
                          "outlinewidth": 0,
                          "ticks": ""
                        },
                        "type": "contourcarpet"
                      }
                    ],
                    "heatmap": [
                      {
                        "colorbar": {
                          "outlinewidth": 0,
                          "ticks": ""
                        },
                        "colorscale": [
                          [
                            0,
                            "#0d0887"
                          ],
                          [
                            0.1111111111111111,
                            "#46039f"
                          ],
                          [
                            0.2222222222222222,
                            "#7201a8"
                          ],
                          [
                            0.3333333333333333,
                            "#9c179e"
                          ],
                          [
                            0.4444444444444444,
                            "#bd3786"
                          ],
                          [
                            0.5555555555555556,
                            "#d8576b"
                          ],
                          [
                            0.6666666666666666,
                            "#ed7953"
                          ],
                          [
                            0.7777777777777778,
                            "#fb9f3a"
                          ],
                          [
                            0.8888888888888888,
                            "#fdca26"
                          ],
                          [
                            1,
                            "#f0f921"
                          ]
                        ],
                        "type": "heatmap"
                      }
                    ],
                    "heatmapgl": [
                      {
                        "colorbar": {
                          "outlinewidth": 0,
                          "ticks": ""
                        },
                        "colorscale": [
                          [
                            0,
                            "#0d0887"
                          ],
                          [
                            0.1111111111111111,
                            "#46039f"
                          ],
                          [
                            0.2222222222222222,
                            "#7201a8"
                          ],
                          [
                            0.3333333333333333,
                            "#9c179e"
                          ],
                          [
                            0.4444444444444444,
                            "#bd3786"
                          ],
                          [
                            0.5555555555555556,
                            "#d8576b"
                          ],
                          [
                            0.6666666666666666,
                            "#ed7953"
                          ],
                          [
                            0.7777777777777778,
                            "#fb9f3a"
                          ],
                          [
                            0.8888888888888888,
                            "#fdca26"
                          ],
                          [
                            1,
                            "#f0f921"
                          ]
                        ],
                        "type": "heatmapgl"
                      }
                    ],
                    "histogram": [
                      {
                        "marker": {
                          "pattern": {
                            "fillmode": "overlay",
                            "size": 10,
                            "solidity": 0.2
                          }
                        },
                        "type": "histogram"
                      }
                    ],
                    "histogram2d": [
                      {
                        "colorbar": {
                          "outlinewidth": 0,
                          "ticks": ""
                        },
                        "colorscale": [
                          [
                            0,
                            "#0d0887"
                          ],
                          [
                            0.1111111111111111,
                            "#46039f"
                          ],
                          [
                            0.2222222222222222,
                            "#7201a8"
                          ],
                          [
                            0.3333333333333333,
                            "#9c179e"
                          ],
                          [
                            0.4444444444444444,
                            "#bd3786"
                          ],
                          [
                            0.5555555555555556,
                            "#d8576b"
                          ],
                          [
                            0.6666666666666666,
                            "#ed7953"
                          ],
                          [
                            0.7777777777777778,
                            "#fb9f3a"
                          ],
                          [
                            0.8888888888888888,
                            "#fdca26"
                          ],
                          [
                            1,
                            "#f0f921"
                          ]
                        ],
                        "type": "histogram2d"
                      }
                    ],
                    "histogram2dcontour": [
                      {
                        "colorbar": {
                          "outlinewidth": 0,
                          "ticks": ""
                        },
                        "colorscale": [
                          [
                            0,
                            "#0d0887"
                          ],
                          [
                            0.1111111111111111,
                            "#46039f"
                          ],
                          [
                            0.2222222222222222,
                            "#7201a8"
                          ],
                          [
                            0.3333333333333333,
                            "#9c179e"
                          ],
                          [
                            0.4444444444444444,
                            "#bd3786"
                          ],
                          [
                            0.5555555555555556,
                            "#d8576b"
                          ],
                          [
                            0.6666666666666666,
                            "#ed7953"
                          ],
                          [
                            0.7777777777777778,
                            "#fb9f3a"
                          ],
                          [
                            0.8888888888888888,
                            "#fdca26"
                          ],
                          [
                            1,
                            "#f0f921"
                          ]
                        ],
                        "type": "histogram2dcontour"
                      }
                    ],
                    "mesh3d": [
                      {
                        "colorbar": {
                          "outlinewidth": 0,
                          "ticks": ""
                        },
                        "type": "mesh3d"
                      }
                    ],
                    "parcoords": [
                      {
                        "line": {
                          "colorbar": {
                            "outlinewidth": 0,
                            "ticks": ""
                          }
                        },
                        "type": "parcoords"
                      }
                    ],
                    "pie": [
                      {
                        "automargin": true,
                        "type": "pie"
                      }
                    ],
                    "scatter": [
                      {
                        "fillpattern": {
                          "fillmode": "overlay",
                          "size": 10,
                          "solidity": 0.2
                        },
                        "type": "scatter"
                      }
                    ],
                    "scatter3d": [
                      {
                        "line": {
                          "colorbar": {
                            "outlinewidth": 0,
                            "ticks": ""
                          }
                        },
                        "marker": {
                          "colorbar": {
                            "outlinewidth": 0,
                            "ticks": ""
                          }
                        },
                        "type": "scatter3d"
                      }
                    ],
                    "scattercarpet": [
                      {
                        "marker": {
                          "colorbar": {
                            "outlinewidth": 0,
                            "ticks": ""
                          }
                        },
                        "type": "scattercarpet"
                      }
                    ],
                    "scattergeo": [
                      {
                        "marker": {
                          "colorbar": {
                            "outlinewidth": 0,
                            "ticks": ""
                          }
                        },
                        "type": "scattergeo"
                      }
                    ],
                    "scattergl": [
                      {
                        "marker": {
                          "colorbar": {
                            "outlinewidth": 0,
                            "ticks": ""
                          }
                        },
                        "type": "scattergl"
                      }
                    ],
                    "scattermapbox": [
                      {
                        "marker": {
                          "colorbar": {
                            "outlinewidth": 0,
                            "ticks": ""
                          }
                        },
                        "type": "scattermapbox"
                      }
                    ],
                    "scatterpolar": [
                      {
                        "marker": {
                          "colorbar": {
                            "outlinewidth": 0,
                            "ticks": ""
                          }
                        },
                        "type": "scatterpolar"
                      }
                    ],
                    "scatterpolargl": [
                      {
                        "marker": {
                          "colorbar": {
                            "outlinewidth": 0,
                            "ticks": ""
                          }
                        },
                        "type": "scatterpolargl"
                      }
                    ],
                    "scatterternary": [
                      {
                        "marker": {
                          "colorbar": {
                            "outlinewidth": 0,
                            "ticks": ""
                          }
                        },
                        "type": "scatterternary"
                      }
                    ],
                    "surface": [
                      {
                        "colorbar": {
                          "outlinewidth": 0,
                          "ticks": ""
                        },
                        "colorscale": [
                          [
                            0,
                            "#0d0887"
                          ],
                          [
                            0.1111111111111111,
                            "#46039f"
                          ],
                          [
                            0.2222222222222222,
                            "#7201a8"
                          ],
                          [
                            0.3333333333333333,
                            "#9c179e"
                          ],
                          [
                            0.4444444444444444,
                            "#bd3786"
                          ],
                          [
                            0.5555555555555556,
                            "#d8576b"
                          ],
                          [
                            0.6666666666666666,
                            "#ed7953"
                          ],
                          [
                            0.7777777777777778,
                            "#fb9f3a"
                          ],
                          [
                            0.8888888888888888,
                            "#fdca26"
                          ],
                          [
                            1,
                            "#f0f921"
                          ]
                        ],
                        "type": "surface"
                      }
                    ],
                    "table": [
                      {
                        "cells": {
                          "fill": {
                            "color": "#EBF0F8"
                          },
                          "line": {
                            "color": "white"
                          }
                        },
                        "header": {
                          "fill": {
                            "color": "#C8D4E3"
                          },
                          "line": {
                            "color": "white"
                          }
                        },
                        "type": "table"
                      }
                    ]
                  },
                  "layout": {
                    "annotationdefaults": {
                      "arrowcolor": "#2a3f5f",
                      "arrowhead": 0,
                      "arrowwidth": 1
                    },
                    "autotypenumbers": "strict",
                    "coloraxis": {
                      "colorbar": {
                        "outlinewidth": 0,
                        "ticks": ""
                      }
                    },
                    "colorscale": {
                      "diverging": [
                        [
                          0,
                          "#8e0152"
                        ],
                        [
                          0.1,
                          "#c51b7d"
                        ],
                        [
                          0.2,
                          "#de77ae"
                        ],
                        [
                          0.3,
                          "#f1b6da"
                        ],
                        [
                          0.4,
                          "#fde0ef"
                        ],
                        [
                          0.5,
                          "#f7f7f7"
                        ],
                        [
                          0.6,
                          "#e6f5d0"
                        ],
                        [
                          0.7,
                          "#b8e186"
                        ],
                        [
                          0.8,
                          "#7fbc41"
                        ],
                        [
                          0.9,
                          "#4d9221"
                        ],
                        [
                          1,
                          "#276419"
                        ]
                      ],
                      "sequential": [
                        [
                          0,
                          "#0d0887"
                        ],
                        [
                          0.1111111111111111,
                          "#46039f"
                        ],
                        [
                          0.2222222222222222,
                          "#7201a8"
                        ],
                        [
                          0.3333333333333333,
                          "#9c179e"
                        ],
                        [
                          0.4444444444444444,
                          "#bd3786"
                        ],
                        [
                          0.5555555555555556,
                          "#d8576b"
                        ],
                        [
                          0.6666666666666666,
                          "#ed7953"
                        ],
                        [
                          0.7777777777777778,
                          "#fb9f3a"
                        ],
                        [
                          0.8888888888888888,
                          "#fdca26"
                        ],
                        [
                          1,
                          "#f0f921"
                        ]
                      ],
                      "sequentialminus": [
                        [
                          0,
                          "#0d0887"
                        ],
                        [
                          0.1111111111111111,
                          "#46039f"
                        ],
                        [
                          0.2222222222222222,
                          "#7201a8"
                        ],
                        [
                          0.3333333333333333,
                          "#9c179e"
                        ],
                        [
                          0.4444444444444444,
                          "#bd3786"
                        ],
                        [
                          0.5555555555555556,
                          "#d8576b"
                        ],
                        [
                          0.6666666666666666,
                          "#ed7953"
                        ],
                        [
                          0.7777777777777778,
                          "#fb9f3a"
                        ],
                        [
                          0.8888888888888888,
                          "#fdca26"
                        ],
                        [
                          1,
                          "#f0f921"
                        ]
                      ]
                    },
                    "colorway": [
                      "#636efa",
                      "#EF553B",
                      "#00cc96",
                      "#ab63fa",
                      "#FFA15A",
                      "#19d3f3",
                      "#FF6692",
                      "#B6E880",
                      "#FF97FF",
                      "#FECB52"
                    ],
                    "font": {
                      "color": "#2a3f5f"
                    },
                    "geo": {
                      "bgcolor": "white",
                      "lakecolor": "white",
                      "landcolor": "#E5ECF6",
                      "showlakes": true,
                      "showland": true,
                      "subunitcolor": "white"
                    },
                    "hoverlabel": {
                      "align": "left"
                    },
                    "hovermode": "closest",
                    "mapbox": {
                      "style": "light"
                    },
                    "paper_bgcolor": "white",
                    "plot_bgcolor": "#E5ECF6",
                    "polar": {
                      "angularaxis": {
                        "gridcolor": "white",
                        "linecolor": "white",
                        "ticks": ""
                      },
                      "bgcolor": "#E5ECF6",
                      "radialaxis": {
                        "gridcolor": "white",
                        "linecolor": "white",
                        "ticks": ""
                      }
                    },
                    "scene": {
                      "xaxis": {
                        "backgroundcolor": "#E5ECF6",
                        "gridcolor": "white",
                        "gridwidth": 2,
                        "linecolor": "white",
                        "showbackground": true,
                        "ticks": "",
                        "zerolinecolor": "white"
                      },
                      "yaxis": {
                        "backgroundcolor": "#E5ECF6",
                        "gridcolor": "white",
                        "gridwidth": 2,
                        "linecolor": "white",
                        "showbackground": true,
                        "ticks": "",
                        "zerolinecolor": "white"
                      },
                      "zaxis": {
                        "backgroundcolor": "#E5ECF6",
                        "gridcolor": "white",
                        "gridwidth": 2,
                        "linecolor": "white",
                        "showbackground": true,
                        "ticks": "",
                        "zerolinecolor": "white"
                      }
                    },
                    "shapedefaults": {
                      "line": {
                        "color": "#2a3f5f"
                      }
                    },
                    "ternary": {
                      "aaxis": {
                        "gridcolor": "white",
                        "linecolor": "white",
                        "ticks": ""
                      },
                      "baxis": {
                        "gridcolor": "white",
                        "linecolor": "white",
                        "ticks": ""
                      },
                      "bgcolor": "#E5ECF6",
                      "caxis": {
                        "gridcolor": "white",
                        "linecolor": "white",
                        "ticks": ""
                      }
                    },
                    "title": {
                      "x": 0.05
                    },
                    "xaxis": {
                      "automargin": true,
                      "gridcolor": "white",
                      "linecolor": "white",
                      "ticks": "",
                      "title": {
                        "standoff": 15
                      },
                      "zerolinecolor": "white",
                      "zerolinewidth": 2
                    },
                    "yaxis": {
                      "automargin": true,
                      "gridcolor": "white",
                      "linecolor": "white",
                      "ticks": "",
                      "title": {
                        "standoff": 15
                      },
                      "zerolinecolor": "white",
                      "zerolinewidth": 2
                    }
                  }
                },
                "title": {
                  "text": "Vectores en el espacio tridimensional"
                }
              }
            }
          },
          "metadata": {},
          "output_type": "display_data"
        }
      ],
      "source": [
        "X = np.array([\n",
        "  [-5, -4, 2],\n",
        "  [-2, -2, 2],\n",
        "  [4, 2, 2]\n",
        "])\n",
        "\n",
        "autovalores, autovectores = encontrar_autovalores_autovectores(X)\n",
        "k=0\n",
        "print('autovalor', np.round(autovalores[k]))\n",
        "v_np = autovectores.T[k]\n",
        "print('autovector unitario', v_np)\n",
        "print('--------------')\n",
        "v = -0.5*autovectores.T[k]\n",
        "print('autovector', v)\n",
        "\n",
        "Xv = X.dot(v)\n",
        "print('vector transformado', Xv)\n",
        "\n",
        "plot_3d_vectors(v, Xv)"
      ]
    },
    {
      "cell_type": "markdown",
      "metadata": {
        "id": "5UDzkTdrCWor"
      },
      "source": [
        "<a name=\"id2\"></a> <h2> Descomposición espectral </h2>\n",
        "##  "
      ]
    },
    {
      "cell_type": "code",
      "execution_count": 145,
      "metadata": {
        "id": "I-oNKS84e1QH"
      },
      "outputs": [
        {
          "data": {
            "text/plain": [
              "array([[3., 0.],\n",
              "       [0., 1.]])"
            ]
          },
          "execution_count": 145,
          "metadata": {},
          "output_type": "execute_result"
        }
      ],
      "source": [
        "import numpy as np\n",
        "\n",
        "# Definir una matriz cuadrada\n",
        "A = np.array([\n",
        "    [2, 1],\n",
        "    [1, 2]\n",
        "])\n",
        "\n",
        "# Calcular los autovalores y autovectores\n",
        "eigenvalues, eigenvectors = np.linalg.eig(A)\n",
        "\n",
        "# Construir la matriz diagonal de autovalores\n",
        "Lambda = np.diag(eigenvalues)\n",
        "Lambda"
      ]
    },
    {
      "cell_type": "code",
      "execution_count": 146,
      "metadata": {
        "id": "CIoE4if6fEGe"
      },
      "outputs": [
        {
          "data": {
            "text/plain": [
              "array([3., 1.])"
            ]
          },
          "execution_count": 146,
          "metadata": {},
          "output_type": "execute_result"
        }
      ],
      "source": [
        "eigenvalues #auto valores"
      ]
    },
    {
      "cell_type": "code",
      "execution_count": 147,
      "metadata": {
        "id": "guJda1aIfAyZ"
      },
      "outputs": [
        {
          "data": {
            "text/plain": [
              "array([[ 0.70710678, -0.70710678],\n",
              "       [ 0.70710678,  0.70710678]])"
            ]
          },
          "execution_count": 147,
          "metadata": {},
          "output_type": "execute_result"
        }
      ],
      "source": [
        "eigenvectors #auto vectores"
      ]
    },
    {
      "cell_type": "code",
      "execution_count": 148,
      "metadata": {
        "id": "kCgeKIXKSpqq"
      },
      "outputs": [
        {
          "name": "stdout",
          "output_type": "stream",
          "text": [
            "Matriz Original:\n",
            "[[2 1]\n",
            " [1 2]]\n",
            "\n",
            "Matriz Reconstruida (P * Lambda * P^-1):\n",
            "[[2. 1.]\n",
            " [1. 2.]]\n",
            "\n",
            "La descomposición espectral es correcta.\n"
          ]
        }
      ],
      "source": [
        "import numpy as np\n",
        "\n",
        "# Definir una matriz cuadrada\n",
        "A = np.array([\n",
        "    [2, 1],\n",
        "    [1, 2]\n",
        "])\n",
        "\n",
        "# Calcular los autovalores y autovectores\n",
        "eigenvalues, eigenvectors = np.linalg.eig(A)\n",
        "\n",
        "# Construir la matriz diagonal de autovalores\n",
        "Lambda = np.diag(eigenvalues)\n",
        "\n",
        "# Construir la matriz de autovectores\n",
        "P = eigenvectors\n",
        "\n",
        "# Verificar la descomposición espectral\n",
        "reconstructed_A = P @ Lambda @ np.linalg.inv(P)\n",
        "\n",
        "# Imprimir la matriz original y la reconstruida\n",
        "print(\"Matriz Original:\")\n",
        "print(A)\n",
        "print(\"\\nMatriz Reconstruida (P * Lambda * P^-1):\")\n",
        "print(reconstructed_A)\n",
        "\n",
        "# Comprobar si las dos matrices son iguales\n",
        "if np.allclose(A, reconstructed_A):\n",
        "    print(\"\\nLa descomposición espectral es correcta.\")\n",
        "else:\n",
        "    print(\"\\nLa descomposición espectral es incorrecta.\")"
      ]
    },
    {
      "cell_type": "code",
      "execution_count": 149,
      "metadata": {
        "id": "MiOrk7J_fdz5"
      },
      "outputs": [
        {
          "data": {
            "text/plain": [
              "array([[ 0.70710678, -0.70710678],\n",
              "       [ 0.70710678,  0.70710678]])"
            ]
          },
          "execution_count": 149,
          "metadata": {},
          "output_type": "execute_result"
        }
      ],
      "source": [
        "P"
      ]
    },
    {
      "cell_type": "code",
      "execution_count": 150,
      "metadata": {
        "id": "o833ngLqfe9u"
      },
      "outputs": [
        {
          "data": {
            "text/plain": [
              "array([[3., 0.],\n",
              "       [0., 1.]])"
            ]
          },
          "execution_count": 150,
          "metadata": {},
          "output_type": "execute_result"
        }
      ],
      "source": [
        "Lambda"
      ]
    },
    {
      "cell_type": "code",
      "execution_count": 151,
      "metadata": {
        "id": "mTv7xDzCfhd3"
      },
      "outputs": [
        {
          "data": {
            "text/plain": [
              "array([[ 0.70710678,  0.70710678],\n",
              "       [-0.70710678,  0.70710678]])"
            ]
          },
          "execution_count": 151,
          "metadata": {},
          "output_type": "execute_result"
        }
      ],
      "source": [
        "np.linalg.inv(P)"
      ]
    },
    {
      "cell_type": "code",
      "execution_count": 152,
      "metadata": {
        "id": "6apQOjmMFWNU"
      },
      "outputs": [
        {
          "name": "stdout",
          "output_type": "stream",
          "text": [
            "Matriz Original:\n",
            "[[3 1]\n",
            " [1 2]]\n",
            "\n",
            "Matriz Reconstruida (P * Lambda * P^-1):\n",
            "[[3. 1.]\n",
            " [1. 2.]]\n",
            "\n",
            "La descomposición espectral es correcta.\n"
          ]
        }
      ],
      "source": [
        "import numpy as np\n",
        "\n",
        "# Definir una matriz cuadrada\n",
        "A = np.array([\n",
        "    [3, 1],\n",
        "    [1, 2]\n",
        "])\n",
        "\n",
        "# Calcular los autovalores y autovectores\n",
        "eigenvalues, eigenvectors = np.linalg.eig(A)\n",
        "\n",
        "# Construir la matriz diagonal de autovalores\n",
        "Lambda = np.diag(eigenvalues)\n",
        "\n",
        "# Construir la matriz de autovectores\n",
        "P = eigenvectors\n",
        "\n",
        "# Verificar la descomposición espectral\n",
        "reconstructed_A = P.dot(Lambda).dot(np.linalg.inv(P))\n",
        "reconstructed_A = P @ Lambda @ np.linalg.inv(P)\n",
        "\n",
        "# Imprimir la matriz original y la reconstruida\n",
        "print(\"Matriz Original:\")\n",
        "print(A)\n",
        "print(\"\\nMatriz Reconstruida (P * Lambda * P^-1):\")\n",
        "print(reconstructed_A)\n",
        "\n",
        "# Comprobar si las dos matrices son iguales\n",
        "if np.allclose(A, reconstructed_A):\n",
        "    print(\"\\nLa descomposición espectral es correcta.\")\n",
        "else:\n",
        "    print(\"\\nLa descomposición espectral es incorrecta.\")"
      ]
    },
    {
      "cell_type": "code",
      "execution_count": 153,
      "metadata": {
        "id": "vA8fUbYGFe6k"
      },
      "outputs": [
        {
          "data": {
            "text/plain": [
              "array([3.61803399, 1.38196601])"
            ]
          },
          "execution_count": 153,
          "metadata": {},
          "output_type": "execute_result"
        }
      ],
      "source": [
        "eigenvalues"
      ]
    },
    {
      "cell_type": "code",
      "execution_count": 154,
      "metadata": {
        "id": "WhxcL-IyFgG_"
      },
      "outputs": [
        {
          "data": {
            "text/plain": [
              "array([[ 0.85065081, -0.52573111],\n",
              "       [ 0.52573111,  0.85065081]])"
            ]
          },
          "execution_count": 154,
          "metadata": {},
          "output_type": "execute_result"
        }
      ],
      "source": [
        "eigenvectors"
      ]
    },
    {
      "cell_type": "code",
      "execution_count": 155,
      "metadata": {
        "id": "gqQb1uvIM6Kd"
      },
      "outputs": [
        {
          "name": "stdout",
          "output_type": "stream",
          "text": [
            "Matriz Original:\n",
            "[[3 1]\n",
            " [0 2]]\n",
            "\n",
            "Matriz Reconstruida (P * Lambda * P^-1):\n",
            "[[3. 1.]\n",
            " [0. 2.]]\n",
            "\n",
            "La descomposición espectral es correcta.\n"
          ]
        }
      ],
      "source": [
        "import numpy as np\n",
        "\n",
        "# Definir una matriz cuadrada\n",
        "A = np.array([\n",
        "    [3, 1],\n",
        "    [0, 2]\n",
        "])\n",
        "\n",
        "# Calcular los autovalores y autovectores\n",
        "eigenvalues, eigenvectors = np.linalg.eig(A)\n",
        "\n",
        "# Construir la matriz diagonal de autovalores\n",
        "Lambda = np.diag(eigenvalues)\n",
        "\n",
        "# Construir la matriz de autovectores\n",
        "P = eigenvectors\n",
        "\n",
        "# Verificar la descomposición espectral\n",
        "reconstructed_A = P.dot(Lambda).dot(np.linalg.inv(P))\n",
        "reconstructed_A = P @ Lambda @ np.linalg.inv(P)\n",
        "\n",
        "# Imprimir la matriz original y la reconstruida\n",
        "print(\"Matriz Original:\")\n",
        "print(A)\n",
        "print(\"\\nMatriz Reconstruida (P * Lambda * P^-1):\")\n",
        "print(reconstructed_A)\n",
        "\n",
        "# Comprobar si las dos matrices son iguales\n",
        "if np.allclose(A, reconstructed_A):\n",
        "    print(\"\\nLa descomposición espectral es correcta.\")\n",
        "else:\n",
        "    print(\"\\nLa descomposición espectral es incorrecta.\")\n"
      ]
    },
    {
      "cell_type": "code",
      "execution_count": 156,
      "metadata": {
        "id": "cnFwAXEYdfcg"
      },
      "outputs": [
        {
          "data": {
            "text/plain": [
              "array([3., 2.])"
            ]
          },
          "execution_count": 156,
          "metadata": {},
          "output_type": "execute_result"
        }
      ],
      "source": [
        "eigenvalues"
      ]
    },
    {
      "cell_type": "code",
      "execution_count": 157,
      "metadata": {
        "id": "DFi5vnMgdhFF"
      },
      "outputs": [
        {
          "data": {
            "text/plain": [
              "array([[ 1.        , -0.70710678],\n",
              "       [ 0.        ,  0.70710678]])"
            ]
          },
          "execution_count": 157,
          "metadata": {},
          "output_type": "execute_result"
        }
      ],
      "source": [
        "eigenvectors"
      ]
    },
    {
      "cell_type": "code",
      "execution_count": 158,
      "metadata": {
        "id": "-EB63Wt7M6IK"
      },
      "outputs": [
        {
          "name": "stdout",
          "output_type": "stream",
          "text": [
            "Matriz Original:\n",
            "[[ 4 -1  2]\n",
            " [-1  5  3]\n",
            " [ 2  3  6]]\n",
            "\n",
            "Matriz Reconstruida (P * Lambda * P^-1):\n",
            "[[ 4. -1.  2.]\n",
            " [-1.  5.  3.]\n",
            " [ 2.  3.  6.]]\n",
            "\n",
            "La descomposición espectral es correcta.\n"
          ]
        }
      ],
      "source": [
        "import numpy as np\n",
        "\n",
        "# Definir una matriz cuadrada\n",
        "A = np.array([[4, -1, 2],\n",
        "              [-1, 5, 3],\n",
        "              [2, 3, 6]])\n",
        "\n",
        "# Calcular los autovalores y autovectores\n",
        "eigenvalues, eigenvectors = np.linalg.eig(A)\n",
        "\n",
        "# Construir la matriz diagonal de autovalores\n",
        "Lambda = np.diag(eigenvalues)\n",
        "\n",
        "# Construir la matriz de autovectores\n",
        "P = eigenvectors\n",
        "\n",
        "# Verificar la descomposición espectral\n",
        "reconstructed_A = P @ Lambda @ np.linalg.inv(P)\n",
        "\n",
        "# Imprimir la matriz original y la reconstruida\n",
        "print(\"Matriz Original:\")\n",
        "print(A)\n",
        "print(\"\\nMatriz Reconstruida (P * Lambda * P^-1):\")\n",
        "print(reconstructed_A)\n",
        "\n",
        "# Comprobar si las dos matrices son iguales\n",
        "if np.allclose(A, reconstructed_A):\n",
        "    print(\"\\nLa descomposición espectral es correcta.\")\n",
        "else:\n",
        "    print(\"\\nLa descomposición espectral es incorrecta.\")\n"
      ]
    },
    {
      "cell_type": "code",
      "execution_count": 159,
      "metadata": {
        "id": "nFd7KOpYf585"
      },
      "outputs": [
        {
          "data": {
            "text/plain": [
              "array([[-0.57735027, -0.78867513,  0.21132487],\n",
              "       [-0.57735027,  0.57735027,  0.57735027],\n",
              "       [ 0.57735027, -0.21132487,  0.78867513]])"
            ]
          },
          "execution_count": 159,
          "metadata": {},
          "output_type": "execute_result"
        }
      ],
      "source": [
        "P"
      ]
    },
    {
      "cell_type": "code",
      "execution_count": 160,
      "metadata": {
        "id": "e6Fm1THpf7Wx"
      },
      "outputs": [
        {
          "data": {
            "text/plain": [
              "array([[1.        , 0.        , 0.        ],\n",
              "       [0.        , 5.26794919, 0.        ],\n",
              "       [0.        , 0.        , 8.73205081]])"
            ]
          },
          "execution_count": 160,
          "metadata": {},
          "output_type": "execute_result"
        }
      ],
      "source": [
        "Lambda"
      ]
    },
    {
      "cell_type": "code",
      "execution_count": 161,
      "metadata": {
        "id": "lr-XM76Af858"
      },
      "outputs": [
        {
          "data": {
            "text/plain": [
              "array([[-0.57735027, -0.57735027,  0.57735027],\n",
              "       [-0.78867513,  0.57735027, -0.21132487],\n",
              "       [ 0.21132487,  0.57735027,  0.78867513]])"
            ]
          },
          "execution_count": 161,
          "metadata": {},
          "output_type": "execute_result"
        }
      ],
      "source": [
        "np.linalg.inv(P) #inversa de P"
      ]
    },
    {
      "cell_type": "code",
      "execution_count": 162,
      "metadata": {},
      "outputs": [
        {
          "data": {
            "text/plain": [
              "array([[-0.57735027, -0.57735027,  0.57735027],\n",
              "       [-0.78867513,  0.57735027, -0.21132487],\n",
              "       [ 0.21132487,  0.57735027,  0.78867513]])"
            ]
          },
          "execution_count": 162,
          "metadata": {},
          "output_type": "execute_result"
        }
      ],
      "source": [
        "P.T # la inversa de P es igual a la transpuesta de P"
      ]
    },
    {
      "cell_type": "markdown",
      "metadata": {
        "id": "6SgaumZ7CawL"
      },
      "source": [
        "<a name=\"id3\"></a> <h2> Descomposición de valores singulares </h2>\n",
        "##  "
      ]
    },
    {
      "cell_type": "code",
      "execution_count": 163,
      "metadata": {
        "cellView": "form",
        "id": "zBS6Glsj5bJA"
      },
      "outputs": [],
      "source": [
        "# @markdown $b)$ Más funciones\n",
        "import numpy as np\n",
        "import matplotlib.pyplot as plt\n",
        "import seaborn as sns\n",
        "\n",
        "def plotVectors(vecs, cols, alpha=1):\n",
        "    \"\"\"\n",
        "    Plot set of vectors.\n",
        "\n",
        "    https://www.kaggle.com/robaks/learn-linear-algebra-for-data-science\n",
        "\n",
        "    Parameters\n",
        "    ----------\n",
        "    vecs : array-like\n",
        "        Coordinates of the vectors to plot. Each vectors is in an array. For\n",
        "        instance: [[1, 3], [2, 2]] can be used to plot 2 vectors.\n",
        "    cols : array-like\n",
        "        Colors of the vectors. For instance: ['red', 'blue'] will display the\n",
        "        first vector in red and the second in blue.\n",
        "    alpha : float\n",
        "        Opacity of vectors\n",
        "\n",
        "    Returns:\n",
        "\n",
        "    fig : instance of matplotlib.figure.Figure\n",
        "        The figure of the vectors\n",
        "    \"\"\"\n",
        "\n",
        "    plt.axvline(x=0, color='#A9A9A9', zorder=0)\n",
        "    plt.axhline(y=0, color='#A9A9A9', zorder=0)\n",
        "\n",
        "    for i in range(len(vecs)):\n",
        "        x = np.concatenate([[0,0],vecs[i]])\n",
        "        plt.quiver([x[0]],\n",
        "                   [x[1]],\n",
        "                   [x[2]],\n",
        "                   [x[3]],\n",
        "                   angles='xy', scale_units='xy', scale=1, color=cols[i],\n",
        "                  alpha=alpha)\n",
        "\n",
        "def matrixToPlot(matrix, vectorsCol=['#FF9A13', '#1190FF']):\n",
        "    \"\"\"\n",
        "    Modify the unit circle and basis vector by applying a matrix.\n",
        "    Visualize the effect of the matrix in 2D.\n",
        "\n",
        "    Parameters\n",
        "    ----------\n",
        "    matrix : array-like\n",
        "        2D matrix to apply to the unit circle.\n",
        "    vectorsCol : HEX color code\n",
        "        Color of the basis vectors\n",
        "\n",
        "    Returns:\n",
        "\n",
        "    fig : instance of matplotlib.figure.Figure\n",
        "        The figure containing modified unit circle and basis vectors.\n",
        "    \"\"\"\n",
        "    # Unit circle\n",
        "    x = np.linspace(-1, 1, 100000)\n",
        "    y = np.sqrt(1-(x**2))\n",
        "\n",
        "    # Modified unit circle (separate negative and positive parts)\n",
        "    x1 = matrix[0,0]*x + matrix[0,1]*y\n",
        "    y1 = matrix[1,0]*x + matrix[1,1]*y\n",
        "    x1_neg = matrix[0,0]*x - matrix[0,1]*y\n",
        "    y1_neg = matrix[1,0]*x - matrix[1,1]*y\n",
        "\n",
        "    # Vectors\n",
        "    u1 = [matrix[0,0],matrix[1,0]]\n",
        "    v1 = [matrix[0,1],matrix[1,1]]\n",
        "\n",
        "    plotVectors([u1, v1], cols=[vectorsCol[0], vectorsCol[1]])\n",
        "\n",
        "    plt.plot(x1, y1, 'g', alpha=0.5)\n",
        "    plt.plot(x1_neg, y1_neg, 'g', alpha=0.5)\n",
        "\n",
        "\n",
        "\n",
        "def graficarVectores(vecs, cols, alpha = 1):\n",
        "\n",
        "    \"\"\"\n",
        "    Graficar un conjunto de vectores.\n",
        "\n",
        "    Parametros\n",
        "    ----------\n",
        "    vecs : array-like\n",
        "        Coordenadas de los vectores a graficar. Cada vector es un array. Por\n",
        "        ejemplo: [[1, 3], [2, 2]] se usa para graficar 2 vectores.\n",
        "    cols : array-like\n",
        "        Colores de los vectores, ejemplo: ['red', 'blue'] mostrara el primer\n",
        "        vector en rojo ('red') y el segundo en azul'('blue').\n",
        "    alpha : float\n",
        "        Opacidad de los vectores\n",
        "\n",
        "    Devuelve:\n",
        "\n",
        "    fig : una instancia de matplotlib.figure.Figure\n",
        "        La figura con los vectores graficados\n",
        "    \"\"\"\n",
        "\n",
        "    plt.figure()\n",
        "    plt.axvline(x=0, color='#A9A9A9', zorder=0)\n",
        "    plt.axhline(y=0, color='#A9A9A9', zorder=0)\n",
        "\n",
        "    for i in range(len(vecs)):\n",
        "        x = np.concatenate([[0,0],vecs[i]])\n",
        "        plt.quiver([x[0]],\n",
        "                   [x[1]],\n",
        "                   [x[2]],\n",
        "                   [x[3]],\n",
        "                   angles='xy', scale_units='xy', scale=1, color=cols[i],\n",
        "                  alpha=alpha)\n",
        "\n",
        "\n",
        "def graficarMatrices(matrix, vectorsCol=['#FF9A13', '#1190FF']):\n",
        "\n",
        "    \"\"\"\n",
        "    Modify the unit circle and basis vector by applying a matrix.\n",
        "    Visualize the effect of the matrix in 2D.\n",
        "\n",
        "    Parameters\n",
        "    ----------\n",
        "    matrix : array-like\n",
        "        2D matrix to apply to the unit circle.\n",
        "    vectorsCol : HEX color code\n",
        "        Color of the basis vectors\n",
        "\n",
        "    Returns:\n",
        "\n",
        "    fig : instance of matplotlib.figure.Figure\n",
        "        The figure containing modified unit circle and basis vectors.\n",
        "    \"\"\"\n",
        "    # Unit circle\n",
        "    x = np.linspace(-1, 1, 100000)\n",
        "    y = np.sqrt(1-(x**2))\n",
        "\n",
        "    # Modified unit circle (separate negative and positive parts)\n",
        "    x1 = matrix[0,0]*x + matrix[0,1]*y\n",
        "    y1 = matrix[1,0]*x + matrix[1,1]*y\n",
        "    x1_neg = matrix[0,0]*x - matrix[0,1]*y\n",
        "    y1_neg = matrix[1,0]*x - matrix[1,1]*y\n",
        "\n",
        "    # Vectors\n",
        "    u1 = [matrix[0,0],matrix[1,0]]\n",
        "    v1 = [matrix[0,1],matrix[1,1]]\n",
        "\n",
        "    graficarVectores([u1, v1], cols=[vectorsCol[0], vectorsCol[1]])\n",
        "\n",
        "    plt.plot(x1, y1, 'g', alpha=0.5)\n",
        "    plt.plot(x1_neg, y1_neg, 'g', alpha=0.5)"
      ]
    },
    {
      "cell_type": "code",
      "execution_count": 164,
      "metadata": {
        "id": "GKpV7PTGgpZI"
      },
      "outputs": [
        {
          "name": "stdout",
          "output_type": "stream",
          "text": [
            "[[3 7 4]\n",
            " [5 2 1]]\n",
            "\n",
            "Matriz U:\n",
            "[[-0.8816746  -0.47185793]\n",
            " [-0.47185793  0.8816746 ]]\n",
            "\n",
            "Matriz S:\n",
            "[9.57397848 3.51268216]\n",
            "\n",
            "Matriz V^T:\n",
            "[[-0.52269946 -0.74320598 -0.41764835]\n",
            " [ 0.8519983  -0.43831358 -0.28632169]\n",
            " [ 0.02973505 -0.50549588  0.8623165 ]]\n"
          ]
        }
      ],
      "source": [
        "A = np.array([[3, 7, 4], [5, 2, 1]])\n",
        "print(A)\n",
        "# Busquemos la decomposicion SVD de A\n",
        "U, D, V = np.linalg.svd(A)\n",
        "\n",
        "print(\"\\nMatriz U:\")\n",
        "print(U)\n",
        "\n",
        "print(\"\\nMatriz S:\")\n",
        "print(D)\n",
        "\n",
        "print(\"\\nMatriz V^T:\")\n",
        "print(V)"
      ]
    },
    {
      "cell_type": "code",
      "execution_count": 165,
      "metadata": {
        "id": "VT_RK6ofhFA3"
      },
      "outputs": [
        {
          "data": {
            "text/plain": [
              "(2, 2)"
            ]
          },
          "execution_count": 165,
          "metadata": {},
          "output_type": "execute_result"
        }
      ],
      "source": [
        "U.shape"
      ]
    },
    {
      "cell_type": "code",
      "execution_count": 166,
      "metadata": {},
      "outputs": [
        {
          "data": {
            "text/plain": [
              "array([[9.57397848, 0.        ],\n",
              "       [0.        , 3.51268216]])"
            ]
          },
          "execution_count": 166,
          "metadata": {},
          "output_type": "execute_result"
        }
      ],
      "source": [
        "np.diag(D)"
      ]
    },
    {
      "cell_type": "code",
      "execution_count": 167,
      "metadata": {
        "id": "76r1QhHVhIvB"
      },
      "outputs": [
        {
          "data": {
            "text/plain": [
              "(2, 3)"
            ]
          },
          "execution_count": 167,
          "metadata": {},
          "output_type": "execute_result"
        }
      ],
      "source": [
        "np.diag(D).shape\n",
        "D = np.array([\n",
        "    [9.57397848, 0, 0],\n",
        "    [0, 3.51268216, 0],\n",
        "    ])\n",
        "D.shape"
      ]
    },
    {
      "cell_type": "code",
      "execution_count": 168,
      "metadata": {
        "id": "xL-RcDAChMq3"
      },
      "outputs": [
        {
          "data": {
            "text/plain": [
              "(3, 3)"
            ]
          },
          "execution_count": 168,
          "metadata": {},
          "output_type": "execute_result"
        }
      ],
      "source": [
        "V.shape"
      ]
    },
    {
      "cell_type": "code",
      "execution_count": 169,
      "metadata": {
        "id": "JyWsuaoGgzSo"
      },
      "outputs": [
        {
          "data": {
            "text/plain": [
              "array([[3., 7., 4.],\n",
              "       [5., 2., 1.]])"
            ]
          },
          "execution_count": 169,
          "metadata": {},
          "output_type": "execute_result"
        }
      ],
      "source": [
        "U @ D @ V"
      ]
    },
    {
      "cell_type": "code",
      "execution_count": 170,
      "metadata": {
        "id": "K-DI2w8K5bG8"
      },
      "outputs": [
        {
          "name": "stdout",
          "output_type": "stream",
          "text": [
            "[[3 7]\n",
            " [5 2]]\n"
          ]
        }
      ],
      "source": [
        "A = np.array([[3, 7], [5, 2]])\n",
        "print(A)"
      ]
    },
    {
      "cell_type": "code",
      "execution_count": 171,
      "metadata": {
        "id": "wV7ywCL75bEi"
      },
      "outputs": [
        {
          "name": "stdout",
          "output_type": "stream",
          "text": [
            "[[-0.85065081 -0.52573111]\n",
            " [-0.52573111  0.85065081]]\n"
          ]
        }
      ],
      "source": [
        "# Esto es lo que obtenemos al aplicar la matriz A a nuestro circulo unitario\n",
        "# Busquemos la decomposicion SVD de A\n",
        "U, D, V = np.linalg.svd(A)\n",
        "print(U)"
      ]
    },
    {
      "cell_type": "code",
      "execution_count": 172,
      "metadata": {
        "id": "O1iJ6zup-Ajj"
      },
      "outputs": [
        {
          "name": "stdout",
          "output_type": "stream",
          "text": [
            "\n",
            "Matriz U:\n",
            "[[-0.85065081 -0.52573111]\n",
            " [-0.52573111  0.85065081]]\n",
            "\n",
            "Matriz S:\n",
            "[8.71337969 3.32821489]\n",
            "\n",
            "Matriz V^T:\n",
            "[[-0.59455781 -0.80405286]\n",
            " [ 0.80405286 -0.59455781]]\n"
          ]
        }
      ],
      "source": [
        "# Imprimir matrices de descomposición\n",
        "print(\"\\nMatriz U:\")\n",
        "print(U)\n",
        "\n",
        "print(\"\\nMatriz S:\")\n",
        "print(D)\n",
        "\n",
        "print(\"\\nMatriz V^T:\")\n",
        "print(V)"
      ]
    },
    {
      "cell_type": "code",
      "execution_count": 173,
      "metadata": {
        "id": "nP8LqP9RADri"
      },
      "outputs": [
        {
          "data": {
            "text/plain": [
              "array([[3., 7.],\n",
              "       [5., 2.]])"
            ]
          },
          "execution_count": 173,
          "metadata": {},
          "output_type": "execute_result"
        }
      ],
      "source": [
        "U @ np.diag(D) @ V"
      ]
    },
    {
      "cell_type": "code",
      "execution_count": 174,
      "metadata": {
        "id": "vcN4Fb78nbVp"
      },
      "outputs": [
        {
          "name": "stdout",
          "output_type": "stream",
          "text": [
            "Circulo unitario:\n"
          ]
        },
        {
          "data": {
            "image/png": "[encoded data removed]",
            "text/plain": [
              "<Figure size 640x480 with 1 Axes>"
            ]
          },
          "metadata": {},
          "output_type": "display_data"
        }
      ],
      "source": [
        "print('Circulo unitario:')\n",
        "matrixToPlot(np.array([[4, 1], [1, 4]]))\n",
        "plt.xlim(-5, 5)\n",
        "plt.ylim(-5, 5)\n",
        "plt.show()"
      ]
    },
    {
      "cell_type": "code",
      "execution_count": 175,
      "metadata": {
        "id": "yV6hW5b38xPz"
      },
      "outputs": [
        {
          "name": "stdout",
          "output_type": "stream",
          "text": [
            "Circulo unitario:\n"
          ]
        },
        {
          "data": {
            "image/png": "[encoded data removed]",
            "text/plain": [
              "<Figure size 640x480 with 1 Axes>"
            ]
          },
          "metadata": {},
          "output_type": "display_data"
        }
      ],
      "source": [
        "print('Circulo unitario:')\n",
        "matrixToPlot(np.array([[1, 0], [0, 1]]))\n",
        "plt.xlim(-1.5, 1.5)\n",
        "plt.ylim(-1.5, 1.5)\n",
        "plt.show()"
      ]
    },
    {
      "cell_type": "code",
      "execution_count": 176,
      "metadata": {
        "id": "6K0i3Q8hi250"
      },
      "outputs": [
        {
          "name": "stdout",
          "output_type": "stream",
          "text": [
            "[[3 7]\n",
            " [5 2]]\n"
          ]
        }
      ],
      "source": [
        "A = np.array([[3, 7], [5, 2]])\n",
        "print(A)"
      ]
    },
    {
      "cell_type": "code",
      "execution_count": 177,
      "metadata": {
        "id": "IVbaPkER772r"
      },
      "outputs": [
        {
          "name": "stdout",
          "output_type": "stream",
          "text": [
            "Circulo unitario transformado por A:\n"
          ]
        },
        {
          "data": {
            "image/png": "[encoded data removed]",
            "text/plain": [
              "<Figure size 640x480 with 1 Axes>"
            ]
          },
          "metadata": {},
          "output_type": "display_data"
        }
      ],
      "source": [
        "print('Circulo unitario transformado por A:')\n",
        "matrixToPlot(A)\n",
        "plt.xlim(-8, 8)\n",
        "plt.ylim(-8, 8)\n",
        "plt.show()"
      ]
    },
    {
      "cell_type": "code",
      "execution_count": 178,
      "metadata": {
        "id": "SE_hIkzukqL5"
      },
      "outputs": [
        {
          "data": {
            "text/plain": [
              "array([[3., 7.],\n",
              "       [5., 2.]])"
            ]
          },
          "execution_count": 178,
          "metadata": {},
          "output_type": "execute_result"
        }
      ],
      "source": [
        "# circunferencia original\n",
        "U @ np.diag(D) @ V"
      ]
    },
    {
      "cell_type": "code",
      "execution_count": 179,
      "metadata": {
        "id": "zrDuUx-kjo1r"
      },
      "outputs": [
        {
          "data": {
            "text/plain": [
              "array([8.71337969, 3.32821489])"
            ]
          },
          "execution_count": 179,
          "metadata": {},
          "output_type": "execute_result"
        }
      ],
      "source": [
        "D"
      ]
    },
    {
      "cell_type": "code",
      "execution_count": 180,
      "metadata": {
        "id": "6rO2Mq-kjpkX"
      },
      "outputs": [
        {
          "data": {
            "text/plain": [
              "array([[-0.85065081, -0.52573111],\n",
              "       [-0.52573111,  0.85065081]])"
            ]
          },
          "execution_count": 180,
          "metadata": {},
          "output_type": "execute_result"
        }
      ],
      "source": [
        "U"
      ]
    },
    {
      "cell_type": "code",
      "execution_count": 181,
      "metadata": {
        "id": "jni9gzVMj5nH"
      },
      "outputs": [
        {
          "data": {
            "text/plain": [
              "(8.7133796929634, -0.8506508083520402)"
            ]
          },
          "execution_count": 181,
          "metadata": {},
          "output_type": "execute_result"
        }
      ],
      "source": [
        "D[0], U[0,0]"
      ]
    },
    {
      "cell_type": "code",
      "execution_count": 182,
      "metadata": {
        "id": "BTyW-JxOj9pX"
      },
      "outputs": [
        {
          "data": {
            "text/plain": [
              "(8.7133796929634, -0.5257311121191336)"
            ]
          },
          "execution_count": 182,
          "metadata": {},
          "output_type": "execute_result"
        }
      ],
      "source": [
        "D[0], U[0,1]"
      ]
    },
    {
      "cell_type": "code",
      "execution_count": 183,
      "metadata": {
        "id": "EQKl8XrVjzW3"
      },
      "outputs": [
        {
          "name": "stdout",
          "output_type": "stream",
          "text": [
            "[-7.4120434792975685, -4.580894796297923]\n",
            "[-1.7497461132982814, 2.8311486829996433]\n"
          ]
        }
      ],
      "source": [
        "u1 = [D[0]*U[0,0], D[0]*U[0,1]]\n",
        "v1 = [D[1]*U[1,0], D[1]*U[1,1]]\n",
        "print(u1)\n",
        "print(v1)"
      ]
    },
    {
      "cell_type": "code",
      "execution_count": 184,
      "metadata": {
        "id": "TzEIc1u88spz"
      },
      "outputs": [
        {
          "name": "stdout",
          "output_type": "stream",
          "text": [
            "[-7.4120434792975685, -4.580894796297923]\n",
            "[-1.7497461132982814, 2.8311486829996433]\n"
          ]
        },
        {
          "data": {
            "image/png": "[encoded data removed]",
            "text/plain": [
              "<Figure size 640x480 with 1 Axes>"
            ]
          },
          "metadata": {},
          "output_type": "display_data"
        }
      ],
      "source": [
        "u1 = [D[0]*U[0,0], D[0]*U[0,1]]\n",
        "v1 = [D[1]*U[1,0], D[1]*U[1,1]]\n",
        "print(u1)\n",
        "print(v1)\n",
        "plotVectors([u1, v1], cols=['black', 'black'])\n",
        "\n",
        "matrixToPlot(A)\n",
        "\n",
        "plt.text(-5, -4, r\"$\\sigma_1u_1$\", size=18)\n",
        "plt.text(-4, 1, r\"$\\sigma_2u_2$\", size=18)\n",
        "\n",
        "plt.xlim(-8, 8)\n",
        "plt.ylim(-8, 8)\n",
        "plt.show()"
      ]
    },
    {
      "cell_type": "code",
      "execution_count": 185,
      "metadata": {
        "id": "4f-nniGS7jd7"
      },
      "outputs": [
        {
          "name": "stdout",
          "output_type": "stream",
          "text": [
            "Circulo unitario:\n"
          ]
        },
        {
          "data": {
            "image/png": "[encoded data removed]",
            "text/plain": [
              "<Figure size 640x480 with 1 Axes>"
            ]
          },
          "metadata": {},
          "output_type": "display_data"
        },
        {
          "name": "stdout",
          "output_type": "stream",
          "text": [
            "Primer rotacion V:\n"
          ]
        },
        {
          "data": {
            "image/png": "[encoded data removed]",
            "text/plain": [
              "<Figure size 640x480 with 1 Axes>"
            ]
          },
          "metadata": {},
          "output_type": "display_data"
        },
        {
          "name": "stdout",
          "output_type": "stream",
          "text": [
            "Escala:\n"
          ]
        },
        {
          "data": {
            "image/png": "[encoded data removed]",
            "text/plain": [
              "<Figure size 640x480 with 1 Axes>"
            ]
          },
          "metadata": {},
          "output_type": "display_data"
        },
        {
          "name": "stdout",
          "output_type": "stream",
          "text": [
            "Segunda Rotacion U:\n"
          ]
        },
        {
          "data": {
            "image/png": "[encoded data removed]",
            "text/plain": [
              "<Figure size 640x480 with 1 Axes>"
            ]
          },
          "metadata": {},
          "output_type": "display_data"
        }
      ],
      "source": [
        "# Circulo unitario\n",
        "print('Circulo unitario:')\n",
        "matrixToPlot(np.array([[1, 0], [0, 1]]))\n",
        "plt.xlim(-1.5, 1.5)\n",
        "plt.ylim(-1.5, 1.5)\n",
        "plt.show()\n",
        "\n",
        "print('Primer rotacion V:')\n",
        "matrixToPlot(V)\n",
        "plt.xlim(-1.5, 1.5)\n",
        "plt.ylim(-1.5, 1.5)\n",
        "plt.show()\n",
        "\n",
        "print('Escala:')\n",
        "matrixToPlot(np.diag(D).dot(V))\n",
        "plt.xlim(-9, 9)\n",
        "plt.ylim(-9, 9)\n",
        "plt.show()\n",
        "\n",
        "print('Segunda Rotacion U:')\n",
        "matrixToPlot(U.dot(np.diag(D)).dot(V))\n",
        "plt.xlim(-8, 8)\n",
        "plt.ylim(-8, 8)\n",
        "plt.show()"
      ]
    },
    {
      "cell_type": "code",
      "execution_count": 186,
      "metadata": {
        "id": "G0b8QAca75UL"
      },
      "outputs": [
        {
          "name": "stdout",
          "output_type": "stream",
          "text": [
            "Circulo unitario transformado por A:\n"
          ]
        },
        {
          "data": {
            "image/png": "[encoded data removed]",
            "text/plain": [
              "<Figure size 640x480 with 1 Axes>"
            ]
          },
          "metadata": {},
          "output_type": "display_data"
        }
      ],
      "source": [
        "print('Circulo unitario transformado por A:')\n",
        "matrixToPlot(A)\n",
        "plt.xlim(-8, 8)\n",
        "plt.ylim(-8, 8)\n",
        "plt.show()"
      ]
    },
    {
      "cell_type": "code",
      "execution_count": 187,
      "metadata": {
        "id": "UC5gRF3FQCsQ"
      },
      "outputs": [
        {
          "name": "stdout",
          "output_type": "stream",
          "text": [
            "Matriz original:\n",
            "[[0.63162187 0.50804702 0.85101173]\n",
            " [0.39567268 0.97809706 0.40081664]\n",
            " [0.56306109 0.14908476 0.93727117]\n",
            " [0.01267616 0.94422654 0.4668053 ]\n",
            " [0.22441572 0.6481072  0.0304993 ]]\n"
          ]
        }
      ],
      "source": [
        "import numpy as np\n",
        "import scipy.linalg as linalg\n",
        "\n",
        "# Generar matriz aleatoria de 5x3\n",
        "A = np.random.rand(5, 3)\n",
        "\n",
        "# Imprimir matriz original\n",
        "print(\"Matriz original:\")\n",
        "print(A)\n"
      ]
    },
    {
      "cell_type": "code",
      "execution_count": 188,
      "metadata": {
        "id": "aRAVyd9TQCpj"
      },
      "outputs": [
        {
          "name": "stdout",
          "output_type": "stream",
          "text": [
            "\n",
            "Matriz U:\n",
            "[[-0.5350209  -0.35587719  0.18206888  0.6563244  -0.35098898]\n",
            " [-0.5110586   0.34843313  0.32322405 -0.55766289 -0.44939044]\n",
            " [-0.43026357 -0.64919429 -0.13070948 -0.43536171  0.43219817]\n",
            " [-0.44537903  0.42903    -0.76461906  0.1420591   0.11290559]\n",
            " [-0.26283554  0.38265626  0.51053879  0.22029473  0.68942878]]\n",
            "\n",
            "Matriz S:\n",
            "[2.09516112 0.97817362 0.32764061]\n",
            "\n",
            "Matriz V^T:\n",
            "[[-0.40428281 -0.68095514 -0.61061895]\n",
            " [-0.36919606  0.73230138 -0.57221409]\n",
            " [ 0.83680922 -0.00589821 -0.54746282]]\n"
          ]
        }
      ],
      "source": [
        "# Aplicar DVS\n",
        "U, S, Vh = linalg.svd(A)\n",
        "\n",
        "# Imprimir matrices de descomposición\n",
        "print(\"\\nMatriz U:\")\n",
        "print(U)\n",
        "\n",
        "print(\"\\nMatriz S:\")\n",
        "print(S)\n",
        "\n",
        "print(\"\\nMatriz V^T:\")\n",
        "print(Vh)"
      ]
    },
    {
      "cell_type": "code",
      "execution_count": 189,
      "metadata": {
        "id": "3vNd8So7mfr3"
      },
      "outputs": [
        {
          "data": {
            "text/plain": [
              "array([[0., 0., 0.],\n",
              "       [0., 0., 0.],\n",
              "       [0., 0., 0.],\n",
              "       [0., 0., 0.],\n",
              "       [0., 0., 0.]])"
            ]
          },
          "execution_count": 189,
          "metadata": {},
          "output_type": "execute_result"
        }
      ],
      "source": [
        "np.zeros(A.shape)"
      ]
    },
    {
      "cell_type": "code",
      "execution_count": 190,
      "metadata": {
        "id": "rhFTap4xbKxz"
      },
      "outputs": [
        {
          "data": {
            "text/plain": [
              "array([[2.09516112, 0.        , 0.        ],\n",
              "       [0.        , 0.97817362, 0.        ],\n",
              "       [0.        , 0.        , 0.32764061],\n",
              "       [0.        , 0.        , 0.        ],\n",
              "       [0.        , 0.        , 0.        ]])"
            ]
          },
          "execution_count": 190,
          "metadata": {},
          "output_type": "execute_result"
        }
      ],
      "source": [
        "# Crear la matriz de ceros\n",
        "Sf = np.zeros(A.shape)\n",
        "# Llenar la matriz con los valores del vector en las posiciones específicas\n",
        "Sf[0:len(S), 0:len(S)] = np.diag(S)\n",
        "# Sf[0:len(S), 0:len(S)] = np.diag(S)\n",
        "Sf"
      ]
    },
    {
      "cell_type": "code",
      "execution_count": 191,
      "metadata": {
        "id": "kd2xKeBQQCnb"
      },
      "outputs": [
        {
          "name": "stdout",
          "output_type": "stream",
          "text": [
            "\n",
            "Matriz reconstruida:\n",
            "[[0.63162187 0.50804702 0.85101173]\n",
            " [0.39567268 0.97809706 0.40081664]\n",
            " [0.56306109 0.14908476 0.93727117]\n",
            " [0.01267616 0.94422654 0.4668053 ]\n",
            " [0.22441572 0.6481072  0.0304993 ]]\n"
          ]
        }
      ],
      "source": [
        "# Reconstruir la matriz original\n",
        "# A_recon = U @ np.diag(S) @ Vh\n",
        "A_recon = U @ Sf @ Vh\n",
        "\n",
        "# Imprimir matriz reconstruida\n",
        "print(\"\\nMatriz reconstruida:\")\n",
        "print(A_recon)\n"
      ]
    },
    {
      "cell_type": "code",
      "execution_count": 192,
      "metadata": {
        "id": "DcSujq8fm3Z_"
      },
      "outputs": [
        {
          "data": {
            "text/plain": [
              "array([[0.63162187, 0.50804702, 0.85101173],\n",
              "       [0.39567268, 0.97809706, 0.40081664],\n",
              "       [0.56306109, 0.14908476, 0.93727117],\n",
              "       [0.01267616, 0.94422654, 0.4668053 ],\n",
              "       [0.22441572, 0.6481072 , 0.0304993 ]])"
            ]
          },
          "execution_count": 192,
          "metadata": {},
          "output_type": "execute_result"
        }
      ],
      "source": [
        "A"
      ]
    },
    {
      "cell_type": "markdown",
      "metadata": {
        "id": "zq41tjeUCeFN"
      },
      "source": [
        "<a name=\"id4\"></a> <h2> Aplicaciones </h2>\n",
        "##  "
      ]
    },
    {
      "cell_type": "code",
      "execution_count": 193,
      "metadata": {
        "id": "coxP6TksoSQY"
      },
      "outputs": [
        {
          "data": {
            "text/plain": [
              "array([[0.09124545, 0.76160467, 0.86672644],\n",
              "       [0.07254771, 0.80578942, 0.01740854]])"
            ]
          },
          "execution_count": 193,
          "metadata": {},
          "output_type": "execute_result"
        }
      ],
      "source": [
        "np.random.rand(2, 3)"
      ]
    },
    {
      "cell_type": "code",
      "execution_count": 194,
      "metadata": {
        "id": "WYW2uwa1crAr"
      },
      "outputs": [],
      "source": [
        "import numpy as np\n",
        "\n",
        "# Generar datos 3D aleatorios\n",
        "np.random.seed(188)\n",
        "data_3d = np.random.rand(100, 3)  # 100 muestras, 3 dimensiones"
      ]
    },
    {
      "cell_type": "code",
      "execution_count": 195,
      "metadata": {
        "id": "ZYWMc9eli11q"
      },
      "outputs": [
        {
          "data": {
            "text/plain": [
              "array([[0.51197762, 0.78968997, 0.56064209],\n",
              "       [0.29678593, 0.80893424, 0.32155546],\n",
              "       [0.26923997, 0.3554818 , 0.06993591],\n",
              "       [0.94369111, 0.75343518, 0.95163525],\n",
              "       [0.64862257, 0.7206515 , 0.28427505],\n",
              "       [0.9049643 , 0.66300626, 0.37660215],\n",
              "       [0.48707589, 0.09358948, 0.11757649],\n",
              "       [0.07533747, 0.25486489, 0.0012335 ],\n",
              "       [0.08754261, 0.86027454, 0.75464253],\n",
              "       [0.84501438, 0.69137455, 0.1137024 ],\n",
              "       [0.59293863, 0.25009562, 0.47941942],\n",
              "       [0.10078875, 0.10058908, 0.54881632],\n",
              "       [0.96095788, 0.42097149, 0.20348912],\n",
              "       [0.9692431 , 0.89005803, 0.28429059],\n",
              "       [0.09240221, 0.86072411, 0.2770151 ],\n",
              "       [0.17975606, 0.33430299, 0.98756387],\n",
              "       [0.69435928, 0.47513593, 0.92692646],\n",
              "       [0.5485065 , 0.73868843, 0.74926138],\n",
              "       [0.60331228, 0.92590978, 0.79428956],\n",
              "       [0.02236912, 0.59011169, 0.9677336 ],\n",
              "       [0.77320544, 0.23682202, 0.04552779],\n",
              "       [0.46290654, 0.0054166 , 0.98830753],\n",
              "       [0.21046124, 0.11274312, 0.89195518],\n",
              "       [0.5558984 , 0.78044768, 0.79166377],\n",
              "       [0.54501227, 0.86972362, 0.511784  ],\n",
              "       [0.01089997, 0.64328238, 0.74694299],\n",
              "       [0.34111324, 0.31691942, 0.71307704],\n",
              "       [0.61774798, 0.60592135, 0.60531821],\n",
              "       [0.78309708, 0.41823777, 0.45117817],\n",
              "       [0.11706575, 0.16519031, 0.08239378],\n",
              "       [0.71603305, 0.86215667, 0.12709466],\n",
              "       [0.72185951, 0.19260266, 0.85290007],\n",
              "       [0.70225181, 0.26997914, 0.8842455 ],\n",
              "       [0.23711315, 0.94093558, 0.03370505],\n",
              "       [0.02432985, 0.3468595 , 0.79668273],\n",
              "       [0.8398632 , 0.25594989, 0.63841626],\n",
              "       [0.51519927, 0.3483154 , 0.89636578],\n",
              "       [0.73726333, 0.34887916, 0.90456094],\n",
              "       [0.90255878, 0.2910289 , 0.94195551],\n",
              "       [0.20835357, 0.59277997, 0.4161191 ],\n",
              "       [0.83860185, 0.99286625, 0.22575372],\n",
              "       [0.24867869, 0.62123323, 0.67972514],\n",
              "       [0.71609841, 0.58271663, 0.45856753],\n",
              "       [0.52558263, 0.9294514 , 0.41472146],\n",
              "       [0.81062894, 0.66679716, 0.86566176],\n",
              "       [0.67785235, 0.2873259 , 0.25128462],\n",
              "       [0.28923232, 0.80755709, 0.82724959],\n",
              "       [0.03281136, 0.77266529, 0.06393358],\n",
              "       [0.69630018, 0.84791215, 0.70272518],\n",
              "       [0.44319965, 0.30215786, 0.02232845],\n",
              "       [0.68482294, 0.25935165, 0.08093846],\n",
              "       [0.01055199, 0.43343943, 0.43112416],\n",
              "       [0.01788431, 0.70182126, 0.00926419],\n",
              "       [0.24187247, 0.02614233, 0.35620321],\n",
              "       [0.25115671, 0.31677857, 0.96559783],\n",
              "       [0.30141895, 0.65626718, 0.28782839],\n",
              "       [0.44180701, 0.64352636, 0.70566299],\n",
              "       [0.27985425, 0.04938876, 0.84053739],\n",
              "       [0.6733881 , 0.96382716, 0.92914345],\n",
              "       [0.90217521, 0.88846318, 0.20590372],\n",
              "       [0.11108578, 0.61282024, 0.44665952],\n",
              "       [0.08505841, 0.87152556, 0.04256731],\n",
              "       [0.42258392, 0.98412754, 0.97799611],\n",
              "       [0.52471981, 0.52033996, 0.58247347],\n",
              "       [0.29472545, 0.32996602, 0.62434921],\n",
              "       [0.4194198 , 0.22903552, 0.24774681],\n",
              "       [0.1223944 , 0.70091864, 0.06489169],\n",
              "       [0.24130888, 0.89076844, 0.51388386],\n",
              "       [0.19862722, 0.42538829, 0.44702056],\n",
              "       [0.20932728, 0.74428411, 0.32542951],\n",
              "       [0.31327102, 0.77846856, 0.32599553],\n",
              "       [0.72663011, 0.18465899, 0.12610465],\n",
              "       [0.00690052, 0.63300837, 0.085597  ],\n",
              "       [0.82087034, 0.31531681, 0.59789611],\n",
              "       [0.56037089, 0.44415098, 0.37817679],\n",
              "       [0.1770993 , 0.07810883, 0.03284724],\n",
              "       [0.93414766, 0.71957999, 0.24469767],\n",
              "       [0.97663559, 0.8852967 , 0.92629984],\n",
              "       [0.73789272, 0.17834815, 0.40280776],\n",
              "       [0.65133208, 0.31810413, 0.86030967],\n",
              "       [0.67531885, 0.7832611 , 0.31902332],\n",
              "       [0.06244107, 0.93301483, 0.90638571],\n",
              "       [0.03099987, 0.30796213, 0.02295721],\n",
              "       [0.28389254, 0.90490907, 0.42159486],\n",
              "       [0.01565855, 0.2293902 , 0.35769406],\n",
              "       [0.70640561, 0.59328773, 0.32241605],\n",
              "       [0.27131067, 0.80099512, 0.43982439],\n",
              "       [0.06537035, 0.14749327, 0.90358242],\n",
              "       [0.17583099, 0.78041982, 0.82835726],\n",
              "       [0.92547562, 0.05536926, 0.73230572],\n",
              "       [0.37344185, 0.1689943 , 0.95094727],\n",
              "       [0.30643566, 0.24056437, 0.80000079],\n",
              "       [0.11273107, 0.9806907 , 0.10889313],\n",
              "       [0.71273193, 0.836287  , 0.2346305 ],\n",
              "       [0.87829475, 0.65093676, 0.34179518],\n",
              "       [0.31966785, 0.28889286, 0.11909312],\n",
              "       [0.18808307, 0.75978059, 0.8683737 ],\n",
              "       [0.77850858, 0.84928254, 0.52453092],\n",
              "       [0.1967643 , 0.86662619, 0.11312545],\n",
              "       [0.09875401, 0.67390345, 0.46675692]])"
            ]
          },
          "execution_count": 195,
          "metadata": {},
          "output_type": "execute_result"
        }
      ],
      "source": [
        "data_3d"
      ]
    },
    {
      "cell_type": "code",
      "execution_count": 223,
      "metadata": {
        "id": "4uncLMaEcq9z"
      },
      "outputs": [
        {
          "data": {
            "image/png": "[encoded data removed]",
            "text/plain": [
              "<Figure size 640x480 with 1 Axes>"
            ]
          },
          "metadata": {},
          "output_type": "display_data"
        }
      ],
      "source": [
        "import matplotlib.pyplot as plt\n",
        "from mpl_toolkits.mplot3d import Axes3D\n",
        "\n",
        "# Crear la figura y los ejes 3D\n",
        "fig = plt.figure()\n",
        "ax = fig.add_subplot(111, projection='3d')\n",
        "\n",
        "# Graficar los datos 3D\n",
        "ax.scatter(data_3d[:,0], data_3d[:,1], data_3d[:,2], c='b', marker='o')\n",
        "\n",
        "# Etiquetas de los ejes\n",
        "ax.set_xlabel('X')\n",
        "ax.set_ylabel('Y')\n",
        "ax.set_zlabel('Z')\n",
        "\n",
        "plt.show()"
      ]
    },
    {
      "cell_type": "code",
      "execution_count": 197,
      "metadata": {
        "id": "qLkFlKzncq77"
      },
      "outputs": [
        {
          "data": {
            "text/plain": [
              "array([[ 0.06544206,  0.24340951,  0.06613216],\n",
              "       [-0.14974963,  0.26265378, -0.17295448],\n",
              "       [-0.17729558, -0.19079867, -0.42457402],\n",
              "       [ 0.49715555,  0.20715471,  0.45712531],\n",
              "       [ 0.20208701,  0.17437103, -0.21023488],\n",
              "       [ 0.45842874,  0.11672579, -0.11790778],\n",
              "       [ 0.04054033, -0.45269099, -0.37693344],\n",
              "       [-0.37119808, -0.29141558, -0.49327644],\n",
              "       [-0.35899295,  0.31399407,  0.2601326 ],\n",
              "       [ 0.39847882,  0.14509408, -0.38080754],\n",
              "       [ 0.14640307, -0.29618484, -0.01509052],\n",
              "       [-0.34574681, -0.44569139,  0.05430638],\n",
              "       [ 0.51442232, -0.12530898, -0.29102081],\n",
              "       [ 0.52270755,  0.34377756, -0.21021935],\n",
              "       [-0.35413334,  0.31444364, -0.21749483],\n",
              "       [-0.26677949, -0.21197748,  0.49305394],\n",
              "       [ 0.24782372, -0.07114454,  0.43241652],\n",
              "       [ 0.10197094,  0.19240796,  0.25475145],\n",
              "       [ 0.15677672,  0.37962932,  0.29977962],\n",
              "       [-0.42416644,  0.04383122,  0.47322366],\n",
              "       [ 0.32666988, -0.30945844, -0.44898215],\n",
              "       [ 0.01637098, -0.54086387,  0.4937976 ],\n",
              "       [-0.23607431, -0.43353734,  0.39744525],\n",
              "       [ 0.10936284,  0.23416721,  0.29715383],\n",
              "       [ 0.09847671,  0.32344316,  0.01727406],\n",
              "       [-0.43563559,  0.09700191,  0.25243306],\n",
              "       [-0.10542231, -0.22936105,  0.21856711],\n",
              "       [ 0.17121242,  0.05964088,  0.11080828],\n",
              "       [ 0.33656152, -0.1280427 , -0.04333176],\n",
              "       [-0.32946981, -0.38109016, -0.41211615],\n",
              "       [ 0.26949749,  0.3158762 , -0.36741527],\n",
              "       [ 0.27532395, -0.35367781,  0.35839014],\n",
              "       [ 0.25571625, -0.27630133,  0.38973556],\n",
              "       [-0.20942241,  0.39465511, -0.46080488],\n",
              "       [-0.42220571, -0.19942097,  0.3021728 ],\n",
              "       [ 0.39332764, -0.29033057,  0.14390632],\n",
              "       [ 0.06866372, -0.19796507,  0.40185584],\n",
              "       [ 0.29072777, -0.19740131,  0.41005101],\n",
              "       [ 0.45602322, -0.25525156,  0.44744558],\n",
              "       [-0.23818199,  0.04649951, -0.07839083],\n",
              "       [ 0.39206629,  0.44658578, -0.26875622],\n",
              "       [-0.19785687,  0.07495277,  0.18521521],\n",
              "       [ 0.26956285,  0.03643617, -0.0359424 ],\n",
              "       [ 0.07904707,  0.38317093, -0.07978848],\n",
              "       [ 0.36409338,  0.1205167 ,  0.37115182],\n",
              "       [ 0.23131679, -0.25895456, -0.24322531],\n",
              "       [-0.15730324,  0.26127662,  0.33273965],\n",
              "       [-0.41372419,  0.22638482, -0.43057635],\n",
              "       [ 0.24976462,  0.30163169,  0.20821525],\n",
              "       [-0.00333591, -0.24412261, -0.47218149],\n",
              "       [ 0.23828738, -0.28692882, -0.41357148],\n",
              "       [-0.43598357, -0.11284104, -0.06338577],\n",
              "       [-0.42865124,  0.15554079, -0.48524575],\n",
              "       [-0.20466309, -0.52013814, -0.13830673],\n",
              "       [-0.19537885, -0.2295019 ,  0.47108789],\n",
              "       [-0.14511661,  0.10998672, -0.20668154],\n",
              "       [-0.00472855,  0.09724589,  0.21115306],\n",
              "       [-0.1666813 , -0.4968917 ,  0.34602745],\n",
              "       [ 0.22685254,  0.4175467 ,  0.43463352],\n",
              "       [ 0.45563965,  0.34218271, -0.28860622],\n",
              "       [-0.33544978,  0.06653978, -0.04785041],\n",
              "       [-0.36147715,  0.3252451 , -0.45194262],\n",
              "       [-0.02395163,  0.43784708,  0.48348617],\n",
              "       [ 0.07818425, -0.02594051,  0.08796354],\n",
              "       [-0.15181011, -0.21631444,  0.12983927],\n",
              "       [-0.02711576, -0.31724495, -0.24676313],\n",
              "       [-0.32414115,  0.15463818, -0.42961824],\n",
              "       [-0.20522668,  0.34448797,  0.01937393],\n",
              "       [-0.24790834, -0.12089218, -0.04748937],\n",
              "       [-0.23720827,  0.19800365, -0.16908042],\n",
              "       [-0.13326454,  0.23218809, -0.1685144 ],\n",
              "       [ 0.28009455, -0.36162147, -0.36840528],\n",
              "       [-0.43963504,  0.0867279 , -0.40891294],\n",
              "       [ 0.37433478, -0.23096365,  0.10338617],\n",
              "       [ 0.11383533, -0.10212948, -0.11633315],\n",
              "       [-0.26943626, -0.46817164, -0.4616627 ],\n",
              "       [ 0.4876121 ,  0.17329952, -0.24981226],\n",
              "       [ 0.53010003,  0.33901624,  0.43178991],\n",
              "       [ 0.29135716, -0.36793231, -0.09170217],\n",
              "       [ 0.20479652, -0.22817633,  0.36579974],\n",
              "       [ 0.22878329,  0.23698063, -0.17548661],\n",
              "       [-0.38409449,  0.38673436,  0.41187578],\n",
              "       [-0.41553569, -0.23831834, -0.47155273],\n",
              "       [-0.16264302,  0.3586286 , -0.07291508],\n",
              "       [-0.43087701, -0.31689027, -0.13681587],\n",
              "       [ 0.25987005,  0.04700726, -0.17209388],\n",
              "       [-0.17522488,  0.25471465, -0.05468554],\n",
              "       [-0.38116521, -0.3987872 ,  0.40907248],\n",
              "       [-0.27070457,  0.23413936,  0.33384732],\n",
              "       [ 0.47894006, -0.49091121,  0.23779579],\n",
              "       [-0.07309371, -0.37728617,  0.45643734],\n",
              "       [-0.1400999 , -0.30571609,  0.30549086],\n",
              "       [-0.33380449,  0.43441024, -0.38561681],\n",
              "       [ 0.26619637,  0.29000654, -0.25987943],\n",
              "       [ 0.43175919,  0.10465629, -0.15271476],\n",
              "       [-0.12686771, -0.2573876 , -0.37541681],\n",
              "       [-0.25845248,  0.21350013,  0.37386377],\n",
              "       [ 0.33197303,  0.30300207,  0.03002098],\n",
              "       [-0.24977126,  0.32034572, -0.38138448],\n",
              "       [-0.34778155,  0.12762298, -0.02775302]])"
            ]
          },
          "execution_count": 197,
          "metadata": {},
          "output_type": "execute_result"
        }
      ],
      "source": [
        "# Calcular la media de cada dimensión\n",
        "mean = np.mean(data_3d, axis=0)\n",
        "\n",
        "# Centrar los datos\n",
        "centered_data = data_3d - mean\n",
        "centered_data"
      ]
    },
    {
      "cell_type": "markdown",
      "metadata": {
        "id": "tFQuK2jhb6qz"
      },
      "source": [
        "![image.png](data:image/png;base64,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)"
      ]
    },
    {
      "cell_type": "markdown",
      "metadata": {
        "id": "oejXoApKcfOZ"
      },
      "source": [
        "La matriz de covarianza nos permite comprender la fuerza y ​​dirección de las relaciones lineales entre variables. Una covarianza positiva sugiere que dos variables tienden a moverse en la misma dirección, mientras que una covarianza negativa indica una relación inversa."
      ]
    },
    {
      "cell_type": "code",
      "execution_count": 198,
      "metadata": {
        "id": "GQsMG4TNcq4P"
      },
      "outputs": [
        {
          "data": {
            "text/plain": [
              "array([[ 0.08940533,  0.00317659,  0.0086441 ],\n",
              "       [ 0.00317659,  0.08201526, -0.00683192],\n",
              "       [ 0.0086441 , -0.00683192,  0.09919707]])"
            ]
          },
          "execution_count": 198,
          "metadata": {},
          "output_type": "execute_result"
        }
      ],
      "source": [
        "# Calcular la matriz de covarianza\n",
        "cov_matrix = np.cov(centered_data, rowvar=False)\n",
        "cov_matrix"
      ]
    },
    {
      "cell_type": "code",
      "execution_count": 199,
      "metadata": {
        "id": "WEPWMBDJcq1g"
      },
      "outputs": [],
      "source": [
        "# Calcular los autovectores y autovalores\n",
        "_, eigen_vectors = np.linalg.eigh(cov_matrix)"
      ]
    },
    {
      "cell_type": "code",
      "execution_count": 200,
      "metadata": {
        "id": "O0bFyqNOcrkX"
      },
      "outputs": [
        {
          "data": {
            "text/plain": [
              "array([0.07649109, 0.08901972, 0.10510685])"
            ]
          },
          "execution_count": 200,
          "metadata": {},
          "output_type": "execute_result"
        }
      ],
      "source": [
        "_"
      ]
    },
    {
      "cell_type": "code",
      "execution_count": 201,
      "metadata": {
        "id": "SUstGsXicskE"
      },
      "outputs": [
        {
          "data": {
            "text/plain": [
              "array([[ 0.46869359, -0.76503261, -0.44164627],\n",
              "       [-0.78069455, -0.59267055,  0.19813541],\n",
              "       [-0.41333079,  0.25192604, -0.87503767]])"
            ]
          },
          "execution_count": 201,
          "metadata": {},
          "output_type": "execute_result"
        }
      ],
      "source": [
        "eigen_vectors"
      ]
    },
    {
      "cell_type": "code",
      "execution_count": 202,
      "metadata": {
        "id": "8_4lxCyNqVpI"
      },
      "outputs": [
        {
          "data": {
            "text/plain": [
              "array([[-0.76503261, -0.44164627],\n",
              "       [-0.59267055,  0.19813541],\n",
              "       [ 0.25192604, -0.87503767]])"
            ]
          },
          "execution_count": 202,
          "metadata": {},
          "output_type": "execute_result"
        }
      ],
      "source": [
        "eigen_vectors[:, -2:]"
      ]
    },
    {
      "cell_type": "code",
      "execution_count": 203,
      "metadata": {
        "id": "EU5gnJ7hcqzA"
      },
      "outputs": [],
      "source": [
        "# Seleccionar los dos autovectores más grandes\n",
        "top_eigen_vectors = eigen_vectors[:, -2:]\n",
        "\n",
        "# Proyectar los datos 3D en el nuevo espacio de 2D\n",
        "data_2d = centered_data.dot(top_eigen_vectors)"
      ]
    },
    {
      "cell_type": "code",
      "execution_count": 204,
      "metadata": {
        "id": "ls4v05feqxXJ"
      },
      "outputs": [
        {
          "data": {
            "text/plain": [
              "array([[-0.17766654, -0.03854233],\n",
              "       [-0.08467555,  0.26951906],\n",
              "       [ 0.1417564 ,  0.41201623],\n",
              "       [-0.38795294, -0.57852408],\n",
              "       [-0.31091137,  0.12926154],\n",
              "       [-0.44959692, -0.07616208],\n",
              "       [ 0.14232259,  0.22223236],\n",
              "       [ 0.33242289,  0.53783397],\n",
              "       [ 0.15408045, -0.00686458],\n",
              "       [-0.48677761,  0.18598253],\n",
              "       [ 0.05973522, -0.1101383 ],\n",
              "       [ 0.54233694,  0.01687041],\n",
              "       [-0.39259863,  0.00263333],\n",
              "       [-0.65659488,  0.02121252],\n",
              "       [ 0.02976946,  0.40902026],\n",
              "       [ 0.45394095, -0.35561885],\n",
              "       [-0.03849097, -0.50192742],\n",
              "       [-0.1278671 , -0.22982937],\n",
              "       [-0.26941213, -0.25634031],\n",
              "       [ 0.41774105, -0.21807249],\n",
              "       [-0.1796165 ,  0.18728909],\n",
              "       [ 0.43243022, -0.54648597],\n",
              "       [ 0.53767617, -0.32941733],\n",
              "       [-0.14758936, -0.26192367],\n",
              "       [-0.26268134,  0.00547822],\n",
              "       [ 0.33937971, -0.00927209],\n",
              "       [ 0.27164979, -0.19013963],\n",
              "       [-0.13841499, -0.16075978],\n",
              "       [-0.1925098 , -0.13609401],\n",
              "       [ 0.37409327,  0.43061881],\n",
              "       [-0.48594636,  0.2650659 ],\n",
              "       [ 0.08927043, -0.50527677],\n",
              "       [ 0.06630893, -0.50871451],\n",
              "       [-0.18977424,  0.57390741],\n",
              "       [ 0.51731726, -0.11745936],\n",
              "       [-0.09258434, -0.35715991],\n",
              "       [ 0.16603603, -0.42118796],\n",
              "       [-0.00211976, -0.52632111],\n",
              "       [-0.08486936, -0.64350706],\n",
              "       [ 0.13490941,  0.18300032],\n",
              "       [-0.63232843,  0.15050166],\n",
              "       [ 0.15360519, -0.05983674],\n",
              "       [-0.23687384, -0.08038118],\n",
              "       [-0.30766851,  0.11082681],\n",
              "       [-0.25646719, -0.46169369],\n",
              "       [-0.08476493,  0.05936304],\n",
              "       [ 0.04931693, -0.16991919],\n",
              "       [ 0.07386749,  0.60434513],\n",
              "       [-0.31739146, -0.23273988],\n",
              "       [ 0.02828155,  0.36628055],\n",
              "       [-0.11643278,  0.19980113],\n",
              "       [ 0.38445068,  0.22565765],\n",
              "       [ 0.11350169,  0.64473867],\n",
              "       [ 0.43000142,  0.1083545 ],\n",
              "       [ 0.40416951, -0.37140377],\n",
              "       [-0.00623541,  0.26673661],\n",
              "       [-0.00082233, -0.16341068],\n",
              "       [ 0.50918304, -0.32762472],\n",
              "       [-0.31152172, -0.39777849],\n",
              "       [-0.62408822,  0.11910827],\n",
              "       [ 0.20513909,  0.20320494],\n",
              "       [-0.0300775 ,  0.61955442],\n",
              "       [-0.11937253, -0.32573745],\n",
              "       [-0.02227902, -0.11664093],\n",
              "       [ 0.27705278, -0.08942744],\n",
              "       [ 0.14660012,  0.16504515],\n",
              "       [ 0.04809704,  0.54972718],\n",
              "       [-0.04228198,  0.14193994],\n",
              "       [ 0.24934339,  0.12708976],\n",
              "       [ 0.02152537,  0.29194542],\n",
              "       [-0.07811249,  0.25231692],\n",
              "       [-0.09276996,  0.12701577],\n",
              "       [ 0.18191825,  0.56916127],\n",
              "       [-0.12344729, -0.30155244],\n",
              "       [-0.05586595,  0.03128547],\n",
              "       [ 0.36729421,  0.43020639],\n",
              "       [-0.5386829 ,  0.03757985],\n",
              "       [-0.49768963, -0.54477802],\n",
              "       [-0.02793725, -0.12133437],\n",
              "       [ 0.07071186, -0.45574598],\n",
              "       [-0.35968777,  0.09947036],\n",
              "       [ 0.16840098, -0.11414715],\n",
              "       [ 0.3403462 ,  0.54892689],\n",
              "       [-0.1064906 ,  0.20669115],\n",
              "       [ 0.48297901,  0.24722708],\n",
              "       [-0.27002381,  0.0451318 ],\n",
              "       [-0.03068583,  0.17570732],\n",
              "       [ 0.63100925, -0.26862751],\n",
              "       [ 0.15243515, -0.12618203],\n",
              "       [-0.0155492 , -0.51686926],\n",
              "       [ 0.39451392, -0.44187205],\n",
              "       [ 0.36533102, -0.2660146 ],\n",
              "       [-0.09923775,  0.57092479],\n",
              "       [-0.44099764,  0.16730022],\n",
              "       [-0.43080939, -0.03631755],\n",
              "       [ 0.15502672,  0.33353691],\n",
              "       [ 0.16537536, -0.17069837],\n",
              "       [-0.42598753, -0.1128487 ],\n",
              "       [-0.094857  ,  0.50750817],\n",
              "       [ 0.18343414,  0.20316799]])"
            ]
          },
          "execution_count": 204,
          "metadata": {},
          "output_type": "execute_result"
        }
      ],
      "source": [
        "data_2d"
      ]
    },
    {
      "cell_type": "code",
      "execution_count": 205,
      "metadata": {
        "id": "B-DSyCfSoIBV"
      },
      "outputs": [
        {
          "data": {
            "image/png": "[encoded data removed]",
            "text/plain": [
              "<Figure size 640x480 with 1 Axes>"
            ]
          },
          "metadata": {},
          "output_type": "display_data"
        }
      ],
      "source": [
        "# Graficar los datos 2D\n",
        "plt.scatter(data_2d[:, 0], data_2d[:, 1], c='b', marker='o')\n",
        "plt.xlabel('Componente Principal 1')\n",
        "plt.ylabel('Componente Principal 2')\n",
        "plt.title('Análisis de Componentes Principales (PCA)')\n",
        "plt.grid(True)\n",
        "plt.show()"
      ]
    },
    {
      "cell_type": "code",
      "execution_count": 206,
      "metadata": {
        "id": "ehIcA1r0hGk8"
      },
      "outputs": [
        {
          "data": {
            "image/png": "[encoded data removed]",
            "text/plain": [
              "<Figure size 640x480 with 1 Axes>"
            ]
          },
          "metadata": {},
          "output_type": "display_data"
        }
      ],
      "source": [
        "from sklearn.datasets import load_digits\n",
        "import matplotlib.pyplot as plt\n",
        "\n",
        "# Load the digits dataset\n",
        "digits = load_digits()\n",
        "\n",
        "# Select a random image index (adjust for different images)\n",
        "image_index = 0  # Change this to pick a specific image\n",
        "\n",
        "# Get the image data and label\n",
        "image = digits.images[image_index]\n",
        "label = digits.target[image_index]\n",
        "\n",
        "# Plot the image\n",
        "plt.imshow(image, cmap='gray')\n",
        "plt.title(f\"Digit: {label}\")\n",
        "plt.axis('off')\n",
        "plt.show()\n"
      ]
    },
    {
      "cell_type": "code",
      "execution_count": 207,
      "metadata": {
        "id": "6z9m6oVYrkPb"
      },
      "outputs": [
        {
          "data": {
            "text/plain": [
              "(8, 8)"
            ]
          },
          "execution_count": 207,
          "metadata": {},
          "output_type": "execute_result"
        }
      ],
      "source": [
        "image.shape"
      ]
    },
    {
      "cell_type": "code",
      "execution_count": 208,
      "metadata": {
        "id": "sHZ-yMSxVrZ7"
      },
      "outputs": [
        {
          "data": {
            "text/plain": [
              "array([[ 0.        ,  0.        ,  0.        , ...,  0.        ,\n",
              "         0.        ,  0.        ],\n",
              "       [ 0.        ,  0.8229975 ,  2.40099498, ..., -0.1598953 ,\n",
              "         0.09851423, -0.07406182],\n",
              "       [ 0.        ,  2.40099498, 22.60837352, ..., -1.15544033,\n",
              "         1.41203571,  0.72988047],\n",
              "       ...,\n",
              "       [ 0.        , -0.1598953 , -1.15544033, ..., 34.81734839,\n",
              "        15.64854441,  2.87558266],\n",
              "       [ 0.        ,  0.09851423,  1.41203571, ..., 15.64854441,\n",
              "        16.73258202,  4.72078588],\n",
              "       [ 0.        , -0.07406182,  0.72988047, ...,  2.87558266,\n",
              "         4.72078588,  3.46005282]])"
            ]
          },
          "execution_count": 208,
          "metadata": {},
          "output_type": "execute_result"
        }
      ],
      "source": [
        "import numpy as np\n",
        "from sklearn.datasets import load_digits\n",
        "import matplotlib.pyplot as plt\n",
        "\n",
        "# Cargar datos de dígitos\n",
        "digits = load_digits()\n",
        "images = digits.images\n",
        "labels = digits.target\n",
        "\n",
        "# Calcular matriz de covarianza\n",
        "covariance_matrix = np.cov(images.reshape(-1, 64).T)\n",
        "covariance_matrix"
      ]
    },
    {
      "cell_type": "code",
      "execution_count": 209,
      "metadata": {
        "id": "xxNq0EKYsDEA"
      },
      "outputs": [
        {
          "data": {
            "text/plain": [
              "(64, 64)"
            ]
          },
          "execution_count": 209,
          "metadata": {},
          "output_type": "execute_result"
        }
      ],
      "source": [
        "covariance_matrix.shape"
      ]
    },
    {
      "cell_type": "code",
      "execution_count": 210,
      "metadata": {
        "id": "bhgoYgntuv9W"
      },
      "outputs": [
        {
          "data": {
            "text/plain": [
              "(1797,)"
            ]
          },
          "execution_count": 210,
          "metadata": {},
          "output_type": "execute_result"
        }
      ],
      "source": [
        "labels.shape"
      ]
    },
    {
      "cell_type": "code",
      "execution_count": 211,
      "metadata": {
        "id": "VKm87gUTgqth"
      },
      "outputs": [
        {
          "data": {
            "text/plain": [
              "(1797,)"
            ]
          },
          "execution_count": 211,
          "metadata": {},
          "output_type": "execute_result"
        }
      ],
      "source": [
        "labels.shape"
      ]
    },
    {
      "cell_type": "code",
      "execution_count": 212,
      "metadata": {
        "id": "hJrcmnAGgQ-P"
      },
      "outputs": [
        {
          "data": {
            "text/plain": [
              "array([[[ 0.,  0.,  5., ...,  1.,  0.,  0.],\n",
              "        [ 0.,  0., 13., ..., 15.,  5.,  0.],\n",
              "        [ 0.,  3., 15., ..., 11.,  8.,  0.],\n",
              "        ...,\n",
              "        [ 0.,  4., 11., ..., 12.,  7.,  0.],\n",
              "        [ 0.,  2., 14., ..., 12.,  0.,  0.],\n",
              "        [ 0.,  0.,  6., ...,  0.,  0.,  0.]],\n",
              "\n",
              "       [[ 0.,  0.,  0., ...,  5.,  0.,  0.],\n",
              "        [ 0.,  0.,  0., ...,  9.,  0.,  0.],\n",
              "        [ 0.,  0.,  3., ...,  6.,  0.,  0.],\n",
              "        ...,\n",
              "        [ 0.,  0.,  1., ...,  6.,  0.,  0.],\n",
              "        [ 0.,  0.,  1., ...,  6.,  0.,  0.],\n",
              "        [ 0.,  0.,  0., ..., 10.,  0.,  0.]],\n",
              "\n",
              "       [[ 0.,  0.,  0., ..., 12.,  0.,  0.],\n",
              "        [ 0.,  0.,  3., ..., 14.,  0.,  0.],\n",
              "        [ 0.,  0.,  8., ..., 16.,  0.,  0.],\n",
              "        ...,\n",
              "        [ 0.,  9., 16., ...,  0.,  0.,  0.],\n",
              "        [ 0.,  3., 13., ..., 11.,  5.,  0.],\n",
              "        [ 0.,  0.,  0., ..., 16.,  9.,  0.]],\n",
              "\n",
              "       ...,\n",
              "\n",
              "       [[ 0.,  0.,  1., ...,  1.,  0.,  0.],\n",
              "        [ 0.,  0., 13., ...,  2.,  1.,  0.],\n",
              "        [ 0.,  0., 16., ..., 16.,  5.,  0.],\n",
              "        ...,\n",
              "        [ 0.,  0., 16., ..., 15.,  0.,  0.],\n",
              "        [ 0.,  0., 15., ..., 16.,  0.,  0.],\n",
              "        [ 0.,  0.,  2., ...,  6.,  0.,  0.]],\n",
              "\n",
              "       [[ 0.,  0.,  2., ...,  0.,  0.,  0.],\n",
              "        [ 0.,  0., 14., ..., 15.,  1.,  0.],\n",
              "        [ 0.,  4., 16., ..., 16.,  7.,  0.],\n",
              "        ...,\n",
              "        [ 0.,  0.,  0., ..., 16.,  2.,  0.],\n",
              "        [ 0.,  0.,  4., ..., 16.,  2.,  0.],\n",
              "        [ 0.,  0.,  5., ..., 12.,  0.,  0.]],\n",
              "\n",
              "       [[ 0.,  0., 10., ...,  1.,  0.,  0.],\n",
              "        [ 0.,  2., 16., ...,  1.,  0.,  0.],\n",
              "        [ 0.,  0., 15., ..., 15.,  0.,  0.],\n",
              "        ...,\n",
              "        [ 0.,  4., 16., ..., 16.,  6.,  0.],\n",
              "        [ 0.,  8., 16., ..., 16.,  8.,  0.],\n",
              "        [ 0.,  1.,  8., ..., 12.,  1.,  0.]]])"
            ]
          },
          "execution_count": 212,
          "metadata": {},
          "output_type": "execute_result"
        }
      ],
      "source": [
        "images"
      ]
    },
    {
      "cell_type": "code",
      "execution_count": 213,
      "metadata": {
        "id": "_zK0hNq5sOKH"
      },
      "outputs": [
        {
          "data": {
            "text/plain": [
              "array([[ 0.        ,  0.        ,  0.        , ...,  0.        ,\n",
              "         0.        ,  0.        ],\n",
              "       [ 0.        ,  0.8229975 ,  2.40099498, ..., -0.1598953 ,\n",
              "         0.09851423, -0.07406182],\n",
              "       [ 0.        ,  2.40099498, 22.60837352, ..., -1.15544033,\n",
              "         1.41203571,  0.72988047],\n",
              "       ...,\n",
              "       [ 0.        , -0.1598953 , -1.15544033, ..., 34.81734839,\n",
              "        15.64854441,  2.87558266],\n",
              "       [ 0.        ,  0.09851423,  1.41203571, ..., 15.64854441,\n",
              "        16.73258202,  4.72078588],\n",
              "       [ 0.        , -0.07406182,  0.72988047, ...,  2.87558266,\n",
              "         4.72078588,  3.46005282]])"
            ]
          },
          "execution_count": 213,
          "metadata": {},
          "output_type": "execute_result"
        }
      ],
      "source": [
        "covariance_matrix"
      ]
    },
    {
      "cell_type": "code",
      "execution_count": 214,
      "metadata": {
        "id": "VtBjChSKdC9j"
      },
      "outputs": [],
      "source": [
        "# Calcular los autovalores y autovectores\n",
        "eigenvalues, eigenvectors = np.linalg.eigh(covariance_matrix)"
      ]
    },
    {
      "cell_type": "code",
      "execution_count": 215,
      "metadata": {
        "id": "BiTCAbQcdEgT"
      },
      "outputs": [
        {
          "data": {
            "text/plain": [
              "array([-1.27455723e-15,  0.00000000e+00,  8.34290077e-17,  4.12223305e-04,\n",
              "        6.61270906e-04,  1.27705113e-03,  3.62365957e-03,  8.47307261e-03,\n",
              "        1.49505636e-02,  3.96662297e-02,  6.07377581e-02,  6.31307848e-02,\n",
              "        9.91527944e-02,  2.52350432e-01,  4.86065217e-01,  6.69850594e-01,\n",
              "        9.31220008e-01,  1.15893419e+00,  1.29221888e+00,  1.40197220e+00,\n",
              "        1.68996439e+00,  1.81716569e+00,  1.90724229e+00,  2.28298744e+00,\n",
              "        2.54170563e+00,  2.67210896e+00,  2.73780002e+00,  3.08457409e+00,\n",
              "        3.53165306e+00,  3.70647245e+00,  3.94340334e+00,  4.04743883e+00,\n",
              "        4.24687799e+00,  4.49129656e+00,  5.15586690e+00,  5.88499123e+00,\n",
              "        6.19295508e+00,  6.91973881e+00,  7.16577961e+00,  8.36561190e+00,\n",
              "        8.69036872e+00,  9.22640260e+00,  9.58259779e+00,  1.06935663e+01,\n",
              "        1.08868593e+01,  1.22344732e+01,  1.50044602e+01,  1.58513899e+01,\n",
              "        1.69468639e+01,  1.76367222e+01,  2.13243565e+01,  2.19014881e+01,\n",
              "        2.73211698e+01,  2.85190412e+01,  3.70117984e+01,  4.03109953e+01,\n",
              "        4.40151067e+01,  5.18845391e+01,  5.91085249e+01,  6.95131656e+01,\n",
              "        1.01100375e+02,  1.41788439e+02,  1.63717747e+02,  1.79006930e+02])"
            ]
          },
          "execution_count": 215,
          "metadata": {},
          "output_type": "execute_result"
        }
      ],
      "source": [
        "eigenvalues"
      ]
    },
    {
      "cell_type": "code",
      "execution_count": 216,
      "metadata": {
        "id": "3Ze3S1xcdGHE"
      },
      "outputs": [
        {
          "data": {
            "text/plain": [
              "(64, 64)"
            ]
          },
          "execution_count": 216,
          "metadata": {},
          "output_type": "execute_result"
        }
      ],
      "source": [
        "eigenvectors.shape"
      ]
    },
    {
      "cell_type": "code",
      "execution_count": 217,
      "metadata": {
        "id": "Rn359ZKsc8pb"
      },
      "outputs": [
        {
          "data": {
            "image/png": "[encoded data removed]",
            "text/plain": [
              "<Figure size 1000x400 with 10 Axes>"
            ]
          },
          "metadata": {},
          "output_type": "display_data"
        }
      ],
      "source": [
        "# Visualizar los primeros autovectores como componentes principales\n",
        "fig, axes = plt.subplots(2, 5, figsize=(10, 4))\n",
        "for i, ax in enumerate(axes.flat):\n",
        "    ax.imshow(eigenvectors[:, i].reshape(8, 8), cmap='gray')\n",
        "    ax.axis('off')\n",
        "plt.suptitle('Componentes Principales usando Autovectores')\n",
        "plt.show()"
      ]
    },
    {
      "cell_type": "code",
      "execution_count": 218,
      "metadata": {
        "id": "RJUNT0AKdeV8"
      },
      "outputs": [],
      "source": [
        "import numpy as np\n",
        "import matplotlib.pyplot as plt\n",
        "\n",
        "# Generar una imagen de ejemplo\n",
        "image = np.random.rand(100, 100)\n",
        "\n",
        "# Calcular la descomposición en valores singulares (SVD)\n",
        "U, S, Vt = np.linalg.svd(image)"
      ]
    },
    {
      "cell_type": "code",
      "execution_count": 219,
      "metadata": {
        "id": "zWpFRCKPdfR0"
      },
      "outputs": [
        {
          "data": {
            "text/plain": [
              "(100, 100)"
            ]
          },
          "execution_count": 219,
          "metadata": {},
          "output_type": "execute_result"
        }
      ],
      "source": [
        "U.shape"
      ]
    },
    {
      "cell_type": "code",
      "execution_count": 220,
      "metadata": {
        "id": "6nZ4v4Jzt7zm"
      },
      "outputs": [
        {
          "data": {
            "text/plain": [
              "(100, 100)"
            ]
          },
          "execution_count": 220,
          "metadata": {},
          "output_type": "execute_result"
        }
      ],
      "source": [
        "# Reconstruct the image using the first k singular values and vectors\n",
        "k = 50\n",
        "compressed_image = np.dot(U[:, :k], np.dot(np.diag(S[:k]), Vt[:k, :]))\n",
        "compressed_image.shape"
      ]
    },
    {
      "cell_type": "code",
      "execution_count": 221,
      "metadata": {
        "id": "G8n7VtlHVrUl"
      },
      "outputs": [
        {
          "data": {
            "image/png": "[encoded data removed]",
            "text/plain": [
              "<Figure size 1000x500 with 2 Axes>"
            ]
          },
          "metadata": {},
          "output_type": "display_data"
        }
      ],
      "source": [
        "# Visualizar la imagen original y la imagen comprimida\n",
        "fig, axes = plt.subplots(1, 2, figsize=(10, 5))\n",
        "axes[0].imshow(image, cmap='gray')\n",
        "axes[0].set_title('Imagen Original')\n",
        "axes[0].axis('off')\n",
        "axes[1].imshow(compressed_image, cmap='gray')\n",
        "axes[1].set_title('Imagen Comprimida (SVD)')\n",
        "axes[1].axis('off')\n",
        "plt.show()\n"
      ]
    },
    {
      "cell_type": "code",
      "execution_count": 222,
      "metadata": {
        "id": "Aqg_JmeoTEAz"
      },
      "outputs": [
        {
          "data": {
            "image/png": "[encoded data removed]",
            "text/plain": [
              "<Figure size 800x800 with 1 Axes>"
            ]
          },
          "metadata": {},
          "output_type": "display_data"
        }
      ],
      "source": [
        "import matplotlib.pyplot as plt\n",
        "import numpy as np\n",
        "\n",
        "# Define the cube's vertices as a 3D NumPy array\n",
        "vertices = np.array([\n",
        "    [0, 0, 0], [1, 0, 0], [1, 1, 0], [0, 1, 0],\n",
        "    [0, 0, 1], [1, 0, 1], [1, 1, 1], [0, 1, 1]\n",
        "])\n",
        "\n",
        "# Define a sample transformation matrix\n",
        "transformation_matrix = np.array([\n",
        "    [1, 0.5, 0],\n",
        "    [0, 0.5, 1],\n",
        "    [0, 0, 1]\n",
        "])\n",
        "\n",
        "# Apply the transformation matrix to each vertex\n",
        "transformed_vertices = transformation_matrix @ vertices.T\n",
        "transformed_vertices = transformed_vertices.T  # transpose back to get (x, y, z) coordinates\n",
        "\n",
        "# Define the cube's edges as pairs of vertices\n",
        "edges = [\n",
        "    [0, 1], [1, 2], [2, 3], [3, 0],\n",
        "    [4, 5], [5, 6], [6, 7], [7, 4],\n",
        "    [0, 4], [1, 5], [2, 6], [3, 7]\n",
        "]\n",
        "\n",
        "# Define colors for the original and transformed cubes\n",
        "original_cube_color = 'b'\n",
        "transformed_cube_color = 'r'\n",
        "\n",
        "# Create a 3D figure\n",
        "fig = plt.figure(figsize=(8, 8))\n",
        "ax = fig.add_subplot(111, projection='3d')\n",
        "\n",
        "# Draw the original cube's edges\n",
        "for edge in edges:\n",
        "    start_vertex = vertices[edge[0]]\n",
        "    end_vertex = vertices[edge[1]]\n",
        "    ax.plot([start_vertex[0], end_vertex[0]], [start_vertex[1], end_vertex[1]], [start_vertex[2], end_vertex[2]], original_cube_color + '-')\n",
        "\n",
        "# Draw the original cube's vertices as dots\n",
        "for vertex in vertices:\n",
        "    ax.scatter(vertex[0], vertex[1], vertex[2], color=original_cube_color)\n",
        "\n",
        "# Draw the transformed cube's edges\n",
        "for edge in edges:\n",
        "    start_vertex = transformed_vertices[edge[0]]\n",
        "    end_vertex = transformed_vertices[edge[1]]\n",
        "    ax.plot([start_vertex[0], end_vertex[0]], [start_vertex[1], end_vertex[1]], [start_vertex[2], end_vertex[2]], transformed_cube_color + '-')\n",
        "\n",
        "# Draw the transformed cube's vertices as dots\n",
        "for vertex in transformed_vertices:\n",
        "    ax.scatter(vertex[0], vertex[1], vertex[2], color=transformed_cube_color)\n",
        "\n",
        "# Set axis labels and title\n",
        "ax.set_xlabel('X')\n",
        "ax.set_ylabel('Y')\n",
        "ax.set_zlabel('Z')\n",
        "ax.set_title('Cube Transformation')\n",
        "\n",
        "# Set viewing angle\n",
        "ax.view_init(elev=30, azim=60)  # adjust these values for different viewing angles\n",
        "\n",
        "# Show the plot\n",
        "plt.show()"
      ]
    },
    {
      "cell_type": "code",
      "execution_count": null,
      "metadata": {
        "id": "Uw1XpQ8dz4H_"
      },
      "outputs": [],
      "source": []
    }
  ],
  "metadata": {
    "colab": {
      "provenance": []
    },
    "kernelspec": {
      "display_name": "Python 3",
      "name": "python3"
    },
    "language_info": {
      "codemirror_mode": {
        "name": "ipython",
        "version": 3
      },
      "file_extension": ".py",
      "mimetype": "text/x-python",
      "name": "python",
      "nbconvert_exporter": "python",
      "pygments_lexer": "ipython3",
      "version": "3.12.2"
    }
  },
  "nbformat": 4,
  "nbformat_minor": 0
}
