{
  "nbformat": 4,
  "nbformat_minor": 0,
  "metadata": {
    "colab": {
      "provenance": []
    },
    "kernelspec": {
      "name": "python3",
      "display_name": "Python 3"
    },
    "language_info": {
      "name": "python"
    }
  },
  "cells": [
    {
      "cell_type": "markdown",
      "source": [
        "<img width=\"300px\" src=\"https://cachimbo.pe/wp-content/uploads/2022/10/1-19.jpg\"></img>\n",
        "\n",
        "#**Matemática y Estadística para Ciencia de Datos**\n",
        "## **Tema: Vectores y Matrices**\n",
        "#### **Docente: Giron Rene Omar A.**\n",
        "\n",
        "---------------"
      ],
      "metadata": {
        "id": "B1Zb4uIVK-lk"
      }
    },
    {
      "cell_type": "markdown",
      "source": [
        "**Índice**   \n",
        "1. [Vectores](#id1)<br>\n",
        "  1.1 [Declarar un vector](#id1.1)<br>\n",
        "  1.2 [Operaciones con vectores](#id1.2)<br>\n",
        "  1.3 [Propiedades del vector](#id1.3)<br>\n",
        "  1.4 [Interpretación geométrica](#id1.4)<br>\n",
        "\n",
        "2. [Matrices](#id2)<br>\n",
        "  2.1 [Declarar una matriz](#id2.1)<br>\n",
        "  2.2 [Operaciones con matrices](#id2.2)<br>\n",
        "  2.3 [Propiedades de la matriz](#id2.3)<br>\n",
        "  2.4 [Matrices especiales](#id2.4)<br>\n",
        "  2.5 [Aplicaciones con matrices](#id2.5)<br>\n"
      ],
      "metadata": {
        "id": "eyUAD_oraKGj"
      }
    },
    {
      "cell_type": "markdown",
      "source": [
        "<a name=\"id1\"></a> <h2>Variables y Tipos de Datos </h2>\n",
        "##  "
      ],
      "metadata": {
        "id": "q4hB_pkjb2AN"
      }
    },
    {
      "cell_type": "markdown",
      "source": [
        "<a name=\"id1.1\"></a> <h2> Declarar un vector </h2>\n",
        "##  \n",
        "\n",
        "En python, un vector puede representarse de muchas maneras, siendo la más simple un lista de números."
      ],
      "metadata": {
        "id": "yYlDbtRclaKl"
      }
    },
    {
      "cell_type": "markdown",
      "source": [
        "### Lista"
      ],
      "metadata": {
        "id": "EOZoMim9noxH"
      }
    },
    {
      "cell_type": "code",
      "source": [
        "lista = [10.5, 5.2, 3.25, 7.0]\n",
        "lista"
      ],
      "metadata": {
        "id": "-W3Ncbqnmtiu"
      },
      "execution_count": null,
      "outputs": []
    },
    {
      "cell_type": "code",
      "source": [
        "len(lista)"
      ],
      "metadata": {
        "id": "fndve9QFnEu4"
      },
      "execution_count": null,
      "outputs": []
    },
    {
      "cell_type": "markdown",
      "source": [
        "### Numpy"
      ],
      "metadata": {
        "id": "ottH1YlMntQg"
      }
    },
    {
      "cell_type": "code",
      "source": [
        "import numpy as np"
      ],
      "metadata": {
        "id": "7UxXWKmcnzXl"
      },
      "execution_count": null,
      "outputs": []
    },
    {
      "cell_type": "code",
      "source": [
        "# vector unidimensional\n",
        "v1 = np.array([25, 2, 5])\n",
        "v1"
      ],
      "metadata": {
        "id": "lOhRNiA5e_9G"
      },
      "execution_count": null,
      "outputs": []
    },
    {
      "cell_type": "code",
      "source": [
        "v1.shape"
      ],
      "metadata": {
        "id": "wPeLcHgqjnct"
      },
      "execution_count": null,
      "outputs": []
    },
    {
      "cell_type": "code",
      "source": [
        "# vector fila bidimensional (matriz de una fila)\n",
        "v2 = np.array([[25, 2, 5]]) # vector fila\n",
        "v2"
      ],
      "metadata": {
        "id": "97i2Wz19jnZN"
      },
      "execution_count": null,
      "outputs": []
    },
    {
      "cell_type": "code",
      "source": [
        "v2.shape"
      ],
      "metadata": {
        "id": "6EFfgXKIjnV-"
      },
      "execution_count": null,
      "outputs": []
    },
    {
      "cell_type": "code",
      "source": [
        "# vector columna bidimensional (matriz de una columna)\n",
        "v3 = np.array([[25], [2], [5]]) # vector columna\n",
        "v3"
      ],
      "metadata": {
        "id": "f9b0eJQgo-7Y"
      },
      "execution_count": null,
      "outputs": []
    },
    {
      "cell_type": "code",
      "source": [
        "v3.shape"
      ],
      "metadata": {
        "id": "za28I6qIjnS-"
      },
      "execution_count": null,
      "outputs": []
    },
    {
      "cell_type": "code",
      "source": [
        "# transpuesta unidimensional\n",
        "v1.T"
      ],
      "metadata": {
        "id": "4eZMrbk0o16h"
      },
      "execution_count": null,
      "outputs": []
    },
    {
      "cell_type": "code",
      "source": [
        "# transpuesta bidimensional\n",
        "v3.T"
      ],
      "metadata": {
        "id": "aqdsDNob2M0s"
      },
      "execution_count": null,
      "outputs": []
    },
    {
      "cell_type": "code",
      "source": [
        "v3.T.shape"
      ],
      "metadata": {
        "id": "MSxHDePB3dEh"
      },
      "execution_count": null,
      "outputs": []
    },
    {
      "cell_type": "markdown",
      "source": [
        "<a name=\"id1.2\"></a> <h2> Operaciones con vectores </h2>\n",
        "##  \n",
        "\n",
        "Tener en cuenta que los vectores deben tener la misma dimensión"
      ],
      "metadata": {
        "id": "Fsms95UuoTUz"
      }
    },
    {
      "cell_type": "code",
      "source": [
        "u = np.array([2, 5])\n",
        "v = np.array([3, 1])"
      ],
      "metadata": {
        "id": "ouyo1T6BjnPe"
      },
      "execution_count": null,
      "outputs": []
    },
    {
      "cell_type": "code",
      "source": [
        "u + v"
      ],
      "metadata": {
        "id": "1S3YKVh_cmDy"
      },
      "execution_count": null,
      "outputs": []
    },
    {
      "cell_type": "code",
      "source": [
        "# suma de vectores\n",
        "print(\" \", u)\n",
        "print(\"+\", v)\n",
        "print(\"-\"*10)\n",
        "u + v"
      ],
      "metadata": {
        "id": "TSBuMeiJjnMW"
      },
      "execution_count": null,
      "outputs": []
    },
    {
      "cell_type": "code",
      "source": [
        "# resta de vectores\n",
        "print(\" \", u)\n",
        "print(\"-\", v)\n",
        "print(\"-\"*10)\n",
        "u - v"
      ],
      "metadata": {
        "id": "8lCVgZJKjnJN"
      },
      "execution_count": null,
      "outputs": []
    },
    {
      "cell_type": "code",
      "source": [
        "# multiplicación por un escalar\n",
        "c=5\n",
        "print(\"vector 'u':\",u)\n",
        "print(\"-\"*30)\n",
        "print(\"multiplicación por un escalar 'c.u':\",c*u)"
      ],
      "metadata": {
        "id": "s4xzYm1ojnF9"
      },
      "execution_count": null,
      "outputs": []
    },
    {
      "cell_type": "code",
      "source": [
        "# producto punto o escalar\n",
        "print(\"vector 'u':\",u)\n",
        "print(\"vector 'v':\",v)\n",
        "print(\"-\"*30)\n",
        "print(\"producto escalar 'u.v':\",np.dot(u,v))"
      ],
      "metadata": {
        "id": "pNqbmsDMjnC2"
      },
      "execution_count": null,
      "outputs": []
    },
    {
      "cell_type": "markdown",
      "source": [
        "<a name=\"id1.3\"></a> <h2> Propiedades del vector </h2>\n",
        "##  "
      ],
      "metadata": {
        "id": "gH_CYRzO5PRz"
      }
    },
    {
      "cell_type": "code",
      "source": [
        "# suma de vectores escalares\n",
        "c=5\n",
        "print(\"vector 'u':\",u)\n",
        "print(\"-\"*30)\n",
        "print(\"suma por un escalar 'c+u':\",c+u)"
      ],
      "metadata": {
        "id": "twVDBzupjm_m"
      },
      "execution_count": null,
      "outputs": []
    },
    {
      "cell_type": "code",
      "source": [
        "# transpuesta de un vector\n",
        "print(\"vector 'u':\",u)\n",
        "print(\"-\"*30)\n",
        "print(\"vector transpuesta':\",u.T)"
      ],
      "metadata": {
        "id": "z7cyzi9pjm8e"
      },
      "execution_count": null,
      "outputs": []
    },
    {
      "cell_type": "markdown",
      "source": [
        "OJO: ¿La transpuesta no es lo mismo que el original?\n",
        "\n",
        "-> Rpt: Sí, debido a que ese vector es unidimensional"
      ],
      "metadata": {
        "id": "ibKTxaTTMZq1"
      }
    },
    {
      "cell_type": "code",
      "source": [
        "# transpuesta de un vector (el vector debe ser bidimensional)\n",
        "w=np.array([[1,2,3,4]])\n",
        "print(\"vector 'w':\",w)\n",
        "print(\"-\"*30)\n",
        "print(\"vector transpuesta':\")\n",
        "w.T"
      ],
      "metadata": {
        "id": "vaMUkIzdjmym"
      },
      "execution_count": null,
      "outputs": []
    },
    {
      "cell_type": "code",
      "source": [
        "u"
      ],
      "metadata": {
        "id": "Jp3zlWO2eqFa"
      },
      "execution_count": null,
      "outputs": []
    },
    {
      "cell_type": "code",
      "source": [
        "np.linalg.norm(u)"
      ],
      "metadata": {
        "id": "yCRV6c_g4rux"
      },
      "execution_count": null,
      "outputs": []
    },
    {
      "cell_type": "code",
      "source": [
        "# magnitud vectorial (norma L2, generalización de la noción de distancia euclidiana)\n",
        "np.round(np.linalg.norm(u),3)"
      ],
      "metadata": {
        "id": "wVI_gZyyjmuO"
      },
      "execution_count": null,
      "outputs": []
    },
    {
      "cell_type": "code",
      "source": [
        "(2**2 + 5**2)**(1/2)"
      ],
      "metadata": {
        "id": "Dlt-fjJGqV2W"
      },
      "execution_count": null,
      "outputs": []
    },
    {
      "cell_type": "code",
      "source": [
        "u"
      ],
      "metadata": {
        "id": "CXqD2QGSfo5q"
      },
      "execution_count": null,
      "outputs": []
    },
    {
      "cell_type": "code",
      "source": [
        "# vector unitario\n",
        "norma = np.linalg.norm(u)\n",
        "u/norma"
      ],
      "metadata": {
        "id": "AufiCskLqVuU"
      },
      "execution_count": null,
      "outputs": []
    },
    {
      "cell_type": "code",
      "source": [
        "np.linalg.norm(u/norma)"
      ],
      "metadata": {
        "id": "GcA_vk8E5A9m"
      },
      "execution_count": null,
      "outputs": []
    },
    {
      "cell_type": "code",
      "source": [
        "# vectores ortonogales\n",
        "v1 = np.array([1, 1, 0])\n",
        "v2 = np.array([0, 1, 1])\n",
        "\n",
        "# Calcular el producto punto de los vectores\n",
        "producto_punto = np.dot(v1, v2)\n",
        "# Verificar si los vectores son ortogonales\n",
        "if producto_punto == 0:\n",
        "  print('Los vectores son ortogonales')\n",
        "else:\n",
        "  print('No son ortogonales')"
      ],
      "metadata": {
        "id": "XQNXGPj34cf3"
      },
      "execution_count": null,
      "outputs": []
    },
    {
      "cell_type": "code",
      "source": [
        "# sumamos un vector columna y un vector fila\n",
        "\n",
        "v = np.array([[1,2]])\n",
        "w = np.array([[4,5]]).T\n",
        "print(\" \", v)\n",
        "print(\"+\", w)\n",
        "print(\"-\"*10)\n",
        "v + w"
      ],
      "metadata": {
        "id": "7UEyfPJYNAlu"
      },
      "execution_count": null,
      "outputs": []
    },
    {
      "cell_type": "code",
      "source": [
        "v = np.array([[1,2]])\n",
        "w = np.array([[4,5]])\n",
        "print(\" \", v)\n",
        "print(\"+\", w)\n",
        "print(\"-\"*10)\n",
        "v + w"
      ],
      "metadata": {
        "id": "gDvddb1f4cb1"
      },
      "execution_count": null,
      "outputs": []
    },
    {
      "cell_type": "markdown",
      "source": [
        "<a name=\"id1.4\"></a> <h2> Interpretación geométrica </h2>\n",
        "##  "
      ],
      "metadata": {
        "id": "X1efSsdJ7g4t"
      }
    },
    {
      "cell_type": "markdown",
      "source": [
        "### 2D"
      ],
      "metadata": {
        "id": "vPjwEw0Y8lhl"
      }
    },
    {
      "cell_type": "code",
      "source": [
        "%matplotlib inline\n",
        "import matplotlib.pyplot as plt\n",
        "import numpy as np"
      ],
      "metadata": {
        "id": "PJrVVBQdd0v7"
      },
      "execution_count": null,
      "outputs": []
    },
    {
      "cell_type": "code",
      "source": [
        "u = np.array([0, 0])\n",
        "v = np.array([0, 0])"
      ],
      "metadata": {
        "id": "dy5gkNxqd21p"
      },
      "execution_count": null,
      "outputs": []
    },
    {
      "cell_type": "code",
      "source": [
        "x_coords, y_coords = zip(u, v)\n",
        "plt.scatter(x_coords, y_coords, color=[\"w\",\"w\"])\n",
        "plt.axis([0, 9, 0, 6])\n",
        "plt.grid()\n",
        "# plt.savefig('matriz.png', transparent=True)\n",
        "plt.show()"
      ],
      "metadata": {
        "id": "8a9s2uU6d35r"
      },
      "execution_count": null,
      "outputs": []
    },
    {
      "cell_type": "code",
      "source": [
        "u = np.array([2, 5])\n",
        "v = np.array([3, 1])"
      ],
      "metadata": {
        "id": "p0ePxauz8TEE"
      },
      "execution_count": null,
      "outputs": []
    },
    {
      "cell_type": "code",
      "source": [
        "x_coords, y_coords = zip(u, v)\n",
        "plt.scatter(x_coords, y_coords, color=[\"r\",\"b\"])\n",
        "plt.axis([0, 9, 0, 6])\n",
        "plt.grid()\n",
        "plt.show()"
      ],
      "metadata": {
        "id": "oNYhG7nQ8aT8"
      },
      "execution_count": null,
      "outputs": []
    },
    {
      "cell_type": "code",
      "source": [
        "def plot_vector2d(vector2d, origin=[0, 0], **options):\n",
        "    return plt.arrow(origin[0], origin[1], vector2d[0], vector2d[1],\n",
        "              head_width=0.2, head_length=0.3, length_includes_head=True,**options)"
      ],
      "metadata": {
        "id": "tZtj1aYk8htk"
      },
      "execution_count": null,
      "outputs": []
    },
    {
      "cell_type": "code",
      "source": [
        "plot_vector2d(u, color=\"r\")\n",
        "plot_vector2d(v, color=\"b\")\n",
        "plt.axis([0, 9, 0, 6])\n",
        "plt.grid()\n",
        "plt.show()"
      ],
      "metadata": {
        "id": "uUQq4ZZZeB_i"
      },
      "execution_count": null,
      "outputs": []
    },
    {
      "cell_type": "markdown",
      "source": [
        "### 3D"
      ],
      "metadata": {
        "id": "TloCpnoM8qTQ"
      }
    },
    {
      "cell_type": "code",
      "source": [
        "a = np.array([1, 2, 8])\n",
        "b = np.array([5, 6, 3])"
      ],
      "metadata": {
        "id": "ibhwqghzeL5Z"
      },
      "execution_count": null,
      "outputs": []
    },
    {
      "cell_type": "code",
      "source": [
        "from mpl_toolkits.mplot3d import Axes3D\n",
        "\n",
        "subplot3d = plt.subplot(111, projection='3d')\n",
        "x_coords, y_coords, z_coords = zip(a,b)\n",
        "subplot3d.scatter(x_coords, y_coords, z_coords)\n",
        "subplot3d.set_zlim3d([0, 9])\n",
        "plt.show()"
      ],
      "metadata": {
        "id": "9VuP0ZcaeDb6"
      },
      "execution_count": null,
      "outputs": []
    },
    {
      "cell_type": "code",
      "source": [
        "def plot_vectors3d(ax, vectors3d, z0, **options):\n",
        "    for v in vectors3d:\n",
        "        x, y, z = v\n",
        "        ax.plot([x,x], [y,y], [z0, z], color=\"gray\", linestyle='dotted', marker=\".\")\n",
        "    x_coords, y_coords, z_coords = zip(*vectors3d)\n",
        "    ax.scatter(x_coords, y_coords, z_coords, **options)\n",
        "\n",
        "subplot3d = plt.subplot(111, projection='3d')\n",
        "subplot3d.set_zlim([0, 9])\n",
        "plot_vectors3d(subplot3d, [a,b], 0, color=(\"r\",\"b\"))\n",
        "plt.show()"
      ],
      "metadata": {
        "id": "-UHxExcXeKd6"
      },
      "execution_count": null,
      "outputs": []
    },
    {
      "cell_type": "markdown",
      "source": [
        "### Magnitud o Norma\n",
        "\n",
        "$\\left \\Vert \\textbf{u} \\right \\| = \\sqrt{\\sum_{i}{\\textbf{u}_i}^2}$"
      ],
      "metadata": {
        "id": "907UeIhI9LO-"
      }
    },
    {
      "cell_type": "code",
      "source": [
        "def vector_norm(vector):\n",
        "    squares = [element**2 for element in vector]\n",
        "    return sum(squares)**0.5\n",
        "\n",
        "print(\"||\", u, \"|| =\", vector_norm(u))"
      ],
      "metadata": {
        "id": "VKm7iQlXePXy"
      },
      "execution_count": null,
      "outputs": []
    },
    {
      "cell_type": "code",
      "source": [
        "import numpy.linalg as LA\n",
        "LA.norm(u)"
      ],
      "metadata": {
        "id": "mCvrkH9MeTED"
      },
      "execution_count": null,
      "outputs": []
    },
    {
      "cell_type": "code",
      "source": [
        "# Podemos trazar un diagrama para confirma que la longitud del vector\n",
        "radius = LA.norm(u)\n",
        "plt.gca().add_artist(plt.Circle((0,0), radius, color=\"#DDDDDD\"))\n",
        "plot_vector2d(u, color=\"red\")\n",
        "plt.axis([0, 8.7, 0, 6])\n",
        "plt.grid()\n",
        "plt.show()"
      ],
      "metadata": {
        "id": "VTmu0ICDeUFJ"
      },
      "execution_count": null,
      "outputs": []
    },
    {
      "cell_type": "markdown",
      "source": [
        "### Suma y resta de vectores"
      ],
      "metadata": {
        "id": "OWIStcvCBOnT"
      }
    },
    {
      "cell_type": "code",
      "source": [
        "# suma de vectores\n",
        "print(\" \", u)\n",
        "print(\"+\", v)\n",
        "print(\"-\"*10)\n",
        "u + v"
      ],
      "metadata": {
        "id": "0PzRdyaEea8S"
      },
      "execution_count": null,
      "outputs": []
    },
    {
      "cell_type": "code",
      "source": [
        "plot_vector2d(u, color=\"r\")\n",
        "plot_vector2d(v, color=\"b\")\n",
        "plot_vector2d(v, origin=u, color=\"b\", linestyle=\"dotted\")\n",
        "plot_vector2d(u, origin=v, color=\"r\", linestyle=\"dotted\")\n",
        "plot_vector2d(u+v, color=\"g\")\n",
        "plt.axis([0, 9, 0, 7])\n",
        "plt.text(0.7, 3, \"u\", color=\"r\", fontsize=18)\n",
        "plt.text(4, 3, \"u\", color=\"r\", fontsize=18)\n",
        "plt.text(1.8, 0.2, \"v\", color=\"b\", fontsize=18)\n",
        "plt.text(3.1, 5.6, \"v\", color=\"b\", fontsize=18)\n",
        "plt.text(2.4, 2.5, \"u+v\", color=\"g\", fontsize=18)\n",
        "plt.grid()\n",
        "plt.show()"
      ],
      "metadata": {
        "id": "GEhLlgIReVOx"
      },
      "execution_count": null,
      "outputs": []
    },
    {
      "cell_type": "code",
      "source": [
        "v"
      ],
      "metadata": {
        "id": "jjLqZdxJ-1A-"
      },
      "execution_count": null,
      "outputs": []
    },
    {
      "cell_type": "code",
      "source": [
        "# transición geométrica\n",
        "t1 = np.array([2, 0.25])\n",
        "t2 = np.array([2.5, 3.5])\n",
        "t3 = np.array([1, 2])\n",
        "\n",
        "x_coords, y_coords = zip(t1, t2, t3, t1)\n",
        "plt.plot(x_coords, y_coords, \"c--\", x_coords, y_coords, \"co\")\n",
        "\n",
        "plot_vector2d(v, t1, color=\"r\", linestyle=\":\")\n",
        "plot_vector2d(v, t2, color=\"r\", linestyle=\":\")\n",
        "plot_vector2d(v, t3, color=\"r\", linestyle=\":\")\n",
        "\n",
        "t1b = t1 + v\n",
        "t2b = t2 + v\n",
        "t3b = t3 + v\n",
        "\n",
        "x_coords_b, y_coords_b = zip(t1b, t2b, t3b, t1b)\n",
        "plt.plot(x_coords_b, y_coords_b, \"b-\", x_coords_b, y_coords_b, \"bo\")\n",
        "\n",
        "plt.text(4, 4.2, \"v\", color=\"r\", fontsize=18)\n",
        "plt.text(3, 2.3, \"v\", color=\"r\", fontsize=18)\n",
        "plt.text(3.5, 0.4, \"v\", color=\"r\", fontsize=18)\n",
        "\n",
        "plt.axis([0, 6, 0, 5])\n",
        "plt.grid()\n",
        "plt.show()"
      ],
      "metadata": {
        "id": "nU-nqiVoebZJ"
      },
      "execution_count": null,
      "outputs": []
    },
    {
      "cell_type": "code",
      "source": [
        "# multiplicación por un escalar\n",
        "k = 2.5\n",
        "t1c = k * t1\n",
        "t2c = k * t2\n",
        "t3c = k * t3\n",
        "\n",
        "plt.plot(x_coords, y_coords, \"c--\", x_coords, y_coords, \"co\")\n",
        "\n",
        "plot_vector2d(t1, color=\"r\")\n",
        "plot_vector2d(t2, color=\"r\")\n",
        "plot_vector2d(t3, color=\"r\")\n",
        "\n",
        "x_coords_c, y_coords_c = zip(t1c, t2c, t3c, t1c)\n",
        "plt.plot(x_coords_c, y_coords_c, \"b-\", x_coords_c, y_coords_c, \"bo\")\n",
        "\n",
        "plot_vector2d(k * t1, color=\"b\", linestyle=\":\")\n",
        "plot_vector2d(k * t2, color=\"b\", linestyle=\":\")\n",
        "plot_vector2d(k * t3, color=\"b\", linestyle=\":\")\n",
        "\n",
        "plt.axis([0, 9, 0, 9])\n",
        "plt.grid()\n",
        "plt.show()"
      ],
      "metadata": {
        "id": "muX3nECVefvJ"
      },
      "execution_count": null,
      "outputs": []
    },
    {
      "cell_type": "markdown",
      "source": [
        "### Vector unitario"
      ],
      "metadata": {
        "id": "imGXv9zE_izC"
      }
    },
    {
      "cell_type": "code",
      "source": [
        "v"
      ],
      "metadata": {
        "id": "nilw-ly9AKY8"
      },
      "execution_count": null,
      "outputs": []
    },
    {
      "cell_type": "code",
      "source": [
        "plt.gca().add_artist(plt.Circle((0,0),1,color='c'))\n",
        "plt.plot(0, 0, \"ko\")\n",
        "plot_vector2d(v / LA.norm(v), color=\"k\")\n",
        "plot_vector2d(v, color=\"b\", linestyle=\":\")\n",
        "plt.text(0.3, 0.3, \"$\\hat{v}$\", color=\"k\", fontsize=18)\n",
        "plt.text(1.5, 0.7, \"$v$\", color=\"b\", fontsize=18)\n",
        "plt.axis([-1.5, 5.5, -1.5, 3.5])\n",
        "plt.grid()\n",
        "plt.show()"
      ],
      "metadata": {
        "id": "M_dw6SfYehZJ"
      },
      "execution_count": null,
      "outputs": []
    },
    {
      "cell_type": "markdown",
      "source": [
        "### Proyección de un vector sobre otro vector"
      ],
      "metadata": {
        "id": "-m3Rw4bSA2Lf"
      }
    },
    {
      "cell_type": "code",
      "source": [
        "u"
      ],
      "metadata": {
        "id": "xE08vbAcArHb"
      },
      "execution_count": null,
      "outputs": []
    },
    {
      "cell_type": "code",
      "source": [
        "# Projecting a point onto an axis\n",
        "u_normalized = u / LA.norm(u)\n",
        "proj = v.dot(u_normalized) * u_normalized\n",
        "\n",
        "plot_vector2d(u, color=\"r\")\n",
        "plot_vector2d(v, color=\"b\")\n",
        "\n",
        "plot_vector2d(proj, color=\"k\", linestyle=\":\")\n",
        "plt.plot(proj[0], proj[1], \"ko\")\n",
        "\n",
        "plt.plot([proj[0], v[0]], [proj[1], v[1]], \"b:\")\n",
        "\n",
        "plt.text(1, 2, \"$proj_u v$\", color=\"k\", fontsize=18)\n",
        "plt.text(1.8, 0.2, \"$v$\", color=\"b\", fontsize=18)\n",
        "plt.text(0.8, 3, \"$u$\", color=\"r\", fontsize=18)\n",
        "\n",
        "plt.axis([0, 8, 0, 5.5])\n",
        "plt.grid()\n",
        "plt.show()"
      ],
      "metadata": {
        "id": "Vf4lBk38etAa"
      },
      "execution_count": null,
      "outputs": []
    },
    {
      "cell_type": "markdown",
      "source": [
        "https://www.kaggle.com/code/deepakdeepu8978/math-linear-algebra-for-machine-learning\n",
        "\n"
      ],
      "metadata": {
        "id": "dpypZhEAewRw"
      }
    },
    {
      "cell_type": "markdown",
      "source": [
        "<a name=\"id2.1\"></a> <h2> Declarar una matriz </h2>\n",
        "##  "
      ],
      "metadata": {
        "id": "cUh3OUEGBHUr"
      }
    },
    {
      "cell_type": "code",
      "source": [
        "[\n",
        "    [10, 20, 30],\n",
        "    [40, 50, 60]\n",
        "]"
      ],
      "metadata": {
        "id": "hBlOXphuCO7s"
      },
      "execution_count": null,
      "outputs": []
    },
    {
      "cell_type": "code",
      "source": [
        "A = np.array([\n",
        "    [10,20,30],\n",
        "    [40,50,60]\n",
        "])\n",
        "A"
      ],
      "metadata": {
        "id": "MawDnwIpCO4T"
      },
      "execution_count": null,
      "outputs": []
    },
    {
      "cell_type": "code",
      "source": [
        "A.shape # dimensiones de la matriz"
      ],
      "metadata": {
        "id": "cdIH5nKmCO0Q"
      },
      "execution_count": null,
      "outputs": []
    },
    {
      "cell_type": "code",
      "source": [
        "A.size # número de elementos en la matriz"
      ],
      "metadata": {
        "id": "1jS9MF-5COvj"
      },
      "execution_count": null,
      "outputs": []
    },
    {
      "cell_type": "markdown",
      "source": [
        "<a name=\"id2.2\"></a> <h2> Operaciones una matrices </h2>\n",
        "##  \n",
        "\n",
        "Las matrices deben tener la misma dimensión"
      ],
      "metadata": {
        "id": "tjmHnhSsCmJm"
      }
    },
    {
      "cell_type": "code",
      "source": [
        "A = np.array([[10,20,30],[40,50,60]])\n",
        "B = np.array([[1,2,3], [4, 5, 6]])"
      ],
      "metadata": {
        "id": "ztEItCMKCOnk"
      },
      "execution_count": null,
      "outputs": []
    },
    {
      "cell_type": "code",
      "source": [
        "# suma de matrices\n",
        "A + B"
      ],
      "metadata": {
        "id": "tCSs6TmsCMmn"
      },
      "execution_count": null,
      "outputs": []
    },
    {
      "cell_type": "code",
      "source": [
        "# resta de matrices\n",
        "A - B"
      ],
      "metadata": {
        "id": "x2vHffF0DVKk"
      },
      "execution_count": null,
      "outputs": []
    },
    {
      "cell_type": "code",
      "source": [
        "# multiplicación por un escalar\n",
        "2 * A"
      ],
      "metadata": {
        "id": "Kvj1dULMDdcU"
      },
      "execution_count": null,
      "outputs": []
    },
    {
      "cell_type": "code",
      "source": [
        "# otros\n",
        "2 * (A + B)"
      ],
      "metadata": {
        "id": "Nqeic827Dsus"
      },
      "execution_count": null,
      "outputs": []
    },
    {
      "cell_type": "code",
      "source": [
        "2 * A + 2 * B"
      ],
      "metadata": {
        "id": "4Q53BEQED0VR"
      },
      "execution_count": null,
      "outputs": []
    },
    {
      "cell_type": "code",
      "source": [
        "A"
      ],
      "metadata": {
        "id": "0lCu1NJ4jMNR"
      },
      "execution_count": null,
      "outputs": []
    },
    {
      "cell_type": "code",
      "source": [
        "# multiplicaciones de matrices\n",
        "\n",
        "D = np.array([\n",
        "        [ 2,  3,  5,  7],\n",
        "        [11, 13, 17, 19],\n",
        "        [23, 29, 31, 37]\n",
        "    ])\n",
        "E = A.dot(D)\n",
        "E"
      ],
      "metadata": {
        "id": "K9yyegLzD2Yk"
      },
      "execution_count": null,
      "outputs": []
    },
    {
      "cell_type": "code",
      "source": [
        "A@D"
      ],
      "metadata": {
        "id": "_5vfrPhO_ZEf"
      },
      "execution_count": null,
      "outputs": []
    },
    {
      "cell_type": "code",
      "source": [
        "F = np.array([\n",
        "        [5,2],\n",
        "        [4,1],\n",
        "        [9,3]\n",
        "    ])\n",
        "A.dot(F)"
      ],
      "metadata": {
        "id": "QQ1GASPGEf57"
      },
      "execution_count": null,
      "outputs": []
    },
    {
      "cell_type": "code",
      "source": [
        "# OJO: A.dot(F) es diferente a F.dot(A), AB <> BA\n",
        "F.dot(A)"
      ],
      "metadata": {
        "id": "zcxt4NUbEhEb"
      },
      "execution_count": null,
      "outputs": []
    },
    {
      "cell_type": "code",
      "source": [
        "# otras operaciones\n",
        "(A + B).dot(D)"
      ],
      "metadata": {
        "id": "QvkfQCTGE2G2"
      },
      "execution_count": null,
      "outputs": []
    },
    {
      "cell_type": "code",
      "source": [
        "A.dot(D) + B.dot(D)"
      ],
      "metadata": {
        "id": "WxVLxAqnE7hP"
      },
      "execution_count": null,
      "outputs": []
    },
    {
      "cell_type": "markdown",
      "source": [
        "<a name=\"id2.3\"></a> <h2> Propiedades de una matriz </h2>\n",
        "##  \n"
      ],
      "metadata": {
        "id": "YmRqTUyoGwjG"
      }
    },
    {
      "cell_type": "code",
      "source": [
        "D = np.array([\n",
        "        [ 2,  3,  5,  7],\n",
        "        [11, 13, 17, 19],\n",
        "        [23, 29, 31, 37]\n",
        "    ])"
      ],
      "metadata": {
        "id": "-eanzZF4HLtM"
      },
      "execution_count": null,
      "outputs": []
    },
    {
      "cell_type": "code",
      "source": [
        "D.shape"
      ],
      "metadata": {
        "id": "mfWWMmYpkLje"
      },
      "execution_count": null,
      "outputs": []
    },
    {
      "cell_type": "code",
      "source": [
        "# suma de vectores escalares\n",
        "c=2\n",
        "c+D"
      ],
      "metadata": {
        "id": "8-CJeNLkE7dW"
      },
      "execution_count": null,
      "outputs": []
    },
    {
      "cell_type": "code",
      "source": [
        "# transpuesta de un vector\n",
        "D.T"
      ],
      "metadata": {
        "id": "ymCShGh7E7ZE"
      },
      "execution_count": null,
      "outputs": []
    },
    {
      "cell_type": "code",
      "source": [
        "# matriz simétrica\n",
        "matriz_simetrica = np.array([[1, 2, 3],\n",
        "                              [2, 4, 5],\n",
        "                              [3, 5, 6]])\n",
        "\n",
        "# Verificar si la matriz es simétrica\n",
        "es_simetrica = np.allclose(matriz_simetrica, matriz_simetrica.T)\n",
        "es_simetrica"
      ],
      "metadata": {
        "id": "e7nY5qVLE7T1"
      },
      "execution_count": null,
      "outputs": []
    },
    {
      "cell_type": "code",
      "source": [
        "# determinante de una matriz\n",
        "Z = np.array([[4, 7],\n",
        "              [2, 6]])\n",
        "determinante = np.linalg.det(Z)\n",
        "print(\"Determinante de la matriz:\", determinante)"
      ],
      "metadata": {
        "id": "V-oOmJBrE7Od"
      },
      "execution_count": null,
      "outputs": []
    },
    {
      "cell_type": "code",
      "source": [
        "# inversa de una matriz\n",
        "Z = np.array([[4, 7],\n",
        "              [2, 6]])\n",
        "inversa = np.linalg.inv(Z)\n",
        "print(\"la inversa de la matriz:\")\n",
        "inversa"
      ],
      "metadata": {
        "id": "207UNN9KH-G0"
      },
      "execution_count": null,
      "outputs": []
    },
    {
      "cell_type": "code",
      "source": [
        "Z@inversa"
      ],
      "metadata": {
        "id": "xfaE3pfQBYSw"
      },
      "execution_count": null,
      "outputs": []
    },
    {
      "cell_type": "markdown",
      "source": [
        "<a name=\"id2.4\"></a> <h2> Matrices especiales </h2>\n",
        "##  "
      ],
      "metadata": {
        "id": "VEQvu9S7I-HU"
      }
    },
    {
      "cell_type": "code",
      "source": [
        "# Matriz de ceros de tamaño nxm\n",
        "matriz_ceros = np.zeros((4, 5))\n",
        "print(\"Matriz de ceros:\")\n",
        "print(matriz_ceros)"
      ],
      "metadata": {
        "id": "qEXzvVzdH9jU"
      },
      "execution_count": null,
      "outputs": []
    },
    {
      "cell_type": "code",
      "source": [
        "# Matriz de unos de tamaño 2x4\n",
        "matriz_unos = np.ones((2, 4))\n",
        "print(\"Matriz de unos:\")\n",
        "print(matriz_unos)"
      ],
      "metadata": {
        "id": "yzzVcnwWJHY0"
      },
      "execution_count": null,
      "outputs": []
    },
    {
      "cell_type": "code",
      "source": [
        "# Matriz identidad de tamaño 4x4\n",
        "matriz_identidad = np.eye(4)\n",
        "print(\"Matriz identidad:\")\n",
        "print(matriz_identidad)"
      ],
      "metadata": {
        "id": "pqex8GmXJHVM"
      },
      "execution_count": null,
      "outputs": []
    },
    {
      "cell_type": "code",
      "source": [
        "import numpy as np\n",
        "\n",
        "# Matriz diagonal con valores 1, 2 y 3 en la diagonal principal\n",
        "valores_diagonal = [1, 2, 3,5,6,9]\n",
        "matriz_diagonal = np.diag(valores_diagonal)\n",
        "print(\"Matriz diagonal:\")\n",
        "print(matriz_diagonal)"
      ],
      "metadata": {
        "id": "-Vl2JhloJHRE"
      },
      "execution_count": null,
      "outputs": []
    },
    {
      "cell_type": "code",
      "source": [
        "# Crear una matriz triangular superior de tamaño 3x3\n",
        "matriz_triangular_superior = np.triu([[1, 2, 3],\n",
        "                                      [4, 5, 6],\n",
        "                                      [7, 8, 9]])\n",
        "print(\"Matriz triangular superior:\")\n",
        "print(matriz_triangular_superior)\n"
      ],
      "metadata": {
        "id": "42gnMdYsJHNM"
      },
      "execution_count": null,
      "outputs": []
    },
    {
      "cell_type": "code",
      "source": [
        "# Crear una matriz triangular inferior de tamaño 3x3\n",
        "matriz_triangular_inferior = np.tril([[1, 2, 3],\n",
        "                                      [4, 5, 6],\n",
        "                                      [7, 8, 9]])\n",
        "print(\"Matriz triangular inferior:\")\n",
        "print(matriz_triangular_inferior)"
      ],
      "metadata": {
        "id": "Vpp_lTmeJvbk"
      },
      "execution_count": null,
      "outputs": []
    },
    {
      "cell_type": "markdown",
      "source": [
        "<a name=\"id2.5\"></a> <h2> Aplicaciones con matrices </h2>\n",
        "##  "
      ],
      "metadata": {
        "id": "G9ZVR02DKdHx"
      }
    },
    {
      "cell_type": "markdown",
      "source": [
        "### Solución de sistema de ecuaciones lineales"
      ],
      "metadata": {
        "id": "ku_T6_cvV-zO"
      }
    },
    {
      "cell_type": "markdown",
      "source": [
        "\n",
        "\\begin{align}\n",
        "\\begin{cases}\n",
        "3x + 2y = 7 \\\\\n",
        "x - y = -1\n",
        "\\end{cases}\n",
        "\\end{align}\n",
        "<br>\n",
        "\n",
        "$\n",
        "\\begin{equation}\n",
        "    A =\n",
        "    \\begin{bmatrix}\n",
        "    3 & 2 \\\\\n",
        "    1 & -1 \\\\\n",
        "    \\end{bmatrix}\n",
        "\\end{equation}\n",
        "$\n",
        "\n",
        "$\\textbf{x}=[x, y]$<br><br>\n",
        "\n",
        "------------------\n",
        "\n",
        "$A\\textbf{x}=b$<br>\n",
        "$(A^{-1}A)\\textbf{x}=A^{-1}b$<br>\n",
        "$I\\textbf{x}=A^{-1}b$<br>\n",
        "$\\textbf{x}=A^{-1}b$"
      ],
      "metadata": {
        "id": "qqgTECMsiFKw"
      }
    },
    {
      "cell_type": "code",
      "source": [
        "# Definir el sistema de ecuaciones como una matriz\n",
        "A = np.array([[3, 2], [1, -1]])\n",
        "b = np.array([7, -1])"
      ],
      "metadata": {
        "id": "VHq1wZxWV-ZS"
      },
      "execution_count": null,
      "outputs": []
    },
    {
      "cell_type": "code",
      "source": [
        "# método 1\n",
        "inversa = np.linalg.inv(A)\n",
        "inversa.dot(b)"
      ],
      "metadata": {
        "id": "U3Z0Jh16jxbZ"
      },
      "execution_count": null,
      "outputs": []
    },
    {
      "cell_type": "code",
      "source": [
        "# método 2 (Resolver el sistema Ax = b)\n",
        "x = np.linalg.solve(A, b)\n",
        "print(\"La solución del sistema es:\", x)"
      ],
      "metadata": {
        "id": "ixKFda17jwi6"
      },
      "execution_count": null,
      "outputs": []
    },
    {
      "cell_type": "markdown",
      "source": [
        "\n",
        "\\begin{align}\n",
        "\\begin{cases}\n",
        "2x + y = 4 \\\\\n",
        "1x + 3y = 5\n",
        "\\end{cases}\n",
        "\\end{align}\n",
        "<br>"
      ],
      "metadata": {
        "id": "KBoV8dNpoM0h"
      }
    },
    {
      "cell_type": "code",
      "source": [
        "# Definir el sistema de ecuaciones como una matriz\n",
        "A = np.array([[2, 1], [1, 3]])\n",
        "b = np.array([4, 5])\n",
        "\n",
        "# Calcular la matriz inversa de A\n",
        "A_inv = np.linalg.inv(A)\n",
        "\n",
        "# Resolver el sistema Ax = b\n",
        "x = np.dot(A_inv, b)\n",
        "\n",
        "print(\"La solución del sistema es:\", x)"
      ],
      "metadata": {
        "id": "Hr6J6Vazjbua"
      },
      "execution_count": null,
      "outputs": []
    },
    {
      "cell_type": "markdown",
      "source": [
        "**Reto:** Resuelve este sistema de ecuaciones\n",
        "\n",
        "$\n",
        "\\begin{cases}\n",
        "2x + 3y +z = 5 \\\\\n",
        "x - y +2z = 3 \\\\\n",
        "3x -2y -z =0\n",
        "\\end{cases}\n",
        "$ <br><br>\n",
        "\n",
        "$x=A^{-1}b$"
      ],
      "metadata": {
        "id": "UI3H4jaljd-V"
      }
    },
    {
      "cell_type": "code",
      "source": [
        "# Definir el sistema de ecuaciones como una matriz\n",
        "A = np.array([[2, 3, 1], [1, -1, 2], [3 ,-2, -1]])\n",
        "b = np.array([5, 3, 0])\n",
        "\n",
        "# Calcular la matriz inversa de A\n",
        "A_inv = np.linalg.inv(A)\n",
        "\n",
        "# Resolver el sistema Ax = b\n",
        "x = np.dot(A_inv, b)\n",
        "\n",
        "print(\"La solución del sistema es:\", x)"
      ],
      "metadata": {
        "id": "iWnnC_PgpCxC"
      },
      "execution_count": null,
      "outputs": []
    },
    {
      "cell_type": "markdown",
      "source": [
        "### Transformaciones con matrices (Rotación)"
      ],
      "metadata": {
        "id": "GOdnm33OM-f1"
      }
    },
    {
      "cell_type": "code",
      "source": [
        "# Definir el vector original\n",
        "v = np.array([0, 1])  # Vector unitario en dirección x\n",
        "\n",
        "# Definir el ángulo de rotación en radianes\n",
        "theta = np.pi / 4  # Rotar 45 grados\n",
        "\n",
        "# Matriz de rotación en sentido antihorario\n",
        "rotation_matrix = np.array([[np.cos(theta), -np.sin(theta)],\n",
        "                            [np.sin(theta), np.cos(theta)]])\n",
        "\n",
        "# Aplicar la rotación al vector original\n",
        "v_rotated = np.dot(rotation_matrix, v)\n",
        "\n",
        "print(\"El vector rotado es:\", v_rotated)"
      ],
      "metadata": {
        "id": "FIjKDQ3vpLY5"
      },
      "execution_count": null,
      "outputs": []
    },
    {
      "cell_type": "code",
      "source": [
        "plot_vector2d(v, color=\"r\")\n",
        "plot_vector2d(v_rotated, color=\"b\")\n",
        "plt.axis([-1, 1, -1, 1])\n",
        "plt.grid()\n",
        "plt.show()"
      ],
      "metadata": {
        "id": "9ZjaIQHqpLVy"
      },
      "execution_count": null,
      "outputs": []
    },
    {
      "cell_type": "markdown",
      "source": [
        "*Rotación*"
      ],
      "metadata": {
        "id": "MIJrhHnCsGhk"
      }
    },
    {
      "cell_type": "code",
      "source": [
        "np.linspace(0,2*np.pi,10)"
      ],
      "metadata": {
        "id": "nH4j3AVnG_T_"
      },
      "execution_count": null,
      "outputs": []
    },
    {
      "cell_type": "code",
      "source": [
        "# se genera 100 puntos igualmente espaciados entre 0 y 2pi\n",
        "theta = np.linspace(0,2*np.pi,100)\n",
        "# se generan puntos de coordenadas polares usando transformaciones seno y conseno\n",
        "points = np.vstack((np.sin(theta),np.cos(theta)))\n",
        "fig,ax = plt.subplots(1,figsize=(12,6))\n",
        "# plth, = ax.plot(np.cos(x),np.sin(x),'ko')\n",
        "plth, = ax.plot(np.cos(theta),np.sin(theta),'ko')"
      ],
      "metadata": {
        "id": "kd_LIgOkN-Al"
      },
      "execution_count": null,
      "outputs": []
    },
    {
      "cell_type": "code",
      "source": [
        "def aframe(ph):\n",
        "  # create and apply the transform matrix\n",
        "\n",
        "  # creamos la matriz de transformación\n",
        "  #  1° columna se desplaza a la derecha (1 unidad) y 2° columna se desplaza hacia arriba (1-ph)\n",
        "  #  la segunda fila permanece sin cambio (no hay cambios en la coordenada \"y\")\n",
        "  T = np.array([[1,1-ph],[0,1]])\n",
        "\n",
        "  # aplicamos la matriz T a las coordenadas generadas\n",
        "  P = T@points\n",
        "  # update the dots' location\n",
        "  plth.set_xdata(P[0,:])\n",
        "  plth.set_ydata(P[1,:])\n",
        "  return plth"
      ],
      "metadata": {
        "id": "IKaq2u_UQ9pf"
      },
      "execution_count": null,
      "outputs": []
    },
    {
      "cell_type": "code",
      "source": [
        "from matplotlib.animation import FuncAnimation\n",
        "ax.set_xlim(-2, 2)\n",
        "ax.set_ylim(-2, 2)\n",
        "# generamos nuevos elementos para controlar la transformación a lo largo del parámetro ph\n",
        "phi = np.linspace(-1,1-1/40,40)**2\n",
        "anim=FuncAnimation(fig, aframe, phi, interval=100, repeat=True)"
      ],
      "metadata": {
        "id": "sF21F_AqRDdm"
      },
      "execution_count": null,
      "outputs": []
    },
    {
      "cell_type": "code",
      "source": [
        "from IPython.display import HTML\n",
        "HTML(anim.to_html5_video())"
      ],
      "metadata": {
        "id": "EmVJOD_wH6sA"
      },
      "execution_count": null,
      "outputs": []
    },
    {
      "cell_type": "code",
      "source": [
        "from IPython.display import HTML\n",
        "HTML(anim.to_html5_video())"
      ],
      "metadata": {
        "id": "9wZYRSLVRFGG"
      },
      "execution_count": null,
      "outputs": []
    },
    {
      "cell_type": "code",
      "source": [
        "import numpy as np\n",
        "import matplotlib.pyplot as plt\n",
        "from skimage import data\n",
        "from skimage.transform import warp\n",
        "\n",
        "# Cargar una imagen de ejemplo (por ejemplo, la luna)\n",
        "image = data.moon()\n",
        "\n",
        "# Definir la matriz de transformación afín\n",
        "matrix = np.array([[np.cos(np.pi/6), -np.sin(np.pi/6), 0],\n",
        "                   [np.sin(np.pi/6), np.cos(np.pi/6), 0],\n",
        "                   [0, 0, 1]])\n",
        "\n",
        "# Aplicar la transformación afín a la imagen\n",
        "transformed_image = warp(image, matrix)\n",
        "\n",
        "# Visualizar la imagen original y la transformada\n",
        "fig, axes = plt.subplots(1, 2, figsize=(10, 5))\n",
        "axes[0].imshow(image, cmap='gray')\n",
        "axes[0].set_title('Imagen Original')\n",
        "axes[0].axis('off')\n",
        "axes[1].imshow(transformed_image, cmap='gray')\n",
        "axes[1].set_title('Imagen Transformada')\n",
        "axes[1].axis('off')\n",
        "plt.show()\n"
      ],
      "metadata": {
        "id": "vXew1t1Nd3ug"
      },
      "execution_count": null,
      "outputs": []
    },
    {
      "cell_type": "code",
      "source": [
        "transformed_image.shape"
      ],
      "metadata": {
        "id": "Kfy2WlU0d6w3"
      },
      "execution_count": null,
      "outputs": []
    },
    {
      "cell_type": "code",
      "source": [],
      "metadata": {
        "id": "zqWMFrPoqORa"
      },
      "execution_count": null,
      "outputs": []
    }
  ]
}